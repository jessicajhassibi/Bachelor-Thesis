{
 "cells": [
  {
   "cell_type": "code",
   "execution_count": 50,
   "id": "d1a5d056",
   "metadata": {},
   "outputs": [],
   "source": [
    "import wikipedia_helpers\n",
    "import pandas as pd\n",
    "import gensim.utils"
   ]
  },
  {
   "cell_type": "code",
   "execution_count": 51,
   "id": "5810d73b",
   "metadata": {},
   "outputs": [
    {
     "name": "stdout",
     "output_type": "stream",
     "text": [
      "Texts have already been scraped to: data/komponisten_texte.json\n"
     ]
    }
   ],
   "source": [
    "# path to save wikipedia texts to or load from if file already existing\n",
    "path = \"data/komponisten_texte.json\"\n",
    "\n",
    "# create dictionary with composers as keys and \\\n",
    "# for each key a dictionary with the texts of the wikipedia articles \\\n",
    "# in the languages german, arabic, english, italian, french and spanish\n",
    "data_dict = wikipedia_helpers.extract_composers_texts(path)"
   ]
  },
  {
   "cell_type": "code",
   "execution_count": 52,
   "id": "adcae7cc",
   "metadata": {},
   "outputs": [
    {
     "data": {
      "text/html": [
       "<div>\n",
       "<style scoped>\n",
       "    .dataframe tbody tr th:only-of-type {\n",
       "        vertical-align: middle;\n",
       "    }\n",
       "\n",
       "    .dataframe tbody tr th {\n",
       "        vertical-align: top;\n",
       "    }\n",
       "\n",
       "    .dataframe thead th {\n",
       "        text-align: right;\n",
       "    }\n",
       "</style>\n",
       "<table border=\"1\" class=\"dataframe\">\n",
       "  <thead>\n",
       "    <tr style=\"text-align: right;\">\n",
       "      <th></th>\n",
       "      <th>de_title</th>\n",
       "      <th>de_text</th>\n",
       "      <th>en_title</th>\n",
       "      <th>en_text</th>\n",
       "      <th>ar_title</th>\n",
       "      <th>ar_text</th>\n",
       "      <th>fr_title</th>\n",
       "      <th>fr_text</th>\n",
       "      <th>it_title</th>\n",
       "      <th>it_text</th>\n",
       "      <th>es_title</th>\n",
       "      <th>es_text</th>\n",
       "    </tr>\n",
       "  </thead>\n",
       "  <tbody>\n",
       "    <tr>\n",
       "      <th>1</th>\n",
       "      <td>Abel Ehrlich</td>\n",
       "      <td>Abel Ehrlich (* 3. September 1915 in Cranz/Ost...</td>\n",
       "      <td>Abel Ehrlich</td>\n",
       "      <td>Abel Ehrlich  (Hebrew: אבל ארליך; September 3,...</td>\n",
       "      <td>أبيل إرليخ</td>\n",
       "      <td>أبيل إرليخ (بالعبرية: אבל ארליך‏) هو ملحن إسرا...</td>\n",
       "      <td>Abel Ehrlich</td>\n",
       "      <td>Abel Ehrlich (hébreu : אבל ארליך ; Cranz, 3 se...</td>\n",
       "      <td></td>\n",
       "      <td></td>\n",
       "      <td></td>\n",
       "      <td></td>\n",
       "    </tr>\n",
       "    <tr>\n",
       "      <th>2</th>\n",
       "      <td>Admiral Horthy</td>\n",
       "      <td>Miklós (Nikolaus) Horthy von Nagybánya [ˈmiklo...</td>\n",
       "      <td>Miklós Horthy</td>\n",
       "      <td>Miklós Horthy de Nagybánya (Hungarian: Vitéz n...</td>\n",
       "      <td>ميكلوش هورتي</td>\n",
       "      <td>ميكلوش هورتي (بالمجرية: Horthy Miklós) ‏(18 يو...</td>\n",
       "      <td>Miklós Horthy</td>\n",
       "      <td>L'amiral Miklós Horthy de Nagybánya (hongrois ...</td>\n",
       "      <td>Miklós Horthy</td>\n",
       "      <td>Miklós Horthy de Nagybánya (Kenderes, 18 giugn...</td>\n",
       "      <td>Miklós Horthy</td>\n",
       "      <td>Miklós Horthy de Nagybánya —en español, Nicolá...</td>\n",
       "    </tr>\n",
       "    <tr>\n",
       "      <th>3</th>\n",
       "      <td>Alexander von Zemlinsky</td>\n",
       "      <td>Alexander (von) Zemlinsky, Pseudonym Al Robert...</td>\n",
       "      <td>Alexander von Zemlinsky</td>\n",
       "      <td>Alexander Zemlinsky or Alexander von Zemlinsky...</td>\n",
       "      <td>ألكسندر فون زيميلنسكي</td>\n",
       "      <td>ألكسندر فون زيميلنسكي (بالألمانية: Alexander v...</td>\n",
       "      <td>Alexander von Zemlinsky</td>\n",
       "      <td>Alexander (von) Zemlinsky est un compositeur a...</td>\n",
       "      <td>Alexander von Zemlinsky</td>\n",
       "      <td>Alexander Zemlinsky (Vienna, 14 ottobre 1871 –...</td>\n",
       "      <td>Alexander von Zemlinsky</td>\n",
       "      <td>Alexander von Zemlinsky (14 de octubre de 1872...</td>\n",
       "    </tr>\n",
       "    <tr>\n",
       "      <th>4</th>\n",
       "      <td>Alexandre Tansman</td>\n",
       "      <td>Alexandre Tansman (französisch Alexandré Tansm...</td>\n",
       "      <td>Alexandre Tansman</td>\n",
       "      <td>Alexander Tansman (Polish: Aleksander Tansman,...</td>\n",
       "      <td></td>\n",
       "      <td></td>\n",
       "      <td>Alexandre Tansman</td>\n",
       "      <td>Alexandre Tansman, né le 11 juin 1897 à Łódź (...</td>\n",
       "      <td>Alexandre Tansman</td>\n",
       "      <td>Alexandre Tansman (Łódź, 12 giugno 1897 – Pari...</td>\n",
       "      <td>Alexandre Tansman</td>\n",
       "      <td>Alexandre Tansman (Lodz, Polonia,12 de junio d...</td>\n",
       "    </tr>\n",
       "    <tr>\n",
       "      <th>5</th>\n",
       "      <td>Alfons Josef Biron</td>\n",
       "      <td></td>\n",
       "      <td></td>\n",
       "      <td></td>\n",
       "      <td></td>\n",
       "      <td></td>\n",
       "      <td></td>\n",
       "      <td></td>\n",
       "      <td></td>\n",
       "      <td></td>\n",
       "      <td></td>\n",
       "      <td></td>\n",
       "    </tr>\n",
       "  </tbody>\n",
       "</table>\n",
       "</div>"
      ],
      "text/plain": [
       "                  de_title                                            de_text  \\\n",
       "1             Abel Ehrlich  Abel Ehrlich (* 3. September 1915 in Cranz/Ost...   \n",
       "2           Admiral Horthy  Miklós (Nikolaus) Horthy von Nagybánya [ˈmiklo...   \n",
       "3  Alexander von Zemlinsky  Alexander (von) Zemlinsky, Pseudonym Al Robert...   \n",
       "4        Alexandre Tansman  Alexandre Tansman (französisch Alexandré Tansm...   \n",
       "5       Alfons Josef Biron                                                      \n",
       "\n",
       "                  en_title                                            en_text  \\\n",
       "1             Abel Ehrlich  Abel Ehrlich  (Hebrew: אבל ארליך; September 3,...   \n",
       "2            Miklós Horthy  Miklós Horthy de Nagybánya (Hungarian: Vitéz n...   \n",
       "3  Alexander von Zemlinsky  Alexander Zemlinsky or Alexander von Zemlinsky...   \n",
       "4        Alexandre Tansman  Alexander Tansman (Polish: Aleksander Tansman,...   \n",
       "5                                                                               \n",
       "\n",
       "                ar_title                                            ar_text  \\\n",
       "1             أبيل إرليخ  أبيل إرليخ (بالعبرية: אבל ארליך‏) هو ملحن إسرا...   \n",
       "2           ميكلوش هورتي  ميكلوش هورتي (بالمجرية: Horthy Miklós) ‏(18 يو...   \n",
       "3  ألكسندر فون زيميلنسكي  ألكسندر فون زيميلنسكي (بالألمانية: Alexander v...   \n",
       "4                                                                             \n",
       "5                                                                             \n",
       "\n",
       "                  fr_title                                            fr_text  \\\n",
       "1             Abel Ehrlich  Abel Ehrlich (hébreu : אבל ארליך ; Cranz, 3 se...   \n",
       "2            Miklós Horthy  L'amiral Miklós Horthy de Nagybánya (hongrois ...   \n",
       "3  Alexander von Zemlinsky  Alexander (von) Zemlinsky est un compositeur a...   \n",
       "4        Alexandre Tansman  Alexandre Tansman, né le 11 juin 1897 à Łódź (...   \n",
       "5                                                                               \n",
       "\n",
       "                  it_title                                            it_text  \\\n",
       "1                                                                               \n",
       "2            Miklós Horthy  Miklós Horthy de Nagybánya (Kenderes, 18 giugn...   \n",
       "3  Alexander von Zemlinsky  Alexander Zemlinsky (Vienna, 14 ottobre 1871 –...   \n",
       "4        Alexandre Tansman  Alexandre Tansman (Łódź, 12 giugno 1897 – Pari...   \n",
       "5                                                                               \n",
       "\n",
       "                  es_title                                            es_text  \n",
       "1                                                                              \n",
       "2            Miklós Horthy  Miklós Horthy de Nagybánya —en español, Nicolá...  \n",
       "3  Alexander von Zemlinsky  Alexander von Zemlinsky (14 de octubre de 1872...  \n",
       "4        Alexandre Tansman  Alexandre Tansman (Lodz, Polonia,12 de junio d...  \n",
       "5                                                                              "
      ]
     },
     "execution_count": 52,
     "metadata": {},
     "output_type": "execute_result"
    }
   ],
   "source": [
    "df = pd.read_json(path)\n",
    "# transpose index and columns of df\n",
    "df = df.transpose()\n",
    "df.head()"
   ]
  },
  {
   "cell_type": "code",
   "execution_count": 53,
   "id": "354bb516",
   "metadata": {},
   "outputs": [
    {
     "data": {
      "text/plain": [
       "(313, 12)"
      ]
     },
     "execution_count": 53,
     "metadata": {},
     "output_type": "execute_result"
    }
   ],
   "source": [
    "df.shape"
   ]
  },
  {
   "cell_type": "code",
   "execution_count": 54,
   "id": "487e47d8",
   "metadata": {},
   "outputs": [
    {
     "data": {
      "text/plain": [
       "1                 Abel Ehrlich\n",
       "2               Admiral Horthy\n",
       "3      Alexander von Zemlinsky\n",
       "4            Alexandre Tansman\n",
       "5           Alfons Josef Biron\n",
       "                ...           \n",
       "309                           \n",
       "310                           \n",
       "311                           \n",
       "312                           \n",
       "313                           \n",
       "Name: de_title, Length: 313, dtype: object"
      ]
     },
     "execution_count": 54,
     "metadata": {},
     "output_type": "execute_result"
    }
   ],
   "source": [
    "df.de_title"
   ]
  },
  {
   "cell_type": "code",
   "execution_count": 146,
   "id": "ab535c7b",
   "metadata": {},
   "outputs": [],
   "source": [
    "de_texts_processed = df.de_text.apply(gensim.utils.simple_preprocess)\n",
    "en_texts_processed = df.en_text.apply(gensim.utils.simple_preprocess)\n",
    "ar_texts_processed = df.ar_text.apply(gensim.utils.simple_preprocess)\n",
    "fr_texts_processed = df.fr_text.apply(gensim.utils.simple_preprocess)\n",
    "es_texts_processed = df.es_text.apply(gensim.utils.simple_preprocess)\n",
    "it_texts_processed = df.it_text.apply(gensim.utils.simple_preprocess)\n"
   ]
  },
  {
   "cell_type": "code",
   "execution_count": 151,
   "id": "a19e781a",
   "metadata": {},
   "outputs": [],
   "source": [
    "model = gensim.models.Word2Vec(\n",
    "    window=10,\n",
    "    min_count=2,\n",
    "    workers=4\n",
    ")\n",
    "# experiment with parameters, e.g. window=5"
   ]
  },
  {
   "cell_type": "code",
   "execution_count": 152,
   "id": "99d64dc6",
   "metadata": {},
   "outputs": [],
   "source": [
    "model.build_vocab(de_texts_processed, progress_per=10)"
   ]
  },
  {
   "cell_type": "code",
   "execution_count": 153,
   "id": "085227cc",
   "metadata": {},
   "outputs": [
    {
     "data": {
      "text/plain": [
       "5"
      ]
     },
     "execution_count": 153,
     "metadata": {},
     "output_type": "execute_result"
    }
   ],
   "source": [
    "model.epochs"
   ]
  },
  {
   "cell_type": "code",
   "execution_count": 154,
   "id": "7ff06111",
   "metadata": {},
   "outputs": [
    {
     "data": {
      "text/plain": [
       "(973666, 1369915)"
      ]
     },
     "execution_count": 154,
     "metadata": {},
     "output_type": "execute_result"
    }
   ],
   "source": [
    "model.train(de_texts_processed, total_examples=model.corpus_count, epochs=model.epochs)"
   ]
  },
  {
   "cell_type": "code",
   "execution_count": 155,
   "id": "cb08c612",
   "metadata": {},
   "outputs": [],
   "source": [
    "model.save(\"word2vec_de.model\")"
   ]
  },
  {
   "cell_type": "code",
   "execution_count": 156,
   "id": "4da90109",
   "metadata": {},
   "outputs": [
    {
     "data": {
      "text/plain": [
       "[('beide', 0.9974113702774048),\n",
       " ('ungarns', 0.9972274899482727),\n",
       " ('königreich', 0.9965260624885559),\n",
       " ('name', 0.9964842200279236),\n",
       " ('rosenthal', 0.9960684776306152),\n",
       " ('bürger', 0.9960624575614929),\n",
       " ('sogenannten', 0.9958857893943787),\n",
       " ('geborene', 0.9958823323249817),\n",
       " ('gerade', 0.9957638382911682),\n",
       " ('bip', 0.9957453608512878)]"
      ]
     },
     "execution_count": 156,
     "metadata": {},
     "output_type": "execute_result"
    }
   ],
   "source": [
    "# find words used in similar surrounding \n",
    "model.wv.most_similar(\"jüdisch\")"
   ]
  },
  {
   "cell_type": "code",
   "execution_count": 158,
   "id": "b3aceb41",
   "metadata": {},
   "outputs": [
    {
     "data": {
      "text/plain": [
       "0.97093344"
      ]
     },
     "execution_count": 158,
     "metadata": {},
     "output_type": "execute_result"
    }
   ],
   "source": [
    "model.wv.similarity(w1=\"pianist\", w2=\"violinist\") # Ohje..."
   ]
  },
  {
   "cell_type": "code",
   "execution_count": 159,
   "id": "37e2d534",
   "metadata": {},
   "outputs": [
    {
     "data": {
      "text/plain": [
       "'nazi'"
      ]
     },
     "execution_count": 159,
     "metadata": {},
     "output_type": "execute_result"
    }
   ],
   "source": [
    "model.wv.doesnt_match(['pianist', 'violinist', 'nazi'])"
   ]
  },
  {
   "cell_type": "code",
   "execution_count": 164,
   "id": "e70ea91f",
   "metadata": {},
   "outputs": [
    {
     "data": {
      "text/plain": [
       "'jüdisch'"
      ]
     },
     "execution_count": 164,
     "metadata": {},
     "output_type": "execute_result"
    }
   ],
   "source": []
  },
  {
   "cell_type": "code",
   "execution_count": null,
   "id": "30f24112",
   "metadata": {},
   "outputs": [],
   "source": []
  }
 ],
 "metadata": {
  "kernelspec": {
   "display_name": "Python thesis",
   "language": "python",
   "name": "thesis"
  },
  "language_info": {
   "codemirror_mode": {
    "name": "ipython",
    "version": 3
   },
   "file_extension": ".py",
   "mimetype": "text/x-python",
   "name": "python",
   "nbconvert_exporter": "python",
   "pygments_lexer": "ipython3",
   "version": "3.9.12"
  }
 },
 "nbformat": 4,
 "nbformat_minor": 5
}
