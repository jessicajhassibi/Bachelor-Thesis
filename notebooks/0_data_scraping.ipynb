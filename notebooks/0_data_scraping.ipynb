{
 "cells": [
  {
   "cell_type": "markdown",
   "source": [
    "# Data Scraping from Wikipedia"
   ],
   "metadata": {
    "collapsed": false,
    "pycharm": {
     "name": "#%% md\n"
    }
   }
  },
  {
   "cell_type": "code",
   "execution_count": null,
   "outputs": [],
   "source": [
    "import sys\n",
    "sys.path.append('/Users/jessicahassibi/PycharmProjects/bachelor-thesis/src/data') # replace with your absolute path\n",
    "# import modules from another folder (stays underlined but works)\n",
    "import WikiScraper"
   ],
   "metadata": {
    "collapsed": false,
    "pycharm": {
     "name": "#%%\n"
    }
   }
  },
  {
   "cell_type": "markdown",
   "source": [
    "Define languages in which the articles shall be scraped"
   ],
   "metadata": {
    "collapsed": false,
    "pycharm": {
     "name": "#%% md\n"
    }
   }
  },
  {
   "cell_type": "code",
   "execution_count": null,
   "outputs": [],
   "source": [
    "languages = ['de', 'en', 'ar', 'fr', 'es', 'it']"
   ],
   "metadata": {
    "collapsed": false,
    "pycharm": {
     "name": "#%%\n"
    }
   }
  },
  {
   "cell_type": "markdown",
   "source": [
    "Write articles in all defined languages from Wikipedia sites \"Liste der vom NS-Regime oder seinen Verbündeten verfolgten Komponisten\" and \"Gottbegnadeten-Liste\" to json.\n",
    "Out-path: \"data/persecuted_composers\" and \"data/supported_composers\""
   ],
   "metadata": {
    "collapsed": false,
    "pycharm": {
     "name": "#%% md\n"
    }
   }
  },
  {
   "cell_type": "code",
   "execution_count": 2,
   "outputs": [
    {
     "name": "stdout",
     "output_type": "stream",
     "text": [
      "New WikiScraper initialized.\n",
      "\n",
      "Texts have already been scraped to: ../data/persecuted_composers/de_texts_composers_persecuted.json\n",
      "Texts have already been scraped to: ../data/persecuted_composers/en_texts_composers_persecuted.json\n",
      "Texts have already been scraped to: ../data/persecuted_composers/ar_texts_composers_persecuted.json\n",
      "Texts have already been scraped to: ../data/persecuted_composers/fr_texts_composers_persecuted.json\n",
      "Texts have already been scraped to: ../data/persecuted_composers/es_texts_composers_persecuted.json\n",
      "Texts have already been scraped to: ../data/persecuted_composers/it_texts_composers_persecuted.json\n",
      "Texts have already been scraped to: ../data/supported_composers/de_texts_composers_supported.json\n",
      "Texts have already been scraped to: ../data/supported_composers/en_texts_composers_supported.json\n",
      "Texts have already been scraped to: ../data/supported_composers/ar_texts_composers_supported.json\n",
      "Texts have already been scraped to: ../data/supported_composers/fr_texts_composers_supported.json\n",
      "Texts have already been scraped to: ../data/supported_composers/es_texts_composers_supported.json\n",
      "Texts have already been scraped to: ../data/supported_composers/it_texts_composers_supported.json\n"
     ]
    }
   ],
   "source": [
    "# new instance of WikiScraper\n",
    "wiki_scraper = WikiScraper.WikiScraper()\n",
    "\n",
    "# Scrape list of persecuted composers\n",
    "persecuted_composers_page = \"Liste der vom NS-Regime oder seinen Verbündeten verfolgten Komponisten\"\n",
    "wiki_scraper.scrape_pages_multiple_languages(persecuted_composers_page, languages)\n",
    "\n",
    "# Scrape list of supported composers\n",
    "supported_composers_page = \"Gottbegnadeten-Liste\"\n",
    "wiki_scraper.scrape_pages_multiple_languages(supported_composers_page, languages)"
   ],
   "metadata": {
    "collapsed": false,
    "pycharm": {
     "name": "#%%\n"
    }
   }
  },
  {
   "cell_type": "code",
   "execution_count": null,
   "outputs": [],
   "source": [],
   "metadata": {
    "collapsed": false,
    "pycharm": {
     "name": "#%%\n"
    }
   }
  }
 ],
 "metadata": {
  "kernelspec": {
   "display_name": "Python 3",
   "language": "python",
   "name": "python3"
  },
  "language_info": {
   "codemirror_mode": {
    "name": "ipython",
    "version": 2
   },
   "file_extension": ".py",
   "mimetype": "text/x-python",
   "name": "python",
   "nbconvert_exporter": "python",
   "pygments_lexer": "ipython2",
   "version": "2.7.6"
  }
 },
 "nbformat": 4,
 "nbformat_minor": 0
}