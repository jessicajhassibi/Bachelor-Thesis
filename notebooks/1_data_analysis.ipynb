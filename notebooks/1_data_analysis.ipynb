{
 "cells": [
  {
   "cell_type": "markdown",
   "source": [
    "# Data Analysis"
   ],
   "metadata": {
    "collapsed": false,
    "pycharm": {
     "name": "#%% md\n"
    }
   }
  },
  {
   "cell_type": "markdown",
   "source": [
    "Perform some analysis over scraped wikipedia.\n",
    "How many articles in each language and so on…"
   ],
   "metadata": {
    "collapsed": false,
    "pycharm": {
     "name": "#%% md\n"
    }
   }
  },
  {
   "cell_type": "code",
   "execution_count": null,
   "outputs": [],
   "source": [
    "import matplotlib.pyplot as plt\n",
    "import numpy as np\n",
    "\n",
    "from data import data_analysis"
   ],
   "metadata": {
    "collapsed": false,
    "pycharm": {
     "name": "#%%\n"
    }
   }
  },
  {
   "cell_type": "code",
   "execution_count": null,
   "outputs": [],
   "source": [
    "languages_count_dict = data_analysis.language_analyzer()"
   ],
   "metadata": {
    "collapsed": false,
    "pycharm": {
     "name": "#%%\n"
    }
   }
  },
  {
   "cell_type": "code",
   "execution_count": null,
   "outputs": [],
   "source": [
    "# Creating autocpt arguments\n",
    "def pct_func(pct, allvalues):\n",
    "    absolute = int(pct / 100.*np.sum(allvalues))\n",
    "    return \"{:.1f}%\\n({:d})\".format(pct, absolute)\n",
    "\n",
    "# 3 Pie charts to be side by side\n",
    "fig, (ax1,ax2,ax3) = plt.subplots(1,3,figsize=(20,20))\n",
    "\n",
    "# Plotting articles pie chart\n",
    "sizes = [languages_count_dict[lang][\"articles\"] for lang in languages_count_dict.keys()]\n",
    "ax1.pie(sizes, labels = data_analysis.get_languages(), autopct = lambda pct: pct_func(pct, sizes))\n",
    "ax1.set_title(\"Verteilung der Artikel\")\n",
    "\n",
    "# Plotting paragraphs pie chart\n",
    "sizes = [languages_count_dict[lang][\"paragraphs\"] for lang in languages_count_dict.keys()]\n",
    "ax2.pie(sizes, labels = languages,autopct = lambda pct: pct_func(pct, sizes))\n",
    "ax2.set_title(\"Verteilung der Paragraphen\")\n",
    "\n",
    "# Plotting words pie chart\n",
    "sizes = [languages_count_dict[lang][\"words\"] for lang in languages_count_dict.keys()]\n",
    "ax3.pie(sizes, labels = languages,autopct = lambda pct: pct_func(pct, sizes))\n",
    "ax3.set_title(\"Verteilung der Wörter\")\n",
    "\n",
    "# get current figure\n",
    "fig_out = plt.gcf() \n",
    "\n",
    "# show plot\n",
    "plt.show()\n",
    "\n",
    "# save plot\n",
    "fig_out.savefig(\"../reports/figures/Sprachverteilungen.pdf\")"
   ],
   "metadata": {
    "collapsed": false,
    "pycharm": {
     "name": "#%%\n"
    }
   }
  },
  {
   "cell_type": "code",
   "execution_count": null,
   "id": "8a29d25c",
   "metadata": {
    "pycharm": {
     "name": "#%%\n"
    }
   },
   "outputs": [],
   "source": [
    "# wieviel prozent der artikel in den versch. sprachen da\n"
   ]
  }
 ],
 "metadata": {
  "kernelspec": {
   "display_name": "Python [conda env:thesis] *",
   "language": "python",
   "name": "conda-env-thesis-py"
  },
  "language_info": {
   "codemirror_mode": {
    "name": "ipython",
    "version": 3
   },
   "file_extension": ".py",
   "mimetype": "text/x-python",
   "name": "python",
   "nbconvert_exporter": "python",
   "pygments_lexer": "ipython3",
   "version": "3.9.12"
  }
 },
 "nbformat": 4,
 "nbformat_minor": 5
}