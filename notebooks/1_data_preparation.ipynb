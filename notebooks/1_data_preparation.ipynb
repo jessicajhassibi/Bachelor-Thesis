{
 "cells": [
  {
   "cell_type": "code",
   "execution_count": 5,
   "metadata": {
    "collapsed": true,
    "pycharm": {
     "name": "#%%\n"
    }
   },
   "outputs": [],
   "source": [
    "import pandas as pd\n",
    "import nltk\n",
    "\n",
    "import sys\n",
    "sys.path.append('/Users/jessicahassibi/PycharmProjects/bachelor-thesis/src/data') # replace with your absolute path\n",
    "# import modules from another folder\n",
    "import WikiScraper\n",
    "import data_analysis"
   ]
  },
  {
   "cell_type": "code",
   "execution_count": 13,
   "outputs": [
    {
     "name": "stdout",
     "output_type": "stream",
     "text": [
      "New WikiScraper initialized.\n",
      "\n",
      "Texts have already been scraped to: ../data/persecuted_composers/de_texts_composers_persecuted.json\n",
      "Texts have already been scraped to: ../data/persecuted_composers/en_texts_composers_persecuted.json\n",
      "Texts have already been scraped to: ../data/persecuted_composers/ar_texts_composers_persecuted.json\n",
      "Texts have already been scraped to: ../data/persecuted_composers/fr_texts_composers_persecuted.json\n",
      "Texts have already been scraped to: ../data/persecuted_composers/es_texts_composers_persecuted.json\n",
      "Texts have already been scraped to: ../data/persecuted_composers/it_texts_composers_persecuted.json\n",
      "Texts have already been scraped to: ../data/supported_composers/de_texts_composers_supported.json\n",
      "Texts have already been scraped to: ../data/supported_composers/en_texts_composers_supported.json\n",
      "Texts have already been scraped to: ../data/supported_composers/ar_texts_composers_supported.json\n",
      "Texts have already been scraped to: ../data/supported_composers/fr_texts_composers_supported.json\n",
      "Texts have already been scraped to: ../data/supported_composers/es_texts_composers_supported.json\n",
      "Texts have already been scraped to: ../data/supported_composers/it_texts_composers_supported.json\n"
     ]
    }
   ],
   "source": [
    "# languages in which the articles shall be crawled\n",
    "languages = ['de', 'en', 'ar', 'fr', 'es', 'it']\n",
    "\n",
    "# new instance of WikiScraper\n",
    "wiki_scraper = WikiScraper.WikiScraper()\n",
    "\n",
    "# Scrape list of persecuted composers\n",
    "persecuted_composers_page = \"Liste der vom NS-Regime oder seinen Verbündeten verfolgten Komponisten\"\n",
    "wiki_scraper.scrape_pages_multiple_languages(persecuted_composers_page, languages)\n",
    "\n",
    "# Scrape list of supported composers\n",
    "supported_composers_page = \"Gottbegnadeten-Liste\"\n",
    "wiki_scraper.scrape_pages_multiple_languages(supported_composers_page, languages)"
   ],
   "metadata": {
    "collapsed": false,
    "pycharm": {
     "name": "#%%\n"
    }
   }
  },
  {
   "cell_type": "code",
   "execution_count": 14,
   "outputs": [],
   "source": [
    "# english dataframe of supported composers\n",
    "en_df_supported = data_analysis.get_dataframe_from_path(\"../data/supported_composers/en_texts_composers_supported.json\")\n",
    "# english dataframe of persecuted^  ^ composers\n",
    "en_df_persecuted = data_analysis.get_dataframe_from_path(\"../data/persecuted_composers/en_texts_composers_persecuted.json\")"
   ],
   "metadata": {
    "collapsed": false,
    "pycharm": {
     "name": "#%%\n"
    }
   }
  },
  {
   "cell_type": "code",
   "execution_count": 25,
   "outputs": [],
   "source": [
    "# create english train dataframe using texts and labels\n",
    "en_df = pd.DataFrame()\n",
    "en_df[\"text\"] = pd.concat([en_df_supported[\"text\"], en_df_persecuted[\"text\"]], ignore_index=True)\n",
    "en_df[\"label\"] = pd.concat([en_df_supported[\"label\"], en_df_persecuted[\"label\"]], ignore_index=True)\n"
   ],
   "metadata": {
    "collapsed": false,
    "pycharm": {
     "name": "#%%\n"
    }
   }
  },
  {
   "cell_type": "code",
   "execution_count": 16,
   "outputs": [],
   "source": [
    "import os\n",
    "os.makedirs('../data/dataframes', exist_ok=True)\n",
    "en_df.to_csv(f'../data/dataframes/en_df.csv')"
   ],
   "metadata": {
    "collapsed": false,
    "pycharm": {
     "name": "#%%\n"
    }
   }
  },
  {
   "cell_type": "code",
   "execution_count": 8,
   "outputs": [
    {
     "name": "stderr",
     "output_type": "stream",
     "text": [
      "[nltk_data] Downloading package stopwords to\n",
      "[nltk_data]     /Users/jessicahassibi/nltk_data...\n",
      "[nltk_data]   Package stopwords is already up-to-date!\n"
     ]
    }
   ],
   "source": [
    "from nltk.tokenize import sent_tokenize, word_tokenize\n",
    "from nltk.corpus import stopwords\n",
    "nltk.download('stopwords')\n",
    "import re\n",
    "\n",
    "# TODO: make it work for all langs\n",
    "# TODO: numbers/years  as stop words?\n",
    "def clean_texts(text, lang=\"english\"):\n",
    "    \"\"\"\n",
    "    Cleans data by applying tokenization, removal of stop words\n",
    "    \"\"\"\n",
    "    tokens = []\n",
    "    punctuation_marks = [\",\", \".\", \";\", \":\", \"-\", '\"', \"/\",'\"\"', \"''\" \"'\", \"(\", \")\", \"[\", \"]\", \"!\", \"?\", \"=\", \"{\", \"}\", \"&\"]\n",
    "    for sent in sent_tokenize(text, lang):\n",
    "        for token in word_tokenize(sent, lang):\n",
    "            token = token.lower()\n",
    "            if not is_stop_word(token, lang) and token not in punctuation_marks:\n",
    "                # additionally lemmatize?!\n",
    "                tokens.append(token)\n",
    "    return tokens\n",
    "\n",
    "def is_stop_word(word, lang):\n",
    "    sw = stopwords.words(lang)\n",
    "    sw.append(\"isbn\")\n",
    "    if word in sw:\n",
    "        return True\n",
    "    elif re.match(r\"\\d+\", word): # e.g. \"1\" or \"20\" but not a year (1994) as it may contain historical information:\n",
    "        return True\n",
    "    else:\n",
    "        return False\n"
   ],
   "metadata": {
    "collapsed": false,
    "pycharm": {
     "name": "#%%\n"
    }
   }
  },
  {
   "cell_type": "code",
   "execution_count": 26,
   "outputs": [],
   "source": [
    "# TODO: geburtsdaten cleanen\n",
    "# create new dataframe with cleaned text\n",
    "language = \"english\"\n",
    "en_df_cleaned = en_df\n",
    "en_df_cleaned.insert(1, \"cleaned_text\", en_df_cleaned[\"text\"].apply(lambda x: clean_texts(x, language)))\n",
    "en_df_cleaned.drop(labels=\"text\",axis=\"columns\", inplace=True)"
   ],
   "metadata": {
    "collapsed": false,
    "pycharm": {
     "name": "#%%\n"
    }
   }
  },
  {
   "cell_type": "code",
   "execution_count": 27,
   "outputs": [],
   "source": [
    "# Encoding the label column\n",
    "en_df_cleaned['label']=en_df_cleaned['label'].map({'supported':1,'persecuted':0})"
   ],
   "metadata": {
    "collapsed": false,
    "pycharm": {
     "name": "#%%\n"
    }
   }
  },
  {
   "cell_type": "code",
   "execution_count": 28,
   "outputs": [],
   "source": [
    "# save cleaned dataframe\n",
    "en_df_cleaned.to_csv(f'../data/dataframes/en_df_cleaned.csv')"
   ],
   "metadata": {
    "collapsed": false,
    "pycharm": {
     "name": "#%%\n"
    }
   }
  },
  {
   "cell_type": "code",
   "execution_count": null,
   "outputs": [],
   "source": [],
   "metadata": {
    "collapsed": false,
    "pycharm": {
     "name": "#%%\n"
    }
   }
  }
 ],
 "metadata": {
  "kernelspec": {
   "display_name": "Python 3",
   "language": "python",
   "name": "python3"
  },
  "language_info": {
   "codemirror_mode": {
    "name": "ipython",
    "version": 2
   },
   "file_extension": ".py",
   "mimetype": "text/x-python",
   "name": "python",
   "nbconvert_exporter": "python",
   "pygments_lexer": "ipython2",
   "version": "2.7.6"
  }
 },
 "nbformat": 4,
 "nbformat_minor": 0
}