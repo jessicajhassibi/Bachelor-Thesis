{
 "cells": [
  {
   "cell_type": "markdown",
   "source": [
    "# Topic Modeling: Top2Vec\n",
    "- get either full texts, paragraphs or sentences (not cleaned) as input for training\n",
    "- Recommended for multilingual datasets: 'distiluse-base-multilingual-cased' (pre-trained sentence transformer)\n",
    "- no specified will use doc2vec method -> not multilingual\n",
    "- no need to remove stop words\n",
    "- #### Parameter:\n",
    "- ngram_vocab: True allows bigrams (no trigrams etc.!)\n",
    "- min_count: ignore words with smaller total count\n",
    "- verbose: True to print status duri training"
   ],
   "metadata": {
    "collapsed": false
   }
  },
  {
   "cell_type": "code",
   "execution_count": 1,
   "outputs": [
    {
     "name": "stderr",
     "output_type": "stream",
     "text": [
      "[nltk_data] Downloading package stopwords to\n",
      "[nltk_data]     /Users/jessicahassibi/nltk_data...\n",
      "[nltk_data]   Package stopwords is already up-to-date!\n"
     ]
    },
    {
     "name": "stdout",
     "output_type": "stream",
     "text": [
      "loaded spacy language model: en_core_web_sm\n"
     ]
    }
   ],
   "source": [
    "from models import get_top2vec_model"
   ],
   "metadata": {
    "collapsed": false
   }
  },
  {
   "cell_type": "code",
   "execution_count": null,
   "outputs": [
    {
     "name": "stderr",
     "output_type": "stream",
     "text": [
      "2022-10-01 21:09:59,220 - top2vec - INFO - Pre-processing documents for training\n"
     ]
    },
    {
     "name": "stdout",
     "output_type": "stream",
     "text": [
      "Top2Vec model not found.\n",
      "Training new model on 187 documents.\n"
     ]
    },
    {
     "name": "stderr",
     "output_type": "stream",
     "text": [
      "2022-10-01 21:09:59,545 - top2vec - INFO - Creating joint document/word embedding\n",
      "2022-10-01 21:10:02,155 - top2vec - INFO - Creating lower dimension embedding of documents\n",
      "OMP: Info #276: omp_set_nested routine deprecated, please use omp_set_max_active_levels instead.\n"
     ]
    }
   ],
   "source": [
    "top2vec_model = get_top2vec_model('texts')"
   ],
   "metadata": {
    "collapsed": false,
    "pycharm": {
     "is_executing": true
    }
   }
  },
  {
   "cell_type": "code",
   "execution_count": null,
   "outputs": [],
   "source": [
    "top2vec_model.get_num_topics()"
   ],
   "metadata": {
    "collapsed": false
   }
  },
  {
   "cell_type": "code",
   "execution_count": null,
   "outputs": [],
   "source": [
    "words, word_scores = top2vec_model.similar_words(keywords=[\"Schonberg\"], keywords_neg=[], num_words=20)\n",
    "for word, score in zip(words, word_scores):\n",
    "    print(f\"{word} {score}\")"
   ],
   "metadata": {
    "collapsed": false
   }
  },
  {
   "cell_type": "code",
   "execution_count": null,
   "outputs": [],
   "source": [
    "for topic in range(top2vec_model.get_num_topics()):\n",
    "    top2vec_model.generate_topic_wordcloud(topic)"
   ],
   "metadata": {
    "collapsed": false
   }
  },
  {
   "cell_type": "code",
   "execution_count": null,
   "outputs": [],
   "source": [],
   "metadata": {
    "collapsed": false
   }
  }
 ],
 "metadata": {
  "kernelspec": {
   "name": "python3",
   "language": "python",
   "display_name": "Python 3 (ipykernel)"
  },
  "language_info": {
   "codemirror_mode": {
    "name": "ipython",
    "version": 3
   },
   "file_extension": ".py",
   "mimetype": "text/x-python",
   "name": "python",
   "nbconvert_exporter": "python",
   "pygments_lexer": "ipython3",
   "version": "3.9.12"
  }
 },
 "nbformat": 4,
 "nbformat_minor": 5
}
