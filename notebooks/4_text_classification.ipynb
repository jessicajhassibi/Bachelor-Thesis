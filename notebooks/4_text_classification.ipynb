{
 "cells": [
  {
   "cell_type": "code",
   "execution_count": 1,
   "id": "d1a5d056",
   "metadata": {
    "pycharm": {
     "name": "#%%\n"
    }
   },
   "outputs": [
    {
     "name": "stderr",
     "output_type": "stream",
     "text": [
      "[nltk_data] Downloading package stopwords to /root/nltk_data...\n",
      "[nltk_data]   Package stopwords is already up-to-date!\n"
     ]
    },
    {
     "name": "stdout",
     "output_type": "stream",
     "text": [
      "loaded spacy language model: de_core_news_sm\n",
      "loaded spacy language model: en_core_web_sm\n"
     ]
    }
   ],
   "source": [
    "import sys\n",
    "sys.path.append('../src')\n",
    "from data import get_documents_list, get_cleaned_dataframe_with_topics, get_cleaned_dataframe, get_data_and_labels_lists\n",
    "from models import classification, get_embedding_model\n",
    "import pandas as pd\n",
    "from imblearn.over_sampling import RandomOverSampler\n",
    "from imblearn.under_sampling import RandomUnderSampler"
   ]
  },
  {
   "cell_type": "markdown",
   "id": "64a57be6",
   "metadata": {},
   "source": [
    "For monolingual execution, please change WIKI_LANGUAGES in config.ini file to language code of language you want to use"
   ]
  },
  {
   "cell_type": "markdown",
   "id": "546f3933",
   "metadata": {},
   "source": [
    "### Choose Parameters: \n",
    "- method = \"muse\", \"fastText\", or \"Word2Vec\"\n",
    "    -> embedding model \n",
    "- text_type = \"cleaned_texts\", \"cleaned_texts_topics\", ... (see more in embedding_models.py)\n",
    "    -> documents the model was trained on and to do classification on\n",
    "- training_type = \"pretrained_aligned\" or \"from_scratch\"\n",
    "    -> type of training which was used\n",
    "    \n",
    "e.g. use method = \"muse\", text_type='cleaned_texts', training_type = \"pretrained_aligned\" for pretrained aligned models downloaded from facebookresearch MUSE website"
   ]
  },
  {
   "cell_type": "markdown",
   "id": "a7f4ff11",
   "metadata": {
    "pycharm": {
     "name": "#%% md\n"
    }
   },
   "source": [
    "load the preprocessed texts in defined languages into a dataframe"
   ]
  },
  {
   "cell_type": "code",
   "execution_count": 11,
   "id": "244d06eb",
   "metadata": {},
   "outputs": [
    {
     "data": {
      "text/html": [
       "<div>\n",
       "<style scoped>\n",
       "    .dataframe tbody tr th:only-of-type {\n",
       "        vertical-align: middle;\n",
       "    }\n",
       "\n",
       "    .dataframe tbody tr th {\n",
       "        vertical-align: top;\n",
       "    }\n",
       "\n",
       "    .dataframe thead th {\n",
       "        text-align: right;\n",
       "    }\n",
       "</style>\n",
       "<table border=\"1\" class=\"dataframe\">\n",
       "  <thead>\n",
       "    <tr style=\"text-align: right;\">\n",
       "      <th></th>\n",
       "      <th>data</th>\n",
       "      <th>label</th>\n",
       "    </tr>\n",
       "  </thead>\n",
       "  <tbody>\n",
       "    <tr>\n",
       "      <th>0</th>\n",
       "      <td>[Abel, Ehrlich, 3., September, 1915, Cranz, Os...</td>\n",
       "      <td>0</td>\n",
       "    </tr>\n",
       "    <tr>\n",
       "      <th>1</th>\n",
       "      <td>[Alexander, Zemlinsky, Pseudonym, Al, Roberts,...</td>\n",
       "      <td>0</td>\n",
       "    </tr>\n",
       "    <tr>\n",
       "      <th>2</th>\n",
       "      <td>[Alexandre, Tansman, französisch, Alexandré, T...</td>\n",
       "      <td>0</td>\n",
       "    </tr>\n",
       "    <tr>\n",
       "      <th>3</th>\n",
       "      <td>[Alfred, Szendrei, Alfred, Sendrey, Aladár, Sz...</td>\n",
       "      <td>0</td>\n",
       "    </tr>\n",
       "    <tr>\n",
       "      <th>4</th>\n",
       "      <td>[Andre, Asriel, 22., Februar, 1922, Wien, 28.,...</td>\n",
       "      <td>0</td>\n",
       "    </tr>\n",
       "    <tr>\n",
       "      <th>...</th>\n",
       "      <td>...</td>\n",
       "      <td>...</td>\n",
       "    </tr>\n",
       "    <tr>\n",
       "      <th>187</th>\n",
       "      <td>[Werner, Egk, german, pronunciation, 17, May, ...</td>\n",
       "      <td>1</td>\n",
       "    </tr>\n",
       "    <tr>\n",
       "      <th>188</th>\n",
       "      <td>[Gustav, Heinrich, Ernst, Martin, Wilhelm, Fur...</td>\n",
       "      <td>1</td>\n",
       "    </tr>\n",
       "    <tr>\n",
       "      <th>189</th>\n",
       "      <td>[Wilhelm, Walter, Friedrich, Kempff, 25, Novem...</td>\n",
       "      <td>1</td>\n",
       "    </tr>\n",
       "    <tr>\n",
       "      <th>190</th>\n",
       "      <td>[Meisel, 17, September, 1897, 29, April, 1967,...</td>\n",
       "      <td>1</td>\n",
       "    </tr>\n",
       "    <tr>\n",
       "      <th>191</th>\n",
       "      <td>[Willi, Domgraf, Fassbaender, 19, February, 18...</td>\n",
       "      <td>1</td>\n",
       "    </tr>\n",
       "  </tbody>\n",
       "</table>\n",
       "<p>458 rows × 2 columns</p>\n",
       "</div>"
      ],
      "text/plain": [
       "                                                  data  label\n",
       "0    [Abel, Ehrlich, 3., September, 1915, Cranz, Os...      0\n",
       "1    [Alexander, Zemlinsky, Pseudonym, Al, Roberts,...      0\n",
       "2    [Alexandre, Tansman, französisch, Alexandré, T...      0\n",
       "3    [Alfred, Szendrei, Alfred, Sendrey, Aladár, Sz...      0\n",
       "4    [Andre, Asriel, 22., Februar, 1922, Wien, 28.,...      0\n",
       "..                                                 ...    ...\n",
       "187  [Werner, Egk, german, pronunciation, 17, May, ...      1\n",
       "188  [Gustav, Heinrich, Ernst, Martin, Wilhelm, Fur...      1\n",
       "189  [Wilhelm, Walter, Friedrich, Kempff, 25, Novem...      1\n",
       "190  [Meisel, 17, September, 1897, 29, April, 1967,...      1\n",
       "191  [Willi, Domgraf, Fassbaender, 19, February, 18...      1\n",
       "\n",
       "[458 rows x 2 columns]"
      ]
     },
     "execution_count": 11,
     "metadata": {},
     "output_type": "execute_result"
    }
   ],
   "source": [
    "trained_on = \"cleaned_sentences\"\n",
    "classify_on = \"cleaned_texts\"\n",
    "\n",
    "docs = list()\n",
    "if classify_on == \"cleaned_texts\":\n",
    "    # case for texts\n",
    "    #df = get_cleaned_dataframe_with_topics()\n",
    "    df = get_cleaned_dataframe()\n",
    "    df = df[[classify_on, 'label']].copy()\n",
    "    df = df.rename(columns={classify_on: 'data'})\n",
    "    docs = get_documents_list('cleaned_texts')\n",
    "    \n",
    "elif classify_on == \"cleaned_sentences\" or classify_on == \"cleaned_paragraphs\":\n",
    "    # case for sentences and paragraphs\n",
    "    docs, targets = get_data_and_labels_lists(classify_on)\n",
    "    df = pd.DataFrame(list(zip(docs, targets)),\n",
    "                   columns =['data', 'label'])\n",
    "    \n",
    "df"
   ]
  },
  {
   "cell_type": "markdown",
   "id": "a78fe7be",
   "metadata": {},
   "source": [
    "## Split data into train and test sets\n"
   ]
  },
  {
   "cell_type": "code",
   "execution_count": 12,
   "id": "76447f6a",
   "metadata": {},
   "outputs": [],
   "source": [
    "from sklearn.model_selection import train_test_split\n",
    "X_train, X_test, y_train, y_test = train_test_split(df['data'], df['label'] , test_size=0.2)"
   ]
  },
  {
   "cell_type": "markdown",
   "id": "13cd7a4c",
   "metadata": {},
   "source": [
    "Decide what types of documents you want to train your embedding model on"
   ]
  },
  {
   "cell_type": "markdown",
   "id": "8e0454bf",
   "metadata": {
    "pycharm": {
     "name": "#%% md\n"
    }
   },
   "source": [
    "## Load Embedding Model"
   ]
  },
  {
   "cell_type": "markdown",
   "id": "8ba5fc05",
   "metadata": {},
   "source": [
    "NOTE FOR TRAINING NEW MODEL: \n",
    "    \n",
    "For multilingual fastText Model first train monolingual fastText models (use parameter method=\"fastText\"). \n",
    "Then use muse library to align the embeddings: https://github.com/facebookresearch/MUSE\n",
    "The command could look like this (supervised): \n",
    "``` shell\n",
    "python supervised.py --src_lang en --tgt_lang de --src_emb /Users/jessicahassibi/Bachelor-Thesis/models/classification/FastText/FastText_en_cleaned_texts.vec --tgt_emb /Users/jessicahassibi/Bachelor-Thesis/models/classification/FastText/FastText_de_cleaned_texts.vec --n_refinement 5 --dico_train default --cuda=False\n",
    "```\n",
    "or like this (unsupervised):\n",
    "``` shell\n",
    "python unsupervised.py --src_lang en --tgt_lang de --src_emb /Users/jessicahassibi/Bachelor-Thesis/models/classification/FastText/FastText_en_cleaned_texts.vec --tgt_emb /Users/jessicahassibi/Bachelor-Thesis/models/classification/FastText/FastText_de_cleaned_texts.vec --n_refinement 5 --cuda=False\n",
    "```\n",
    "\n",
    "Place the aligned vectors to /models/classification/FastText/aligned_embeddings and use code in next cell with method=\"muse\" to combine those embeddings and get multilingual word vectors."
   ]
  },
  {
   "cell_type": "code",
   "execution_count": 4,
   "id": "eab685fe",
   "metadata": {},
   "outputs": [],
   "source": [
    "method = \"fastText\"\n",
    "training_type = \"from_scratch\""
   ]
  },
  {
   "cell_type": "code",
   "execution_count": 5,
   "id": "33c5c54b",
   "metadata": {
    "pycharm": {
     "name": "#%%\n"
    }
   },
   "outputs": [
    {
     "name": "stdout",
     "output_type": "stream",
     "text": [
      "fastText model not found.\n",
      "Training new model on 1132 documents.\n",
      "Saving new model.\n",
      "Model:  /home/Bachelor-Thesis/models/classification/FastText/FastText_de_en_cleaned_sentences  loaded\n"
     ]
    }
   ],
   "source": [
    "model, word_vectors = get_embedding_model(docs, text_type = trained_on, training_type = training_type, method = method)"
   ]
  },
  {
   "cell_type": "code",
   "execution_count": 6,
   "id": "bea68364",
   "metadata": {},
   "outputs": [],
   "source": [
    "#word_vectors.similarity('composer', 'komponist')"
   ]
  },
  {
   "cell_type": "markdown",
   "id": "d01e0697",
   "metadata": {
    "pycharm": {
     "name": "#%% md\n"
    }
   },
   "source": [
    "\n",
    "## Text Classification on manually trained Embedding model"
   ]
  },
  {
   "cell_type": "markdown",
   "id": "53dabf17",
   "metadata": {},
   "source": [
    "Highly Imbalanced Dataset!\n",
    "Ideas:\n",
    "- Undersampling: reduce majority class to make it equal to minority class\n",
    "- Oversampling: increase minority class to make it equal to majority class through resampling\n",
    "- K-fold cross validation\n",
    "\n",
    "### Choose Parameter: \n",
    "- resampling = False, True"
   ]
  },
  {
   "cell_type": "code",
   "execution_count": 7,
   "id": "781c154f",
   "metadata": {},
   "outputs": [],
   "source": [
    "resampling = False"
   ]
  },
  {
   "cell_type": "markdown",
   "id": "c176b21d",
   "metadata": {
    "pycharm": {
     "name": "#%% md\n"
    }
   },
   "source": [
    "### Create features from text for machine learning model.\n",
    "Steps:\n",
    "- Turn words in texts into word vectors."
   ]
  },
  {
   "cell_type": "code",
   "execution_count": 8,
   "id": "698fee15",
   "metadata": {},
   "outputs": [],
   "source": [
    "X_train_vect = classification.text2vec(X_train, word_vectors)\n",
    "X_test_vect = classification.text2vec(X_test, word_vectors)\n",
    "\n",
    "#- Method 1: averaging word vectors for each text\n",
    "X_train_vect_avg = classification.average_text_vector(X_train_vect)\n",
    "X_test_vect_avg = classification.average_text_vector(X_test_vect)\n",
    "\n",
    "#- Method 2: max word vectors for each text\n",
    "#- Method 3: min word vectors for each text"
   ]
  },
  {
   "cell_type": "markdown",
   "id": "f9a657c0",
   "metadata": {
    "pycharm": {
     "name": "#%% md\n"
    }
   },
   "source": [
    "### Intuition for Classification reports:\n",
    "- Recall = how many of this class where found over whole num of elements of this class\n",
    "- Precision = how many correctly classified among that class\n",
    "- Accuracy = num of correct predictions/ num of total predictions\n",
    "- f1-score: harmonic mean between precision and recall\n",
    "- support: num of occurrence of given class in dataset\n",
    "\n",
    "- recall macro avg = (recall_class_1 + recall_class_0) / 2\n",
    "- recall weighted avg = (support_class_0 * recall_class_0 + support_class_1 * recall_class_1) / (support_class_0 + support_class_1)\n",
    "- scikit learn classification_report average parameter explanation:\n",
    "\n",
    "-average=micro: compute f1 by considering total true positives, false negatives and false positives (no matter of the prediction for each label in the dataset) (= Accuracy?)\n",
    "\n",
    "-average=macro: compute f1 for each label, and returns the average without considering the proportion for each label in the dataset. (treats all classes the same)\n",
    "\n",
    "-average=weighted: compute f1 for each label, and returns the average considering the proportion for each label in the dataset.\n",
    "\n",
    "-average=samples: compute f1 for each instance, and returns the average. Use it for multilabel classification.\n"
   ]
  },
  {
   "cell_type": "markdown",
   "id": "05687a95",
   "metadata": {
    "pycharm": {
     "name": "#%% md\n"
    }
   },
   "source": [
    "Instantiate and fit a classificator model on top of the vectors"
   ]
  },
  {
   "cell_type": "code",
   "execution_count": 10,
   "id": "2a76f007",
   "metadata": {
    "pycharm": {
     "name": "#%%\n"
    }
   },
   "outputs": [
    {
     "name": "stdout",
     "output_type": "stream",
     "text": [
      "CLASSIFICATION WITHOUT SAMPLING:\n",
      "############################################################################\n",
      "Processing Multinomial Naive Bayes Classification\n",
      "\n",
      "              precision    recall  f1-score   support\n",
      "\n",
      "    verfolgt       0.89      0.82      0.85       207\n",
      "    begnadet       0.00      0.00      0.00        20\n",
      "\n",
      "    accuracy                           0.74       227\n",
      "   macro avg       0.45      0.41      0.43       227\n",
      "weighted avg       0.82      0.74      0.78       227\n",
      "\n",
      "classes in y_pred: {0, 1} classes in y_test: {0, 1}\n",
      "############################################################################\n",
      "############################################################################\n",
      "Processing SVM Classification\n",
      "\n",
      "              precision    recall  f1-score   support\n",
      "\n",
      "    verfolgt       1.00      0.83      0.91       227\n",
      "    begnadet       0.00      0.00      0.00         0\n",
      "\n",
      "    accuracy                           0.83       227\n",
      "   macro avg       0.50      0.42      0.45       227\n",
      "weighted avg       1.00      0.83      0.91       227\n",
      "\n",
      "classes in y_pred: {0, 1} classes in y_test: {0}\n",
      "############################################################################\n",
      "0    747\n",
      "1    158\n",
      "Name: label, dtype: int64\n"
     ]
    },
    {
     "data": {
      "image/png": "[encoded data removed]",
      "text/plain": [
       "<Figure size 432x288 with 1 Axes>"
      ]
     },
     "metadata": {},
     "output_type": "display_data"
    }
   ],
   "source": [
    "resampling = False\n",
    "if not resampling:\n",
    "    print(\"CLASSIFICATION WITHOUT SAMPLING:\")\n",
    "    #y_pred = classification.classify_predict(X_train_vect_avg, X_test_vect_avg, y_train, \"Random Forest\")\n",
    "    #classification.print_classification_report(y_test, y_pred)\n",
    "\n",
    "    y_pred = classification.classify_predict(X_train_vect_avg, X_test_vect_avg, y_train, \"Multinomial Naive Bayes\")\n",
    "    classification.print_classification_report(y_test, y_pred)\n",
    "\n",
    "    y_pred = classification.classify_predict(X_train_vect_avg, X_test_vect_avg, y_train, \"SVM\")\n",
    "    classification.print_classification_report(y_test, y_pred)\n",
    "    \n",
    "    print(y_train.value_counts())\n",
    "    y_train.value_counts().plot.pie(autopct='%0.2f')\n",
    "    \n",
    "else:\n",
    "    ros = RandomOverSampler(sampling_strategy=\"not majority\")\n",
    "    rus = RandomUnderSampler(random_state=0, sampling_strategy=\"majority\")\n",
    "    \n",
    "    for sampler, method in [(ros, \"OVERSAMPLING\"),(rus, \"UNDERSAMPLING\")]:\n",
    "        print(f\"CLASSIFICATION WITH:{method}\")\n",
    "            \n",
    "        X_train_2d = X_train.values.reshape(-1, 1) # puts each elem of array in own array\n",
    "        X_res, y_res = sampler.fit_resample(X_train_2d, y_train)\n",
    "        \n",
    "        print(y_res.value_counts())\n",
    "        y_res.value_counts().plot.pie(autopct='%0.2f')\n",
    "        \n",
    "        #X_res revert 2_dimensionality\n",
    "        X_res_1d = X_res.flatten()\n",
    "\n",
    "        # classification with resampled vectors\n",
    "        X_res_vect = classification.text2vec(X_res_1d, word_vectors)\n",
    "        X_res_vect_avg = classification.average_text_vector(X_res_vect)\n",
    "\n",
    "        #y_res_pred = classification.classify_predict(X_res_vect_avg, X_test_vect_avg, y_res, \"Random Forest\")\n",
    "        #classification.print_classification_report(y_test, y_res_pred)\n",
    "        y_res_pred = classification.classify_predict(X_res_vect_avg, X_test_vect_avg, y_res, \"Multinomial Naive Bayes\")\n",
    "        classification.print_classification_report(y_test, y_res_pred)\n",
    "        y_res_pred = classification.classify_predict(X_res_vect_avg, X_test_vect_avg, y_res, \"SVM\")\n",
    "        classification.print_classification_report(y_test, y_res_pred)"
   ]
  },
  {
   "cell_type": "code",
   "execution_count": null,
   "id": "0e911d41",
   "metadata": {},
   "outputs": [],
   "source": []
  },
  {
   "cell_type": "code",
   "execution_count": null,
   "id": "b9edd009",
   "metadata": {},
   "outputs": [],
   "source": []
  }
 ],
 "metadata": {
  "kernelspec": {
   "display_name": "Python [conda env:thesis] *",
   "language": "python",
   "name": "conda-env-thesis-py"
  },
  "language_info": {
   "codemirror_mode": {
    "name": "ipython",
    "version": 3
   },
   "file_extension": ".py",
   "mimetype": "text/x-python",
   "name": "python",
   "nbconvert_exporter": "python",
   "pygments_lexer": "ipython3",
   "version": "3.9.12"
  }
 },
 "nbformat": 4,
 "nbformat_minor": 5
}
