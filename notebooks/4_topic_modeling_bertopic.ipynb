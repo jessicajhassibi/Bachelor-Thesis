{
 "cells": [
  {
   "cell_type": "code",
   "execution_count": 1,
   "metadata": {
    "collapsed": true,
    "pycharm": {
     "name": "#%%\n"
    }
   },
   "outputs": [
    {
     "name": "stdout",
     "output_type": "stream",
     "text": [
      "SpaCy pipeline loaded\n"
     ]
    }
   ],
   "source": [
    "from models import get_BERTopic_model"
   ]
  },
  {
   "cell_type": "markdown",
   "source": [
    "## Method 2: BERTopic\n",
    "- no preprocessing necessary!\n",
    "- stop words will be removed with count vectorizers tokenizer\n",
    "- reduce Parameter min_topic_size for less topics\n",
    "- TODO: speed up by generating embeddings before"
   ],
   "metadata": {
    "collapsed": false,
    "pycharm": {
     "name": "#%% md\n"
    }
   }
  },
  {
   "cell_type": "code",
   "execution_count": 2,
   "outputs": [
    {
     "name": "stdout",
     "output_type": "stream",
     "text": [
      "BERTopic model not found.\n",
      "Training new model on 642 documents.\n"
     ]
    },
    {
     "data": {
      "text/plain": "Batches:   0%|          | 0/21 [00:00<?, ?it/s]",
      "application/vnd.jupyter.widget-view+json": {
       "version_major": 2,
       "version_minor": 0,
       "model_id": "919abb232d184d808a76dd295a841f13"
      }
     },
     "metadata": {},
     "output_type": "display_data"
    },
    {
     "name": "stderr",
     "output_type": "stream",
     "text": [
      "2022-09-21 23:58:11,258 - BERTopic - Transformed documents to Embeddings\n",
      "2022-09-21 23:58:15,472 - BERTopic - Reduced dimensionality\n",
      "2022-09-21 23:58:15,495 - BERTopic - Clustered reduced embeddings\n"
     ]
    }
   ],
   "source": [
    "topic_model = get_BERTopic_model('paragraphs')"
   ],
   "metadata": {
    "collapsed": false,
    "pycharm": {
     "name": "#%%\n"
    }
   }
  },
  {
   "cell_type": "markdown",
   "source": [
    "Code to update topic representations to try different parameters:\n",
    "topic_model.update_topics(documents, topics, vectorizer_model=cv)"
   ],
   "metadata": {
    "collapsed": false,
    "pycharm": {
     "name": "#%% md\n"
    }
   }
  },
  {
   "cell_type": "code",
   "execution_count": 3,
   "outputs": [
    {
     "data": {
      "text/plain": "   Topic  Count                          Name\n0      0    621  0_wurde_musik_komponist_wien\n1      1     21                         1____",
      "text/html": "<div>\n<style scoped>\n    .dataframe tbody tr th:only-of-type {\n        vertical-align: middle;\n    }\n\n    .dataframe tbody tr th {\n        vertical-align: top;\n    }\n\n    .dataframe thead th {\n        text-align: right;\n    }\n</style>\n<table border=\"1\" class=\"dataframe\">\n  <thead>\n    <tr style=\"text-align: right;\">\n      <th></th>\n      <th>Topic</th>\n      <th>Count</th>\n      <th>Name</th>\n    </tr>\n  </thead>\n  <tbody>\n    <tr>\n      <th>0</th>\n      <td>0</td>\n      <td>621</td>\n      <td>0_wurde_musik_komponist_wien</td>\n    </tr>\n    <tr>\n      <th>1</th>\n      <td>1</td>\n      <td>21</td>\n      <td>1____</td>\n    </tr>\n  </tbody>\n</table>\n</div>"
     },
     "execution_count": 3,
     "metadata": {},
     "output_type": "execute_result"
    }
   ],
   "source": [
    "topic_model.get_topic_info()"
   ],
   "metadata": {
    "collapsed": false,
    "pycharm": {
     "name": "#%%\n"
    }
   }
  },
  {
   "cell_type": "code",
   "execution_count": 4,
   "outputs": [
    {
     "ename": "ValueError",
     "evalue": "zero-size array to reduction operation maximum which has no identity",
     "output_type": "error",
     "traceback": [
      "\u001B[0;31m---------------------------------------------------------------------------\u001B[0m",
      "\u001B[0;31mValueError\u001B[0m                                Traceback (most recent call last)",
      "Input \u001B[0;32mIn [4]\u001B[0m, in \u001B[0;36m<cell line: 1>\u001B[0;34m()\u001B[0m\n\u001B[0;32m----> 1\u001B[0m \u001B[43mtopic_model\u001B[49m\u001B[38;5;241;43m.\u001B[39;49m\u001B[43mvisualize_topics\u001B[49m\u001B[43m(\u001B[49m\u001B[43m)\u001B[49m\n",
      "File \u001B[0;32m~/opt/anaconda3/envs/thesis/lib/python3.9/site-packages/bertopic/_bertopic.py:1540\u001B[0m, in \u001B[0;36mBERTopic.visualize_topics\u001B[0;34m(self, topics, top_n_topics, width, height)\u001B[0m\n\u001B[1;32m   1513\u001B[0m \u001B[38;5;124;03m\"\"\" Visualize topics, their sizes, and their corresponding words\u001B[39;00m\n\u001B[1;32m   1514\u001B[0m \n\u001B[1;32m   1515\u001B[0m \u001B[38;5;124;03mThis visualization is highly inspired by LDAvis, a great visualization\u001B[39;00m\n\u001B[0;32m   (...)\u001B[0m\n\u001B[1;32m   1537\u001B[0m \u001B[38;5;124;03m```\u001B[39;00m\n\u001B[1;32m   1538\u001B[0m \u001B[38;5;124;03m\"\"\"\u001B[39;00m\n\u001B[1;32m   1539\u001B[0m check_is_fitted(\u001B[38;5;28mself\u001B[39m)\n\u001B[0;32m-> 1540\u001B[0m \u001B[38;5;28;01mreturn\u001B[39;00m \u001B[43mplotting\u001B[49m\u001B[38;5;241;43m.\u001B[39;49m\u001B[43mvisualize_topics\u001B[49m\u001B[43m(\u001B[49m\u001B[38;5;28;43mself\u001B[39;49m\u001B[43m,\u001B[49m\n\u001B[1;32m   1541\u001B[0m \u001B[43m                                 \u001B[49m\u001B[43mtopics\u001B[49m\u001B[38;5;241;43m=\u001B[39;49m\u001B[43mtopics\u001B[49m\u001B[43m,\u001B[49m\n\u001B[1;32m   1542\u001B[0m \u001B[43m                                 \u001B[49m\u001B[43mtop_n_topics\u001B[49m\u001B[38;5;241;43m=\u001B[39;49m\u001B[43mtop_n_topics\u001B[49m\u001B[43m,\u001B[49m\n\u001B[1;32m   1543\u001B[0m \u001B[43m                                 \u001B[49m\u001B[43mwidth\u001B[49m\u001B[38;5;241;43m=\u001B[39;49m\u001B[43mwidth\u001B[49m\u001B[43m,\u001B[49m\n\u001B[1;32m   1544\u001B[0m \u001B[43m                                 \u001B[49m\u001B[43mheight\u001B[49m\u001B[38;5;241;43m=\u001B[39;49m\u001B[43mheight\u001B[49m\u001B[43m)\u001B[49m\n",
      "File \u001B[0;32m~/opt/anaconda3/envs/thesis/lib/python3.9/site-packages/bertopic/plotting/_topics.py:65\u001B[0m, in \u001B[0;36mvisualize_topics\u001B[0;34m(topic_model, topics, top_n_topics, width, height)\u001B[0m\n\u001B[1;32m     63\u001B[0m embeddings \u001B[38;5;241m=\u001B[39m topic_model\u001B[38;5;241m.\u001B[39mc_tf_idf_\u001B[38;5;241m.\u001B[39mtoarray()[indices]\n\u001B[1;32m     64\u001B[0m embeddings \u001B[38;5;241m=\u001B[39m MinMaxScaler()\u001B[38;5;241m.\u001B[39mfit_transform(embeddings)\n\u001B[0;32m---> 65\u001B[0m embeddings \u001B[38;5;241m=\u001B[39m \u001B[43mUMAP\u001B[49m\u001B[43m(\u001B[49m\u001B[43mn_neighbors\u001B[49m\u001B[38;5;241;43m=\u001B[39;49m\u001B[38;5;241;43m2\u001B[39;49m\u001B[43m,\u001B[49m\u001B[43m \u001B[49m\u001B[43mn_components\u001B[49m\u001B[38;5;241;43m=\u001B[39;49m\u001B[38;5;241;43m2\u001B[39;49m\u001B[43m,\u001B[49m\u001B[43m \u001B[49m\u001B[43mmetric\u001B[49m\u001B[38;5;241;43m=\u001B[39;49m\u001B[38;5;124;43m'\u001B[39;49m\u001B[38;5;124;43mhellinger\u001B[39;49m\u001B[38;5;124;43m'\u001B[39;49m\u001B[43m)\u001B[49m\u001B[38;5;241;43m.\u001B[39;49m\u001B[43mfit_transform\u001B[49m\u001B[43m(\u001B[49m\u001B[43membeddings\u001B[49m\u001B[43m)\u001B[49m\n\u001B[1;32m     67\u001B[0m \u001B[38;5;66;03m# Visualize with plotly\u001B[39;00m\n\u001B[1;32m     68\u001B[0m df \u001B[38;5;241m=\u001B[39m pd\u001B[38;5;241m.\u001B[39mDataFrame({\u001B[38;5;124m\"\u001B[39m\u001B[38;5;124mx\u001B[39m\u001B[38;5;124m\"\u001B[39m: embeddings[:, \u001B[38;5;241m0\u001B[39m], \u001B[38;5;124m\"\u001B[39m\u001B[38;5;124my\u001B[39m\u001B[38;5;124m\"\u001B[39m: embeddings[:, \u001B[38;5;241m1\u001B[39m],\n\u001B[1;32m     69\u001B[0m                    \u001B[38;5;124m\"\u001B[39m\u001B[38;5;124mTopic\u001B[39m\u001B[38;5;124m\"\u001B[39m: topic_list, \u001B[38;5;124m\"\u001B[39m\u001B[38;5;124mWords\u001B[39m\u001B[38;5;124m\"\u001B[39m: words, \u001B[38;5;124m\"\u001B[39m\u001B[38;5;124mSize\u001B[39m\u001B[38;5;124m\"\u001B[39m: frequencies})\n",
      "File \u001B[0;32m~/opt/anaconda3/envs/thesis/lib/python3.9/site-packages/umap/umap_.py:2772\u001B[0m, in \u001B[0;36mUMAP.fit_transform\u001B[0;34m(self, X, y)\u001B[0m\n\u001B[1;32m   2742\u001B[0m \u001B[38;5;28;01mdef\u001B[39;00m \u001B[38;5;21mfit_transform\u001B[39m(\u001B[38;5;28mself\u001B[39m, X, y\u001B[38;5;241m=\u001B[39m\u001B[38;5;28;01mNone\u001B[39;00m):\n\u001B[1;32m   2743\u001B[0m     \u001B[38;5;124;03m\"\"\"Fit X into an embedded space and return that transformed\u001B[39;00m\n\u001B[1;32m   2744\u001B[0m \u001B[38;5;124;03m    output.\u001B[39;00m\n\u001B[1;32m   2745\u001B[0m \n\u001B[0;32m   (...)\u001B[0m\n\u001B[1;32m   2770\u001B[0m \u001B[38;5;124;03m        Local radii of data points in the embedding (log-transformed).\u001B[39;00m\n\u001B[1;32m   2771\u001B[0m \u001B[38;5;124;03m    \"\"\"\u001B[39;00m\n\u001B[0;32m-> 2772\u001B[0m     \u001B[38;5;28;43mself\u001B[39;49m\u001B[38;5;241;43m.\u001B[39;49m\u001B[43mfit\u001B[49m\u001B[43m(\u001B[49m\u001B[43mX\u001B[49m\u001B[43m,\u001B[49m\u001B[43m \u001B[49m\u001B[43my\u001B[49m\u001B[43m)\u001B[49m\n\u001B[1;32m   2773\u001B[0m     \u001B[38;5;28;01mif\u001B[39;00m \u001B[38;5;28mself\u001B[39m\u001B[38;5;241m.\u001B[39mtransform_mode \u001B[38;5;241m==\u001B[39m \u001B[38;5;124m\"\u001B[39m\u001B[38;5;124membedding\u001B[39m\u001B[38;5;124m\"\u001B[39m:\n\u001B[1;32m   2774\u001B[0m         \u001B[38;5;28;01mif\u001B[39;00m \u001B[38;5;28mself\u001B[39m\u001B[38;5;241m.\u001B[39moutput_dens:\n",
      "File \u001B[0;32m~/opt/anaconda3/envs/thesis/lib/python3.9/site-packages/umap/umap_.py:2684\u001B[0m, in \u001B[0;36mUMAP.fit\u001B[0;34m(self, X, y)\u001B[0m\n\u001B[1;32m   2681\u001B[0m     \u001B[38;5;28mprint\u001B[39m(ts(), \u001B[38;5;124m\"\u001B[39m\u001B[38;5;124mConstruct embedding\u001B[39m\u001B[38;5;124m\"\u001B[39m)\n\u001B[1;32m   2683\u001B[0m \u001B[38;5;28;01mif\u001B[39;00m \u001B[38;5;28mself\u001B[39m\u001B[38;5;241m.\u001B[39mtransform_mode \u001B[38;5;241m==\u001B[39m \u001B[38;5;124m\"\u001B[39m\u001B[38;5;124membedding\u001B[39m\u001B[38;5;124m\"\u001B[39m:\n\u001B[0;32m-> 2684\u001B[0m     \u001B[38;5;28mself\u001B[39m\u001B[38;5;241m.\u001B[39membedding_, aux_data \u001B[38;5;241m=\u001B[39m \u001B[38;5;28;43mself\u001B[39;49m\u001B[38;5;241;43m.\u001B[39;49m\u001B[43m_fit_embed_data\u001B[49m\u001B[43m(\u001B[49m\n\u001B[1;32m   2685\u001B[0m \u001B[43m        \u001B[49m\u001B[38;5;28;43mself\u001B[39;49m\u001B[38;5;241;43m.\u001B[39;49m\u001B[43m_raw_data\u001B[49m\u001B[43m[\u001B[49m\u001B[43mindex\u001B[49m\u001B[43m]\u001B[49m\u001B[43m,\u001B[49m\n\u001B[1;32m   2686\u001B[0m \u001B[43m        \u001B[49m\u001B[38;5;28;43mself\u001B[39;49m\u001B[38;5;241;43m.\u001B[39;49m\u001B[43mn_epochs\u001B[49m\u001B[43m,\u001B[49m\n\u001B[1;32m   2687\u001B[0m \u001B[43m        \u001B[49m\u001B[43minit\u001B[49m\u001B[43m,\u001B[49m\n\u001B[1;32m   2688\u001B[0m \u001B[43m        \u001B[49m\u001B[43mrandom_state\u001B[49m\u001B[43m,\u001B[49m\u001B[43m  \u001B[49m\u001B[38;5;66;43;03m# JH why raw data?\u001B[39;49;00m\n\u001B[1;32m   2689\u001B[0m \u001B[43m    \u001B[49m\u001B[43m)\u001B[49m\n\u001B[1;32m   2690\u001B[0m     \u001B[38;5;66;03m# Assign any points that are fully disconnected from our manifold(s) to have embedding\u001B[39;00m\n\u001B[1;32m   2691\u001B[0m     \u001B[38;5;66;03m# coordinates of np.nan.  These will be filtered by our plotting functions automatically.\u001B[39;00m\n\u001B[1;32m   2692\u001B[0m     \u001B[38;5;66;03m# They also prevent users from being deceived a distance query to one of these points.\u001B[39;00m\n\u001B[1;32m   2693\u001B[0m     \u001B[38;5;66;03m# Might be worth moving this into simplicial_set_embedding or _fit_embed_data\u001B[39;00m\n\u001B[1;32m   2694\u001B[0m     disconnected_vertices \u001B[38;5;241m=\u001B[39m np\u001B[38;5;241m.\u001B[39marray(\u001B[38;5;28mself\u001B[39m\u001B[38;5;241m.\u001B[39mgraph_\u001B[38;5;241m.\u001B[39msum(axis\u001B[38;5;241m=\u001B[39m\u001B[38;5;241m1\u001B[39m))\u001B[38;5;241m.\u001B[39mflatten() \u001B[38;5;241m==\u001B[39m \u001B[38;5;241m0\u001B[39m\n",
      "File \u001B[0;32m~/opt/anaconda3/envs/thesis/lib/python3.9/site-packages/umap/umap_.py:2717\u001B[0m, in \u001B[0;36mUMAP._fit_embed_data\u001B[0;34m(self, X, n_epochs, init, random_state)\u001B[0m\n\u001B[1;32m   2713\u001B[0m \u001B[38;5;28;01mdef\u001B[39;00m \u001B[38;5;21m_fit_embed_data\u001B[39m(\u001B[38;5;28mself\u001B[39m, X, n_epochs, init, random_state):\n\u001B[1;32m   2714\u001B[0m     \u001B[38;5;124;03m\"\"\"A method wrapper for simplicial_set_embedding that can be\u001B[39;00m\n\u001B[1;32m   2715\u001B[0m \u001B[38;5;124;03m    replaced by subclasses.\u001B[39;00m\n\u001B[1;32m   2716\u001B[0m \u001B[38;5;124;03m    \"\"\"\u001B[39;00m\n\u001B[0;32m-> 2717\u001B[0m     \u001B[38;5;28;01mreturn\u001B[39;00m \u001B[43msimplicial_set_embedding\u001B[49m\u001B[43m(\u001B[49m\n\u001B[1;32m   2718\u001B[0m \u001B[43m        \u001B[49m\u001B[43mX\u001B[49m\u001B[43m,\u001B[49m\n\u001B[1;32m   2719\u001B[0m \u001B[43m        \u001B[49m\u001B[38;5;28;43mself\u001B[39;49m\u001B[38;5;241;43m.\u001B[39;49m\u001B[43mgraph_\u001B[49m\u001B[43m,\u001B[49m\n\u001B[1;32m   2720\u001B[0m \u001B[43m        \u001B[49m\u001B[38;5;28;43mself\u001B[39;49m\u001B[38;5;241;43m.\u001B[39;49m\u001B[43mn_components\u001B[49m\u001B[43m,\u001B[49m\n\u001B[1;32m   2721\u001B[0m \u001B[43m        \u001B[49m\u001B[38;5;28;43mself\u001B[39;49m\u001B[38;5;241;43m.\u001B[39;49m\u001B[43m_initial_alpha\u001B[49m\u001B[43m,\u001B[49m\n\u001B[1;32m   2722\u001B[0m \u001B[43m        \u001B[49m\u001B[38;5;28;43mself\u001B[39;49m\u001B[38;5;241;43m.\u001B[39;49m\u001B[43m_a\u001B[49m\u001B[43m,\u001B[49m\n\u001B[1;32m   2723\u001B[0m \u001B[43m        \u001B[49m\u001B[38;5;28;43mself\u001B[39;49m\u001B[38;5;241;43m.\u001B[39;49m\u001B[43m_b\u001B[49m\u001B[43m,\u001B[49m\n\u001B[1;32m   2724\u001B[0m \u001B[43m        \u001B[49m\u001B[38;5;28;43mself\u001B[39;49m\u001B[38;5;241;43m.\u001B[39;49m\u001B[43mrepulsion_strength\u001B[49m\u001B[43m,\u001B[49m\n\u001B[1;32m   2725\u001B[0m \u001B[43m        \u001B[49m\u001B[38;5;28;43mself\u001B[39;49m\u001B[38;5;241;43m.\u001B[39;49m\u001B[43mnegative_sample_rate\u001B[49m\u001B[43m,\u001B[49m\n\u001B[1;32m   2726\u001B[0m \u001B[43m        \u001B[49m\u001B[43mn_epochs\u001B[49m\u001B[43m,\u001B[49m\n\u001B[1;32m   2727\u001B[0m \u001B[43m        \u001B[49m\u001B[43minit\u001B[49m\u001B[43m,\u001B[49m\n\u001B[1;32m   2728\u001B[0m \u001B[43m        \u001B[49m\u001B[43mrandom_state\u001B[49m\u001B[43m,\u001B[49m\n\u001B[1;32m   2729\u001B[0m \u001B[43m        \u001B[49m\u001B[38;5;28;43mself\u001B[39;49m\u001B[38;5;241;43m.\u001B[39;49m\u001B[43m_input_distance_func\u001B[49m\u001B[43m,\u001B[49m\n\u001B[1;32m   2730\u001B[0m \u001B[43m        \u001B[49m\u001B[38;5;28;43mself\u001B[39;49m\u001B[38;5;241;43m.\u001B[39;49m\u001B[43m_metric_kwds\u001B[49m\u001B[43m,\u001B[49m\n\u001B[1;32m   2731\u001B[0m \u001B[43m        \u001B[49m\u001B[38;5;28;43mself\u001B[39;49m\u001B[38;5;241;43m.\u001B[39;49m\u001B[43mdensmap\u001B[49m\u001B[43m,\u001B[49m\n\u001B[1;32m   2732\u001B[0m \u001B[43m        \u001B[49m\u001B[38;5;28;43mself\u001B[39;49m\u001B[38;5;241;43m.\u001B[39;49m\u001B[43m_densmap_kwds\u001B[49m\u001B[43m,\u001B[49m\n\u001B[1;32m   2733\u001B[0m \u001B[43m        \u001B[49m\u001B[38;5;28;43mself\u001B[39;49m\u001B[38;5;241;43m.\u001B[39;49m\u001B[43moutput_dens\u001B[49m\u001B[43m,\u001B[49m\n\u001B[1;32m   2734\u001B[0m \u001B[43m        \u001B[49m\u001B[38;5;28;43mself\u001B[39;49m\u001B[38;5;241;43m.\u001B[39;49m\u001B[43m_output_distance_func\u001B[49m\u001B[43m,\u001B[49m\n\u001B[1;32m   2735\u001B[0m \u001B[43m        \u001B[49m\u001B[38;5;28;43mself\u001B[39;49m\u001B[38;5;241;43m.\u001B[39;49m\u001B[43m_output_metric_kwds\u001B[49m\u001B[43m,\u001B[49m\n\u001B[1;32m   2736\u001B[0m \u001B[43m        \u001B[49m\u001B[38;5;28;43mself\u001B[39;49m\u001B[38;5;241;43m.\u001B[39;49m\u001B[43moutput_metric\u001B[49m\u001B[43m \u001B[49m\u001B[38;5;129;43;01min\u001B[39;49;00m\u001B[43m \u001B[49m\u001B[43m(\u001B[49m\u001B[38;5;124;43m\"\u001B[39;49m\u001B[38;5;124;43meuclidean\u001B[39;49m\u001B[38;5;124;43m\"\u001B[39;49m\u001B[43m,\u001B[49m\u001B[43m \u001B[49m\u001B[38;5;124;43m\"\u001B[39;49m\u001B[38;5;124;43ml2\u001B[39;49m\u001B[38;5;124;43m\"\u001B[39;49m\u001B[43m)\u001B[49m\u001B[43m,\u001B[49m\n\u001B[1;32m   2737\u001B[0m \u001B[43m        \u001B[49m\u001B[38;5;28;43mself\u001B[39;49m\u001B[38;5;241;43m.\u001B[39;49m\u001B[43mrandom_state\u001B[49m\u001B[43m \u001B[49m\u001B[38;5;129;43;01mis\u001B[39;49;00m\u001B[43m \u001B[49m\u001B[38;5;28;43;01mNone\u001B[39;49;00m\u001B[43m,\u001B[49m\n\u001B[1;32m   2738\u001B[0m \u001B[43m        \u001B[49m\u001B[38;5;28;43mself\u001B[39;49m\u001B[38;5;241;43m.\u001B[39;49m\u001B[43mverbose\u001B[49m\u001B[43m,\u001B[49m\n\u001B[1;32m   2739\u001B[0m \u001B[43m        \u001B[49m\u001B[43mtqdm_kwds\u001B[49m\u001B[38;5;241;43m=\u001B[39;49m\u001B[38;5;28;43mself\u001B[39;49m\u001B[38;5;241;43m.\u001B[39;49m\u001B[43mtqdm_kwds\u001B[49m\u001B[43m,\u001B[49m\n\u001B[1;32m   2740\u001B[0m \u001B[43m    \u001B[49m\u001B[43m)\u001B[49m\n",
      "File \u001B[0;32m~/opt/anaconda3/envs/thesis/lib/python3.9/site-packages/umap/umap_.py:1066\u001B[0m, in \u001B[0;36msimplicial_set_embedding\u001B[0;34m(data, graph, n_components, initial_alpha, a, b, gamma, negative_sample_rate, n_epochs, init, random_state, metric, metric_kwds, densmap, densmap_kwds, output_dens, output_metric, output_metric_kwds, euclidean_output, parallel, verbose, tqdm_kwds)\u001B[0m\n\u001B[1;32m   1063\u001B[0m     n_epochs \u001B[38;5;241m=\u001B[39m default_epochs\n\u001B[1;32m   1065\u001B[0m \u001B[38;5;28;01mif\u001B[39;00m n_epochs \u001B[38;5;241m>\u001B[39m \u001B[38;5;241m10\u001B[39m:\n\u001B[0;32m-> 1066\u001B[0m     graph\u001B[38;5;241m.\u001B[39mdata[graph\u001B[38;5;241m.\u001B[39mdata \u001B[38;5;241m<\u001B[39m (\u001B[43mgraph\u001B[49m\u001B[38;5;241;43m.\u001B[39;49m\u001B[43mdata\u001B[49m\u001B[38;5;241;43m.\u001B[39;49m\u001B[43mmax\u001B[49m\u001B[43m(\u001B[49m\u001B[43m)\u001B[49m \u001B[38;5;241m/\u001B[39m \u001B[38;5;28mfloat\u001B[39m(n_epochs))] \u001B[38;5;241m=\u001B[39m \u001B[38;5;241m0.0\u001B[39m\n\u001B[1;32m   1067\u001B[0m \u001B[38;5;28;01melse\u001B[39;00m:\n\u001B[1;32m   1068\u001B[0m     graph\u001B[38;5;241m.\u001B[39mdata[graph\u001B[38;5;241m.\u001B[39mdata \u001B[38;5;241m<\u001B[39m (graph\u001B[38;5;241m.\u001B[39mdata\u001B[38;5;241m.\u001B[39mmax() \u001B[38;5;241m/\u001B[39m \u001B[38;5;28mfloat\u001B[39m(default_epochs))] \u001B[38;5;241m=\u001B[39m \u001B[38;5;241m0.0\u001B[39m\n",
      "File \u001B[0;32m~/opt/anaconda3/envs/thesis/lib/python3.9/site-packages/numpy/core/_methods.py:40\u001B[0m, in \u001B[0;36m_amax\u001B[0;34m(a, axis, out, keepdims, initial, where)\u001B[0m\n\u001B[1;32m     38\u001B[0m \u001B[38;5;28;01mdef\u001B[39;00m \u001B[38;5;21m_amax\u001B[39m(a, axis\u001B[38;5;241m=\u001B[39m\u001B[38;5;28;01mNone\u001B[39;00m, out\u001B[38;5;241m=\u001B[39m\u001B[38;5;28;01mNone\u001B[39;00m, keepdims\u001B[38;5;241m=\u001B[39m\u001B[38;5;28;01mFalse\u001B[39;00m,\n\u001B[1;32m     39\u001B[0m           initial\u001B[38;5;241m=\u001B[39m_NoValue, where\u001B[38;5;241m=\u001B[39m\u001B[38;5;28;01mTrue\u001B[39;00m):\n\u001B[0;32m---> 40\u001B[0m     \u001B[38;5;28;01mreturn\u001B[39;00m \u001B[43mumr_maximum\u001B[49m\u001B[43m(\u001B[49m\u001B[43ma\u001B[49m\u001B[43m,\u001B[49m\u001B[43m \u001B[49m\u001B[43maxis\u001B[49m\u001B[43m,\u001B[49m\u001B[43m \u001B[49m\u001B[38;5;28;43;01mNone\u001B[39;49;00m\u001B[43m,\u001B[49m\u001B[43m \u001B[49m\u001B[43mout\u001B[49m\u001B[43m,\u001B[49m\u001B[43m \u001B[49m\u001B[43mkeepdims\u001B[49m\u001B[43m,\u001B[49m\u001B[43m \u001B[49m\u001B[43minitial\u001B[49m\u001B[43m,\u001B[49m\u001B[43m \u001B[49m\u001B[43mwhere\u001B[49m\u001B[43m)\u001B[49m\n",
      "\u001B[0;31mValueError\u001B[0m: zero-size array to reduction operation maximum which has no identity"
     ]
    }
   ],
   "source": [
    "topic_model.visualize_topics()"
   ],
   "metadata": {
    "collapsed": false,
    "pycharm": {
     "name": "#%%\n"
    }
   }
  },
  {
   "cell_type": "code",
   "execution_count": 9,
   "outputs": [
    {
     "data": {
      "text/plain": "Batches:   0%|          | 0/1 [00:00<?, ?it/s]",
      "application/vnd.jupyter.widget-view+json": {
       "version_major": 2,
       "version_minor": 0,
       "model_id": "3f5ee7d8023c400c8188b37d59c757da"
      }
     },
     "metadata": {},
     "output_type": "display_data"
    },
    {
     "name": "stderr",
     "output_type": "stream",
     "text": [
      "2022-09-21 19:55:33,269 - BERTopic - Reduced dimensionality\n",
      "2022-09-21 19:55:33,272 - BERTopic - Predicted clusters\n"
     ]
    },
    {
     "data": {
      "text/plain": "([0], array([0.73922877]))"
     },
     "execution_count": 9,
     "metadata": {},
     "output_type": "execute_result"
    }
   ],
   "source": [
    "topic_model.transform(\"Schönberg\")"
   ],
   "metadata": {
    "collapsed": false,
    "pycharm": {
     "name": "#%%\n"
    }
   }
  },
  {
   "cell_type": "code",
   "execution_count": 5,
   "outputs": [
    {
     "name": "stdout",
     "output_type": "stream",
     "text": [
      "Thema -1\n"
     ]
    },
    {
     "ename": "TypeError",
     "evalue": "'bool' object is not iterable",
     "output_type": "error",
     "traceback": [
      "\u001B[0;31m---------------------------------------------------------------------------\u001B[0m",
      "\u001B[0;31mTypeError\u001B[0m                                 Traceback (most recent call last)",
      "Input \u001B[0;32mIn [5]\u001B[0m, in \u001B[0;36m<cell line: 1>\u001B[0;34m()\u001B[0m\n\u001B[1;32m      2\u001B[0m \u001B[38;5;28mprint\u001B[39m(\u001B[38;5;124mf\u001B[39m\u001B[38;5;124m\"\u001B[39m\u001B[38;5;124mThema \u001B[39m\u001B[38;5;132;01m{\u001B[39;00mi\u001B[38;5;241m-\u001B[39m\u001B[38;5;241m1\u001B[39m\u001B[38;5;132;01m}\u001B[39;00m\u001B[38;5;124m\"\u001B[39m)\n\u001B[1;32m      3\u001B[0m \u001B[38;5;28mlist\u001B[39m \u001B[38;5;241m=\u001B[39m topic_model\u001B[38;5;241m.\u001B[39mget_topic(i\u001B[38;5;241m-\u001B[39m\u001B[38;5;241m1\u001B[39m)\n\u001B[0;32m----> 4\u001B[0m \u001B[38;5;28;01mfor\u001B[39;00m elem \u001B[38;5;129;01min\u001B[39;00m \u001B[38;5;28mlist\u001B[39m:\n\u001B[1;32m      5\u001B[0m     \u001B[38;5;28mprint\u001B[39m(elem)\n\u001B[1;32m      6\u001B[0m \u001B[38;5;28mprint\u001B[39m()\n",
      "\u001B[0;31mTypeError\u001B[0m: 'bool' object is not iterable"
     ]
    }
   ],
   "source": [
    "for i in range(len(topic_model.get_topic_info())):\n",
    "    print(f\"Thema {i-1}\")\n",
    "    list = topic_model.get_topic(i-1)\n",
    "    for elem in list:\n",
    "        print(elem)\n",
    "    print()"
   ],
   "metadata": {
    "collapsed": false,
    "pycharm": {
     "name": "#%%\n"
    }
   }
  },
  {
   "cell_type": "code",
   "execution_count": null,
   "outputs": [],
   "source": [],
   "metadata": {
    "collapsed": false,
    "pycharm": {
     "name": "#%%\n"
    }
   }
  }
 ],
 "metadata": {
  "kernelspec": {
   "display_name": "Python 3",
   "language": "python",
   "name": "python3"
  },
  "language_info": {
   "codemirror_mode": {
    "name": "ipython",
    "version": 2
   },
   "file_extension": ".py",
   "mimetype": "text/x-python",
   "name": "python",
   "nbconvert_exporter": "python",
   "pygments_lexer": "ipython2",
   "version": "2.7.6"
  }
 },
 "nbformat": 4,
 "nbformat_minor": 0
}