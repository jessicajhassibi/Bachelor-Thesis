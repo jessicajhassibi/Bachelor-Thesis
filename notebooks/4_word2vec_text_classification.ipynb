{
 "cells": [
  {
   "cell_type": "code",
   "execution_count": 1,
   "id": "d1a5d056",
   "metadata": {
    "pycharm": {
     "name": "#%%\n"
    }
   },
   "outputs": [],
   "source": [
    "import pandas as pd\n",
    "import nltk\n",
    "from gensim.models import KeyedVectors\n",
    "from data import data_helpers\n",
    "from models import ttl_word2vec\n",
    "from models import classification"
   ]
  },
  {
   "cell_type": "code",
   "execution_count": 164,
   "id": "f254bf57",
   "metadata": {
    "pycharm": {
     "name": "#%%\n"
    }
   },
   "outputs": [
    {
     "data": {
      "text/plain": "<module 'classification_helpers' from '/Users/jessicahassibi/PycharmProjects/bachelor-thesis/src/models/classification_helpers.py'>"
     },
     "execution_count": 164,
     "metadata": {},
     "output_type": "execute_result"
    }
   ],
   "source": [
    "from importlib import reload\n",
    "reload(ttl_word2vec)\n",
    "reload(classification)"
   ]
  },
  {
   "cell_type": "markdown",
   "source": [
    "## Methods to get Word Embeddings"
   ],
   "metadata": {
    "collapsed": false,
    "pycharm": {
     "name": "#%% md\n"
    }
   }
  },
  {
   "cell_type": "code",
   "execution_count": 2,
   "outputs": [],
   "source": [
    "# load dataframe\n",
    "en_df_cleaned = pd.read_csv(data_helpers.get_cleaned_dataframes_path().joinpath(\"en_df_cleaned.csv\"))"
   ],
   "metadata": {
    "collapsed": false,
    "pycharm": {
     "name": "#%%\n"
    }
   }
  },
  {
   "cell_type": "code",
   "execution_count": 3,
   "id": "aa00c8ae",
   "metadata": {
    "pycharm": {
     "name": "#%%\n"
    }
   },
   "outputs": [],
   "source": [
    "from sklearn.model_selection import train_test_split\n",
    "\n",
    "# Split data into train and test sets\n",
    "X_train, X_test, y_train, y_test = train_test_split(en_df_cleaned['cleaned_text'], en_df_cleaned['label'] , test_size=0.3)"
   ]
  },
  {
   "cell_type": "code",
   "execution_count": 7,
   "id": "7ff06111",
   "metadata": {
    "pycharm": {
     "name": "#%%\n"
    }
   },
   "outputs": [
    {
     "data": {
      "text/plain": "\"# not so good\\n# Train a bigram detector.\\n\\nbigram_transformer = Phrases(en_df_cleaned['cleaned_text'])\\nmodel = gensim.models.Word2Vec(bigram_transformer[en_df_cleaned['cleaned_text']], min_count=2)\""
     },
     "execution_count": 7,
     "metadata": {},
     "output_type": "execute_result"
    }
   ],
   "source": [
    "\"\"\"# not so good\n",
    "# Train a bigram detector.\n",
    "\n",
    "bigram_transformer = Phrases(en_df_cleaned['cleaned_text'])\n",
    "model = gensim.models.Word2Vec(bigram_transformer[en_df_cleaned['cleaned_text']], min_count=2)\"\"\""
   ]
  },
  {
   "cell_type": "code",
   "execution_count": 4,
   "id": "33c5c54b",
   "metadata": {
    "pycharm": {
     "name": "#%%\n"
    }
   },
   "outputs": [],
   "source": [
    "# manually trained Word2Vec model\n",
    "\n",
    "from gensim.models import Word2Vec\n",
    "model = Word2Vec(sentences=X_train, vector_size= 100, min_count=1) # sentences = wikipedia articles!\n",
    "# or:\n",
    "#model = gensim.models.Word2vec(size=100, min_count=1, workers=4)\n",
    "#model.build_vocab(all_sentences_processed, progress_per=10)\n",
    "#model.train(all_sentences_processed, total_examples=model.corpus_count, epochs=model.epochs)\n",
    "\n",
    "# save Word2Vec model\n",
    "#model.save(\"../models/word2vec_15Aug.model\")\n",
    "# save model as KeyedVectors\n",
    "wv = model.wv\n",
    "#wv.save('../models/word_vectors/word2vec_15Aug.kv')\n",
    "\n",
    "# load Word2Vec model\n",
    "#model = Word2Vec.load(\"../models/word2vec_15Aug.model\")\n",
    "# load model as KeyedVectors\n",
    "#wv = ttl_word2vec.load_word2vec_keyed_vectors(\"../models/word_vectors/word2vec_15Aug.kv\")"
   ]
  },
  {
   "cell_type": "code",
   "execution_count": 59,
   "id": "eea95b5b",
   "metadata": {
    "pycharm": {
     "name": "#%%\n"
    }
   },
   "outputs": [
    {
     "name": "stderr",
     "output_type": "stream",
     "text": [
      "/var/folders/l3/frtmx2rs13jbzz5v93rn68z00000gn/T/ipykernel_71146/3720696859.py:11: DeprecationWarning: Call to deprecated `glove2word2vec` (KeyedVectors.load_word2vec_format(.., binary=False, no_header=True) loads GLoVE text vectors.).\n",
      "  _ = glove2word2vec(glove_file, tmp_file)\n"
     ]
    },
    {
     "name": "stdout",
     "output_type": "stream",
     "text": [
      "Model:  /var/folders/l3/frtmx2rs13jbzz5v93rn68z00000gn/T/tmpkfmn2aqm/glove2word2vec.txt  loaded\n"
     ]
    }
   ],
   "source": [
    "# Model with pretrained vectors (just english)\n",
    "# try fasttext vectors in several languages\n",
    "# bert has multilingual CONTEXTUAL word vectors (later;))\n",
    "# use pretrained glove vectors\n",
    "# by downloading them manually\n",
    "from gensim.test.utils import datapath, get_tmpfile\n",
    "from gensim.models import KeyedVectors\n",
    "from pathlib import Path\n",
    "from gensim.scripts.glove2word2vec import glove2word2vec\n",
    "\n",
    "file_path: Path = Path(\"../models/word_vectors/glove.6B.100d.txt\").resolve()\n",
    "glove_file = datapath(file_path)\n",
    "tmp_file = get_tmpfile(\"glove2word2vec.txt\")\n",
    "_ = glove2word2vec(glove_file, tmp_file)\n",
    "\n",
    "pretrained_model = ttl_word2vec.load_word2vec_keyed_vectors(tmp_file)\n",
    "\n",
    "# save when created first\n",
    "pretrained_model.save(\"../models/word_vectors/pretrained_model.kv\")\n",
    "# load when file already exists\n",
    "pretrained_model= ttl_word2vec.load_word2vec_keyed_vectors(\"../models/word_vectors/pretrained_model.kv\")\n",
    "\n",
    "#missing_words = ttl_word2vec.get_words_in_static_embeddings(pretrained_model, words, '../models/words/pretrained_model.txt')\n",
    "\n",
    "\"\"\"# TODOS:\n",
    "# add bigram detector?\n",
    "# add missing word if occurs e.g. 3 times? if possible and makes sense...\n",
    "sentences =[[\"test\"]]\n",
    "model.build_vocab(sentences)\n",
    "model.intersect_word2vec_format(pretrained_model, lockf=1.0, binary=True)\n",
    "model.train(sentences, total_examples=3, epochs = 5)\n",
    "\"\"\""
   ]
  },
  {
   "cell_type": "code",
   "execution_count": 90,
   "id": "324c135e",
   "metadata": {
    "pycharm": {
     "name": "#%%\n"
    }
   },
   "outputs": [
    {
     "data": {
      "text/plain": "[('beethoven', 0.8245475888252258),\n ('brahms', 0.8222415447235107),\n ('schubert', 0.7393962144851685),\n ('symphonies', 0.7230659127235413),\n ('mendelssohn', 0.7181515097618103),\n ('haydn', 0.7120912075042725),\n ('schumann', 0.6914582252502441),\n ('symphony', 0.6797301769256592),\n ('mozart', 0.679054856300354),\n ('schoenberg', 0.6758646368980408)]"
     },
     "execution_count": 90,
     "metadata": {},
     "output_type": "execute_result"
    }
   ],
   "source": [
    "# Compare pretrained and manually trained model\n",
    "# most_similar() finds the cosine similarity of the given word with \n",
    "# other words using their Word2Vec representations\n",
    "pretrained_model.most_similar('mahler')"
   ]
  },
  {
   "cell_type": "code",
   "execution_count": 93,
   "outputs": [
    {
     "ename": "KeyError",
     "evalue": "\"Key 'mahler' not present in vocabulary\"",
     "output_type": "error",
     "traceback": [
      "\u001B[0;31m---------------------------------------------------------------------------\u001B[0m",
      "\u001B[0;31mKeyError\u001B[0m                                  Traceback (most recent call last)",
      "Input \u001B[0;32mIn [93]\u001B[0m, in \u001B[0;36m<cell line: 1>\u001B[0;34m()\u001B[0m\n\u001B[0;32m----> 1\u001B[0m \u001B[43mwv\u001B[49m\u001B[38;5;241;43m.\u001B[39;49m\u001B[43mmost_similar\u001B[49m\u001B[43m(\u001B[49m\u001B[38;5;124;43m'\u001B[39;49m\u001B[38;5;124;43mmahler\u001B[39;49m\u001B[38;5;124;43m'\u001B[39;49m\u001B[43m)\u001B[49m\n",
      "File \u001B[0;32m~/opt/anaconda3/envs/thesis/lib/python3.9/site-packages/gensim/models/keyedvectors.py:842\u001B[0m, in \u001B[0;36mKeyedVectors.most_similar\u001B[0;34m(self, positive, negative, topn, clip_start, clip_end, restrict_vocab, indexer)\u001B[0m\n\u001B[1;32m    839\u001B[0m         weight[idx] \u001B[38;5;241m=\u001B[39m item[\u001B[38;5;241m1\u001B[39m]\n\u001B[1;32m    841\u001B[0m \u001B[38;5;66;03m# compute the weighted average of all keys\u001B[39;00m\n\u001B[0;32m--> 842\u001B[0m mean \u001B[38;5;241m=\u001B[39m \u001B[38;5;28;43mself\u001B[39;49m\u001B[38;5;241;43m.\u001B[39;49m\u001B[43mget_mean_vector\u001B[49m\u001B[43m(\u001B[49m\u001B[43mkeys\u001B[49m\u001B[43m,\u001B[49m\u001B[43m \u001B[49m\u001B[43mweight\u001B[49m\u001B[43m,\u001B[49m\u001B[43m \u001B[49m\u001B[43mpre_normalize\u001B[49m\u001B[38;5;241;43m=\u001B[39;49m\u001B[38;5;28;43;01mTrue\u001B[39;49;00m\u001B[43m,\u001B[49m\u001B[43m \u001B[49m\u001B[43mpost_normalize\u001B[49m\u001B[38;5;241;43m=\u001B[39;49m\u001B[38;5;28;43;01mTrue\u001B[39;49;00m\u001B[43m,\u001B[49m\u001B[43m \u001B[49m\u001B[43mignore_missing\u001B[49m\u001B[38;5;241;43m=\u001B[39;49m\u001B[38;5;28;43;01mFalse\u001B[39;49;00m\u001B[43m)\u001B[49m\n\u001B[1;32m    843\u001B[0m all_keys \u001B[38;5;241m=\u001B[39m [\n\u001B[1;32m    844\u001B[0m     \u001B[38;5;28mself\u001B[39m\u001B[38;5;241m.\u001B[39mget_index(key) \u001B[38;5;28;01mfor\u001B[39;00m key \u001B[38;5;129;01min\u001B[39;00m keys \u001B[38;5;28;01mif\u001B[39;00m \u001B[38;5;28misinstance\u001B[39m(key, _KEY_TYPES) \u001B[38;5;129;01mand\u001B[39;00m \u001B[38;5;28mself\u001B[39m\u001B[38;5;241m.\u001B[39mhas_index_for(key)\n\u001B[1;32m    845\u001B[0m ]\n\u001B[1;32m    847\u001B[0m \u001B[38;5;28;01mif\u001B[39;00m indexer \u001B[38;5;129;01mis\u001B[39;00m \u001B[38;5;129;01mnot\u001B[39;00m \u001B[38;5;28;01mNone\u001B[39;00m \u001B[38;5;129;01mand\u001B[39;00m \u001B[38;5;28misinstance\u001B[39m(topn, \u001B[38;5;28mint\u001B[39m):\n",
      "File \u001B[0;32m~/opt/anaconda3/envs/thesis/lib/python3.9/site-packages/gensim/models/keyedvectors.py:519\u001B[0m, in \u001B[0;36mKeyedVectors.get_mean_vector\u001B[0;34m(self, keys, weights, pre_normalize, post_normalize, ignore_missing)\u001B[0m\n\u001B[1;32m    517\u001B[0m         total_weight \u001B[38;5;241m+\u001B[39m\u001B[38;5;241m=\u001B[39m \u001B[38;5;28mabs\u001B[39m(weights[idx])\n\u001B[1;32m    518\u001B[0m     \u001B[38;5;28;01melif\u001B[39;00m \u001B[38;5;129;01mnot\u001B[39;00m ignore_missing:\n\u001B[0;32m--> 519\u001B[0m         \u001B[38;5;28;01mraise\u001B[39;00m \u001B[38;5;167;01mKeyError\u001B[39;00m(\u001B[38;5;124mf\u001B[39m\u001B[38;5;124m\"\u001B[39m\u001B[38;5;124mKey \u001B[39m\u001B[38;5;124m'\u001B[39m\u001B[38;5;132;01m{\u001B[39;00mkey\u001B[38;5;132;01m}\u001B[39;00m\u001B[38;5;124m'\u001B[39m\u001B[38;5;124m not present in vocabulary\u001B[39m\u001B[38;5;124m\"\u001B[39m)\n\u001B[1;32m    521\u001B[0m \u001B[38;5;28;01mif\u001B[39;00m(total_weight \u001B[38;5;241m>\u001B[39m \u001B[38;5;241m0\u001B[39m):\n\u001B[1;32m    522\u001B[0m     mean \u001B[38;5;241m=\u001B[39m mean \u001B[38;5;241m/\u001B[39m total_weight\n",
      "\u001B[0;31mKeyError\u001B[0m: \"Key 'mahler' not present in vocabulary\""
     ]
    }
   ],
   "source": [
    "wv.most_similar('mahler')"
   ],
   "metadata": {
    "collapsed": false,
    "pycharm": {
     "name": "#%%\n"
    }
   }
  },
  {
   "cell_type": "code",
   "execution_count": 37,
   "id": "a70fc613",
   "metadata": {
    "pycharm": {
     "name": "#%%\n"
    }
   },
   "outputs": [
    {
     "ename": "AttributeError",
     "evalue": "'KeyedVectors' object has no attribute 'wv'",
     "output_type": "error",
     "traceback": [
      "\u001B[0;31m---------------------------------------------------------------------------\u001B[0m",
      "\u001B[0;31mAttributeError\u001B[0m                            Traceback (most recent call last)",
      "Input \u001B[0;32mIn [37]\u001B[0m, in \u001B[0;36m<cell line: 2>\u001B[0;34m()\u001B[0m\n\u001B[1;32m      1\u001B[0m pretrained_model\u001B[38;5;241m.\u001B[39mdistance(\u001B[38;5;124m\"\u001B[39m\u001B[38;5;124mschönberg\u001B[39m\u001B[38;5;124m\"\u001B[39m, \u001B[38;5;124m\"\u001B[39m\u001B[38;5;124mwebern\u001B[39m\u001B[38;5;124m\"\u001B[39m)\n\u001B[0;32m----> 2\u001B[0m \u001B[43mpretrained_model\u001B[49m\u001B[38;5;241;43m.\u001B[39;49m\u001B[43mwv\u001B[49m\u001B[38;5;241m.\u001B[39mdistance(\u001B[38;5;124m\"\u001B[39m\u001B[38;5;124mschönberg\u001B[39m\u001B[38;5;124m\"\u001B[39m, \u001B[38;5;124m\"\u001B[39m\u001B[38;5;124mwebern\u001B[39m\u001B[38;5;124m\"\u001B[39m)\n",
      "\u001B[0;31mAttributeError\u001B[0m: 'KeyedVectors' object has no attribute 'wv'"
     ]
    }
   ],
   "source": [
    "pretrained_model.distance(\"schönberg\", \"webern\")"
   ]
  },
  {
   "cell_type": "code",
   "execution_count": 8,
   "id": "fc25cc13",
   "metadata": {
    "pycharm": {
     "name": "#%%\n"
    }
   },
   "outputs": [
    {
     "ename": "NameError",
     "evalue": "name 'pretrained_model' is not defined",
     "output_type": "error",
     "traceback": [
      "\u001B[0;31m---------------------------------------------------------------------------\u001B[0m",
      "\u001B[0;31mNameError\u001B[0m                                 Traceback (most recent call last)",
      "Input \u001B[0;32mIn [8]\u001B[0m, in \u001B[0;36m<cell line: 1>\u001B[0;34m()\u001B[0m\n\u001B[0;32m----> 1\u001B[0m \u001B[43mpretrained_model\u001B[49m\u001B[38;5;241m.\u001B[39msimilarity(w1\u001B[38;5;241m=\u001B[39m\u001B[38;5;124m\"\u001B[39m\u001B[38;5;124mcomposer\u001B[39m\u001B[38;5;124m\"\u001B[39m, w2\u001B[38;5;241m=\u001B[39m\u001B[38;5;124m\"\u001B[39m\u001B[38;5;124mnazi\u001B[39m\u001B[38;5;124m\"\u001B[39m)\n\u001B[1;32m      2\u001B[0m wv\u001B[38;5;241m.\u001B[39msimilarity(w1\u001B[38;5;241m=\u001B[39m\u001B[38;5;124m\"\u001B[39m\u001B[38;5;124mcomposer\u001B[39m\u001B[38;5;124m\"\u001B[39m, w2\u001B[38;5;241m=\u001B[39m\u001B[38;5;124m\"\u001B[39m\u001B[38;5;124mnazi\u001B[39m\u001B[38;5;124m\"\u001B[39m)\n",
      "\u001B[0;31mNameError\u001B[0m: name 'pretrained_model' is not defined"
     ]
    }
   ],
   "source": [
    "pretrained_model.similarity(w1=\"composer\", w2=\"nazi\")\n",
    "wv.similarity(w1=\"composer\", w2=\"nazi\")"
   ]
  },
  {
   "cell_type": "code",
   "execution_count": 39,
   "id": "77d87731",
   "metadata": {
    "pycharm": {
     "name": "#%%\n"
    }
   },
   "outputs": [
    {
     "data": {
      "text/plain": "True"
     },
     "execution_count": 39,
     "metadata": {},
     "output_type": "execute_result"
    }
   ],
   "source": [
    "wv.doesnt_match(['pianist', 'violinist', 'nazi'])\n",
    "wv.most_similar(positive=[\"komponist\", \"jew\"], negative=[\"schönberg\"])\n",
    "\"mahler\" in wv.key_to_index.keys()"
   ]
  },
  {
   "cell_type": "markdown",
   "source": [
    "Text Classification on pretrained and manually trained Word2Vec model"
   ],
   "metadata": {
    "collapsed": false,
    "pycharm": {
     "name": "#%% md\n"
    }
   }
  },
  {
   "cell_type": "markdown",
   "source": [
    "create features from text for machine learning model\n",
    "method 1: averaging word vectors for each text"
   ],
   "metadata": {
    "collapsed": false,
    "pycharm": {
     "name": "#%% md\n"
    }
   }
  },
  {
   "cell_type": "code",
   "execution_count": 5,
   "id": "565202ff",
   "metadata": {
    "pycharm": {
     "name": "#%%\n"
    }
   },
   "outputs": [
    {
     "name": "stderr",
     "output_type": "stream",
     "text": [
      "/Users/jessicahassibi/PycharmProjects/bachelor-thesis/src/models/classification.py:16: VisibleDeprecationWarning: Creating an ndarray from ragged nested sequences (which is a list-or-tuple of lists-or-tuples-or ndarrays with different lengths or shapes) is deprecated. If you meant to do this, you must specify 'dtype=object' when creating the ndarray.\n",
      "  text_vect = np.array([np.array([keyed_vectors[i] for i in sentence if i in words])\n"
     ]
    }
   ],
   "source": [
    "X_train_vect = classification.text2vec(X_train, wv)\n",
    "X_test_vect = classification.text2vec(X_test, wv)\n",
    "\n",
    "#X_train_vect = classification.text2vec(X_train, pretrained_model)\n",
    "#X_test_vect = classification.text2vec(X_test, pretrained_model)"
   ]
  },
  {
   "cell_type": "code",
   "execution_count": 6,
   "id": "8d277bca",
   "metadata": {
    "pycharm": {
     "name": "#%%\n"
    }
   },
   "outputs": [],
   "source": [
    "X_train_vect_avg = classification.average_vector(X_train_vect)\n",
    "X_test_vect_avg = classification.average_vector(X_test_vect)"
   ]
  },
  {
   "cell_type": "code",
   "execution_count": 7,
   "id": "bd104963",
   "metadata": {
    "pycharm": {
     "name": "#%%\n"
    }
   },
   "outputs": [
    {
     "name": "stdout",
     "output_type": "stream",
     "text": [
      "############################################################################\n",
      "Processing Random Forest Classification\n",
      "\n",
      "accuracy 0.9298245614035088\n",
      "                      precision    recall  f1-score   support\n",
      "\n",
      "persecuted composers       1.00      0.93      0.96        57\n",
      " supported composers       0.00      0.00      0.00         0\n",
      "\n",
      "            accuracy                           0.93        57\n",
      "           macro avg       0.50      0.46      0.48        57\n",
      "        weighted avg       1.00      0.93      0.96        57\n",
      "\n",
      "classes in y_pred: {0, 1} classes in y_test: {0}\n",
      "############################################################################\n"
     ]
    },
    {
     "name": "stderr",
     "output_type": "stream",
     "text": [
      "/Users/jessicahassibi/opt/anaconda3/envs/thesis/lib/python3.9/site-packages/sklearn/metrics/_classification.py:1334: UndefinedMetricWarning: Recall and F-score are ill-defined and being set to 0.0 in labels with no true samples. Use `zero_division` parameter to control this behavior.\n",
      "  _warn_prf(average, modifier, msg_start, len(result))\n",
      "/Users/jessicahassibi/opt/anaconda3/envs/thesis/lib/python3.9/site-packages/sklearn/metrics/_classification.py:1334: UndefinedMetricWarning: Recall and F-score are ill-defined and being set to 0.0 in labels with no true samples. Use `zero_division` parameter to control this behavior.\n",
      "  _warn_prf(average, modifier, msg_start, len(result))\n",
      "/Users/jessicahassibi/opt/anaconda3/envs/thesis/lib/python3.9/site-packages/sklearn/metrics/_classification.py:1334: UndefinedMetricWarning: Recall and F-score are ill-defined and being set to 0.0 in labels with no true samples. Use `zero_division` parameter to control this behavior.\n",
      "  _warn_prf(average, modifier, msg_start, len(result))\n"
     ]
    }
   ],
   "source": [
    "# Instantiate and fit a basic Random Forest model on top of the vectors\n",
    "y_pred = classification.classify_predict(X_train_vect_avg, X_test_vect_avg, y_train, \"Random Forest\")\n",
    "classification.print_classification_report(y_test, y_pred)\n",
    "# high accuracy but low precision!!!! imbalanced dataset\n",
    "# class 1 = supported composers is never predicted with manually trained model!"
   ]
  },
  {
   "cell_type": "code",
   "execution_count": 8,
   "outputs": [
    {
     "name": "stdout",
     "output_type": "stream",
     "text": [
      "[0 0 0 0 0 0 0 0 0 0 0 0 0 0 0 0 0 0 0 0 0 0 0 0 0 0 0 0 0 0 0 0 0 0 0 0 0\n",
      " 0 0 0 0 0 0 0 0 0 0 0 0 0 0 0 0 0 0 0 0]\n",
      "97     ['marko', 'frank', 'born', 'december', 'east',...\n",
      "160    ['carl', 'orff', 'german', 'ɔʁf', 'july', 'mar...\n",
      "164    ['fried', 'walter', 'december', 'ottendorf-okr...\n",
      "112    ['oskar', 'morawetz', 'january', 'june', 'cana...\n",
      "14     ['bohuslav', 'jan', 'martinů', 'czech', 'ˈboɦu...\n",
      "76     ['jan', 'pieter', 'hendrik', 'van', 'gilse', '...\n",
      "142    ['ursula', 'mamlok', 'february', 'may', 'germa...\n",
      "118    ['paul', 'büttner', 'december', 'october', 'ge...\n",
      "132    ['rudolf', 'karel', 'november', 'plzeň', 'marc...\n",
      "157    ['zikmund', 'schul', 'january', 'june', 'germa...\n",
      "153    ['wilhelm', 'grosz', 'august', 'december', 'so...\n",
      "62     ['heinrich', 'jalowetz', 'december', 'february...\n",
      "32     ['ernest', 'gold', 'may', 'refer', 'ernest', '...\n",
      "126    ['richard', 'fall', 'april', 'january', 'austr...\n",
      "7      ['arnold', 'schoenberg', 'schönberg', 'us', 'a...\n",
      "44     ['frieder', 'weissmann', 'january', 'january',...\n",
      "72     ['ignace', 'strasfogel', 'born', 'july', 'wars...\n",
      "136    ['siegfried', 'borris', 'born', 'siegfried', '...\n",
      "176    ['mark', 'lothar', 'ló', 'tar', 'born', 'lotha...\n",
      "109    ['nico', 'richter', 'december', 'amsterdam', '...\n",
      "79     ['josef', 'tal', 'hebrew', 'יוסף', 'טל', 'sept...\n",
      "6      ['anton', 'friedrich', 'wilhelm', 'von', 'webe...\n",
      "81     ['karel', 'berman', 'april', 'jindřichův', 'hr...\n",
      "20     ['charlotte', 'schlesinger', 'german', 'pianis...\n",
      "31     ['erich', 'zeisl', 'may', 'february', 'often',...\n",
      "181    ['paul', 'höffer', 'december', 'august', 'germ...\n",
      "98     ['marius', 'flothuis', 'october', 'november', ...\n",
      "146    ['václav', 'kaprál', 'march', 'určice', 'april...\n",
      "2      ['alexander', 'tansman', 'polish', 'aleksander...\n",
      "4      ['andre', 'asriel', 'february', 'may', 'austri...\n",
      "48     ['fritz', 'zweig', 'september', 'february', 'g...\n",
      "10     ['bernard', 'grun', 'german', 'bernhard', 'grü...\n",
      "5      ['antal', 'doráti', 'uk', 'us', 'hungarian', '...\n",
      "152    ['werner', 'wolf', 'glaser', 'april', 'march',...\n",
      "23     ['adolf', 'dauber', 'known', 'also', 'dol', 'd...\n",
      "40     ['franz', 'mittler', 'april', 'vienna', 'decem...\n",
      "92     ['leopold', 'spinner', 'april', 'august', 'aus...\n",
      "119    ['paul', 'hindemith', 'november', 'december', ...\n",
      "66     ['herman', 'david', 'koppel', 'known', 'denmar...\n",
      "107    ['mordechai', 'gebirtig', 'yiddish', 'מרדכי', ...\n",
      "95     ['lászló', 'weiner', 'april', 'szombathely', '...\n",
      "42     ['franz', 'schreker', 'originally', 'schrecker...\n",
      "103    ['maximilian', 'raoul', 'steiner', 'may', 'dec...\n",
      "60     ['hans', 'krása', 'november', 'october', 'czec...\n",
      "111    ['oskar', 'fried', 'august', 'july', 'german',...\n",
      "78     ['joachim-yehoyachin', 'stutschewsky', 'hebrew...\n",
      "113    ['paul', 'abraham', 'hungarian', 'ábrahám', 'p...\n",
      "114    ['paul', 'amadeus', 'pisk', 'may', 'vienna', '...\n",
      "137    ['salo', 'siegfried', 'translateur', 'siegfrie...\n",
      "93     ['lev', 'zacharovitch', 'aronson', 'lew', 'aro...\n",
      "68     ['hermann', 'leopoldi', 'born', 'hersch', 'koh...\n",
      "57     ['hanns', 'eisler', 'july', 'september', 'aust...\n",
      "46     ['friedrich', '``', 'fritz', \"''\", 'kreisler',...\n",
      "17     ['bruno', 'walter', 'born', 'bruno', 'schlesin...\n",
      "3      ['alfred', 'szendrei', 'also', 'alfred', 'send...\n",
      "52     ['gerhard', 'bronner', 'october', 'favoriten',...\n",
      "65     ['herbert', 'zipper', 'april', 'vienna', 'aust...\n",
      "Name: cleaned_text, dtype: object\n"
     ]
    }
   ],
   "source": [
    "print(y_pred)\n",
    "print(X_test)"
   ],
   "metadata": {
    "collapsed": false,
    "pycharm": {
     "name": "#%%\n"
    }
   }
  },
  {
   "cell_type": "code",
   "execution_count": 9,
   "id": "0de16290",
   "metadata": {
    "pycharm": {
     "name": "#%%\n"
    }
   },
   "outputs": [
    {
     "data": {
      "text/plain": "<AxesSubplot:ylabel='label'>"
     },
     "execution_count": 9,
     "metadata": {},
     "output_type": "execute_result"
    },
    {
     "data": {
      "text/plain": "<Figure size 432x288 with 1 Axes>",
      "image/png": "[encoded data removed]"
     },
     "metadata": {},
     "output_type": "display_data"
    }
   ],
   "source": [
    "y_train.value_counts().plot.pie(autopct='%0.2f')"
   ]
  },
  {
   "cell_type": "code",
   "execution_count": 10,
   "id": "73b66ab2",
   "metadata": {
    "pycharm": {
     "name": "#%%\n"
    }
   },
   "outputs": [
    {
     "name": "stdout",
     "output_type": "stream",
     "text": [
      "Requirement already satisfied: imblearn in /Users/jessicahassibi/opt/anaconda3/envs/thesis/lib/python3.9/site-packages (0.0)\r\n",
      "Requirement already satisfied: imbalanced-learn in /Users/jessicahassibi/opt/anaconda3/envs/thesis/lib/python3.9/site-packages (from imblearn) (0.9.1)\r\n",
      "Requirement already satisfied: joblib>=1.0.0 in /Users/jessicahassibi/opt/anaconda3/envs/thesis/lib/python3.9/site-packages (from imbalanced-learn->imblearn) (1.1.0)\r\n",
      "Requirement already satisfied: scikit-learn>=1.1.0 in /Users/jessicahassibi/opt/anaconda3/envs/thesis/lib/python3.9/site-packages (from imbalanced-learn->imblearn) (1.1.2)\r\n",
      "Requirement already satisfied: numpy>=1.17.3 in /Users/jessicahassibi/opt/anaconda3/envs/thesis/lib/python3.9/site-packages (from imbalanced-learn->imblearn) (1.21.5)\r\n",
      "Requirement already satisfied: scipy>=1.3.2 in /Users/jessicahassibi/opt/anaconda3/envs/thesis/lib/python3.9/site-packages (from imbalanced-learn->imblearn) (1.7.3)\r\n",
      "Requirement already satisfied: threadpoolctl>=2.0.0 in /Users/jessicahassibi/opt/anaconda3/envs/thesis/lib/python3.9/site-packages (from imbalanced-learn->imblearn) (2.2.0)\r\n"
     ]
    }
   ],
   "source": [
    "# solution:\n",
    "# Undersampling: reduce majority class to make it equal to minority class\n",
    "# Oversampling: increase minority class to make it equal to majority class through resampling\n",
    "!pip install imblearn\n",
    "from imblearn.over_sampling import RandomOverSampler\n",
    "\n",
    "ros = RandomOverSampler(sampling_strategy=\"not majority\")\n",
    "X_train_2d = X_train.values.reshape(-1, 1) # puts each elem of array in own array\n",
    "X_res, y_res = ros.fit_resample(X_train_2d, y_train)"
   ]
  },
  {
   "cell_type": "code",
   "execution_count": 11,
   "id": "bc190033",
   "metadata": {
    "pycharm": {
     "name": "#%%\n"
    }
   },
   "outputs": [
    {
     "data": {
      "text/plain": "0    107\n1    107\nName: label, dtype: int64"
     },
     "execution_count": 11,
     "metadata": {},
     "output_type": "execute_result"
    },
    {
     "data": {
      "text/plain": "<Figure size 432x288 with 1 Axes>",
      "image/png": "[encoded data removed]"
     },
     "metadata": {},
     "output_type": "display_data"
    }
   ],
   "source": [
    "y_res.value_counts().plot.pie(autopct='%0.2f')\n",
    "y_res.value_counts()"
   ]
  },
  {
   "cell_type": "code",
   "execution_count": 12,
   "id": "4cfc9c9f",
   "metadata": {
    "pycharm": {
     "name": "#%%\n"
    }
   },
   "outputs": [],
   "source": [
    "#X_res revert 2_dimensionality\n",
    "X_res_1d = X_res.flatten()"
   ]
  },
  {
   "cell_type": "code",
   "execution_count": 13,
   "id": "ba379c1d",
   "metadata": {
    "pycharm": {
     "name": "#%%\n"
    }
   },
   "outputs": [
    {
     "name": "stderr",
     "output_type": "stream",
     "text": [
      "/Users/jessicahassibi/PycharmProjects/bachelor-thesis/src/models/classification.py:16: VisibleDeprecationWarning: Creating an ndarray from ragged nested sequences (which is a list-or-tuple of lists-or-tuples-or ndarrays with different lengths or shapes) is deprecated. If you meant to do this, you must specify 'dtype=object' when creating the ndarray.\n",
      "  text_vect = np.array([np.array([keyed_vectors[i] for i in sentence if i in words])\n"
     ]
    }
   ],
   "source": [
    "# classification with resampled vectors\n",
    "X_res_vect = classification.text2vec(X_res_1d, wv)\n",
    "X_res_vect_avg = classification.average_vector(X_res_vect)"
   ]
  },
  {
   "cell_type": "code",
   "execution_count": 14,
   "id": "282bc14f",
   "metadata": {
    "pycharm": {
     "name": "#%%\n"
    }
   },
   "outputs": [
    {
     "name": "stdout",
     "output_type": "stream",
     "text": [
      "############################################################################\n",
      "Processing Random Forest Classification\n",
      "\n",
      "accuracy 0.9122807017543859\n",
      "                      precision    recall  f1-score   support\n",
      "\n",
      "persecuted composers       0.98      0.93      0.95        56\n",
      " supported composers       0.00      0.00      0.00         1\n",
      "\n",
      "            accuracy                           0.91        57\n",
      "           macro avg       0.49      0.46      0.48        57\n",
      "        weighted avg       0.96      0.91      0.94        57\n",
      "\n",
      "classes in y_pred: {0, 1} classes in y_test: {0, 1}\n",
      "############################################################################\n"
     ]
    }
   ],
   "source": [
    "# what test vector? also resampled?\n",
    "y_res_pred = classification.classify_predict(X_res_vect_avg, X_test_vect_avg, y_res, \"Random Forest\")\n",
    "# WHY NO SUPPORTED COMPOSERS ?!?!?!?!\n",
    "classification.print_classification_report(y_test, y_res_pred)"
   ]
  },
  {
   "cell_type": "code",
   "execution_count": 160,
   "id": "3201ddc3",
   "metadata": {
    "pycharm": {
     "name": "#%%\n"
    }
   },
   "outputs": [],
   "source": [
    "#from imblearn.pipeline import Pipeline\n",
    "# create pipeline for handling imbalanced data\n",
    "#steps = [('over', RandomOverSampler()), ('model', DecisionTreeClassifier())]\n",
    "#pipeline = Pipeline(steps=steps)"
   ]
  },
  {
   "cell_type": "code",
   "execution_count": 15,
   "id": "48ab35a5",
   "metadata": {
    "pycharm": {
     "name": "#%%\n"
    }
   },
   "outputs": [
    {
     "name": "stdout",
     "output_type": "stream",
     "text": [
      "############################################################################\n",
      "Processing Multinomial Naive Bayes Classification\n",
      "\n",
      "accuracy 0.9298245614035088\n",
      "                      precision    recall  f1-score   support\n",
      "\n",
      "persecuted composers       1.00      0.93      0.96        57\n",
      " supported composers       0.00      0.00      0.00         0\n",
      "\n",
      "            accuracy                           0.93        57\n",
      "           macro avg       0.50      0.46      0.48        57\n",
      "        weighted avg       1.00      0.93      0.96        57\n",
      "\n",
      "classes in y_pred: {0, 1} classes in y_test: {0}\n",
      "############################################################################\n"
     ]
    },
    {
     "name": "stderr",
     "output_type": "stream",
     "text": [
      "/Users/jessicahassibi/opt/anaconda3/envs/thesis/lib/python3.9/site-packages/sklearn/metrics/_classification.py:1334: UndefinedMetricWarning: Recall and F-score are ill-defined and being set to 0.0 in labels with no true samples. Use `zero_division` parameter to control this behavior.\n",
      "  _warn_prf(average, modifier, msg_start, len(result))\n",
      "/Users/jessicahassibi/opt/anaconda3/envs/thesis/lib/python3.9/site-packages/sklearn/metrics/_classification.py:1334: UndefinedMetricWarning: Recall and F-score are ill-defined and being set to 0.0 in labels with no true samples. Use `zero_division` parameter to control this behavior.\n",
      "  _warn_prf(average, modifier, msg_start, len(result))\n",
      "/Users/jessicahassibi/opt/anaconda3/envs/thesis/lib/python3.9/site-packages/sklearn/metrics/_classification.py:1334: UndefinedMetricWarning: Recall and F-score are ill-defined and being set to 0.0 in labels with no true samples. Use `zero_division` parameter to control this behavior.\n",
      "  _warn_prf(average, modifier, msg_start, len(result))\n"
     ]
    }
   ],
   "source": [
    "# naive bayes classifier\n",
    "y_pred = classification.classify_predict(X_train_vect_avg, X_test_vect_avg, y_train, \"Multinomial Naive Bayes\")\n",
    "classification.print_classification_report(y_test, y_pred)"
   ]
  },
  {
   "cell_type": "code",
   "execution_count": null,
   "outputs": [],
   "source": [],
   "metadata": {
    "collapsed": false,
    "pycharm": {
     "name": "#%%\n"
    }
   }
  }
 ],
 "metadata": {
  "kernelspec": {
   "display_name": "Python [conda env:thesis] *",
   "language": "python",
   "name": "conda-env-thesis-py"
  },
  "language_info": {
   "codemirror_mode": {
    "name": "ipython",
    "version": 3
   },
   "file_extension": ".py",
   "mimetype": "text/x-python",
   "name": "python",
   "nbconvert_exporter": "python",
   "pygments_lexer": "ipython3",
   "version": "3.9.12"
  }
 },
 "nbformat": 4,
 "nbformat_minor": 5
}