{
 "cells": [
  {
   "cell_type": "code",
   "execution_count": 1,
   "id": "45b029e2",
   "metadata": {},
   "outputs": [
    {
     "name": "stderr",
     "output_type": "stream",
     "text": [
      "[nltk_data] Downloading package stopwords to /root/nltk_data...\n",
      "[nltk_data]   Package stopwords is already up-to-date!\n"
     ]
    },
    {
     "name": "stdout",
     "output_type": "stream",
     "text": [
      "loaded spacy language model: en_core_web_sm\n"
     ]
    }
   ],
   "source": [
    "import sys\n",
    "sys.path.append('../src')\n",
    "from data import get_documents_list, get_data_and_labels_lists, get_sbert_models_path, get_languages\n",
    "from models import classification\n",
    "from sentence_transformers import SentenceTransformer\n",
    "import pandas as pd\n",
    "from imblearn.over_sampling import RandomOverSampler\n",
    "from imblearn.under_sampling import RandomUnderSampler\n",
    "import pickle"
   ]
  },
  {
   "cell_type": "markdown",
   "id": "70af5e62",
   "metadata": {},
   "source": [
    "### Choose Parameters: \n",
    "- text_type = \"cleaned_texts\", \"cleaned_sentences\", \"cleaned_paragraphs\"\n",
    "    -> text type for applying classification on\n",
    "    \n",
    "e.g. text_type = \"cleaned_paragraphs\", model = \"distiluse-base-multilingual-cased-v1\""
   ]
  },
  {
   "cell_type": "code",
   "execution_count": 2,
   "id": "f3b13a9e",
   "metadata": {},
   "outputs": [],
   "source": [
    "text_type = \"cleaned_sentences\"\n",
    "model = \"distiluse-base-multilingual-cased-v1\""
   ]
  },
  {
   "cell_type": "markdown",
   "id": "ef131b14",
   "metadata": {},
   "source": [
    "https://www.sbert.net/docs/pretrained_models.html#multi-lingual-models"
   ]
  },
  {
   "cell_type": "code",
   "execution_count": 3,
   "id": "eef08ed0",
   "metadata": {},
   "outputs": [],
   "source": [
    "docs, targets = get_data_and_labels_lists(text_type)"
   ]
  },
  {
   "cell_type": "code",
   "execution_count": 4,
   "id": "fc1895fc",
   "metadata": {},
   "outputs": [],
   "source": [
    "languages_string =  \"_\".join(get_languages())\n",
    "model_path = get_sbert_models_path().joinpath(f'st_{languages_string}_{text_type}_{model}.pkl')"
   ]
  },
  {
   "cell_type": "code",
   "execution_count": 5,
   "id": "dfdbcd12",
   "metadata": {},
   "outputs": [],
   "source": [
    "try:\n",
    "    #Load sentences & embeddings from disc\n",
    "    with open(model_path, \"rb\") as fIn:\n",
    "        stored_data = pickle.load(fIn)\n",
    "        data = stored_data['data']\n",
    "        embeddings = stored_data['data_embeddings']\n",
    "        df = pd.DataFrame(list(zip(data, embeddings, targets)), columns =['data', 'data_embeddings', 'label'])\n",
    "except FileNotFoundError as err:\n",
    "    embedder = SentenceTransformer(model)\n",
    "    df = pd.DataFrame(list(zip(docs, targets)), columns =['data', 'label'])\n",
    "    df['data_embeddings'] = df['data'].apply(embedder.encode)\n",
    "    embeddings = df['data_embeddings'].tolist()\n",
    "    #Store sentences & embeddings on disc\n",
    "    with open(model_path, \"wb\") as fOut:\n",
    "        pickle.dump({'data': docs, 'data_embeddings': embeddings}, fOut, protocol=pickle.HIGHEST_PROTOCOL)"
   ]
  },
  {
   "cell_type": "code",
   "execution_count": 6,
   "id": "4bce8ffd",
   "metadata": {},
   "outputs": [
    {
     "data": {
      "text/html": [
       "<div>\n",
       "<style scoped>\n",
       "    .dataframe tbody tr th:only-of-type {\n",
       "        vertical-align: middle;\n",
       "    }\n",
       "\n",
       "    .dataframe tbody tr th {\n",
       "        vertical-align: top;\n",
       "    }\n",
       "\n",
       "    .dataframe thead th {\n",
       "        text-align: right;\n",
       "    }\n",
       "</style>\n",
       "<table border=\"1\" class=\"dataframe\">\n",
       "  <thead>\n",
       "    <tr style=\"text-align: right;\">\n",
       "      <th></th>\n",
       "      <th>data</th>\n",
       "      <th>label</th>\n",
       "      <th>data_embeddings</th>\n",
       "    </tr>\n",
       "  </thead>\n",
       "  <tbody>\n",
       "    <tr>\n",
       "      <th>0</th>\n",
       "      <td>[Abel, Ehrlich,  , Hebrew, אבל, ארליך, Septemb...</td>\n",
       "      <td>0</td>\n",
       "      <td>[[0.013540071, -0.02685532, -0.0390787, -0.029...</td>\n",
       "    </tr>\n",
       "    <tr>\n",
       "      <th>1</th>\n",
       "      <td>[ 1997, Ehrlich, win, Israel, Prize, Music]</td>\n",
       "      <td>0</td>\n",
       "      <td>[[0.0010355223, 0.037810203, -0.01821833, 0.02...</td>\n",
       "    </tr>\n",
       "    <tr>\n",
       "      <th>2</th>\n",
       "      <td>[ Erlich, bear, 1915, Cranz, East, Prussia]</td>\n",
       "      <td>0</td>\n",
       "      <td>[[-0.0194453, -0.03149785, -0.019828642, -0.06...</td>\n",
       "    </tr>\n",
       "    <tr>\n",
       "      <th>3</th>\n",
       "      <td>[ 1934, family, flee, Nazi, Germany, Yugoslavi...</td>\n",
       "      <td>0</td>\n",
       "      <td>[[-0.029809302, 0.008181751, -0.064801306, 0.0...</td>\n",
       "    </tr>\n",
       "    <tr>\n",
       "      <th>4</th>\n",
       "      <td>[ leave, Yugoslavia, 1939, short, stay, Albani...</td>\n",
       "      <td>0</td>\n",
       "      <td>[[0.03900471, -0.020451514, -0.04923513, -0.04...</td>\n",
       "    </tr>\n",
       "    <tr>\n",
       "      <th>...</th>\n",
       "      <td>...</td>\n",
       "      <td>...</td>\n",
       "      <td>...</td>\n",
       "    </tr>\n",
       "    <tr>\n",
       "      <th>4853</th>\n",
       "      <td>[ 1954, begin, teach, Meistersinger, Konservat...</td>\n",
       "      <td>1</td>\n",
       "      <td>[[-0.05685312, -0.009760375, -0.06519614, 0.02...</td>\n",
       "    </tr>\n",
       "    <tr>\n",
       "      <th>4854</th>\n",
       "      <td>[ married, actress, Sabine, Peters]</td>\n",
       "      <td>1</td>\n",
       "      <td>[[0.012596954, 0.012923361, -0.066175215, -0.0...</td>\n",
       "    </tr>\n",
       "    <tr>\n",
       "      <th>4855</th>\n",
       "      <td>[ Domgraf, Fassbaender, beautiful, voice, use,...</td>\n",
       "      <td>1</td>\n",
       "      <td>[[-0.0012251915, 0.087526046, -0.00951335, 0.0...</td>\n",
       "    </tr>\n",
       "    <tr>\n",
       "      <th>4856</th>\n",
       "      <td>[ accomplished, singer, actor, well, appear, m...</td>\n",
       "      <td>1</td>\n",
       "      <td>[[-0.047071923, 0.017807877, -0.067528665, 9.0...</td>\n",
       "    </tr>\n",
       "    <tr>\n",
       "      <th>4857</th>\n",
       "      <td>[ domgraf, Fassbaender, leave, sizeable, legac...</td>\n",
       "      <td>1</td>\n",
       "      <td>[[0.00090393773, 0.08243475, 0.0017258265, 0.0...</td>\n",
       "    </tr>\n",
       "  </tbody>\n",
       "</table>\n",
       "<p>4858 rows × 3 columns</p>\n",
       "</div>"
      ],
      "text/plain": [
       "                                                   data  label  \\\n",
       "0     [Abel, Ehrlich,  , Hebrew, אבל, ארליך, Septemb...      0   \n",
       "1           [ 1997, Ehrlich, win, Israel, Prize, Music]      0   \n",
       "2           [ Erlich, bear, 1915, Cranz, East, Prussia]      0   \n",
       "3     [ 1934, family, flee, Nazi, Germany, Yugoslavi...      0   \n",
       "4     [ leave, Yugoslavia, 1939, short, stay, Albani...      0   \n",
       "...                                                 ...    ...   \n",
       "4853  [ 1954, begin, teach, Meistersinger, Konservat...      1   \n",
       "4854                [ married, actress, Sabine, Peters]      1   \n",
       "4855  [ Domgraf, Fassbaender, beautiful, voice, use,...      1   \n",
       "4856  [ accomplished, singer, actor, well, appear, m...      1   \n",
       "4857  [ domgraf, Fassbaender, leave, sizeable, legac...      1   \n",
       "\n",
       "                                        data_embeddings  \n",
       "0     [[0.013540071, -0.02685532, -0.0390787, -0.029...  \n",
       "1     [[0.0010355223, 0.037810203, -0.01821833, 0.02...  \n",
       "2     [[-0.0194453, -0.03149785, -0.019828642, -0.06...  \n",
       "3     [[-0.029809302, 0.008181751, -0.064801306, 0.0...  \n",
       "4     [[0.03900471, -0.020451514, -0.04923513, -0.04...  \n",
       "...                                                 ...  \n",
       "4853  [[-0.05685312, -0.009760375, -0.06519614, 0.02...  \n",
       "4854  [[0.012596954, 0.012923361, -0.066175215, -0.0...  \n",
       "4855  [[-0.0012251915, 0.087526046, -0.00951335, 0.0...  \n",
       "4856  [[-0.047071923, 0.017807877, -0.067528665, 9.0...  \n",
       "4857  [[0.00090393773, 0.08243475, 0.0017258265, 0.0...  \n",
       "\n",
       "[4858 rows x 3 columns]"
      ]
     },
     "execution_count": 6,
     "metadata": {},
     "output_type": "execute_result"
    }
   ],
   "source": [
    "df"
   ]
  },
  {
   "cell_type": "code",
   "execution_count": 7,
   "id": "897e2120",
   "metadata": {},
   "outputs": [],
   "source": [
    "from sklearn.model_selection import train_test_split\n",
    "X_train, X_test, y_train, y_test = train_test_split(df['data_embeddings'], df['label'], test_size=0.2)"
   ]
  },
  {
   "cell_type": "code",
   "execution_count": 8,
   "id": "e1674d9f",
   "metadata": {},
   "outputs": [],
   "source": [
    "X_train_vect_avg = classification.average_text_vector(X_train)\n",
    "X_test_vect_avg = classification.average_text_vector(X_test)"
   ]
  },
  {
   "cell_type": "code",
   "execution_count": 9,
   "id": "98ae619d",
   "metadata": {},
   "outputs": [],
   "source": [
    "resampling = True"
   ]
  },
  {
   "cell_type": "code",
   "execution_count": 10,
   "id": "8e8c2a52",
   "metadata": {},
   "outputs": [
    {
     "name": "stdout",
     "output_type": "stream",
     "text": [
      "CLASSIFICATION WITH:OVERSAMPLING\n",
      "0    3173\n",
      "1    3173\n",
      "Name: label, dtype: int64\n",
      "############################################################################\n",
      "Processing Multinomial Naive Bayes Classification\n",
      "\n",
      "              precision    recall  f1-score   support\n",
      "\n",
      "    verfolgt       0.65      0.86      0.74       601\n",
      "    begnadet       0.54      0.27      0.36       371\n",
      "\n",
      "    accuracy                           0.63       972\n",
      "   macro avg       0.60      0.56      0.55       972\n",
      "weighted avg       0.61      0.63      0.60       972\n",
      "\n",
      "classes in y_pred: {0, 1} classes in y_test: {0, 1}\n",
      "############################################################################\n",
      "############################################################################\n",
      "Processing SVM Classification\n",
      "\n",
      "              precision    recall  f1-score   support\n",
      "\n",
      "    verfolgt       0.72      0.90      0.80       633\n",
      "    begnadet       0.64      0.35      0.45       339\n",
      "\n",
      "    accuracy                           0.70       972\n",
      "   macro avg       0.68      0.62      0.62       972\n",
      "weighted avg       0.69      0.70      0.68       972\n",
      "\n",
      "classes in y_pred: {0, 1} classes in y_test: {0, 1}\n",
      "############################################################################\n",
      "CLASSIFICATION WITH:UNDERSAMPLING\n",
      "0    713\n",
      "1    713\n",
      "Name: label, dtype: int64\n",
      "############################################################################\n",
      "Processing Multinomial Naive Bayes Classification\n",
      "\n",
      "              precision    recall  f1-score   support\n",
      "\n",
      "    verfolgt       0.64      0.86      0.74       586\n",
      "    begnadet       0.56      0.27      0.36       386\n",
      "\n",
      "    accuracy                           0.63       972\n",
      "   macro avg       0.60      0.56      0.55       972\n",
      "weighted avg       0.61      0.63      0.59       972\n",
      "\n",
      "classes in y_pred: {0, 1} classes in y_test: {0, 1}\n",
      "############################################################################\n",
      "############################################################################\n",
      "Processing SVM Classification\n",
      "\n",
      "              precision    recall  f1-score   support\n",
      "\n",
      "    verfolgt       0.64      0.90      0.75       560\n",
      "    begnadet       0.70      0.31      0.43       412\n",
      "\n",
      "    accuracy                           0.65       972\n",
      "   macro avg       0.67      0.61      0.59       972\n",
      "weighted avg       0.67      0.65      0.62       972\n",
      "\n",
      "classes in y_pred: {0, 1} classes in y_test: {0, 1}\n",
      "############################################################################\n"
     ]
    },
    {
     "data": {
      "image/png": "[encoded data removed]",
      "text/plain": [
       "<Figure size 432x288 with 1 Axes>"
      ]
     },
     "metadata": {},
     "output_type": "display_data"
    }
   ],
   "source": [
    "if not resampling:\n",
    "    print(\"CLASSIFICATION WITHOUT SAMPLING:\")\n",
    "    #y_pred = classification.classify_predict(X_train_vect_avg, X_test_vect_avg, y_train, \"Random Forest\")\n",
    "    #classification.print_classification_report(y_test, y_pred)\n",
    "\n",
    "    y_pred = classification.classify_predict(X_train_vect_avg, X_test_vect_avg, y_train, \"Multinomial Naive Bayes\")\n",
    "    classification.print_classification_report(y_test, y_pred)\n",
    "\n",
    "    y_pred = classification.classify_predict(X_train_vect_avg, X_test_vect_avg, y_train, \"SVM\")\n",
    "    classification.print_classification_report(y_test, y_pred)\n",
    "    \n",
    "    print(y_train.value_counts())\n",
    "    y_train.value_counts().plot.pie(autopct='%0.2f')\n",
    "    \n",
    "else:\n",
    "    ros = RandomOverSampler(sampling_strategy=\"not majority\")\n",
    "    rus = RandomUnderSampler(random_state=0, sampling_strategy=\"majority\")\n",
    "    \n",
    "    for sampler, method in [(ros, \"OVERSAMPLING\"),(rus, \"UNDERSAMPLING\")]:\n",
    "        print(f\"CLASSIFICATION WITH:{method}\")\n",
    "            \n",
    "        X_train_2d = X_train.values.reshape(-1, 1) # puts each elem of array in own array\n",
    "        X_res, y_res = sampler.fit_resample(X_train_2d, y_train)\n",
    "        \n",
    "        print(y_res.value_counts())\n",
    "        y_res.value_counts().plot.pie(autopct='%0.2f')\n",
    "        \n",
    "        #X_res revert 2_dimensionality\n",
    "        X_res_1d = X_res.flatten()\n",
    "\n",
    "        # classification with resampled vectors\n",
    "        X_res_vect_avg = classification.average_text_vector(X_res_1d)\n",
    "\n",
    "        #y_res_pred = classification.classify_predict(X_res_vect_avg, X_test_vect_avg, y_res, \"Random Forest\")\n",
    "        #classification.print_classification_report(y_test, y_res_pred)\n",
    "        y_res_pred = classification.classify_predict(X_res_vect_avg, X_test_vect_avg, y_res, \"Multinomial Naive Bayes\")\n",
    "        classification.print_classification_report(y_test, y_res_pred)\n",
    "        y_res_pred = classification.classify_predict(X_res_vect_avg, X_test_vect_avg, y_res, \"SVM\")\n",
    "        classification.print_classification_report(y_test, y_res_pred)"
   ]
  },
  {
   "cell_type": "code",
   "execution_count": null,
   "id": "aa58c15b",
   "metadata": {},
   "outputs": [],
   "source": []
  },
  {
   "cell_type": "code",
   "execution_count": null,
   "id": "af49c30f",
   "metadata": {},
   "outputs": [],
   "source": []
  }
 ],
 "metadata": {
  "kernelspec": {
   "display_name": "Python 3 (ipykernel)",
   "language": "python",
   "name": "python3"
  },
  "language_info": {
   "codemirror_mode": {
    "name": "ipython",
    "version": 3
   },
   "file_extension": ".py",
   "mimetype": "text/x-python",
   "name": "python",
   "nbconvert_exporter": "python",
   "pygments_lexer": "ipython3",
   "version": "3.9.12"
  }
 },
 "nbformat": 4,
 "nbformat_minor": 5
}
