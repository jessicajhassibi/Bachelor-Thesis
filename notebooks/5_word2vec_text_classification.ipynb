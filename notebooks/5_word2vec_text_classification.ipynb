{
 "cells": [
  {
   "cell_type": "code",
   "execution_count": 11,
   "id": "d1a5d056",
   "metadata": {
    "pycharm": {
     "name": "#%%\n"
    }
   },
   "outputs": [],
   "source": [
    "import sys\n",
    "sys.path.append('../src')\n",
    "from data import get_cleaned_dataframes\n",
    "from models import classification, get_word2vec_model\n",
    "from gensim.models import Word2Vec"
   ]
  },
  {
   "cell_type": "markdown",
   "id": "a7f4ff11",
   "metadata": {
    "pycharm": {
     "name": "#%% md\n"
    }
   },
   "source": [
    "load the preprocessed texts in all languages into a dataframe"
   ]
  },
  {
   "cell_type": "code",
   "execution_count": 12,
   "id": "6e4a8494",
   "metadata": {
    "pycharm": {
     "name": "#%%\n"
    }
   },
   "outputs": [],
   "source": [
    "cleaned_dataframe = get_cleaned_dataframes()"
   ]
  },
  {
   "cell_type": "markdown",
   "id": "97675262",
   "metadata": {
    "pycharm": {
     "name": "#%% md\n"
    }
   },
   "source": [
    "Split data into train and test sets"
   ]
  },
  {
   "cell_type": "code",
   "execution_count": 13,
   "id": "aa00c8ae",
   "metadata": {
    "pycharm": {
     "name": "#%%\n"
    }
   },
   "outputs": [],
   "source": [
    "from sklearn.model_selection import train_test_split\n",
    "X_train, X_test, y_train, y_test = train_test_split(cleaned_dataframe['cleaned_texts'], cleaned_dataframe['label'] , test_size=0.3)"
   ]
  },
  {
   "cell_type": "markdown",
   "id": "8e0454bf",
   "metadata": {
    "pycharm": {
     "name": "#%% md\n"
    }
   },
   "source": [
    "## Word2Vec\n",
    "### Parameters:\n",
    "- vector_size - vector size\n",
    "- window - num of words before and after the focus word considered as context for the word\n",
    "- min_count - the number of times a word must appear in our corpus in order to create a word vector.\n",
    "\n",
    "Train a Word2Vec model with the train set"
   ]
  },
  {
   "cell_type": "code",
   "execution_count": 4,
   "id": "33c5c54b",
   "metadata": {
    "pycharm": {
     "name": "#%%\n"
    }
   },
   "outputs": [
    {
     "name": "stdout",
     "output_type": "stream",
     "text": [
      "Word2Vec model not found.\n",
      "Training new model on 130 documents.\n",
      "Saving new model.\n",
      "Model:  /home/Bachelor-Thesis/models/classification/Word2Vec_en_cleaned_texts  loaded\n"
     ]
    }
   ],
   "source": [
    "model, word_vectors = get_word2vec_model(X_train, text_type=\"cleaned_texts\")"
   ]
  },
  {
   "cell_type": "markdown",
   "id": "d01e0697",
   "metadata": {
    "pycharm": {
     "name": "#%% md\n"
    }
   },
   "source": [
    "## Text Classification on manually trained Word2Vec model"
   ]
  },
  {
   "cell_type": "markdown",
   "id": "c176b21d",
   "metadata": {
    "pycharm": {
     "name": "#%% md\n"
    }
   },
   "source": [
    "### Create features from text for machine learning model.\n",
    "Steps:\n",
    "- Turn words in texts into word vectors.\n",
    "- Method 1: averaging word vectors for each text"
   ]
  },
  {
   "cell_type": "code",
   "execution_count": 5,
   "id": "e7c4afae",
   "metadata": {
    "pycharm": {
     "name": "#%%\n"
    }
   },
   "outputs": [],
   "source": [
    "X_train_vect = classification.text2vec(X_train, word_vectors)\n",
    "X_test_vect = classification.text2vec(X_test, word_vectors)"
   ]
  },
  {
   "cell_type": "code",
   "execution_count": 6,
   "id": "88b3f7da",
   "metadata": {
    "pycharm": {
     "name": "#%%\n"
    }
   },
   "outputs": [],
   "source": [
    "X_train_vect_avg = classification.average_vector(X_train_vect)\n",
    "X_test_vect_avg = classification.average_vector(X_test_vect)"
   ]
  },
  {
   "cell_type": "markdown",
   "id": "f9a657c0",
   "metadata": {
    "pycharm": {
     "name": "#%% md\n"
    }
   },
   "source": [
    "### Classification reports:\n",
    "- Recall = how many of this class where found over whole num of elements of this class\n",
    "- Precision = how many correctly classified among that class\n",
    "- f1-score: harmonic mean between precision and recall\n",
    "- support: num of occurrence of given class in dataset"
   ]
  },
  {
   "cell_type": "markdown",
   "id": "05687a95",
   "metadata": {
    "pycharm": {
     "name": "#%% md\n"
    }
   },
   "source": [
    "Instantiate and fit a basic Random Forest model on top of the vectors"
   ]
  },
  {
   "cell_type": "code",
   "execution_count": 7,
   "id": "2a76f007",
   "metadata": {
    "pycharm": {
     "name": "#%%\n"
    }
   },
   "outputs": [
    {
     "name": "stdout",
     "output_type": "stream",
     "text": [
      "############################################################################\n",
      "Processing Random Forest Classification\n",
      "\n",
      "              precision    recall  f1-score   support\n",
      "\n",
      "    verfolgt       1.00      0.84      0.91        57\n",
      "    begnadet       0.00      0.00      0.00         0\n",
      "\n",
      "    accuracy                           0.84        57\n",
      "   macro avg       0.50      0.42      0.46        57\n",
      "weighted avg       1.00      0.84      0.91        57\n",
      "\n",
      "classes in y_pred: {0, 1} classes in y_test: {0}\n",
      "############################################################################\n",
      "############################################################################\n",
      "Processing Multinomial Naive Bayes Classification\n",
      "\n",
      "              precision    recall  f1-score   support\n",
      "\n",
      "    verfolgt       1.00      0.84      0.91        57\n",
      "    begnadet       0.00      0.00      0.00         0\n",
      "\n",
      "    accuracy                           0.84        57\n",
      "   macro avg       0.50      0.42      0.46        57\n",
      "weighted avg       1.00      0.84      0.91        57\n",
      "\n",
      "classes in y_pred: {0, 1} classes in y_test: {0}\n",
      "############################################################################\n",
      "############################################################################\n",
      "Processing SVM Classification\n",
      "\n",
      "              precision    recall  f1-score   support\n",
      "\n",
      "    verfolgt       1.00      0.84      0.91        57\n",
      "    begnadet       0.00      0.00      0.00         0\n",
      "\n",
      "    accuracy                           0.84        57\n",
      "   macro avg       0.50      0.42      0.46        57\n",
      "weighted avg       1.00      0.84      0.91        57\n",
      "\n",
      "classes in y_pred: {0, 1} classes in y_test: {0}\n",
      "############################################################################\n"
     ]
    }
   ],
   "source": [
    "y_pred = classification.classify_predict(X_train_vect_avg, X_test_vect_avg, y_train, \"Random Forest\")\n",
    "classification.print_classification_report(y_test, y_pred)\n",
    "\n",
    "y_pred = classification.classify_predict(X_train_vect_avg, X_test_vect_avg, y_train, \"Multinomial Naive Bayes\")\n",
    "classification.print_classification_report(y_test, y_pred)\n",
    "\n",
    "y_pred = classification.classify_predict(X_train_vect_avg, X_test_vect_avg, y_train, \"SVM\")\n",
    "classification.print_classification_report(y_test, y_pred)"
   ]
  },
  {
   "cell_type": "code",
   "execution_count": 8,
   "id": "ecc568b2",
   "metadata": {
    "pycharm": {
     "name": "#%%\n"
    }
   },
   "outputs": [
    {
     "data": {
      "text/plain": [
       "<AxesSubplot: ylabel='label'>"
      ]
     },
     "execution_count": 8,
     "metadata": {},
     "output_type": "execute_result"
    },
    {
     "data": {
      "image/png": "[encoded data removed]",
      "text/plain": [
       "<Figure size 432x288 with 1 Axes>"
      ]
     },
     "metadata": {},
     "output_type": "display_data"
    }
   ],
   "source": [
    "y_train.value_counts().plot.pie(autopct='%0.2f')"
   ]
  },
  {
   "cell_type": "markdown",
   "id": "b75476f3",
   "metadata": {
    "pycharm": {
     "name": "#%% md\n"
    }
   },
   "source": [
    "Highly Imbalanced Dataset!\n",
    "Ideas:\n",
    "- Undersampling: reduce majority class to make it equal to minority class\n",
    "- Oversampling: increase minority class to make it equal to majority class through resampling\n",
    "- K-fold cross validation"
   ]
  },
  {
   "cell_type": "markdown",
   "id": "4262d2fc",
   "metadata": {
    "pycharm": {
     "name": "#%% md\n"
    }
   },
   "source": [
    "## Oversampling"
   ]
  },
  {
   "cell_type": "code",
   "execution_count": 9,
   "id": "aca546ba",
   "metadata": {
    "pycharm": {
     "name": "#%%\n"
    }
   },
   "outputs": [
    {
     "name": "stdout",
     "output_type": "stream",
     "text": [
      "Requirement already satisfied: imblearn in /opt/conda/envs/thesis/lib/python3.9/site-packages (0.0)\n",
      "Requirement already satisfied: imbalanced-learn in /opt/conda/envs/thesis/lib/python3.9/site-packages (from imblearn) (0.9.1)\n",
      "Requirement already satisfied: numpy>=1.17.3 in /opt/conda/envs/thesis/lib/python3.9/site-packages (from imbalanced-learn->imblearn) (1.21.5)\n",
      "Requirement already satisfied: scipy>=1.3.2 in /opt/conda/envs/thesis/lib/python3.9/site-packages (from imbalanced-learn->imblearn) (1.7.3)\n",
      "Requirement already satisfied: threadpoolctl>=2.0.0 in /opt/conda/envs/thesis/lib/python3.9/site-packages (from imbalanced-learn->imblearn) (2.2.0)\n",
      "Requirement already satisfied: scikit-learn>=1.1.0 in /opt/conda/envs/thesis/lib/python3.9/site-packages (from imbalanced-learn->imblearn) (1.1.2)\n",
      "Requirement already satisfied: joblib>=1.0.0 in /opt/conda/envs/thesis/lib/python3.9/site-packages (from imbalanced-learn->imblearn) (1.1.0)\n",
      "\u001b[33mWARNING: Running pip as the 'root' user can result in broken permissions and conflicting behaviour with the system package manager. It is recommended to use a virtual environment instead: https://pip.pypa.io/warnings/venv\u001b[0m\n"
     ]
    }
   ],
   "source": [
    "!pip install imblearn\n",
    "from imblearn.over_sampling import RandomOverSampler\n",
    "\n",
    "ros = RandomOverSampler(sampling_strategy=\"not majority\")\n",
    "X_train_2d = X_train.values.reshape(-1, 1) # puts each elem of array in own array\n",
    "X_res, y_res = ros.fit_resample(X_train_2d, y_train)"
   ]
  },
  {
   "cell_type": "code",
   "execution_count": 10,
   "id": "8b0b1a53",
   "metadata": {},
   "outputs": [
    {
     "name": "stdout",
     "output_type": "stream",
     "text": [
      "0    109\n",
      "1    109\n",
      "Name: label, dtype: int64\n"
     ]
    },
    {
     "data": {
      "text/plain": [
       "<AxesSubplot: ylabel='label'>"
      ]
     },
     "execution_count": 10,
     "metadata": {},
     "output_type": "execute_result"
    },
    {
     "data": {
      "image/png": "[encoded data removed]",
      "text/plain": [
       "<Figure size 432x288 with 1 Axes>"
      ]
     },
     "metadata": {},
     "output_type": "display_data"
    }
   ],
   "source": [
    "print(y_res.value_counts())\n",
    "y_res.value_counts().plot.pie(autopct='%0.2f')"
   ]
  },
  {
   "cell_type": "code",
   "execution_count": 11,
   "id": "a0808cb8",
   "metadata": {
    "pycharm": {
     "name": "#%%\n"
    }
   },
   "outputs": [],
   "source": [
    "#X_res revert 2_dimensionality\n",
    "X_res_1d = X_res.flatten()\n",
    "\n",
    "# classification with resampled vectors\n",
    "X_res_vect = classification.text2vec(X_res_1d, word_vectors)\n",
    "X_res_vect_avg = classification.average_vector(X_res_vect)"
   ]
  },
  {
   "cell_type": "code",
   "execution_count": 12,
   "id": "11fa4660",
   "metadata": {
    "pycharm": {
     "name": "#%%\n"
    }
   },
   "outputs": [
    {
     "name": "stdout",
     "output_type": "stream",
     "text": [
      "############################################################################\n",
      "Processing Random Forest Classification\n",
      "\n",
      "              precision    recall  f1-score   support\n",
      "\n",
      "    verfolgt       0.92      0.83      0.87        53\n",
      "    begnadet       0.00      0.00      0.00         4\n",
      "\n",
      "    accuracy                           0.77        57\n",
      "   macro avg       0.46      0.42      0.44        57\n",
      "weighted avg       0.85      0.77      0.81        57\n",
      "\n",
      "classes in y_pred: {0, 1} classes in y_test: {0, 1}\n",
      "############################################################################\n",
      "############################################################################\n",
      "Processing Multinomial Naive Bayes Classification\n",
      "\n",
      "              precision    recall  f1-score   support\n",
      "\n",
      "    verfolgt       0.67      0.82      0.74        39\n",
      "    begnadet       0.22      0.11      0.15        18\n",
      "\n",
      "    accuracy                           0.60        57\n",
      "   macro avg       0.44      0.47      0.44        57\n",
      "weighted avg       0.53      0.60      0.55        57\n",
      "\n",
      "classes in y_pred: {0, 1} classes in y_test: {0, 1}\n",
      "############################################################################\n",
      "############################################################################\n",
      "Processing SVM Classification\n",
      "\n",
      "              precision    recall  f1-score   support\n",
      "\n",
      "    verfolgt       0.15      0.88      0.25         8\n",
      "    begnadet       0.89      0.16      0.28        49\n",
      "\n",
      "    accuracy                           0.26        57\n",
      "   macro avg       0.52      0.52      0.26        57\n",
      "weighted avg       0.78      0.26      0.27        57\n",
      "\n",
      "classes in y_pred: {0, 1} classes in y_test: {0, 1}\n",
      "############################################################################\n"
     ]
    }
   ],
   "source": [
    "y_res_pred = classification.classify_predict(X_res_vect_avg, X_test_vect_avg, y_res, \"Random Forest\")\n",
    "classification.print_classification_report(y_test, y_res_pred)\n",
    "y_res_pred = classification.classify_predict(X_res_vect_avg, X_test_vect_avg, y_res, \"Multinomial Naive Bayes\")\n",
    "classification.print_classification_report(y_test, y_res_pred)\n",
    "y_res_pred = classification.classify_predict(X_res_vect_avg, X_test_vect_avg, y_res, \"SVM\")\n",
    "classification.print_classification_report(y_test, y_res_pred)"
   ]
  },
  {
   "cell_type": "markdown",
   "id": "8a52d995",
   "metadata": {},
   "source": [
    "## Undersampling"
   ]
  },
  {
   "cell_type": "code",
   "execution_count": 13,
   "id": "e44cf878",
   "metadata": {},
   "outputs": [],
   "source": [
    "from imblearn.under_sampling import RandomUnderSampler\n",
    "\n",
    "rus = RandomUnderSampler(random_state=0, sampling_strategy=\"majority\")\n",
    "X_resampled, y_resampled = rus.fit_resample(X_train_2d, y_train)"
   ]
  },
  {
   "cell_type": "code",
   "execution_count": 14,
   "id": "8095f413",
   "metadata": {},
   "outputs": [
    {
     "name": "stdout",
     "output_type": "stream",
     "text": [
      "0    21\n",
      "1    21\n",
      "Name: label, dtype: int64\n"
     ]
    },
    {
     "data": {
      "text/plain": [
       "<AxesSubplot: ylabel='label'>"
      ]
     },
     "execution_count": 14,
     "metadata": {},
     "output_type": "execute_result"
    },
    {
     "data": {
      "image/png": "[encoded data removed]",
      "text/plain": [
       "<Figure size 432x288 with 1 Axes>"
      ]
     },
     "metadata": {},
     "output_type": "display_data"
    }
   ],
   "source": [
    "print(y_resampled.value_counts())\n",
    "y_res.value_counts().plot.pie(autopct='%0.2f')"
   ]
  },
  {
   "cell_type": "code",
   "execution_count": 15,
   "id": "c3b4af7a",
   "metadata": {},
   "outputs": [],
   "source": [
    "#X_res revert 2_dimensionality\n",
    "X_resampled_1d = X_resampled.flatten()\n",
    "\n",
    "# classification with resampled vectors\n",
    "X_resampled_vect = classification.text2vec(X_resampled_1d, word_vectors)\n",
    "X_resampled_vect_avg = classification.average_vector(X_resampled_vect)"
   ]
  },
  {
   "cell_type": "code",
   "execution_count": 16,
   "id": "eb9d8bdd",
   "metadata": {},
   "outputs": [
    {
     "name": "stdout",
     "output_type": "stream",
     "text": [
      "############################################################################\n",
      "Processing Random Forest Classification\n",
      "\n",
      "              precision    recall  f1-score   support\n",
      "\n",
      "    verfolgt       0.40      0.83      0.54        23\n",
      "    begnadet       0.56      0.15      0.23        34\n",
      "\n",
      "    accuracy                           0.42        57\n",
      "   macro avg       0.48      0.49      0.38        57\n",
      "weighted avg       0.49      0.42      0.35        57\n",
      "\n",
      "classes in y_pred: {0, 1} classes in y_test: {0, 1}\n",
      "############################################################################\n",
      "############################################################################\n",
      "Processing Multinomial Naive Bayes Classification\n",
      "\n",
      "              precision    recall  f1-score   support\n",
      "\n",
      "    verfolgt       0.25      0.86      0.39        14\n",
      "    begnadet       0.78      0.16      0.27        43\n",
      "\n",
      "    accuracy                           0.33        57\n",
      "   macro avg       0.51      0.51      0.33        57\n",
      "weighted avg       0.65      0.33      0.30        57\n",
      "\n",
      "classes in y_pred: {0, 1} classes in y_test: {0, 1}\n",
      "############################################################################\n",
      "############################################################################\n",
      "Processing SVM Classification\n",
      "\n",
      "              precision    recall  f1-score   support\n",
      "\n",
      "    verfolgt       0.06      1.00      0.12         3\n",
      "    begnadet       1.00      0.17      0.29        54\n",
      "\n",
      "    accuracy                           0.21        57\n",
      "   macro avg       0.53      0.58      0.20        57\n",
      "weighted avg       0.95      0.21      0.28        57\n",
      "\n",
      "classes in y_pred: {0, 1} classes in y_test: {0, 1}\n",
      "############################################################################\n"
     ]
    }
   ],
   "source": [
    "y_resampled_pred = classification.classify_predict(X_resampled_vect_avg, X_test_vect_avg, y_resampled, \"Random Forest\")\n",
    "classification.print_classification_report(y_test, y_resampled_pred)\n",
    "y_resampled_pred = classification.classify_predict(X_resampled_vect_avg, X_test_vect_avg, y_resampled, \"Multinomial Naive Bayes\")\n",
    "classification.print_classification_report(y_test, y_resampled_pred)\n",
    "y_resampled_pred = classification.classify_predict(X_resampled_vect_avg, X_test_vect_avg, y_resampled, \"SVM\")\n",
    "classification.print_classification_report(y_test, y_resampled_pred)"
   ]
  },
  {
   "cell_type": "code",
   "execution_count": null,
   "id": "3a10d9c8",
   "metadata": {},
   "outputs": [],
   "source": []
  }
 ],
 "metadata": {
  "kernelspec": {
   "display_name": "Python [conda env:thesis] *",
   "language": "python",
   "name": "conda-env-thesis-py"
  },
  "language_info": {
   "codemirror_mode": {
    "name": "ipython",
    "version": 3
   },
   "file_extension": ".py",
   "mimetype": "text/x-python",
   "name": "python",
   "nbconvert_exporter": "python",
   "pygments_lexer": "ipython3",
   "version": "3.9.12"
  }
 },
 "nbformat": 4,
 "nbformat_minor": 5
}
