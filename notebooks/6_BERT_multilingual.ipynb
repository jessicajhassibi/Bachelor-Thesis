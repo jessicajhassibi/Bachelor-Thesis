{
 "cells": [
  {
   "cell_type": "code",
   "execution_count": 1,
   "id": "0546c370",
   "metadata": {},
   "outputs": [
    {
     "name": "stderr",
     "output_type": "stream",
     "text": [
      "[nltk_data] Downloading package stopwords to /root/nltk_data...\n",
      "[nltk_data]   Package stopwords is already up-to-date!\n"
     ]
    },
    {
     "name": "stdout",
     "output_type": "stream",
     "text": [
      "loaded spacy language model: en_core_web_sm\n"
     ]
    }
   ],
   "source": [
    "import sys\n",
    "sys.path.append('../src')\n",
    "from data import get_data_and_labels_lists, get_dataframes, get_datasets_path\n",
    "import pandas as pd\n",
    "from sklearn.model_selection import train_test_split"
   ]
  },
  {
   "cell_type": "code",
   "execution_count": 2,
   "id": "790d93dc",
   "metadata": {},
   "outputs": [],
   "source": [
    "# Case for texts\n",
    "df = get_dataframes().reset_index().drop([\"index\"], axis=1)\n",
    "df = df[[\"texts\", 'label']].copy()\n",
    "df = df.rename(columns={\"texts\": 'data'})"
   ]
  },
  {
   "cell_type": "code",
   "execution_count": 3,
   "id": "ab3a15e2",
   "metadata": {
    "scrolled": true
   },
   "outputs": [
    {
     "data": {
      "text/html": [
       "<div>\n",
       "<style scoped>\n",
       "    .dataframe tbody tr th:only-of-type {\n",
       "        vertical-align: middle;\n",
       "    }\n",
       "\n",
       "    .dataframe tbody tr th {\n",
       "        vertical-align: top;\n",
       "    }\n",
       "\n",
       "    .dataframe thead th {\n",
       "        text-align: right;\n",
       "    }\n",
       "</style>\n",
       "<table border=\"1\" class=\"dataframe\">\n",
       "  <thead>\n",
       "    <tr style=\"text-align: right;\">\n",
       "      <th></th>\n",
       "      <th>data</th>\n",
       "      <th>label</th>\n",
       "    </tr>\n",
       "  </thead>\n",
       "  <tbody>\n",
       "    <tr>\n",
       "      <th>0</th>\n",
       "      <td>Abel Ehrlich  (Hebrew: אבל ארליך; September 3,...</td>\n",
       "      <td>0</td>\n",
       "    </tr>\n",
       "    <tr>\n",
       "      <th>1</th>\n",
       "      <td>Alexander Zemlinsky or Alexander von Zemlinsky...</td>\n",
       "      <td>0</td>\n",
       "    </tr>\n",
       "    <tr>\n",
       "      <th>2</th>\n",
       "      <td>Alexander Tansman (Polish: Aleksander Tansman,...</td>\n",
       "      <td>0</td>\n",
       "    </tr>\n",
       "    <tr>\n",
       "      <th>3</th>\n",
       "      <td>Alfred Szendrei, also Alfred Sendrey and Aladá...</td>\n",
       "      <td>0</td>\n",
       "    </tr>\n",
       "    <tr>\n",
       "      <th>4</th>\n",
       "      <td>Andre Asriel (22 February 1922 – 28 May 2019) ...</td>\n",
       "      <td>0</td>\n",
       "    </tr>\n",
       "    <tr>\n",
       "      <th>...</th>\n",
       "      <td>...</td>\n",
       "      <td>...</td>\n",
       "    </tr>\n",
       "    <tr>\n",
       "      <th>187</th>\n",
       "      <td>Werner Egk (German pronunciation: [ˈɛk], 17 Ma...</td>\n",
       "      <td>1</td>\n",
       "    </tr>\n",
       "    <tr>\n",
       "      <th>188</th>\n",
       "      <td>Gustav Heinrich Ernst Martin Wilhelm Furtwängl...</td>\n",
       "      <td>1</td>\n",
       "    </tr>\n",
       "    <tr>\n",
       "      <th>189</th>\n",
       "      <td>Wilhelm Walter Friedrich Kempff (25 November 1...</td>\n",
       "      <td>1</td>\n",
       "    </tr>\n",
       "    <tr>\n",
       "      <th>190</th>\n",
       "      <td>Will Meisel (17 September 1897 – 29 April 1967...</td>\n",
       "      <td>1</td>\n",
       "    </tr>\n",
       "    <tr>\n",
       "      <th>191</th>\n",
       "      <td>Willi Domgraf-Fassbaender (19 February 1897, A...</td>\n",
       "      <td>1</td>\n",
       "    </tr>\n",
       "  </tbody>\n",
       "</table>\n",
       "<p>192 rows × 2 columns</p>\n",
       "</div>"
      ],
      "text/plain": [
       "                                                  data  label\n",
       "0    Abel Ehrlich  (Hebrew: אבל ארליך; September 3,...      0\n",
       "1    Alexander Zemlinsky or Alexander von Zemlinsky...      0\n",
       "2    Alexander Tansman (Polish: Aleksander Tansman,...      0\n",
       "3    Alfred Szendrei, also Alfred Sendrey and Aladá...      0\n",
       "4    Andre Asriel (22 February 1922 – 28 May 2019) ...      0\n",
       "..                                                 ...    ...\n",
       "187  Werner Egk (German pronunciation: [ˈɛk], 17 Ma...      1\n",
       "188  Gustav Heinrich Ernst Martin Wilhelm Furtwängl...      1\n",
       "189  Wilhelm Walter Friedrich Kempff (25 November 1...      1\n",
       "190  Will Meisel (17 September 1897 – 29 April 1967...      1\n",
       "191  Willi Domgraf-Fassbaender (19 February 1897, A...      1\n",
       "\n",
       "[192 rows x 2 columns]"
      ]
     },
     "execution_count": 3,
     "metadata": {},
     "output_type": "execute_result"
    }
   ],
   "source": [
    "df"
   ]
  },
  {
   "cell_type": "code",
   "execution_count": 5,
   "id": "f0d8d24e",
   "metadata": {
    "scrolled": true
   },
   "outputs": [
    {
     "name": "stdout",
     "output_type": "stream",
     "text": [
      "reached last line28\n",
      "reached last line137\n",
      "reached last line24\n"
     ]
    },
    {
     "ename": "FileNotFoundError",
     "evalue": "[Errno 2] No such file or directory: 'german_datasets/test_labels.txt'",
     "output_type": "error",
     "traceback": [
      "\u001b[0;31m---------------------------------------------------------------------------\u001b[0m",
      "\u001b[0;31mFileNotFoundError\u001b[0m                         Traceback (most recent call last)",
      "Input \u001b[0;32mIn [5]\u001b[0m, in \u001b[0;36m<cell line: 18>\u001b[0;34m()\u001b[0m\n\u001b[1;32m     16\u001b[0m             \u001b[38;5;28mprint\u001b[39m(\u001b[38;5;124mf\u001b[39m\u001b[38;5;124m\"\u001b[39m\u001b[38;5;124mreached last line\u001b[39m\u001b[38;5;132;01m{\u001b[39;00mi\u001b[38;5;132;01m}\u001b[39;00m\u001b[38;5;124m\"\u001b[39m)\n\u001b[1;32m     18\u001b[0m \u001b[38;5;28;01mfor\u001b[39;00m label_file, labels \u001b[38;5;129;01min\u001b[39;00m [(\u001b[38;5;124m\"\u001b[39m\u001b[38;5;124mgerman_datasets/test_labels.txt\u001b[39m\u001b[38;5;124m\"\u001b[39m, Y_test), (\u001b[38;5;124m\"\u001b[39m\u001b[38;5;124mgerman_datasets/train_labels.txt\u001b[39m\u001b[38;5;124m\"\u001b[39m, Y_train), (\u001b[38;5;124m\"\u001b[39m\u001b[38;5;124mgerman_datasets/val_labels.txt\u001b[39m\u001b[38;5;124m\"\u001b[39m, Y_val)]:\n\u001b[0;32m---> 19\u001b[0m     outfile \u001b[38;5;241m=\u001b[39m \u001b[38;5;28;43mopen\u001b[39;49m\u001b[43m(\u001b[49m\u001b[43mlabel_file\u001b[49m\u001b[43m,\u001b[49m\u001b[43m \u001b[49m\u001b[38;5;124;43m'\u001b[39;49m\u001b[38;5;124;43mw\u001b[39;49m\u001b[38;5;124;43m'\u001b[39;49m\u001b[43m)\u001b[49m\n\u001b[1;32m     20\u001b[0m     labels \u001b[38;5;241m=\u001b[39m labels\u001b[38;5;241m.\u001b[39mvalues\u001b[38;5;241m.\u001b[39mtolist()\n\u001b[1;32m     21\u001b[0m     lines \u001b[38;5;241m=\u001b[39m \u001b[38;5;28mlen\u001b[39m(labels)\n",
      "\u001b[0;31mFileNotFoundError\u001b[0m: [Errno 2] No such file or directory: 'german_datasets/test_labels.txt'"
     ]
    }
   ],
   "source": [
    "from sklearn.model_selection import train_test_split\n",
    "\n",
    "X_train, X_test, Y_train, Y_test = train_test_split(df[\"data\"], df[\"label\"], test_size=0.15)\n",
    "X_train, X_val, Y_train, Y_val = train_test_split(X_train, Y_train, test_size=0.15)\n",
    "\n",
    "\n",
    "for text_file, data in [(get_datasets_path().joinpath('test_text.txt'), X_test),\\\n",
    "                        (get_datasets_path().joinpath(\"train_text.txt\"), X_train), \\\n",
    "                        (get_datasets_path().joinpath(\"val_text.txt\"), X_val)]:\n",
    "    out_file = open(text_file, 'w')\n",
    "    data = data.values.tolist()\n",
    "    lines = len(data)\n",
    "    for i in range(lines):\n",
    "        out_file.write(data[i] + \"\\n\")\n",
    "            \n",
    "for label_file, labels in [(get_datasets_path().joinpath(\"test_labels.txt\"), Y_test):,\\\n",
    "                        (get_datasets_path().joinpath(\"train_labels.txt\"), Y_train),\\\n",
    "                            (get_datasets_path().joinpath(\"val_labels.txt\"), Y_val)]:\n",
    "    outfile = open(label_file, 'w')\n",
    "    labels = labels.values.tolist()\n",
    "    lines = len(labels)\n",
    "    for i in range(lines):\n",
    "        outfile.write(str(labels[i]) + \"\\n\")\n",
    "        print(labels[i])\n",
    "        if i == lines-1:\n",
    "            print(f\"reached last line{i}\")"
   ]
  },
  {
   "cell_type": "markdown",
   "id": "9e208720",
   "metadata": {},
   "source": [
    "Adapted Code for Finetuning:\n",
    "https://colab.research.google.com/drive/1IAA1h8u53O1hi9807u7oOFuT3728N0-n?usp=sharing#scrollTo=fvM2mCi2yC8c"
   ]
  },
  {
   "cell_type": "markdown",
   "id": "b9de0497",
   "metadata": {},
   "source": [
    " Raw path to (multilingual) Datasets:\n",
    "f\"https://raw.githubusercontent.com/jessicajhassibi/Bachelor-Thesis/main/notebooks/datasets/{f}\"\n"
   ]
  },
  {
   "cell_type": "markdown",
   "id": "db39806e",
   "metadata": {},
   "source": [
    "Load best BERT classification model and try on an unseed text"
   ]
  },
  {
   "cell_type": "code",
   "execution_count": null,
   "id": "1ebf57d2",
   "metadata": {},
   "outputs": [],
   "source": []
  }
 ],
 "metadata": {
  "kernelspec": {
   "display_name": "Python [conda env:thesis] *",
   "language": "python",
   "name": "conda-env-thesis-py"
  },
  "language_info": {
   "codemirror_mode": {
    "name": "ipython",
    "version": 3
   },
   "file_extension": ".py",
   "mimetype": "text/x-python",
   "name": "python",
   "nbconvert_exporter": "python",
   "pygments_lexer": "ipython3",
   "version": "3.9.12"
  }
 },
 "nbformat": 4,
 "nbformat_minor": 5
}
