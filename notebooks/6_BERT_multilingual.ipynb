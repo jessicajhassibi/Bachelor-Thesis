{
 "cells": [
  {
   "cell_type": "code",
   "execution_count": 41,
   "id": "105f5b7a",
   "metadata": {},
   "outputs": [],
   "source": [
    "import sys\n",
    "sys.path.append('../src')\n",
    "from data import get_data_and_labels_lists, get_dataframes\n",
    "import pandas as pd"
   ]
  },
  {
   "cell_type": "code",
   "execution_count": 40,
   "id": "521b5a38",
   "metadata": {
    "scrolled": true
   },
   "outputs": [],
   "source": [
    "#Case for paragraphs\n",
    "docs, targets = get_data_and_labels_lists(\"paragraphs\")\n",
    "df = pd.DataFrame(list(zip(docs, targets)),\n",
    "                   columns =['data', 'label'])\n",
    "df = df.reset_index()  # make sure indexes pair with number of rows\n",
    "for index, row in df.iterrows():\n",
    "    for sentence in row[\"data\"]:\n",
    "        if not sentence.strip():\n",
    "            df = df.drop(index)\n",
    "            \n",
    "from sklearn.model_selection import train_test_split\n",
    "\n",
    "X_train, X_test, Y_train, Y_test = train_test_split(df[\"data\"], df[\"label\"], test_size=0.15)\n",
    "X_train, X_val, Y_train, Y_val = train_test_split(X_train, Y_train, test_size=0.15)\n",
    "\n",
    "test_text = open(\"datasets/test_text.txt\", 'w')\n",
    "for sentences in X_test:\n",
    "    for sentence in sentences{:\n",
    "        test_text.write(sentence + \"\\n\")\n",
    "test_labels = open(\"datasets/test_labels.txt\", 'w')\n",
    "for label in Y_test:\n",
    "    test_labels.write(str(label) + \"\\n\")\n",
    "        \n",
    "train_text = open(\"datasets/train_text.txt\", 'w')\n",
    "for sentences in X_train:\n",
    "    for sentence in sentences:\n",
    "        train_text.write(sentence + \"\\n\")\n",
    "train_labels = open(\"datasets/train_labels.txt\", 'w')\n",
    "for label in Y_train:\n",
    "    train_labels.write(str(label) + \"\\n\")\n",
    "    \n",
    "val_text = open(\"datasets/val_text.txt\", 'w')\n",
    "for sentences in X_val:\n",
    "    for sentence in sentences:\n",
    "        val_text.write(sentence + \"\\n\")\n",
    "val_labels = open(\"datasets/val_labels.txt\", 'w')\n",
    "for label in Y_val:\n",
    "    val_labels.write(str(label) + \"\\n\")"
   ]
  },
  {
   "cell_type": "code",
   "execution_count": 64,
   "id": "021d4165",
   "metadata": {},
   "outputs": [],
   "source": [
    "# Case for texts\n",
    "df = get_dataframes().reset_index().drop([\"index\"], axis=1)\n",
    "df = df[[\"texts\", 'label']].copy()\n",
    "df = df.rename(columns={\"texts\": 'data'})"
   ]
  },
  {
   "cell_type": "code",
   "execution_count": 66,
   "id": "d5abbf64",
   "metadata": {},
   "outputs": [
    {
     "data": {
      "text/html": [
       "<div>\n",
       "<style scoped>\n",
       "    .dataframe tbody tr th:only-of-type {\n",
       "        vertical-align: middle;\n",
       "    }\n",
       "\n",
       "    .dataframe tbody tr th {\n",
       "        vertical-align: top;\n",
       "    }\n",
       "\n",
       "    .dataframe thead th {\n",
       "        text-align: right;\n",
       "    }\n",
       "</style>\n",
       "<table border=\"1\" class=\"dataframe\">\n",
       "  <thead>\n",
       "    <tr style=\"text-align: right;\">\n",
       "      <th></th>\n",
       "      <th>data</th>\n",
       "      <th>label</th>\n",
       "    </tr>\n",
       "  </thead>\n",
       "  <tbody>\n",
       "    <tr>\n",
       "      <th>0</th>\n",
       "      <td>Abel Ehrlich (* 3. September 1915 in Cranz/Ost...</td>\n",
       "      <td>0</td>\n",
       "    </tr>\n",
       "    <tr>\n",
       "      <th>1</th>\n",
       "      <td>Alexander (von) Zemlinsky, Pseudonym Al Robert...</td>\n",
       "      <td>0</td>\n",
       "    </tr>\n",
       "    <tr>\n",
       "      <th>2</th>\n",
       "      <td>Alexandre Tansman (französisch Alexandré Tansm...</td>\n",
       "      <td>0</td>\n",
       "    </tr>\n",
       "    <tr>\n",
       "      <th>3</th>\n",
       "      <td>Alfred Szendrei, auch Alfred Sendrey und Aladá...</td>\n",
       "      <td>0</td>\n",
       "    </tr>\n",
       "    <tr>\n",
       "      <th>4</th>\n",
       "      <td>Andre Asriel (* 22. Februar 1922 in Wien; † 28...</td>\n",
       "      <td>0</td>\n",
       "    </tr>\n",
       "    <tr>\n",
       "      <th>...</th>\n",
       "      <td>...</td>\n",
       "      <td>...</td>\n",
       "    </tr>\n",
       "    <tr>\n",
       "      <th>453</th>\n",
       "      <td>Werner Egk (German pronunciation: [ˈɛk], 17 Ma...</td>\n",
       "      <td>1</td>\n",
       "    </tr>\n",
       "    <tr>\n",
       "      <th>454</th>\n",
       "      <td>Gustav Heinrich Ernst Martin Wilhelm Furtwängl...</td>\n",
       "      <td>1</td>\n",
       "    </tr>\n",
       "    <tr>\n",
       "      <th>455</th>\n",
       "      <td>Wilhelm Walter Friedrich Kempff (25 November 1...</td>\n",
       "      <td>1</td>\n",
       "    </tr>\n",
       "    <tr>\n",
       "      <th>456</th>\n",
       "      <td>Will Meisel (17 September 1897 – 29 April 1967...</td>\n",
       "      <td>1</td>\n",
       "    </tr>\n",
       "    <tr>\n",
       "      <th>457</th>\n",
       "      <td>Willi Domgraf-Fassbaender (19 February 1897, A...</td>\n",
       "      <td>1</td>\n",
       "    </tr>\n",
       "  </tbody>\n",
       "</table>\n",
       "<p>458 rows × 2 columns</p>\n",
       "</div>"
      ],
      "text/plain": [
       "                                                  data  label\n",
       "0    Abel Ehrlich (* 3. September 1915 in Cranz/Ost...      0\n",
       "1    Alexander (von) Zemlinsky, Pseudonym Al Robert...      0\n",
       "2    Alexandre Tansman (französisch Alexandré Tansm...      0\n",
       "3    Alfred Szendrei, auch Alfred Sendrey und Aladá...      0\n",
       "4    Andre Asriel (* 22. Februar 1922 in Wien; † 28...      0\n",
       "..                                                 ...    ...\n",
       "453  Werner Egk (German pronunciation: [ˈɛk], 17 Ma...      1\n",
       "454  Gustav Heinrich Ernst Martin Wilhelm Furtwängl...      1\n",
       "455  Wilhelm Walter Friedrich Kempff (25 November 1...      1\n",
       "456  Will Meisel (17 September 1897 – 29 April 1967...      1\n",
       "457  Willi Domgraf-Fassbaender (19 February 1897, A...      1\n",
       "\n",
       "[458 rows x 2 columns]"
      ]
     },
     "execution_count": 66,
     "metadata": {},
     "output_type": "execute_result"
    }
   ],
   "source": [
    "df"
   ]
  },
  {
   "cell_type": "code",
   "execution_count": 76,
   "id": "77ebcba0",
   "metadata": {},
   "outputs": [
    {
     "name": "stdout",
     "output_type": "stream",
     "text": [
      "reached last line68\n",
      "reached last line329\n",
      "reached last line58\n",
      "reached last line68\n",
      "reached last line329\n",
      "reached last line58\n"
     ]
    }
   ],
   "source": [
    "from sklearn.model_selection import train_test_split\n",
    "\n",
    "X_train, X_test, Y_train, Y_test = train_test_split(df[\"data\"], df[\"label\"], test_size=0.15)\n",
    "X_train, X_val, Y_train, Y_val = train_test_split(X_train, Y_train, test_size=0.15)\n",
    "\n",
    "\n",
    "for text_file, data in [(\"datasets/test_text.txt\", X_test), (\"datasets/train_text.txt\", X_train), (\"datasets/val_text.txt\", X_val)]:\n",
    "    out_file = open(text_file, 'w')\n",
    "    lines = len(data)\n",
    "    for i in range(data):\n",
    "        if i != lines-1:\n",
    "            out_file.write(data[i] + \"\\n\")\n",
    "        else:\n",
    "            print(f\"reached last line{i}\")\n",
    "            out_file.write(data[i])\n",
    "            \n",
    "for label_file, labels in [, ()\"datasets/train_labels.txt\"]\n",
    "for label in Y_test:\n",
    "    test_labels.write(str(label) + \"\\n\")\n",
    "        \n",
    "train_labels = open(\"datasets/train_labels.txt\", 'w')\n",
    "\n",
    "for label in Y_train:\n",
    "    train_labels.write(str(label) + \"\\n\")\n",
    "    \n",
    "        \n",
    "val_labels = open(\"datasets/val_labels.txt\", 'w')\n",
    "for label in Y_val:\n",
    "    val_labels.write(str(label) + \"\\n\")"
   ]
  },
  {
   "cell_type": "markdown",
   "id": "292990af",
   "metadata": {},
   "source": [
    " f\"https://raw.githubusercontent.com/jessicajhassibi/Bachelor-Thesis/main/notebooks/datasets/{f}\""
   ]
  },
  {
   "cell_type": "code",
   "execution_count": 81,
   "id": "e70ad35e",
   "metadata": {},
   "outputs": [
    {
     "name": "stdout",
     "output_type": "stream",
     "text": [
      "reached last line68\n",
      "reached last line329\n",
      "reached last line58\n",
      "reached last line68\n",
      "reached last line329\n",
      "reached last line58\n"
     ]
    }
   ],
   "source": [
    "from sklearn.model_selection import train_test_split\n",
    "\n",
    "X_train, X_test, Y_train, Y_test = train_test_split(df[\"data\"], df[\"label\"], test_size=0.15)\n",
    "X_train, X_val, Y_train, Y_val = train_test_split(X_train, Y_train, test_size=0.15)\n",
    "\n",
    "\n",
    "for text_file, data in [(\"datasets/test_text.txt\", X_test), (\"datasets/train_text.txt\", X_train), (\"datasets/val_text.txt\", X_val)]:\n",
    "    out_file = open(text_file, 'w')\n",
    "    data = data.values.tolist()\n",
    "    lines = len(data)\n",
    "    for i in range(lines):\n",
    "        out_file.write(data[i] + \"\\n\")\n",
    "        if i == lines-1:\n",
    "            print(f\"reached last line{i}\")\n",
    "            \n",
    "for label_file, labels in [(\"datasets/test_labels.txt\", Y_test), (\"datasets/train_labels.txt\", Y_train), (\"datasets/val_labels.txt\", Y_val)]:\n",
    "    outfile = open(label_file, 'w')\n",
    "    labels = labels.values.tolist()\n",
    "    lines = len(labels)\n",
    "    for i in range(lines):\n",
    "        outfile.write(str(labels[i]) + \"\\n\")\n",
    "        if i == lines-1:\n",
    "            print(f\"reached last line{i}\")"
   ]
  },
  {
   "cell_type": "code",
   "execution_count": null,
   "id": "160ac88a",
   "metadata": {},
   "outputs": [],
   "source": []
  }
 ],
 "metadata": {
  "kernelspec": {
   "display_name": "Python [conda env:thesis] *",
   "language": "python",
   "name": "conda-env-thesis-py"
  },
  "language_info": {
   "codemirror_mode": {
    "name": "ipython",
    "version": 3
   },
   "file_extension": ".py",
   "mimetype": "text/x-python",
   "name": "python",
   "nbconvert_exporter": "python",
   "pygments_lexer": "ipython3",
   "version": "3.9.12"
  }
 },
 "nbformat": 4,
 "nbformat_minor": 5
}
