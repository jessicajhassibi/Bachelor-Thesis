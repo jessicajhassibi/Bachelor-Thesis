{
 "cells": [
  {
   "cell_type": "code",
   "execution_count": 2,
   "id": "45b029e2",
   "metadata": {},
   "outputs": [
    {
     "name": "stderr",
     "output_type": "stream",
     "text": [
      "[nltk_data] Downloading package stopwords to /root/nltk_data...\n",
      "[nltk_data]   Package stopwords is already up-to-date!\n"
     ]
    },
    {
     "name": "stdout",
     "output_type": "stream",
     "text": [
      "loaded spacy language model: en_core_web_sm\n"
     ]
    }
   ],
   "source": [
    "import sys\n",
    "sys.path.append('../src')\n",
    "from data import get_documents_list\n",
    "\n",
    "from sentence_transformers import SentenceTransformer"
   ]
  },
  {
   "cell_type": "markdown",
   "id": "137a04ab",
   "metadata": {},
   "source": [
    "https://www.sbert.net/docs/pretrained_models.html#multi-lingual-models"
   ]
  },
  {
   "cell_type": "code",
   "execution_count": 3,
   "id": "64065cab",
   "metadata": {},
   "outputs": [],
   "source": [
    "embedder = SentenceTransformer('distiluse-base-multilingual-cased-v1')"
   ]
  },
  {
   "cell_type": "code",
   "execution_count": 49,
   "id": "7fb5ca4f",
   "metadata": {},
   "outputs": [],
   "source": [
    "from data import get_documents_list, get_cleaned_dataframe_with_topics\n",
    "from models import classification, get_embedding_model, get_BERTopic_model\n",
    "\n",
    "df = get_cleaned_dataframe_with_topics()\n",
    "df['cleaned_texts_embeddings'] = df['cleaned_texts'].apply(embedder.encode)\n",
    "#df.head() # überall doppelte Klammern!\n",
    "\n",
    "#embeddings = embedder.encode(documents)"
   ]
  },
  {
   "cell_type": "code",
   "execution_count": 50,
   "id": "ce726dbc",
   "metadata": {},
   "outputs": [],
   "source": [
    "from sklearn.model_selection import train_test_split\n",
    "X_train, X_test, y_train, y_test = train_test_split(df['cleaned_texts_embeddings'], df['label'], test_size=0.2)"
   ]
  },
  {
   "cell_type": "code",
   "execution_count": 51,
   "id": "dbab6ea4",
   "metadata": {},
   "outputs": [],
   "source": [
    "X_train_vect_avg = classification.average_vector(X_train)\n",
    "X_test_vect_avg = classification.average_vector(X_test)"
   ]
  },
  {
   "cell_type": "code",
   "execution_count": 52,
   "id": "63970d3b",
   "metadata": {},
   "outputs": [
    {
     "name": "stdout",
     "output_type": "stream",
     "text": [
      "############################################################################\n",
      "Processing Random Forest Classification\n",
      "\n",
      "              precision    recall  f1-score   support\n",
      "\n",
      "    verfolgt       1.00      0.81      0.90        37\n",
      "    begnadet       0.12      1.00      0.22         1\n",
      "\n",
      "    accuracy                           0.82        38\n",
      "   macro avg       0.56      0.91      0.56        38\n",
      "weighted avg       0.98      0.82      0.88        38\n",
      "\n",
      "classes in y_pred: {0, 1} classes in y_test: {0, 1}\n",
      "############################################################################\n",
      "############################################################################\n",
      "Processing Multinomial Naive Bayes Classification\n",
      "\n",
      "              precision    recall  f1-score   support\n",
      "\n",
      "    verfolgt       0.87      0.81      0.84        32\n",
      "    begnadet       0.25      0.33      0.29         6\n",
      "\n",
      "    accuracy                           0.74        38\n",
      "   macro avg       0.56      0.57      0.56        38\n",
      "weighted avg       0.77      0.74      0.75        38\n",
      "\n",
      "classes in y_pred: {0, 1} classes in y_test: {0, 1}\n",
      "############################################################################\n",
      "############################################################################\n",
      "Processing SVM Classification\n",
      "\n",
      "              precision    recall  f1-score   support\n",
      "\n",
      "    verfolgt       1.00      0.79      0.88        38\n",
      "    begnadet       0.00      0.00      0.00         0\n",
      "\n",
      "    accuracy                           0.79        38\n",
      "   macro avg       0.50      0.39      0.44        38\n",
      "weighted avg       1.00      0.79      0.88        38\n",
      "\n",
      "classes in y_pred: {0, 1} classes in y_test: {0}\n",
      "############################################################################\n"
     ]
    }
   ],
   "source": [
    "y_pred = classification.classify_predict(X_train_vect_avg, X_test_vect_avg, y_train, \"Random Forest\")\n",
    "classification.print_classification_report(y_test, y_pred)\n",
    "\n",
    "y_pred = classification.classify_predict(X_train_vect_avg, X_test_vect_avg, y_train, \"Multinomial Naive Bayes\")\n",
    "classification.print_classification_report(y_test, y_pred)\n",
    "\n",
    "y_pred = classification.classify_predict(X_train_vect_avg, X_test_vect_avg, y_train, \"SVM\")\n",
    "classification.print_classification_report(y_test, y_pred)"
   ]
  },
  {
   "cell_type": "code",
   "execution_count": 53,
   "id": "ecc568b2",
   "metadata": {
    "pycharm": {
     "name": "#%%\n"
    }
   },
   "outputs": [
    {
     "name": "stdout",
     "output_type": "stream",
     "text": [
      "0    127\n",
      "1     22\n",
      "Name: label, dtype: int64\n"
     ]
    },
    {
     "data": {
      "text/plain": [
       "<AxesSubplot: ylabel='label'>"
      ]
     },
     "execution_count": 53,
     "metadata": {},
     "output_type": "execute_result"
    },
    {
     "data": {
      "image/png": "[encoded data removed]",
      "text/plain": [
       "<Figure size 432x288 with 1 Axes>"
      ]
     },
     "metadata": {},
     "output_type": "display_data"
    }
   ],
   "source": [
    "print(y_train.value_counts())\n",
    "y_train.value_counts().plot.pie(autopct='%0.2f')"
   ]
  },
  {
   "cell_type": "markdown",
   "id": "b75476f3",
   "metadata": {
    "pycharm": {
     "name": "#%% md\n"
    }
   },
   "source": [
    "Highly Imbalanced Dataset!\n",
    "Ideas:\n",
    "- Undersampling: reduce majority class to make it equal to minority class\n",
    "- Oversampling: increase minority class to make it equal to majority class through resampling\n",
    "- K-fold cross validation"
   ]
  },
  {
   "cell_type": "markdown",
   "id": "4262d2fc",
   "metadata": {
    "pycharm": {
     "name": "#%% md\n"
    }
   },
   "source": [
    "## Oversampling"
   ]
  },
  {
   "cell_type": "code",
   "execution_count": 54,
   "id": "aca546ba",
   "metadata": {
    "pycharm": {
     "name": "#%%\n"
    }
   },
   "outputs": [
    {
     "name": "stdout",
     "output_type": "stream",
     "text": [
      "huggingface/tokenizers: The current process just got forked, after parallelism has already been used. Disabling parallelism to avoid deadlocks...\n",
      "To disable this warning, you can either:\n",
      "\t- Avoid using `tokenizers` before the fork if possible\n",
      "\t- Explicitly set the environment variable TOKENIZERS_PARALLELISM=(true | false)\n",
      "Requirement already satisfied: imblearn in /opt/conda/envs/thesis/lib/python3.9/site-packages (0.0)\n",
      "Requirement already satisfied: imbalanced-learn in /opt/conda/envs/thesis/lib/python3.9/site-packages (from imblearn) (0.9.1)\n",
      "Requirement already satisfied: joblib>=1.0.0 in /opt/conda/envs/thesis/lib/python3.9/site-packages (from imbalanced-learn->imblearn) (1.1.0)\n",
      "Requirement already satisfied: scipy>=1.3.2 in /opt/conda/envs/thesis/lib/python3.9/site-packages (from imbalanced-learn->imblearn) (1.7.3)\n",
      "Requirement already satisfied: threadpoolctl>=2.0.0 in /opt/conda/envs/thesis/lib/python3.9/site-packages (from imbalanced-learn->imblearn) (2.2.0)\n",
      "Requirement already satisfied: numpy>=1.17.3 in /opt/conda/envs/thesis/lib/python3.9/site-packages (from imbalanced-learn->imblearn) (1.21.5)\n",
      "Requirement already satisfied: scikit-learn>=1.1.0 in /opt/conda/envs/thesis/lib/python3.9/site-packages (from imbalanced-learn->imblearn) (1.1.2)\n",
      "\u001b[33mWARNING: Running pip as the 'root' user can result in broken permissions and conflicting behaviour with the system package manager. It is recommended to use a virtual environment instead: https://pip.pypa.io/warnings/venv\u001b[0m\n"
     ]
    }
   ],
   "source": [
    "!pip install imblearn\n",
    "from imblearn.over_sampling import RandomOverSampler\n",
    "\n",
    "ros = RandomOverSampler(sampling_strategy=\"not majority\")\n",
    "X_train_2d = X_train.values.reshape(-1, 1) # puts each elem of array in own array\n",
    "X_res, y_res = ros.fit_resample(X_train_2d, y_train)"
   ]
  },
  {
   "cell_type": "code",
   "execution_count": 55,
   "id": "8b0b1a53",
   "metadata": {},
   "outputs": [
    {
     "name": "stdout",
     "output_type": "stream",
     "text": [
      "1    127\n",
      "0    127\n",
      "Name: label, dtype: int64\n"
     ]
    },
    {
     "data": {
      "text/plain": [
       "<AxesSubplot: ylabel='label'>"
      ]
     },
     "execution_count": 55,
     "metadata": {},
     "output_type": "execute_result"
    },
    {
     "data": {
      "image/png": "[encoded data removed]",
      "text/plain": [
       "<Figure size 432x288 with 1 Axes>"
      ]
     },
     "metadata": {},
     "output_type": "display_data"
    }
   ],
   "source": [
    "print(y_res.value_counts())\n",
    "y_res.value_counts().plot.pie(autopct='%0.2f')"
   ]
  },
  {
   "cell_type": "code",
   "execution_count": 57,
   "id": "a0808cb8",
   "metadata": {
    "pycharm": {
     "name": "#%%\n"
    }
   },
   "outputs": [],
   "source": [
    "#X_res revert 2_dimensionality\n",
    "X_res_1d = X_res.flatten()\n",
    "\n",
    "# classification with resampled vectors\n",
    "X_res_vect_avg = classification.average_vector(X_res_1d)"
   ]
  },
  {
   "cell_type": "code",
   "execution_count": 58,
   "id": "11fa4660",
   "metadata": {
    "pycharm": {
     "name": "#%%\n"
    }
   },
   "outputs": [
    {
     "name": "stdout",
     "output_type": "stream",
     "text": [
      "############################################################################\n",
      "Processing Random Forest Classification\n",
      "\n",
      "              precision    recall  f1-score   support\n",
      "\n",
      "    verfolgt       0.97      0.78      0.87        37\n",
      "    begnadet       0.00      0.00      0.00         1\n",
      "\n",
      "    accuracy                           0.76        38\n",
      "   macro avg       0.48      0.39      0.43        38\n",
      "weighted avg       0.94      0.76      0.84        38\n",
      "\n",
      "classes in y_pred: {0, 1} classes in y_test: {0, 1}\n",
      "############################################################################\n",
      "############################################################################\n",
      "Processing Multinomial Naive Bayes Classification\n",
      "\n",
      "              precision    recall  f1-score   support\n",
      "\n",
      "    verfolgt       0.87      0.90      0.88        29\n",
      "    begnadet       0.62      0.56      0.59         9\n",
      "\n",
      "    accuracy                           0.82        38\n",
      "   macro avg       0.75      0.73      0.73        38\n",
      "weighted avg       0.81      0.82      0.81        38\n",
      "\n",
      "classes in y_pred: {0, 1} classes in y_test: {0, 1}\n",
      "############################################################################\n",
      "############################################################################\n",
      "Processing SVM Classification\n",
      "\n",
      "              precision    recall  f1-score   support\n",
      "\n",
      "    verfolgt       0.90      0.93      0.92        29\n",
      "    begnadet       0.75      0.67      0.71         9\n",
      "\n",
      "    accuracy                           0.87        38\n",
      "   macro avg       0.82      0.80      0.81        38\n",
      "weighted avg       0.86      0.87      0.87        38\n",
      "\n",
      "classes in y_pred: {0, 1} classes in y_test: {0, 1}\n",
      "############################################################################\n"
     ]
    }
   ],
   "source": [
    "y_res_pred = classification.classify_predict(X_res_vect_avg, X_test_vect_avg, y_res, \"Random Forest\")\n",
    "classification.print_classification_report(y_test, y_res_pred)\n",
    "y_res_pred = classification.classify_predict(X_res_vect_avg, X_test_vect_avg, y_res, \"Multinomial Naive Bayes\")\n",
    "classification.print_classification_report(y_test, y_res_pred)\n",
    "y_res_pred = classification.classify_predict(X_res_vect_avg, X_test_vect_avg, y_res, \"SVM\")\n",
    "classification.print_classification_report(y_test, y_res_pred)"
   ]
  },
  {
   "cell_type": "markdown",
   "id": "8a52d995",
   "metadata": {},
   "source": [
    "## Undersampling"
   ]
  },
  {
   "cell_type": "code",
   "execution_count": 59,
   "id": "e44cf878",
   "metadata": {},
   "outputs": [],
   "source": [
    "from imblearn.under_sampling import RandomUnderSampler\n",
    "\n",
    "rus = RandomUnderSampler(random_state=0, sampling_strategy=\"majority\")\n",
    "X_resampled, y_resampled = rus.fit_resample(X_train_2d, y_train)"
   ]
  },
  {
   "cell_type": "code",
   "execution_count": 60,
   "id": "8095f413",
   "metadata": {},
   "outputs": [
    {
     "name": "stdout",
     "output_type": "stream",
     "text": [
      "0    22\n",
      "1    22\n",
      "Name: label, dtype: int64\n"
     ]
    },
    {
     "data": {
      "text/plain": [
       "<AxesSubplot: ylabel='label'>"
      ]
     },
     "execution_count": 60,
     "metadata": {},
     "output_type": "execute_result"
    },
    {
     "data": {
      "image/png": "[encoded data removed]",
      "text/plain": [
       "<Figure size 432x288 with 1 Axes>"
      ]
     },
     "metadata": {},
     "output_type": "display_data"
    }
   ],
   "source": [
    "print(y_resampled.value_counts())\n",
    "y_res.value_counts().plot.pie(autopct='%0.2f')"
   ]
  },
  {
   "cell_type": "code",
   "execution_count": 61,
   "id": "c3b4af7a",
   "metadata": {},
   "outputs": [],
   "source": [
    "#X_res revert 2_dimensionality\n",
    "X_resampled_1d = X_resampled.flatten()\n",
    "\n",
    "# classification with resampled vectors\n",
    "X_resampled_vect_avg = classification.average_vector(X_resampled_1d)"
   ]
  },
  {
   "cell_type": "code",
   "execution_count": 62,
   "id": "49aa2a05",
   "metadata": {},
   "outputs": [
    {
     "name": "stdout",
     "output_type": "stream",
     "text": [
      "############################################################################\n",
      "Processing Random Forest Classification\n",
      "\n",
      "              precision    recall  f1-score   support\n",
      "\n",
      "    verfolgt       0.87      0.90      0.88        29\n",
      "    begnadet       0.62      0.56      0.59         9\n",
      "\n",
      "    accuracy                           0.82        38\n",
      "   macro avg       0.75      0.73      0.73        38\n",
      "weighted avg       0.81      0.82      0.81        38\n",
      "\n",
      "classes in y_pred: {0, 1} classes in y_test: {0, 1}\n",
      "############################################################################\n",
      "############################################################################\n",
      "Processing Multinomial Naive Bayes Classification\n",
      "\n",
      "              precision    recall  f1-score   support\n",
      "\n",
      "    verfolgt       0.87      0.93      0.90        28\n",
      "    begnadet       0.75      0.60      0.67        10\n",
      "\n",
      "    accuracy                           0.84        38\n",
      "   macro avg       0.81      0.76      0.78        38\n",
      "weighted avg       0.84      0.84      0.84        38\n",
      "\n",
      "classes in y_pred: {0, 1} classes in y_test: {0, 1}\n",
      "############################################################################\n",
      "############################################################################\n",
      "Processing SVM Classification\n",
      "\n",
      "              precision    recall  f1-score   support\n",
      "\n",
      "    verfolgt       0.87      0.93      0.90        28\n",
      "    begnadet       0.75      0.60      0.67        10\n",
      "\n",
      "    accuracy                           0.84        38\n",
      "   macro avg       0.81      0.76      0.78        38\n",
      "weighted avg       0.84      0.84      0.84        38\n",
      "\n",
      "classes in y_pred: {0, 1} classes in y_test: {0, 1}\n",
      "############################################################################\n"
     ]
    }
   ],
   "source": [
    "y_resampled_pred = classification.classify_predict(X_resampled_vect_avg, X_test_vect_avg, y_resampled, \"Random Forest\")\n",
    "classification.print_classification_report(y_test, y_resampled_pred)\n",
    "y_resampled_pred = classification.classify_predict(X_resampled_vect_avg, X_test_vect_avg, y_resampled, \"Multinomial Naive Bayes\")\n",
    "classification.print_classification_report(y_test, y_resampled_pred)\n",
    "y_resampled_pred = classification.classify_predict(X_resampled_vect_avg, X_test_vect_avg, y_resampled, \"SVM\")\n",
    "classification.print_classification_report(y_test, y_resampled_pred)"
   ]
  },
  {
   "cell_type": "code",
   "execution_count": null,
   "id": "4bb09930",
   "metadata": {},
   "outputs": [],
   "source": []
  }
 ],
 "metadata": {
  "kernelspec": {
   "display_name": "Python 3 (ipykernel)",
   "language": "python",
   "name": "python3"
  },
  "language_info": {
   "codemirror_mode": {
    "name": "ipython",
    "version": 3
   },
   "file_extension": ".py",
   "mimetype": "text/x-python",
   "name": "python",
   "nbconvert_exporter": "python",
   "pygments_lexer": "ipython3",
   "version": "3.9.12"
  }
 },
 "nbformat": 4,
 "nbformat_minor": 5
}
