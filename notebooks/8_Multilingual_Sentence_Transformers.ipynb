{
 "cells": [
  {
   "cell_type": "code",
   "execution_count": null,
   "id": "45b029e2",
   "metadata": {},
   "outputs": [
    {
     "name": "stderr",
     "output_type": "stream",
     "text": [
      "[nltk_data] Downloading package stopwords to /root/nltk_data...\n",
      "[nltk_data]   Package stopwords is already up-to-date!\n"
     ]
    }
   ],
   "source": [
    "import sys\n",
    "sys.path.append('../src')\n",
    "from data import get_documents_list, get_cleaned_dataframe_with_topics, get_data_and_labels_lists, get_sbert_models_path, get_languages\n",
    "from models import classification\n",
    "from sentence_transformers import SentenceTransformer\n",
    "import pandas as pd\n",
    "from imblearn.over_sampling import RandomOverSampler\n",
    "from imblearn.under_sampling import RandomUnderSampler\n",
    "import pickle"
   ]
  },
  {
   "cell_type": "markdown",
   "id": "70af5e62",
   "metadata": {},
   "source": [
    "### Choose Parameters: \n",
    "- text_type = \"cleaned_texts\", \"cleaned_sentences\", \"cleaned_paragraphs\"\n",
    "    -> text type for applying classification on\n",
    "    \n",
    "e.g. text_type = \"cleaned_paragraphs\", model = \"distiluse-base-multilingual-cased-v1\""
   ]
  },
  {
   "cell_type": "code",
   "execution_count": null,
   "id": "f3b13a9e",
   "metadata": {},
   "outputs": [],
   "source": [
    "text_type = \"sentences\"\n",
    "model = \"distiluse-base-multilingual-cased-v1\""
   ]
  },
  {
   "cell_type": "markdown",
   "id": "ef131b14",
   "metadata": {},
   "source": [
    "https://www.sbert.net/docs/pretrained_models.html#multi-lingual-models"
   ]
  },
  {
   "cell_type": "code",
   "execution_count": null,
   "id": "eef08ed0",
   "metadata": {},
   "outputs": [],
   "source": [
    "docs, targets = get_data_and_labels_lists(text_type)"
   ]
  },
  {
   "cell_type": "code",
   "execution_count": null,
   "id": "fc1895fc",
   "metadata": {},
   "outputs": [],
   "source": [
    "languages_string =  \"_\".join(get_languages())\n",
    "model_path = get_sbert_models_path().joinpath(f'st_{languages_string}_{text_type}_{model}.pkl')"
   ]
  },
  {
   "cell_type": "code",
   "execution_count": null,
   "id": "dfdbcd12",
   "metadata": {},
   "outputs": [],
   "source": [
    "docs, targets = get_data_and_labels_lists(text_type)\n",
    "try:\n",
    "    #Load sentences & embeddings from disc\n",
    "    with open(model_path, \"rb\") as fIn:\n",
    "        stored_data = pickle.load(fIn)\n",
    "        data = stored_data['data']\n",
    "        embeddings = stored_data['data_embeddings']\n",
    "        df = pd.DataFrame(list(zip(docs, embeddings, targets)), columns =['data', 'data_embeddings', 'label'])\n",
    "except FileNotFoundError as err:\n",
    "    embedder = SentenceTransformer(model)\n",
    "    df = pd.DataFrame(list(zip(docs, targets)), columns =['data', 'label'])\n",
    "    df['data_embeddings'] = df['data'].apply(embedder.encode)\n",
    "    embeddings = df['data_embeddings'].tolist()\n",
    "    #Store sentences & embeddings on disc\n",
    "    with open(model_path, \"wb\") as fOut:\n",
    "        pickle.dump({'data': docs, 'data_embeddings': embeddings}, fOut, protocol=pickle.HIGHEST_PROTOCOL)"
   ]
  },
  {
   "cell_type": "code",
   "execution_count": null,
   "id": "897e2120",
   "metadata": {},
   "outputs": [],
   "source": [
    "from sklearn.model_selection import train_test_split\n",
    "X_train, X_test, y_train, y_test = train_test_split(df['data_embeddings'], df['label'], test_size=0.2)"
   ]
  },
  {
   "cell_type": "code",
   "execution_count": null,
   "id": "e1674d9f",
   "metadata": {},
   "outputs": [],
   "source": [
    "X_train_vect_avg = classification.average_text_vector(X_train)\n",
    "X_test_vect_avg = classification.average_text_vector(X_test)"
   ]
  },
  {
   "cell_type": "code",
   "execution_count": null,
   "id": "98ae619d",
   "metadata": {},
   "outputs": [],
   "source": [
    "resampling = True"
   ]
  },
  {
   "cell_type": "code",
   "execution_count": null,
   "id": "8e8c2a52",
   "metadata": {},
   "outputs": [],
   "source": [
    "if not resampling:\n",
    "    print(\"CLASSIFICATION WITHOUT SAMPLING:\")\n",
    "    #y_pred = classification.classify_predict(X_train_vect_avg, X_test_vect_avg, y_train, \"Random Forest\")\n",
    "    #classification.print_classification_report(y_test, y_pred)\n",
    "\n",
    "    y_pred = classification.classify_predict(X_train_vect_avg, X_test_vect_avg, y_train, \"Multinomial Naive Bayes\")\n",
    "    classification.print_classification_report(y_test, y_pred)\n",
    "\n",
    "    y_pred = classification.classify_predict(X_train_vect_avg, X_test_vect_avg, y_train, \"SVM\")\n",
    "    classification.print_classification_report(y_test, y_pred)\n",
    "    \n",
    "    print(y_train.value_counts())\n",
    "    y_train.value_counts().plot.pie(autopct='%0.2f')\n",
    "    \n",
    "else:\n",
    "    ros = RandomOverSampler(sampling_strategy=\"not majority\")\n",
    "    rus = RandomUnderSampler(random_state=0, sampling_strategy=\"majority\")\n",
    "    \n",
    "    for sampler, method in [(ros, \"OVERSAMPLING\"),(rus, \"UNDERSAMPLING\")]:\n",
    "        print(f\"CLASSIFICATION WITH:{method}\")\n",
    "            \n",
    "        X_train_2d = X_train.values.reshape(-1, 1) # puts each elem of array in own array\n",
    "        X_res, y_res = sampler.fit_resample(X_train_2d, y_train)\n",
    "        \n",
    "        print(y_res.value_counts())\n",
    "        y_res.value_counts().plot.pie(autopct='%0.2f')\n",
    "        \n",
    "        #X_res revert 2_dimensionality\n",
    "        X_res_1d = X_res.flatten()\n",
    "\n",
    "        # classification with resampled vectors\n",
    "        X_res_vect_avg = classification.average_text_vector(X_res_1d)\n",
    "\n",
    "        #y_res_pred = classification.classify_predict(X_res_vect_avg, X_test_vect_avg, y_res, \"Random Forest\")\n",
    "        #classification.print_classification_report(y_test, y_res_pred)\n",
    "        y_res_pred = classification.classify_predict(X_res_vect_avg, X_test_vect_avg, y_res, \"Multinomial Naive Bayes\")\n",
    "        classification.print_classification_report(y_test, y_res_pred)\n",
    "        y_res_pred = classification.classify_predict(X_res_vect_avg, X_test_vect_avg, y_res, \"SVM\")\n",
    "        classification.print_classification_report(y_test, y_res_pred)"
   ]
  },
  {
   "cell_type": "code",
   "execution_count": null,
   "id": "a00f7b9a",
   "metadata": {},
   "outputs": [],
   "source": []
  }
 ],
 "metadata": {
  "kernelspec": {
   "display_name": "Python 3 (ipykernel)",
   "language": "python",
   "name": "python3"
  },
  "language_info": {
   "codemirror_mode": {
    "name": "ipython",
    "version": 3
   },
   "file_extension": ".py",
   "mimetype": "text/x-python",
   "name": "python",
   "nbconvert_exporter": "python",
   "pygments_lexer": "ipython3",
   "version": "3.9.12"
  }
 },
 "nbformat": 4,
 "nbformat_minor": 5
}
