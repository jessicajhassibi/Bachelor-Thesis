{
 "cells": [
  {
   "cell_type": "code",
   "execution_count": 1,
   "id": "3cfa094d",
   "metadata": {},
   "outputs": [
    {
     "name": "stderr",
     "output_type": "stream",
     "text": [
      "[nltk_data] Downloading package stopwords to /root/nltk_data...\n",
      "[nltk_data]   Package stopwords is already up-to-date!\n"
     ]
    },
    {
     "name": "stdout",
     "output_type": "stream",
     "text": [
      "loaded spacy language model: de_core_news_sm\n",
      "loaded spacy language model: en_core_web_sm\n",
      "loaded spacy language model: fr_core_news_sm\n"
     ]
    }
   ],
   "source": [
    "import sys \n",
    "sys.path.append('../src')\n",
    "from models import get_BERTopic_model\n",
    "from data import get_sentences_and_labels_lists"
   ]
  },
  {
   "cell_type": "markdown",
   "id": "f91bd701",
   "metadata": {},
   "source": [
    "## BERTopic Priting topics for classes \n",
    "(For whole articles, not sentences) \n",
    "- no preprocessing necessary!\n",
    "- stop words will be removed with count vectorizers tokenizer\n",
    "- reduce Parameter min_topic_size for less topics"
   ]
  },
  {
   "cell_type": "code",
   "execution_count": 2,
   "id": "9608dcc0",
   "metadata": {
    "pycharm": {
     "is_executing": true
    }
   },
   "outputs": [],
   "source": [
    "bertopic_model = get_BERTopic_model('sentences')"
   ]
  },
  {
   "cell_type": "code",
   "execution_count": 4,
   "id": "7a0a8475",
   "metadata": {},
   "outputs": [],
   "source": [
    "docs, targets = get_sentences_and_labels_lists()"
   ]
  },
  {
   "cell_type": "code",
   "execution_count": 5,
   "id": "818d4f08",
   "metadata": {},
   "outputs": [],
   "source": [
    "topics = bertopic_model.topics_\n",
    "probabilities = bertopic_model.probabilities_"
   ]
  },
  {
   "cell_type": "code",
   "execution_count": 6,
   "id": "f918526e",
   "metadata": {
    "scrolled": true
   },
   "outputs": [
    {
     "name": "stderr",
     "output_type": "stream",
     "text": [
      "2it [00:00,  2.16it/s]\n"
     ]
    }
   ],
   "source": [
    "topics_per_class = bertopic_model.topics_per_class(docs, targets)"
   ]
  },
  {
   "cell_type": "code",
   "execution_count": 10,
   "id": "1cc5d110",
   "metadata": {
    "scrolled": false
   },
   "outputs": [
    {
     "data": {
      "application/vnd.plotly.v1+json": {
       "config": {
        "plotlyServerURL": "https://plot.ly"
       },
       "data": [
        {
         "hoverinfo": "text",
         "hovertext": [
          "<b>Topic 0</b><br>Words: op, augenlicht, regen, roll, orf",
          "<b>Topic 0</b><br>Words: op, augenlicht, regen, roll, orf"
         ],
         "marker": {
          "color": "#E69F00"
         },
         "name": "0_op_augenlicht_roll_regen",
         "orientation": "h",
         "type": "bar",
         "visible": true,
         "x": [
          764,
          157
         ],
         "y": [
          0,
          1
         ]
        },
        {
         "hoverinfo": "text",
         "hovertext": [
          "<b>Topic 1</b><br>Words: schönberg, schoenberg, arnold, schreker, schönbergs",
          "<b>Topic 1</b><br>Words: schönberg, arnold, schoenberg, schreker, schillings"
         ],
         "marker": {
          "color": "#56B4E9"
         },
         "name": "1_schönberg_schoenberg_arnold_schreker",
         "orientation": "h",
         "type": "bar",
         "visible": "legendonly",
         "x": [
          399,
          45
         ],
         "y": [
          0,
          1
         ]
        },
        {
         "hoverinfo": "text",
         "hovertext": [
          "<b>Topic 2</b><br>Words: peu, verwehrt, peut, kaum, jedoch",
          "<b>Topic 2</b><br>Words: little, kaum, label, daraufhin, ärmlichsten"
         ],
         "marker": {
          "color": "#009E73"
         },
         "name": "2_peu_kaum_little_verwehrt",
         "orientation": "h",
         "type": "bar",
         "visible": "legendonly",
         "x": [
          153,
          20
         ],
         "y": [
          0,
          1
         ]
        },
        {
         "hoverinfo": "text",
         "hovertext": [
          "<b>Topic 3</b><br>Words: age, alter, jahren, cello, klavierunterricht",
          "<b>Topic 3</b><br>Words: age, jahren, orgelunterricht, early, cello"
         ],
         "marker": {
          "color": "#F0E442"
         },
         "name": "3_age_alter_jahren_cello",
         "orientation": "h",
         "type": "bar",
         "visible": "legendonly",
         "x": [
          123,
          34
         ],
         "y": [
          0,
          1
         ]
        },
        {
         "hoverinfo": "text",
         "hovertext": [
          "<b>Topic 4</b><br>Words: deportiert, auschwitz, theresienstadt, camp, kz",
          "<b>Topic 4</b><br>Words: tenir, dozens, promesse, intérieure, wiechert"
         ],
         "marker": {
          "color": "#D55E00"
         },
         "name": "4_deportiert_auschwitz_theresienstadt_ca...",
         "orientation": "h",
         "type": "bar",
         "visible": "legendonly",
         "x": [
          154,
          2
         ],
         "y": [
          0,
          1
         ]
        },
        {
         "hoverinfo": "text",
         "hovertext": [
          "<b>Topic 5</b><br>Words: heiratete, married, verheiratet, épouse, ehe",
          "<b>Topic 5</b><br>Words: married, heiratete, stuy, jorhan, corry"
         ],
         "marker": {
          "color": "#0072B2"
         },
         "name": "5_heiratete_married_verheiratet_épouse",
         "orientation": "h",
         "type": "bar",
         "visible": "legendonly",
         "x": [
          133,
          17
         ],
         "y": [
          0,
          1
         ]
        },
        {
         "hoverinfo": "text",
         "hovertext": [
          "<b>Topic 6</b><br>Words: hollywood, films, film, filme, filmen",
          "<b>Topic 6</b><br>Words: baky, regisseur, réalisateur, films, josef"
         ],
         "marker": {
          "color": "#CC79A7"
         },
         "name": "6_hollywood_films_film_filmen",
         "orientation": "h",
         "type": "bar",
         "visible": "legendonly",
         "x": [
          134,
          10
         ],
         "y": [
          0,
          1
         ]
        },
        {
         "hoverinfo": "text",
         "hovertext": [
          "<b>Topic 7</b><br>Words: stravinsky, petersburg, strawinsky, igor, korsakov",
          "<b>Topic 7</b><br>Words: stravinsky, igor, wedding, earthy, folkloric"
         ],
         "marker": {
          "color": "#E69F00"
         },
         "name": "7_stravinsky_igor_strawinsky_petersburg",
         "orientation": "h",
         "type": "bar",
         "visible": "legendonly",
         "x": [
          128,
          7
         ],
         "y": [
          0,
          1
         ]
        },
        {
         "hoverinfo": "text",
         "hovertext": [
          "<b>Topic 8</b><br>Words: discogs, zeisls, cpo, article, nico",
          "<b>Topic 8</b><br>Words: merten, rosendahl, balte, pp, tendues"
         ],
         "marker": {
          "color": "#56B4E9"
         },
         "name": "8_discogs_zeisls_cpo_article",
         "orientation": "h",
         "type": "bar",
         "visible": "legendonly",
         "x": [
          108,
          22
         ],
         "y": [
          0,
          1
         ]
        },
        {
         "hoverinfo": "text",
         "hovertext": [
          "<b>Topic 9</b><br>Words: steiner, score, film, selznick, rko"
         ],
         "marker": {
          "color": "#009E73"
         },
         "name": "9_steiner_score_film_selznick",
         "orientation": "h",
         "type": "bar",
         "visible": "legendonly",
         "x": [
          126
         ],
         "y": [
          0
         ]
        },
        {
         "hoverinfo": "text",
         "hovertext": [
          "<b>Topic 10</b><br>Words: chamber, symphonies, orchesterwerke, works, opern",
          "<b>Topic 10</b><br>Words: works, symphonies, organ, including, choral"
         ],
         "marker": {
          "color": "#F0E442"
         },
         "name": "10_symphonies_chamber_works_orchesterwer...",
         "orientation": "h",
         "type": "bar",
         "visible": "legendonly",
         "x": [
          91,
          25
         ],
         "y": [
          0,
          1
         ]
        },
        {
         "hoverinfo": "text",
         "hovertext": [
          "<b>Topic 11</b><br>Words: oper, opéra, manon, opéras, puccini",
          "<b>Topic 11</b><br>Words: helena, ägyptische, arabella, elektra, salomé"
         ],
         "marker": {
          "color": "#D55E00"
         },
         "name": "11_oper_opéra_helena_ägyptische",
         "orientation": "h",
         "type": "bar",
         "visible": "legendonly",
         "x": [
          86,
          29
         ],
         "y": [
          0,
          1
         ]
        },
        {
         "hoverinfo": "text",
         "hovertext": [
          "<b>Topic 12</b><br>Words: strauss, szell, richard, johann, hofmannsthal",
          "<b>Topic 12</b><br>Words: strauss, hofmannsthal, richard, ritter, wagner"
         ],
         "marker": {
          "color": "#0072B2"
         },
         "name": "12_strauss_richard_hofmannsthal_szell",
         "orientation": "h",
         "type": "bar",
         "visible": "legendonly",
         "x": [
          31,
          83
         ],
         "y": [
          0,
          1
         ]
        },
        {
         "hoverinfo": "text",
         "hovertext": [
          "<b>Topic 13</b><br>Words: ungarn, österreich, geboren, wien, weissmann",
          "<b>Topic 13</b><br>Words: ungarn, hüsch, österreich, 1902, babenhausen"
         ],
         "marker": {
          "color": "#CC79A7"
         },
         "name": "13_ungarn_österreich_geboren_wien",
         "orientation": "h",
         "type": "bar",
         "visible": "legendonly",
         "x": [
          85,
          28
         ],
         "y": [
          0,
          1
         ]
        },
        {
         "hoverinfo": "text",
         "hovertext": [
          "<b>Topic 14</b><br>Words: befindet, friedhof, grab, zentralfriedhof, cimetière",
          "<b>Topic 14</b><br>Words: friedhof, befindet, grab, zentralfriedhof, buried"
         ],
         "marker": {
          "color": "#E69F00"
         },
         "name": "14_friedhof_befindet_grab_zentralfriedho...",
         "orientation": "h",
         "type": "bar",
         "visible": "legendonly",
         "x": [
          75,
          34
         ],
         "y": [
          0,
          1
         ]
        },
        {
         "hoverinfo": "text",
         "hovertext": [
          "<b>Topic 15</b><br>Words: gemischten, chor, para, klavier, coros",
          "<b>Topic 15</b><br>Words: mx, a1381, keilberth, treue, telefunken"
         ],
         "marker": {
          "color": "#56B4E9"
         },
         "name": "15_gemischten_chor_para_klavier",
         "orientation": "h",
         "type": "bar",
         "visible": "legendonly",
         "x": [
          80,
          11
         ],
         "y": [
          0,
          1
         ]
        },
        {
         "hoverinfo": "text",
         "hovertext": [
          "<b>Topic 16</b><br>Words: deutscher, komponist, musikpädagoge, ebenda, österreichisch",
          "<b>Topic 16</b><br>Words: deutscher, komponist, musikpädagoge, 1978, ebenda"
         ],
         "marker": {
          "color": "#009E73"
         },
         "name": "16_deutscher_komponist_musikpädagoge_ebe...",
         "orientation": "h",
         "type": "bar",
         "visible": "legendonly",
         "x": [
          56,
          35
         ],
         "y": [
          0,
          1
         ]
        },
        {
         "hoverinfo": "text",
         "hovertext": [
          "<b>Topic 17</b><br>Words: zemlinsky, zemlinskys, zeisl, akt, alexander"
         ],
         "marker": {
          "color": "#F0E442"
         },
         "name": "17_zemlinsky_zemlinskys_zeisl_akt",
         "orientation": "h",
         "type": "bar",
         "visible": "legendonly",
         "x": [
          84
         ],
         "y": [
          0
         ]
        },
        {
         "hoverinfo": "text",
         "hovertext": [
          "<b>Topic 18</b><br>Words: 1971, ddr, 1978, vorsitzender, präsident",
          "<b>Topic 18</b><br>Words: mozarteum, salzburger, 1961, 1960, 1968"
         ],
         "marker": {
          "color": "#D55E00"
         },
         "name": "18_mozarteum_1971_1961_ddr",
         "orientation": "h",
         "type": "bar",
         "visible": "legendonly",
         "x": [
          51,
          29
         ],
         "y": [
          0,
          1
         ]
        },
        {
         "hoverinfo": "text",
         "hovertext": [
          "<b>Topic 19</b><br>Words: 1953, 1956, 1951, lehrte, 1950",
          "<b>Topic 19</b><br>Words: 1950, 1953, musikhochschule, hochschule, stuttgart"
         ],
         "marker": {
          "color": "#0072B2"
         },
         "name": "19_1950_1953_1951_lehrte",
         "orientation": "h",
         "type": "bar",
         "visible": "legendonly",
         "x": [
          42,
          37
         ],
         "y": [
          0,
          1
         ]
        },
        {
         "hoverinfo": "text",
         "hovertext": [
          "<b>Topic 20</b><br>Words: israel, palestine, israël, aviv, tel"
         ],
         "marker": {
          "color": "#CC79A7"
         },
         "name": "20_israel_palestine_israël_aviv",
         "orientation": "h",
         "type": "bar",
         "visible": "legendonly",
         "x": [
          79
         ],
         "y": [
          0
         ]
        },
        {
         "hoverinfo": "text",
         "hovertext": [
          "<b>Topic 21</b><br>Words: hoch, sekles, konservatorium, hindemith, bernhard",
          "<b>Topic 21</b><br>Words: hoch, rebner, waltershausen, grabner, gatscher"
         ],
         "marker": {
          "color": "#E69F00"
         },
         "name": "21_hoch_sekles_konservatorium_rebner",
         "orientation": "h",
         "type": "bar",
         "visible": "legendonly",
         "x": [
          51,
          25
         ],
         "y": [
          0,
          1
         ]
        },
        {
         "hoverinfo": "text",
         "hovertext": [
          "<b>Topic 22</b><br>Words: schülern, zählten, students, russell, included",
          "<b>Topic 22</b><br>Words: helmut, schülern, moroi, günter, students"
         ],
         "marker": {
          "color": "#56B4E9"
         },
         "name": "22_schülern_zählten_students_helmut",
         "orientation": "h",
         "type": "bar",
         "visible": "legendonly",
         "x": [
          54,
          19
         ],
         "y": [
          0,
          1
         ]
        },
        {
         "hoverinfo": "text",
         "hovertext": [
          "<b>Topic 23</b><br>Words: musicbrainz, ressources, library, relatives, musique",
          "<b>Topic 23</b><br>Words: cd, hear, 542, audiophile, apl"
         ],
         "marker": {
          "color": "#009E73"
         },
         "name": "23_musicbrainz_ressources_library_relati...",
         "orientation": "h",
         "type": "bar",
         "visible": "legendonly",
         "x": [
          66,
          7
         ],
         "y": [
          0,
          1
         ]
        },
        {
         "hoverinfo": "text",
         "hovertext": [
          "<b>Topic 24</b><br>Words: nazis, nationalsozialistische, hitler, dénoncé, lettre",
          "<b>Topic 24</b><br>Words: furtwängler, juifs, nazie, nazis, jochum"
         ],
         "marker": {
          "color": "#F0E442"
         },
         "name": "24_furtwängler_nazis_juifs_nazie",
         "orientation": "h",
         "type": "bar",
         "visible": "legendonly",
         "x": [
          29,
          41
         ],
         "y": [
          0,
          1
         ]
        },
        {
         "hoverinfo": "text",
         "hovertext": [
          "<b>Topic 25</b><br>Words: rca, columbia, 1924, victor, risë",
          "<b>Topic 25</b><br>Words: indépendante, eigenständig, recording, lasting, manière"
         ],
         "marker": {
          "color": "#D55E00"
         },
         "name": "25_rca_columbia_1924_victor",
         "orientation": "h",
         "type": "bar",
         "visible": "legendonly",
         "x": [
          65,
          4
         ],
         "y": [
          0,
          1
         ]
        },
        {
         "hoverinfo": "text",
         "hovertext": [
          "<b>Topic 26</b><br>Words: 1941, 1932, 1896greg, 1943, septembre",
          "<b>Topic 26</b><br>Words: pflug, 1896greg, überm, platten, liegen"
         ],
         "marker": {
          "color": "#0072B2"
         },
         "name": "26_1896greg_1941_1932_1943",
         "orientation": "h",
         "type": "bar",
         "visible": "legendonly",
         "x": [
          60,
          7
         ],
         "y": [
          0,
          1
         ]
        },
        {
         "hoverinfo": "text",
         "hovertext": [
          "<b>Topic 27</b><br>Words: konzertreisen, tino, unternahm, europa, rossi",
          "<b>Topic 27</b><br>Words: europa, konzertreisen, scarpia, marcello, rigoletto"
         ],
         "marker": {
          "color": "#CC79A7"
         },
         "name": "27_konzertreisen_europa_tino_unternahm",
         "orientation": "h",
         "type": "bar",
         "visible": "legendonly",
         "x": [
          49,
          18
         ],
         "y": [
          0,
          1
         ]
        },
        {
         "hoverinfo": "text",
         "hovertext": [
          "<b>Topic 28</b><br>Words: concerto, string, quartet, joann, falletta",
          "<b>Topic 28</b><br>Words: concerto, violinkonzert, sheet, violoncelles, violons"
         ],
         "marker": {
          "color": "#E69F00"
         },
         "name": "28_concerto_string_quartet_falletta",
         "orientation": "h",
         "type": "bar",
         "visible": "legendonly",
         "x": [
          57,
          9
         ],
         "y": [
          0,
          1
         ]
        },
        {
         "hoverinfo": "text",
         "hovertext": [
          "<b>Topic 29</b><br>Words: jüdische, synagoge, jüdischen, schalit, musik"
         ],
         "marker": {
          "color": "#56B4E9"
         },
         "name": "29_jüdische_synagoge_jüdischen_schalit",
         "orientation": "h",
         "type": "bar",
         "visible": "legendonly",
         "x": [
          64
         ],
         "y": [
          0
         ]
        },
        {
         "hoverinfo": "text",
         "hovertext": [
          "<b>Topic 30</b><br>Words: 128, coll, dur, 2004, 2010",
          "<b>Topic 30</b><br>Words: 45, 151, 1390, 158, eingang"
         ],
         "marker": {
          "color": "#009E73"
         },
         "name": "30_128_coll_dur_45",
         "orientation": "h",
         "type": "bar",
         "visible": "legendonly",
         "x": [
          48,
          15
         ],
         "y": [
          0,
          1
         ]
        },
        {
         "hoverinfo": "text",
         "hovertext": [
          "<b>Topic 31</b><br>Words: prag, prague, czechoslovakia, czech, theater",
          "<b>Topic 31</b><br>Words: kleopatra, cleopatra, ballett, directed, went"
         ],
         "marker": {
          "color": "#F0E442"
         },
         "name": "31_prag_prague_czechoslovakia_czech",
         "orientation": "h",
         "type": "bar",
         "visible": "legendonly",
         "x": [
          60,
          2
         ],
         "y": [
          0,
          1
         ]
        },
        {
         "hoverinfo": "text",
         "hovertext": [
          "<b>Topic 32</b><br>Words: moskau, sowjetunion, soviétique, russia, moscow",
          "<b>Topic 32</b><br>Words: zone, occupation, essen, berufungsverfahren, ostgebiete"
         ],
         "marker": {
          "color": "#D55E00"
         },
         "name": "32_sowjetunion_moskau_soviétique_russia",
         "orientation": "h",
         "type": "bar",
         "visible": "legendonly",
         "x": [
          58,
          4
         ],
         "y": [
          0,
          1
         ]
        },
        {
         "hoverinfo": "text",
         "hovertext": [
          "<b>Topic 33</b><br>Words: wat, schweyk, têtes, bethge, cuaderno",
          "<b>Topic 33</b><br>Words: bibliothèque, nationale, ober, zilligs, ligne"
         ],
         "marker": {
          "color": "#0072B2"
         },
         "name": "33_schweyk_cuaderno_wat_têtes",
         "orientation": "h",
         "type": "bar",
         "visible": "legendonly",
         "x": [
          46,
          16
         ],
         "y": [
          0,
          1
         ]
        },
        {
         "hoverinfo": "text",
         "hovertext": [
          "<b>Topic 34</b><br>Words: york, new, died, hospital, gestorben"
         ],
         "marker": {
          "color": "#CC79A7"
         },
         "name": "34_york_new_died_hospital",
         "orientation": "h",
         "type": "bar",
         "visible": "legendonly",
         "x": [
          61
         ],
         "y": [
          0
         ]
        },
        {
         "hoverinfo": "text",
         "hovertext": [
          "<b>Topic 35</b><br>Words: kahn, allemand, kahns, grun, tenors",
          "<b>Topic 35</b><br>Words: ladwig, tenants, sopranos, inter, oldenburg"
         ],
         "marker": {
          "color": "#E69F00"
         },
         "name": "35_kahn_allemand_kahns_ladwig",
         "orientation": "h",
         "type": "bar",
         "visible": "legendonly",
         "x": [
          41,
          19
         ],
         "y": [
          0,
          1
         ]
        },
        {
         "hoverinfo": "text",
         "hovertext": [
          "<b>Topic 36</b><br>Words: letton, likes, cigare, reklame, rapide",
          "<b>Topic 36</b><br>Words: face, letton, likes, cigare, reklame"
         ],
         "marker": {
          "color": "#56B4E9"
         },
         "name": "36_letton_oubliant_likes_rapide",
         "orientation": "h",
         "type": "bar",
         "visible": "legendonly",
         "x": [
          51,
          8
         ],
         "y": [
          0,
          1
         ]
        },
        {
         "hoverinfo": "text",
         "hovertext": [
          "<b>Topic 37</b><br>Words: age, gymnasium, begann, vienna, besuchte",
          "<b>Topic 37</b><br>Words: linz, kinzl, andrichsfurt, eberschwang, musikvereins"
         ],
         "marker": {
          "color": "#009E73"
         },
         "name": "37_linz_gymnasium_age_besuchte",
         "orientation": "h",
         "type": "bar",
         "visible": "legendonly",
         "x": [
          47,
          12
         ],
         "y": [
          0,
          1
         ]
        },
        {
         "hoverinfo": "text",
         "hovertext": [
          "<b>Topic 38</b><br>Words: preis, kunstpreis, gewählt, ausgezeichnet, stadt",
          "<b>Topic 38</b><br>Words: ausgezeichnet, schumann, düsseldorf, stadt, preis"
         ],
         "marker": {
          "color": "#F0E442"
         },
         "name": "38_preis_kunstpreis_ausgezeichnet_stadt",
         "orientation": "h",
         "type": "bar",
         "visible": "legendonly",
         "x": [
          45,
          12
         ],
         "y": [
          0,
          1
         ]
        },
        {
         "hoverinfo": "text",
         "hovertext": [
          "<b>Topic 39</b><br>Words: adorno, 1969, lecture, äußerte, verhältnis"
         ],
         "marker": {
          "color": "#D55E00"
         },
         "name": "39_adorno_1969_lecture_äußerte",
         "orientation": "h",
         "type": "bar",
         "visible": "legendonly",
         "x": [
          56
         ],
         "y": [
          0
         ]
        },
        {
         "hoverinfo": "text",
         "hovertext": [
          "<b>Topic 40</b><br>Words: bruxelles, puf, dossier, bertrand, aron",
          "<b>Topic 40</b><br>Words: gramatté, eckhardt, carmen, bruxelles, puf"
         ],
         "marker": {
          "color": "#0072B2"
         },
         "name": "40_bruxelles_puf_dossier_bertrand",
         "orientation": "h",
         "type": "bar",
         "visible": "legendonly",
         "x": [
          55,
          1
         ],
         "y": [
          0,
          1
         ]
        },
        {
         "hoverinfo": "text",
         "hovertext": [
          "<b>Topic 41</b><br>Words: meldete, 1918, militärdienst, service, kriegsfreiwilliger",
          "<b>Topic 41</b><br>Words: service, 1918, 1917, 1916, wehrdienst"
         ],
         "marker": {
          "color": "#CC79A7"
         },
         "name": "41_1918_service_meldete_militärdienst",
         "orientation": "h",
         "type": "bar",
         "visible": "legendonly",
         "x": [
          35,
          20
         ],
         "y": [
          0,
          1
         ]
        },
        {
         "hoverinfo": "text",
         "hovertext": [
          "<b>Topic 42</b><br>Words: usa, states, united, österreichs, anschluss"
         ],
         "marker": {
          "color": "#E69F00"
         },
         "name": "42_usa_states_united_österreichs",
         "orientation": "h",
         "type": "bar",
         "visible": "legendonly",
         "x": [
          55
         ],
         "y": [
          0
         ]
        },
        {
         "hoverinfo": "text",
         "hovertext": [
          "<b>Topic 43</b><br>Words: gokkes, goebbels, sim, göring, winnik",
          "<b>Topic 43</b><br>Words: goebbels, göring, gokkes, joseph, unterstellten"
         ],
         "marker": {
          "color": "#56B4E9"
         },
         "name": "43_goebbels_gokkes_göring_sim",
         "orientation": "h",
         "type": "bar",
         "visible": "legendonly",
         "x": [
          30,
          24
         ],
         "y": [
          0,
          1
         ]
        },
        {
         "hoverinfo": "text",
         "hovertext": [
          "<b>Topic 44</b><br>Words: axén, musikskola, andrén, ivar, gunnar",
          "<b>Topic 44</b><br>Words: salzburger, festspielen, strasbourg, papageno, régulièrement"
         ],
         "marker": {
          "color": "#009E73"
         },
         "name": "44_axén_andrén_musikskola_gunnar",
         "orientation": "h",
         "type": "bar",
         "visible": "legendonly",
         "x": [
          39,
          15
         ],
         "y": [
          0,
          1
         ]
        },
        {
         "hoverinfo": "text",
         "hovertext": [
          "<b>Topic 45</b><br>Words: weltkriegs, liedbeiträge, zeichentrickfilme, cumulant, proscription",
          "<b>Topic 45</b><br>Words: gottbegnadeten, liste, endphase, hitler, kriegseinsatz"
         ],
         "marker": {
          "color": "#F0E442"
         },
         "name": "45_gottbegnadeten_liste_endphase_hitler",
         "orientation": "h",
         "type": "bar",
         "visible": "legendonly",
         "x": [
          3,
          48
         ],
         "y": [
          0,
          1
         ]
        },
        {
         "hoverinfo": "text",
         "hovertext": [
          "<b>Topic 46</b><br>Words: york, new, nbc, metropolitan, symphony",
          "<b>Topic 46</b><br>Words: highland, ravinia, visits, illinois, berkshire"
         ],
         "marker": {
          "color": "#D55E00"
         },
         "name": "46_york_new_nbc_metropolitan",
         "orientation": "h",
         "type": "bar",
         "visible": "legendonly",
         "x": [
          49,
          2
         ],
         "y": [
          0,
          1
         ]
        },
        {
         "hoverinfo": "text",
         "hovertext": [
          "<b>Topic 47</b><br>Words: blüthner, orchesters, ultraphone, berliner, freies",
          "<b>Topic 47</b><br>Words: philharmonic, leiter, philharmonischen, radio, berliner"
         ],
         "marker": {
          "color": "#0072B2"
         },
         "name": "47_philharmonic_berliner_berlin_leiter",
         "orientation": "h",
         "type": "bar",
         "visible": "legendonly",
         "x": [
          22,
          28
         ],
         "y": [
          0,
          1
         ]
        },
        {
         "hoverinfo": "text",
         "hovertext": [
          "<b>Topic 48</b><br>Words: jazz, horn, simon, laks, elemente",
          "<b>Topic 48</b><br>Words: horn, jazz, preserving, collaborating, swingenden"
         ],
         "marker": {
          "color": "#CC79A7"
         },
         "name": "48_jazz_horn_simon_laks",
         "orientation": "h",
         "type": "bar",
         "visible": "legendonly",
         "x": [
          45,
          4
         ],
         "y": [
          0,
          1
         ]
        },
        {
         "hoverinfo": "text",
         "hovertext": [
          "<b>Topic 49</b><br>Words: pianos, klavierspiel, ampico, odds, häufig",
          "<b>Topic 49</b><br>Words: moll, tingelte, scheunen, anleitung, turnhallen"
         ],
         "marker": {
          "color": "#E69F00"
         },
         "name": "49_pianos_klavierspiel_ampico_odds",
         "orientation": "h",
         "type": "bar",
         "visible": "legendonly",
         "x": [
          41,
          8
         ],
         "y": [
          0,
          1
         ]
        },
        {
         "hoverinfo": "text",
         "hovertext": [
          "<b>Topic 50</b><br>Words: münchen, wallner, milwaukee, theater, danach",
          "<b>Topic 50</b><br>Words: münchen, ostberlin, ramersdorf, comic, filmbegleitung"
         ],
         "marker": {
          "color": "#56B4E9"
         },
         "name": "50_münchen_danach_milwaukee_wallner",
         "orientation": "h",
         "type": "bar",
         "visible": "legendonly",
         "x": [
          34,
          14
         ],
         "y": [
          0,
          1
         ]
        },
        {
         "hoverinfo": "text",
         "hovertext": [
          "<b>Topic 51</b><br>Words: converted, religion, konvertierte, catholicism, protestant",
          "<b>Topic 51</b><br>Words: lawyers, geissmars, devout, weiden, family"
         ],
         "marker": {
          "color": "#009E73"
         },
         "name": "51_converted_religion_konvertierte_catho...",
         "orientation": "h",
         "type": "bar",
         "visible": "legendonly",
         "x": [
          46,
          2
         ],
         "y": [
          0,
          1
         ]
        },
        {
         "hoverinfo": "text",
         "hovertext": [
          "<b>Topic 52</b><br>Words: adler, guido, gál, universität, studierte",
          "<b>Topic 52</b><br>Words: tonkunst, latina, modezeichnen, heereskapellmeisterprüfung, francke"
         ],
         "marker": {
          "color": "#F0E442"
         },
         "name": "52_adler_guido_universität_gál",
         "orientation": "h",
         "type": "bar",
         "visible": "legendonly",
         "x": [
          41,
          7
         ],
         "y": [
          0,
          1
         ]
        },
        {
         "hoverinfo": "text",
         "hovertext": [
          "<b>Topic 53</b><br>Words: amerikanische, staatsbürgerschaft, citizen, nationalité, staatsbürger",
          "<b>Topic 53</b><br>Words: fähig, offiziere, entnazifizierungsprozess, unterzog, schätzten"
         ],
         "marker": {
          "color": "#D55E00"
         },
         "name": "53_amerikanische_staatsbürgerschaft_citi...",
         "orientation": "h",
         "type": "bar",
         "visible": "legendonly",
         "x": [
          45,
          2
         ],
         "y": [
          0,
          1
         ]
        },
        {
         "hoverinfo": "text",
         "hovertext": [
          "<b>Topic 54</b><br>Words: prague, prager, fidelio, finke, prag"
         ],
         "marker": {
          "color": "#0072B2"
         },
         "name": "54_prague_prager_fidelio_finke",
         "orientation": "h",
         "type": "bar",
         "visible": "legendonly",
         "x": [
          46
         ],
         "y": [
          0
         ]
        },
        {
         "hoverinfo": "text",
         "hovertext": [
          "<b>Topic 55</b><br>Words: vaters, vater, causes, löbtau, sorgen",
          "<b>Topic 55</b><br>Words: großgezogen, recovery, mutter, onkel, junge"
         ],
         "marker": {
          "color": "#CC79A7"
         },
         "name": "55_vaters_vater_sorgen_löbtau",
         "orientation": "h",
         "type": "bar",
         "visible": "legendonly",
         "x": [
          41,
          4
         ],
         "y": [
          0,
          1
         ]
        },
        {
         "hoverinfo": "text",
         "hovertext": [
          "<b>Topic 56</b><br>Words: orff, carl, godela, 1895, köstler"
         ],
         "marker": {
          "color": "#E69F00"
         },
         "name": "56_orff_carl_godela_1895",
         "orientation": "h",
         "type": "bar",
         "visible": "legendonly",
         "x": [
          45
         ],
         "y": [
          1
         ]
        },
        {
         "hoverinfo": "text",
         "hovertext": [
          "<b>Topic 57</b><br>Words: koppel, felicitas, kukuck, krausz, cohnheim"
         ],
         "marker": {
          "color": "#56B4E9"
         },
         "name": "57_koppel_felicitas_kukuck_krausz",
         "orientation": "h",
         "type": "bar",
         "visible": "legendonly",
         "x": [
          45
         ],
         "y": [
          0
         ]
        },
        {
         "hoverinfo": "text",
         "hovertext": [
          "<b>Topic 58</b><br>Words: webern, krasner, anton, preglhof, pro",
          "<b>Topic 58</b><br>Words: tiefen, eindruck, impression, begegnete, anton"
         ],
         "marker": {
          "color": "#009E73"
         },
         "name": "58_webern_krasner_anton_preglhof",
         "orientation": "h",
         "type": "bar",
         "visible": "legendonly",
         "x": [
          43,
          2
         ],
         "y": [
          0,
          1
         ]
        },
        {
         "hoverinfo": "text",
         "hovertext": [
          "<b>Topic 59</b><br>Words: amerikanischer, komponist, österreichischer, angeles, vereinigte"
         ],
         "marker": {
          "color": "#F0E442"
         },
         "name": "59_amerikanischer_komponist_angeles_öste...",
         "orientation": "h",
         "type": "bar",
         "visible": "legendonly",
         "x": [
          44
         ],
         "y": [
          0
         ]
        },
        {
         "hoverinfo": "text",
         "hovertext": [
          "<b>Topic 60</b><br>Words: volkshochschule, suk, 1931, studium, conservatory",
          "<b>Topic 60</b><br>Words: innkreis, peterskirchen, volksschullehrer, waizenkirchen, haas"
         ],
         "marker": {
          "color": "#D55E00"
         },
         "name": "60_volkshochschule_suk_innkreis_waizenki...",
         "orientation": "h",
         "type": "bar",
         "visible": "legendonly",
         "x": [
          32,
          12
         ],
         "y": [
          0,
          1
         ]
        },
        {
         "hoverinfo": "text",
         "hovertext": [
          "<b>Topic 61</b><br>Words: eysler, bürgertheater, eisler, schnitzer, hexenspiegel",
          "<b>Topic 61</b><br>Words: egk, behaupten, apostrophiert, wiederaufbaus, anagramm"
         ],
         "marker": {
          "color": "#0072B2"
         },
         "name": "61_eysler_bürgertheater_eisler_schnitzer",
         "orientation": "h",
         "type": "bar",
         "visible": "legendonly",
         "x": [
          42,
          2
         ],
         "y": [
          0,
          1
         ]
        },
        {
         "hoverinfo": "text",
         "hovertext": [
          "<b>Topic 62</b><br>Words: nsdap, kpd, mitgliedsnummer, trat, mitglied",
          "<b>Topic 62</b><br>Words: nsdap, mitgliedsnummer, trat, mitglied, mai"
         ],
         "marker": {
          "color": "#CC79A7"
         },
         "name": "62_nsdap_mitgliedsnummer_trat_mitglied",
         "orientation": "h",
         "type": "bar",
         "visible": "legendonly",
         "x": [
          7,
          37
         ],
         "y": [
          0,
          1
         ]
        },
        {
         "hoverinfo": "text",
         "hovertext": [
          "<b>Topic 63</b><br>Words: horkheimer, sozialforschung, adorno, aphorisms, sociale"
         ],
         "marker": {
          "color": "#E69F00"
         },
         "name": "63_horkheimer_sozialforschung_adorno_aph...",
         "orientation": "h",
         "type": "bar",
         "visible": "legendonly",
         "x": [
          43
         ],
         "y": [
          0
         ]
        },
        {
         "hoverinfo": "text",
         "hovertext": [
          "<b>Topic 64</b><br>Words: 1933, nazis, nazi, power, jew",
          "<b>Topic 64</b><br>Words: rabinovitchs, vermutlich, grothe, reiste, europa"
         ],
         "marker": {
          "color": "#56B4E9"
         },
         "name": "64_1933_nazis_nazi_power",
         "orientation": "h",
         "type": "bar",
         "visible": "legendonly",
         "x": [
          41,
          1
         ],
         "y": [
          0,
          1
         ]
        },
        {
         "hoverinfo": "text",
         "hovertext": [
          "<b>Topic 65</b><br>Words: art, künstler, artiste, lebten, ästhetik",
          "<b>Topic 65</b><br>Words: gut, künstler, vollen, forderungen, schöpft"
         ],
         "marker": {
          "color": "#009E73"
         },
         "name": "65_art_künstler_artiste_lebten",
         "orientation": "h",
         "type": "bar",
         "visible": "legendonly",
         "x": [
          35,
          7
         ],
         "y": [
          0,
          1
         ]
        },
        {
         "hoverinfo": "text",
         "hovertext": [
          "<b>Topic 66</b><br>Words: england, london, tovey, westminster, britain"
         ],
         "marker": {
          "color": "#F0E442"
         },
         "name": "66_england_london_tovey_westminster",
         "orientation": "h",
         "type": "bar",
         "visible": "legendonly",
         "x": [
          40
         ],
         "y": [
          0
         ]
        },
        {
         "hoverinfo": "text",
         "hovertext": [
          "<b>Topic 67</b><br>Words: died, 84, aged, 2011, age",
          "<b>Topic 67</b><br>Words: died, aged, 83, 86, 84"
         ],
         "marker": {
          "color": "#D55E00"
         },
         "name": "67_died_aged_84_age",
         "orientation": "h",
         "type": "bar",
         "visible": "legendonly",
         "x": [
          25,
          14
         ],
         "y": [
          0,
          1
         ]
        },
        {
         "hoverinfo": "text",
         "hovertext": [
          "<b>Topic 68</b><br>Words: mathilde, schnabel, seckel, schoenberg, heiratete",
          "<b>Topic 68</b><br>Words: scheler, märit, mariera, liselotte, ruhen"
         ],
         "marker": {
          "color": "#0072B2"
         },
         "name": "68_mathilde_schnabel_seckel_schoenberg",
         "orientation": "h",
         "type": "bar",
         "visible": "legendonly",
         "x": [
          37,
          2
         ],
         "y": [
          0,
          1
         ]
        },
        {
         "hoverinfo": "text",
         "hovertext": [
          "<b>Topic 69</b><br>Words: kz, auschwitz, niederländischer, gestorben, österreichischer"
         ],
         "marker": {
          "color": "#CC79A7"
         },
         "name": "69_kz_auschwitz_niederländischer_gestorb...",
         "orientation": "h",
         "type": "bar",
         "visible": "legendonly",
         "x": [
          38
         ],
         "y": [
          0
         ]
        },
        {
         "hoverinfo": "text",
         "hovertext": [
          "<b>Topic 70</b><br>Words: mahler, rott, gustav, mahlers, sinfonie",
          "<b>Topic 70</b><br>Words: mahler, gustav, copyright, protections, apolitical"
         ],
         "marker": {
          "color": "#E69F00"
         },
         "name": "70_mahler_rott_gustav_mahlers",
         "orientation": "h",
         "type": "bar",
         "visible": "legendonly",
         "x": [
          32,
          5
         ],
         "y": [
          0,
          1
         ]
        },
        {
         "hoverinfo": "text",
         "hovertext": [
          "<b>Topic 71</b><br>Words: 000, insgesamt, 200, opus, umfasst",
          "<b>Topic 71</b><br>Words: bearbeitungen, environ, 120, 250, quelque"
         ],
         "marker": {
          "color": "#56B4E9"
         },
         "name": "71_000_insgesamt_200_environ",
         "orientation": "h",
         "type": "bar",
         "visible": "legendonly",
         "x": [
          29,
          7
         ],
         "y": [
          0,
          1
         ]
        },
        {
         "hoverinfo": "text",
         "hovertext": [
          "<b>Topic 72</b><br>Words: 1955, 1953, kehrte, zurück, europe",
          "<b>Topic 72</b><br>Words: bordeaux, dießen, ammersee, 1955, 1953"
         ],
         "marker": {
          "color": "#009E73"
         },
         "name": "72_1955_1953_kehrte_zurück",
         "orientation": "h",
         "type": "bar",
         "visible": "legendonly",
         "x": [
          34,
          2
         ],
         "y": [
          0,
          1
         ]
        },
        {
         "hoverinfo": "text",
         "hovertext": [
          "<b>Topic 73</b><br>Words: bruno, granichstaedten, heinz, קמינסקי, federation",
          "<b>Topic 73</b><br>Words: werner, tausig, emile, hexe, heinz"
         ],
         "marker": {
          "color": "#F0E442"
         },
         "name": "73_bruno_heinz_granichstaedten_werner",
         "orientation": "h",
         "type": "bar",
         "visible": "legendonly",
         "x": [
          21,
          14
         ],
         "y": [
          0,
          1
         ]
        },
        {
         "hoverinfo": "text",
         "hovertext": [
          "<b>Topic 74</b><br>Words: france, vichy, paris, exil, toulouse",
          "<b>Topic 74</b><br>Words: warning, arrested, déménage, switzerland, schuricht"
         ],
         "marker": {
          "color": "#D55E00"
         },
         "name": "74_france_vichy_paris_exil",
         "orientation": "h",
         "type": "bar",
         "visible": "legendonly",
         "x": [
          33,
          2
         ],
         "y": [
          0,
          1
         ]
        },
        {
         "hoverinfo": "text",
         "hovertext": [
          "<b>Topic 75</b><br>Words: york, new, city, via, 1938"
         ],
         "marker": {
          "color": "#0072B2"
         },
         "name": "75_york_new_city_via",
         "orientation": "h",
         "type": "bar",
         "visible": "legendonly",
         "x": [
          35
         ],
         "y": [
          0
         ]
        },
        {
         "hoverinfo": "text",
         "hovertext": [
          "<b>Topic 76</b><br>Words: 1932, duisburg, chemnitz, 1931, breslau",
          "<b>Topic 76</b><br>Words: duisburg, okh, musikreferent, gerigk, amtszeit"
         ],
         "marker": {
          "color": "#CC79A7"
         },
         "name": "76_duisburg_1932_okh_musikreferent",
         "orientation": "h",
         "type": "bar",
         "visible": "legendonly",
         "x": [
          12,
          22
         ],
         "y": [
          0,
          1
         ]
        },
        {
         "hoverinfo": "text",
         "hovertext": [
          "<b>Topic 77</b><br>Words: aviv, tel, israelischer, israeli, jerusalem"
         ],
         "marker": {
          "color": "#E69F00"
         },
         "name": "77_aviv_tel_israelischer_israeli",
         "orientation": "h",
         "type": "bar",
         "visible": "legendonly",
         "x": [
          33
         ],
         "y": [
          0
         ]
        },
        {
         "hoverinfo": "text",
         "hovertext": [
          "<b>Topic 78</b><br>Words: dachau, kz, dachauer, concentration, camp"
         ],
         "marker": {
          "color": "#56B4E9"
         },
         "name": "78_dachau_kz_dachauer_concentration",
         "orientation": "h",
         "type": "bar",
         "visible": "legendonly",
         "x": [
          33
         ],
         "y": [
          0
         ]
        },
        {
         "hoverinfo": "text",
         "hovertext": [
          "<b>Topic 79</b><br>Words: mahler, mahlers, fried, gustav, cooke",
          "<b>Topic 79</b><br>Words: nachgespielt, sixth, mahler, perhaps, hofoper"
         ],
         "marker": {
          "color": "#009E73"
         },
         "name": "79_mahler_mahlers_gustav_fried",
         "orientation": "h",
         "type": "bar",
         "visible": "legendonly",
         "x": [
          31,
          2
         ],
         "y": [
          0,
          1
         ]
        },
        {
         "hoverinfo": "text",
         "hovertext": [
          "<b>Topic 80</b><br>Words: prize, remporte, awarded, prix, preis",
          "<b>Topic 80</b><br>Words: nationalpreis, kompositionspreis, trapp, prize, prix"
         ],
         "marker": {
          "color": "#F0E442"
         },
         "name": "80_prize_remporte_prix_awarded",
         "orientation": "h",
         "type": "bar",
         "visible": "legendonly",
         "x": [
          25,
          8
         ],
         "y": [
          0,
          1
         ]
        },
        {
         "hoverinfo": "text",
         "hovertext": [
          "<b>Topic 81</b><br>Words: mendelssohn, preis, mendelssohns, bartholdy, prix",
          "<b>Topic 81</b><br>Words: mendelssohn, bartholdy, felix, sommernachtstraum, geächteten"
         ],
         "marker": {
          "color": "#D55E00"
         },
         "name": "81_mendelssohn_bartholdy_preis_mendelsso...",
         "orientation": "h",
         "type": "bar",
         "visible": "legendonly",
         "x": [
          25,
          8
         ],
         "y": [
          0,
          1
         ]
        },
        {
         "hoverinfo": "text",
         "hovertext": [
          "<b>Topic 82</b><br>Words: szpilman, totenberg, gimpel, roman, henryk"
         ],
         "marker": {
          "color": "#0072B2"
         },
         "name": "82_szpilman_totenberg_gimpel_roman",
         "orientation": "h",
         "type": "bar",
         "visible": "legendonly",
         "x": [
          33
         ],
         "y": [
          0
         ]
        },
        {
         "hoverinfo": "text",
         "hovertext": [
          "<b>Topic 83</b><br>Words: stöhr, igor, straus, strassburg, stravinsky",
          "<b>Topic 83</b><br>Words: klassizistische, bellini, fauré, periode, aufsätze"
         ],
         "marker": {
          "color": "#CC79A7"
         },
         "name": "83_stöhr_igor_straus_strassburg",
         "orientation": "h",
         "type": "bar",
         "visible": "legendonly",
         "x": [
          31,
          2
         ],
         "y": [
          0,
          1
         ]
        },
        {
         "hoverinfo": "text",
         "hovertext": [
          "<b>Topic 84</b><br>Words: schlesinger, schwake, zikmund, 15, 13",
          "<b>Topic 84</b><br>Words: witnica, vietz, actuelle, schmitz, polonaise"
         ],
         "marker": {
          "color": "#E69F00"
         },
         "name": "84_schlesinger_schwake_zikmund_15",
         "orientation": "h",
         "type": "bar",
         "visible": "legendonly",
         "x": [
          31,
          2
         ],
         "y": [
          0,
          1
         ]
        },
        {
         "hoverinfo": "text",
         "hovertext": [
          "<b>Topic 85</b><br>Words: party, social, nazi, democrats, christians",
          "<b>Topic 85</b><br>Words: party, joined, nazi, rejoint, parti"
         ],
         "marker": {
          "color": "#56B4E9"
         },
         "name": "85_party_nazi_social_germany",
         "orientation": "h",
         "type": "bar",
         "visible": "legendonly",
         "x": [
          21,
          11
         ],
         "y": [
          0,
          1
         ]
        },
        {
         "hoverinfo": "text",
         "hovertext": [
          "<b>Topic 86</b><br>Words: reti, method, cells, notes, rhythm",
          "<b>Topic 86</b><br>Words: triad, piling, blutmäßig, idéologisation, idéologiquement"
         ],
         "marker": {
          "color": "#009E73"
         },
         "name": "86_reti_method_rhythm_themes",
         "orientation": "h",
         "type": "bar",
         "visible": "legendonly",
         "x": [
          28,
          4
         ],
         "y": [
          0,
          1
         ]
        },
        {
         "hoverinfo": "text",
         "hovertext": [
          "<b>Topic 87</b><br>Words: opus, brasilianerin, revanche, beethoven, 1923",
          "<b>Topic 87</b><br>Words: sosen, phantasie, frescobaldi, anfänglich, rundfunkorchesters"
         ],
         "marker": {
          "color": "#F0E442"
         },
         "name": "87_opus_beethoven_revanche_brasilianerin",
         "orientation": "h",
         "type": "bar",
         "visible": "legendonly",
         "x": [
          27,
          5
         ],
         "y": [
          0,
          1
         ]
        },
        {
         "hoverinfo": "text",
         "hovertext": [
          "<b>Topic 88</b><br>Words: fuchs, robert, stöhr, 1898, musikfreunde",
          "<b>Topic 88</b><br>Words: koblenzer, koblenz, 1893, 1892, theorie"
         ],
         "marker": {
          "color": "#D55E00"
         },
         "name": "88_fuchs_robert_stöhr_1898",
         "orientation": "h",
         "type": "bar",
         "visible": "legendonly",
         "x": [
          30,
          2
         ],
         "y": [
          0,
          1
         ]
        },
        {
         "hoverinfo": "text",
         "hovertext": [
          "<b>Topic 89</b><br>Words: ballet, ballets, diaghilev, phaedra, russes",
          "<b>Topic 89</b><br>Words: pfeil, ballet, arrow, getulisme, atterrit"
         ],
         "marker": {
          "color": "#0072B2"
         },
         "name": "89_ballet_ballets_diaghilev_pfeil",
         "orientation": "h",
         "type": "bar",
         "visible": "legendonly",
         "x": [
          27,
          5
         ],
         "y": [
          0,
          1
         ]
        },
        {
         "hoverinfo": "text",
         "hovertext": [
          "<b>Topic 90</b><br>Words: paris, french, frankreich, française, französische"
         ],
         "marker": {
          "color": "#CC79A7"
         },
         "name": "90_paris_french_frankreich_française",
         "orientation": "h",
         "type": "bar",
         "visible": "legendonly",
         "x": [
          31
         ],
         "y": [
          0
         ]
        },
        {
         "hoverinfo": "text",
         "hovertext": [
          "<b>Topic 91</b><br>Words: bartók, béla, paula, mare, sânnicolau"
         ],
         "marker": {
          "color": "#E69F00"
         },
         "name": "91_bartók_béla_paula_unitarischen",
         "orientation": "h",
         "type": "bar",
         "visible": "legendonly",
         "x": [
          31
         ],
         "y": [
          0
         ]
        },
        {
         "hoverinfo": "text",
         "hovertext": [
          "<b>Topic 92</b><br>Words: stadttheater, erfurt, mainz, kapellmeister, 1894",
          "<b>Topic 92</b><br>Words: principal, 1894, staatskapelle, 1898, mainz"
         ],
         "marker": {
          "color": "#56B4E9"
         },
         "name": "92_stadttheater_1894_mainz_principal",
         "orientation": "h",
         "type": "bar",
         "visible": "legendonly",
         "x": [
          22,
          8
         ],
         "y": [
          0,
          1
         ]
        },
        {
         "hoverinfo": "text",
         "hovertext": [
          "<b>Topic 93</b><br>Words: näher, maître, quellenden, verwechselt, zuständigen",
          "<b>Topic 93</b><br>Words: bludgeoning, cajole, gently, seduce, exigences"
         ],
         "marker": {
          "color": "#009E73"
         },
         "name": "93_näher_maître_gently_cajole",
         "orientation": "h",
         "type": "bar",
         "visible": "legendonly",
         "x": [
          24,
          6
         ],
         "y": [
          0,
          1
         ]
        },
        {
         "hoverinfo": "text",
         "hovertext": [
          "<b>Topic 94</b><br>Words: 1922, ignm, international, neue, gesellschaft",
          "<b>Topic 94</b><br>Words: almaviva, figaro, nozze, 1922, olympischen"
         ],
         "marker": {
          "color": "#F0E442"
         },
         "name": "94_1922_almaviva_ignm_international",
         "orientation": "h",
         "type": "bar",
         "visible": "legendonly",
         "x": [
          23,
          7
         ],
         "y": [
          0,
          1
         ]
        },
        {
         "hoverinfo": "text",
         "hovertext": [
          "<b>Topic 95</b><br>Words: ruhestand, emeritiert, 1970er, 1970, 1969",
          "<b>Topic 95</b><br>Words: ruhestand, 1970er, kinzl, alljährlich, lambach"
         ],
         "marker": {
          "color": "#D55E00"
         },
         "name": "95_ruhestand_1970er_emeritiert_1970",
         "orientation": "h",
         "type": "bar",
         "visible": "legendonly",
         "x": [
          22,
          8
         ],
         "y": [
          0,
          1
         ]
        },
        {
         "hoverinfo": "text",
         "hovertext": [
          "<b>Topic 96</b><br>Words: rankl, company, garden, covent, webster"
         ],
         "marker": {
          "color": "#0072B2"
         },
         "name": "96_rankl_company_covent_garden",
         "orientation": "h",
         "type": "bar",
         "visible": "legendonly",
         "x": [
          29
         ],
         "y": [
          0
         ]
        },
        {
         "hoverinfo": "text",
         "hovertext": [
          "<b>Topic 97</b><br>Words: matura, universität, gymnasium, 1909, lustgarten",
          "<b>Topic 97</b><br>Words: humanistische, gymnasium, oberhausen, bientôt, augsbourg"
         ],
         "marker": {
          "color": "#CC79A7"
         },
         "name": "97_gymnasium_matura_universität_1909",
         "orientation": "h",
         "type": "bar",
         "visible": "legendonly",
         "x": [
          27,
          2
         ],
         "y": [
          0,
          1
         ]
        },
        {
         "hoverinfo": "text",
         "hovertext": [
          "<b>Topic 98</b><br>Words: abendroth, adenauer, phil, musikpflege, konrad",
          "<b>Topic 98</b><br>Words: dortmund, hochschule, musikhochschule, conservatoire, haas"
         ],
         "marker": {
          "color": "#E69F00"
         },
         "name": "98_hochschule_phil_conservatoire_musikho...",
         "orientation": "h",
         "type": "bar",
         "visible": "legendonly",
         "x": [
          10,
          19
         ],
         "y": [
          0,
          1
         ]
        },
        {
         "hoverinfo": "text",
         "hovertext": [
          "<b>Topic 99</b><br>Words: zirkusplatz, générosité, kaiserreich, russisches, apr",
          "<b>Topic 99</b><br>Words: livland, wenden, köln, kaiserreich, cesar"
         ],
         "marker": {
          "color": "#56B4E9"
         },
         "name": "99_kaiserreich_russisches_köln_1897",
         "orientation": "h",
         "type": "bar",
         "visible": "legendonly",
         "x": [
          22,
          6
         ],
         "y": [
          0,
          1
         ]
        },
        {
         "hoverinfo": "text",
         "hovertext": [
          "<b>Topic 100</b><br>Words: acquiert, succès, achève, grand, cependant",
          "<b>Topic 100</b><br>Words: rappels, ehre, parla, ungewöhnliche, nichtgeistlichen"
         ],
         "marker": {
          "color": "#009E73"
         },
         "name": "100_acquiert_succès_achève_grand",
         "orientation": "h",
         "type": "bar",
         "visible": "legendonly",
         "x": [
          23,
          5
         ],
         "y": [
          0,
          1
         ]
        },
        {
         "hoverinfo": "text",
         "hovertext": [
          "<b>Topic 101</b><br>Words: karel, tschechischer, švenk, czech, reiner"
         ],
         "marker": {
          "color": "#F0E442"
         },
         "name": "101_karel_tschechischer_švenk_czech",
         "orientation": "h",
         "type": "bar",
         "visible": "legendonly",
         "x": [
          28
         ],
         "y": [
          0
         ]
        },
        {
         "hoverinfo": "text",
         "hovertext": [
          "<b>Topic 102</b><br>Words: dissolution, 1922, gewandhaus, sinfonieorchesters, hyperinflation",
          "<b>Topic 102</b><br>Words: gewandhaus, 1922, konzertmeister, leipzig, 1921"
         ],
         "marker": {
          "color": "#D55E00"
         },
         "name": "102_gewandhaus_1922_dissolution_leipzig",
         "orientation": "h",
         "type": "bar",
         "visible": "legendonly",
         "x": [
          13,
          15
         ],
         "y": [
          0,
          1
         ]
        },
        {
         "hoverinfo": "text",
         "hovertext": [
          "<b>Topic 103</b><br>Words: erlanger, klaw, board, vorstandsmitglied, conductor",
          "<b>Topic 103</b><br>Words: gestellten, gewandhauskammerorchesters, rigide, parish, sievers"
         ],
         "marker": {
          "color": "#0072B2"
         },
         "name": "103_erlanger_klaw_vorstandsmitglied_boar...",
         "orientation": "h",
         "type": "bar",
         "visible": "legendonly",
         "x": [
          21,
          7
         ],
         "y": [
          0,
          1
         ]
        },
        {
         "hoverinfo": "text",
         "hovertext": [
          "<b>Topic 104</b><br>Words: born, blau, jakab, family, jewish"
         ],
         "marker": {
          "color": "#CC79A7"
         },
         "name": "104_born_jakab_blau_family",
         "orientation": "h",
         "type": "bar",
         "visible": "legendonly",
         "x": [
          28
         ],
         "y": [
          0
         ]
        },
        {
         "hoverinfo": "text",
         "hovertext": [
          "<b>Topic 105</b><br>Words: zoltán, kodály, koessler, székely, budapest",
          "<b>Topic 105</b><br>Words: kontarsky, aloys, alfons, included, students"
         ],
         "marker": {
          "color": "#E69F00"
         },
         "name": "105_zoltán_kodály_koessler_székely",
         "orientation": "h",
         "type": "bar",
         "visible": "legendonly",
         "x": [
          27,
          1
         ],
         "y": [
          0,
          1
         ]
        },
        {
         "hoverinfo": "text",
         "hovertext": [
          "<b>Topic 106</b><br>Words: stummfilm, film, jesse, filmmusik, filme",
          "<b>Topic 106</b><br>Words: mackeben, theo, haentzschel, leuwerik, nahtlose"
         ],
         "marker": {
          "color": "#56B4E9"
         },
         "name": "106_theo_stummfilm_mackeben_film",
         "orientation": "h",
         "type": "bar",
         "visible": "legendonly",
         "x": [
          20,
          7
         ],
         "y": [
          0,
          1
         ]
        },
        {
         "hoverinfo": "text",
         "hovertext": [
          "<b>Topic 107</b><br>Words: kracauer, amitié, kubelík, weschler, bernanos",
          "<b>Topic 107</b><br>Words: eliland, dedication, funded, köstler, publication"
         ],
         "marker": {
          "color": "#009E73"
         },
         "name": "107_kracauer_amitié_kubelík_weschler",
         "orientation": "h",
         "type": "bar",
         "visible": "legendonly",
         "x": [
          26,
          1
         ],
         "y": [
          0,
          1
         ]
        },
        {
         "hoverinfo": "text",
         "hovertext": [
          "<b>Topic 108</b><br>Words: op, nº, string, guitar, bote",
          "<b>Topic 108</b><br>Words: op, unpublished, rondo, entsprungene, ständchen"
         ],
         "marker": {
          "color": "#F0E442"
         },
         "name": "108_op_nº_string_guitar",
         "orientation": "h",
         "type": "bar",
         "visible": "legendonly",
         "x": [
          22,
          5
         ],
         "y": [
          0,
          1
         ]
        },
        {
         "hoverinfo": "text",
         "hovertext": [
          "<b>Topic 109</b><br>Words: schweden, frederiksbergs, schwedischen, lyngby, dänemark",
          "<b>Topic 109</b><br>Words: dänemark, oslo, ehemann, issay, umständlich"
         ],
         "marker": {
          "color": "#D55E00"
         },
         "name": "109_dänemark_schweden_lyngby_schwedische...",
         "orientation": "h",
         "type": "bar",
         "visible": "legendonly",
         "x": [
          20,
          7
         ],
         "y": [
          0,
          1
         ]
        },
        {
         "hoverinfo": "text",
         "hovertext": [
          "<b>Topic 110</b><br>Words: vernunft, philosophie, philosophischen, rationality, metaphysical",
          "<b>Topic 110</b><br>Words: heilpädagogik, lehren, eingesetzt, bloomington, interpretation"
         ],
         "marker": {
          "color": "#0072B2"
         },
         "name": "110_vernunft_philosophie_philosophischen...",
         "orientation": "h",
         "type": "bar",
         "visible": "legendonly",
         "x": [
          24,
          2
         ],
         "y": [
          0,
          1
         ]
        },
        {
         "hoverinfo": "text",
         "hovertext": [
          "<b>Topic 111</b><br>Words: bronners, dollar, business, freunden, äußeren",
          "<b>Topic 111</b><br>Words: stanislaus, ausüben, praktik, beruf, profession"
         ],
         "marker": {
          "color": "#CC79A7"
         },
         "name": "111_bronners_dollar_beruf_freunden",
         "orientation": "h",
         "type": "bar",
         "visible": "legendonly",
         "x": [
          22,
          4
         ],
         "y": [
          0,
          1
         ]
        },
        {
         "hoverinfo": "text",
         "hovertext": [
          "<b>Topic 112</b><br>Words: rundfunks, hoc, trunkene, ad, berliner",
          "<b>Topic 112</b><br>Words: grammophon, rundfunks, jochum, philharmoniker, recordings"
         ],
         "marker": {
          "color": "#E69F00"
         },
         "name": "112_rundfunks_grammophon_philharmoniker_...",
         "orientation": "h",
         "type": "bar",
         "visible": "legendonly",
         "x": [
          13,
          13
         ],
         "y": [
          0,
          1
         ]
        },
        {
         "hoverinfo": "text",
         "hovertext": [
          "<b>Topic 113</b><br>Words: pfitzner, hans, angrily, treading, footsteps",
          "<b>Topic 113</b><br>Words: pfitzner, 1869, hans, palestrina, westens"
         ],
         "marker": {
          "color": "#56B4E9"
         },
         "name": "113_pfitzner_hans_1869_palestrina",
         "orientation": "h",
         "type": "bar",
         "visible": "legendonly",
         "x": [
          8,
          18
         ],
         "y": [
          0,
          1
         ]
        },
        {
         "hoverinfo": "text",
         "hovertext": [
          "<b>Topic 114</b><br>Words: mondiale, guerre, weltkriegs, seconde, zweiten",
          "<b>Topic 114</b><br>Words: mondiale, beaucoup, guerre, marqués, sincère"
         ],
         "marker": {
          "color": "#009E73"
         },
         "name": "114_mondiale_guerre_seconde_weltkriegs",
         "orientation": "h",
         "type": "bar",
         "visible": "legendonly",
         "x": [
          21,
          5
         ],
         "y": [
          0,
          1
         ]
        },
        {
         "hoverinfo": "text",
         "hovertext": [
          "<b>Topic 115</b><br>Words: leoš, janáček, lwów, antonín, dvořák",
          "<b>Topic 115</b><br>Words: königsberg, albertus, commerzbankniederlassung, wirtschaftlichen, alsbald"
         ],
         "marker": {
          "color": "#F0E442"
         },
         "name": "115_leoš_janáček_lwów_antonín",
         "orientation": "h",
         "type": "bar",
         "visible": "legendonly",
         "x": [
          25,
          1
         ],
         "y": [
          0,
          1
         ]
        },
        {
         "hoverinfo": "text",
         "hovertext": [
          "<b>Topic 116</b><br>Words: folk, energy, interest, rhythms, output",
          "<b>Topic 116</b><br>Words: entwickeln, rhythmische, gefühl, idee, grundlage"
         ],
         "marker": {
          "color": "#D55E00"
         },
         "name": "116_folk_energy_interest_bildete",
         "orientation": "h",
         "type": "bar",
         "visible": "legendonly",
         "x": [
          25,
          1
         ],
         "y": [
          0,
          1
         ]
        },
        {
         "hoverinfo": "text",
         "hovertext": [
          "<b>Topic 117</b><br>Words: cancer, starb, tumeur, vacances, 1969",
          "<b>Topic 117</b><br>Words: krankenhaus, schweizer, verstarb, 1967, januar"
         ],
         "marker": {
          "color": "#0072B2"
         },
         "name": "117_cancer_starb_tumeur_vacances",
         "orientation": "h",
         "type": "bar",
         "visible": "legendonly",
         "x": [
          25,
          1
         ],
         "y": [
          0,
          1
         ]
        },
        {
         "hoverinfo": "text",
         "hovertext": [
          "<b>Topic 118</b><br>Words: studenten, étudiants, studentischen, studentenbewegung, adornos",
          "<b>Topic 118</b><br>Words: rebellion, bedroht, things, ständig, inner"
         ],
         "marker": {
          "color": "#CC79A7"
         },
         "name": "118_studenten_étudiants_studentischen_st...",
         "orientation": "h",
         "type": "bar",
         "visible": "legendonly",
         "x": [
          24,
          2
         ],
         "y": [
          0,
          1
         ]
        },
        {
         "hoverinfo": "text",
         "hovertext": [
          "<b>Topic 119</b><br>Words: juden, jews, reimann, verschlechterte, intention",
          "<b>Topic 119</b><br>Words: acquittement, préparée, procès, riess, fui"
         ],
         "marker": {
          "color": "#E69F00"
         },
         "name": "119_juden_jews_reimann_verschlechterte",
         "orientation": "h",
         "type": "bar",
         "visible": "legendonly",
         "x": [
          24,
          1
         ],
         "y": [
          0,
          1
         ]
        },
        {
         "hoverinfo": "text",
         "hovertext": [
          "<b>Topic 120</b><br>Words: künste, akademie, nachlass, membre, archiv",
          "<b>Topic 120</b><br>Words: höller, arts, künste, membre, member"
         ],
         "marker": {
          "color": "#56B4E9"
         },
         "name": "120_künste_akademie_membre_arts",
         "orientation": "h",
         "type": "bar",
         "visible": "legendonly",
         "x": [
          17,
          8
         ],
         "y": [
          0,
          1
         ]
        },
        {
         "hoverinfo": "text",
         "hovertext": [
          "<b>Topic 121</b><br>Words: schrecker, schulhoff, schnabel, famille, ashkénaze",
          "<b>Topic 121</b><br>Words: brewer, prosperous, witnica, pschorr, financially"
         ],
         "marker": {
          "color": "#009E73"
         },
         "name": "121_schrecker_schulhoff_schnabel_famille",
         "orientation": "h",
         "type": "bar",
         "visible": "legendonly",
         "x": [
          23,
          2
         ],
         "y": [
          0,
          1
         ]
        },
        {
         "hoverinfo": "text",
         "hovertext": [
          "<b>Topic 122</b><br>Words: waxman, josh, climactic, rebecca, scored"
         ],
         "marker": {
          "color": "#F0E442"
         },
         "name": "122_waxman_josh_climactic_rebecca",
         "orientation": "h",
         "type": "bar",
         "visible": "legendonly",
         "x": [
          25
         ],
         "y": [
          0
         ]
        },
        {
         "hoverinfo": "text",
         "hovertext": [
          "<b>Topic 123</b><br>Words: österreichischer, musikpädagoge, komponist, österreichisch, amerikanischer",
          "<b>Topic 123</b><br>Words: musikpädagoge, österreichischer, pianist, komponist, österreichisch"
         ],
         "marker": {
          "color": "#D55E00"
         },
         "name": "123_österreichischer_musikpädagoge_kompo...",
         "orientation": "h",
         "type": "bar",
         "visible": "legendonly",
         "x": [
          24,
          1
         ],
         "y": [
          0,
          1
         ]
        },
        {
         "hoverinfo": "text",
         "hovertext": [
          "<b>Topic 124</b><br>Words: oscar, nominiert, nominations, oscars, award",
          "<b>Topic 124</b><br>Words: filmband, 1984, hervorragendes, langjähriges, wirken"
         ],
         "marker": {
          "color": "#0072B2"
         },
         "name": "124_oscar_nominiert_nominations_oscars",
         "orientation": "h",
         "type": "bar",
         "visible": "legendonly",
         "x": [
          23,
          2
         ],
         "y": [
          0,
          1
         ]
        },
        {
         "hoverinfo": "text",
         "hovertext": [
          "<b>Topic 125</b><br>Words: warschauer, michałowski, aleksander, grzegorz, józef"
         ],
         "marker": {
          "color": "#CC79A7"
         },
         "name": "125_warschauer_michałowski_aleksander_gr...",
         "orientation": "h",
         "type": "bar",
         "visible": "legendonly",
         "x": [
          24
         ],
         "y": [
          0
         ]
        },
        {
         "hoverinfo": "text",
         "hovertext": [
          "<b>Topic 126</b><br>Words: rheingold, bayreuths, prinzregenttheather, patterned, walküre",
          "<b>Topic 126</b><br>Words: bayreuth, conducting, bülow, strauss, wagner"
         ],
         "marker": {
          "color": "#E69F00"
         },
         "name": "126_bayreuth_conducting_bülow_wagner",
         "orientation": "h",
         "type": "bar",
         "visible": "legendonly",
         "x": [
          2,
          22
         ],
         "y": [
          0,
          1
         ]
        },
        {
         "hoverinfo": "text",
         "hovertext": [
          "<b>Topic 127</b><br>Words: mannes, frau, tod, stütze, aktive",
          "<b>Topic 127</b><br>Words: angerechnet, survécut, demanda, douloureuse, perte"
         ],
         "marker": {
          "color": "#56B4E9"
         },
         "name": "127_mannes_frau_tod_survécut",
         "orientation": "h",
         "type": "bar",
         "visible": "legendonly",
         "x": [
          20,
          4
         ],
         "y": [
          0,
          1
         ]
        },
        {
         "hoverinfo": "text",
         "hovertext": [
          "<b>Topic 128</b><br>Words: schubert, beethoven, pèlerinage, intégrale, mozart",
          "<b>Topic 128</b><br>Words: schubert, mozart, beethoven, haydn, bach"
         ],
         "marker": {
          "color": "#009E73"
         },
         "name": "128_schubert_beethoven_mozart_haydn",
         "orientation": "h",
         "type": "bar",
         "visible": "legendonly",
         "x": [
          12,
          12
         ],
         "y": [
          0,
          1
         ]
        },
        {
         "hoverinfo": "text",
         "hovertext": [
          "<b>Topic 129</b><br>Words: rathaus, nachlass, karol, befindet, wienbibliothek",
          "<b>Topic 129</b><br>Words: holmes, archiv, stiftung, hofmannsthal, befindet"
         ],
         "marker": {
          "color": "#F0E442"
         },
         "name": "129_rathaus_nachlass_karol_befindet",
         "orientation": "h",
         "type": "bar",
         "visible": "legendonly",
         "x": [
          21,
          3
         ],
         "y": [
          0,
          1
         ]
        },
        {
         "hoverinfo": "text",
         "hovertext": [
          "<b>Topic 130</b><br>Words: lübeck, lyra, 09, 1911, liedertafel",
          "<b>Topic 130</b><br>Words: lübeck, hofkapelle, meiningen, meininger, vereins"
         ],
         "marker": {
          "color": "#D55E00"
         },
         "name": "130_lübeck_lyra_1911_09",
         "orientation": "h",
         "type": "bar",
         "visible": "legendonly",
         "x": [
          19,
          5
         ],
         "y": [
          0,
          1
         ]
        },
        {
         "hoverinfo": "text",
         "hovertext": [
          "<b>Topic 131</b><br>Words: church, obtient, trinity, harmony, associate",
          "<b>Topic 131</b><br>Words: theorielehrerexamen, orgelproblems, klärung, gedanken, income"
         ],
         "marker": {
          "color": "#0072B2"
         },
         "name": "131_church_obtient_trinity_harmony",
         "orientation": "h",
         "type": "bar",
         "visible": "legendonly",
         "x": [
          20,
          4
         ],
         "y": [
          0,
          1
         ]
        },
        {
         "hoverinfo": "text",
         "hovertext": [
          "<b>Topic 132</b><br>Words: gesundheit, illness, health, gaunt, assombries",
          "<b>Topic 132</b><br>Words: ärztlichen, atteste, geldsorgen, problemen, begründen"
         ],
         "marker": {
          "color": "#CC79A7"
         },
         "name": "132_gesundheit_illness_health_marital",
         "orientation": "h",
         "type": "bar",
         "visible": "legendonly",
         "x": [
          21,
          3
         ],
         "y": [
          0,
          1
         ]
        },
        {
         "hoverinfo": "text",
         "hovertext": [
          "<b>Topic 133</b><br>Words: märsche, rêve, genres, starer, gars",
          "<b>Topic 133</b><br>Words: verklärten, interruption, example, erschien, 1884"
         ],
         "marker": {
          "color": "#E69F00"
         },
         "name": "133_märsche_rêve_genres_starer",
         "orientation": "h",
         "type": "bar",
         "visible": "legendonly",
         "x": [
          19,
          4
         ],
         "y": [
          0,
          1
         ]
        },
        {
         "hoverinfo": "text",
         "hovertext": [
          "<b>Topic 134</b><br>Words: anschluss, ausschnitt, customize, draws, irae",
          "<b>Topic 134</b><br>Words: anschluss, ausschnitt, customize, draws, irae"
         ],
         "marker": {
          "color": "#56B4E9"
         },
         "name": "134_anschluss_kriegsministerium_irae_dra...",
         "orientation": "h",
         "type": "bar",
         "visible": "legendonly",
         "x": [
          21,
          2
         ],
         "y": [
          0,
          1
         ]
        },
        {
         "hoverinfo": "text",
         "hovertext": [
          "<b>Topic 135</b><br>Words: ehepaar, zog, schwestern, mutter, brand",
          "<b>Topic 135</b><br>Words: ehepaar, seibersdorf, anwesen, heide, faistenau"
         ],
         "marker": {
          "color": "#009E73"
         },
         "name": "135_ehepaar_zog_schwestern_mutter",
         "orientation": "h",
         "type": "bar",
         "visible": "legendonly",
         "x": [
          17,
          6
         ],
         "y": [
          0,
          1
         ]
        },
        {
         "hoverinfo": "text",
         "hovertext": [
          "<b>Topic 136</b><br>Words: lüdenscheid, 1913, 1920, 1915, oper",
          "<b>Topic 136</b><br>Words: chefposition, gliwice, furtwangler, mannheim, 1920"
         ],
         "marker": {
          "color": "#F0E442"
         },
         "name": "136_lüdenscheid_1920_1913_1915",
         "orientation": "h",
         "type": "bar",
         "visible": "legendonly",
         "x": [
          19,
          4
         ],
         "y": [
          0,
          1
         ]
        },
        {
         "hoverinfo": "text",
         "hovertext": [
          "<b>Topic 137</b><br>Words: toronto, royal, canada, morawetz, manchester",
          "<b>Topic 137</b><br>Words: montréal, wilfrid, pelletier, canadien, occurrence"
         ],
         "marker": {
          "color": "#D55E00"
         },
         "name": "137_toronto_royal_canada_morawetz",
         "orientation": "h",
         "type": "bar",
         "visible": "legendonly",
         "x": [
          21,
          2
         ],
         "y": [
          0,
          1
         ]
        },
        {
         "hoverinfo": "text",
         "hovertext": [
          "<b>Topic 138</b><br>Words: rédige, autobiographie, plus, catalog, impose",
          "<b>Topic 138</b><br>Words: descriptions, seeing, sites, traveling, impressions"
         ],
         "marker": {
          "color": "#0072B2"
         },
         "name": "138_descriptions_rédige_autobiographie_p...",
         "orientation": "h",
         "type": "bar",
         "visible": "legendonly",
         "x": [
          22,
          1
         ],
         "y": [
          0,
          1
         ]
        },
        {
         "hoverinfo": "text",
         "hovertext": [
          "<b>Topic 139</b><br>Words: staatsbürgerschaft, österreicher, anschluss, niederländischen, überlebte"
         ],
         "marker": {
          "color": "#CC79A7"
         },
         "name": "139_staatsbürgerschaft_österreicher_ansc...",
         "orientation": "h",
         "type": "bar",
         "visible": "legendonly",
         "x": [
          23
         ],
         "y": [
          0
         ]
        },
        {
         "hoverinfo": "text",
         "hovertext": [
          "<b>Topic 140</b><br>Words: nazis, dégénérée, reichsmusikkammer, degenerate, durften",
          "<b>Topic 140</b><br>Words: nazizeit, dreilinden, aufrufen, besinnung, cardillac"
         ],
         "marker": {
          "color": "#E69F00"
         },
         "name": "140_nazis_durften_dégénérée_reichsmusikk...",
         "orientation": "h",
         "type": "bar",
         "visible": "legendonly",
         "x": [
          20,
          3
         ],
         "y": [
          0,
          1
         ]
        },
        {
         "hoverinfo": "text",
         "hovertext": [
          "<b>Topic 141</b><br>Words: 1913, lachende, frauenfresser, ehemann, spielzeit",
          "<b>Topic 141</b><br>Words: josephs, hagen, ariadne, tremendous, balletts"
         ],
         "marker": {
          "color": "#56B4E9"
         },
         "name": "141_1913_lachende_frauenfresser_ehemann",
         "orientation": "h",
         "type": "bar",
         "visible": "legendonly",
         "x": [
          20,
          3
         ],
         "y": [
          0,
          1
         ]
        },
        {
         "hoverinfo": "text",
         "hovertext": [
          "<b>Topic 142</b><br>Words: manège, versiegelt, componieren, schwankungen, rassuré",
          "<b>Topic 142</b><br>Words: certain, sentimentality, shall, absolutely, crushed"
         ],
         "marker": {
          "color": "#009E73"
         },
         "name": "142_certain_absolutely_entweder_völlige",
         "orientation": "h",
         "type": "bar",
         "visible": "legendonly",
         "x": [
          20,
          2
         ],
         "y": [
          0,
          1
         ]
        },
        {
         "hoverinfo": "text",
         "hovertext": [
          "<b>Topic 143</b><br>Words: palestine, tschechoslowakei, zagreb, faschistischen, protektorat"
         ],
         "marker": {
          "color": "#F0E442"
         },
         "name": "143_palestine_tschechoslowakei_zagreb_fa...",
         "orientation": "h",
         "type": "bar",
         "visible": "legendonly",
         "x": [
          22
         ],
         "y": [
          0
         ]
        },
        {
         "hoverinfo": "text",
         "hovertext": [
          "<b>Topic 144</b><br>Words: österreichischer, toch, ebenda, vermont, komponist",
          "<b>Topic 144</b><br>Words: ebenda, modeschöpferin, österreichischer, 1988, kritiker"
         ],
         "marker": {
          "color": "#D55E00"
         },
         "name": "144_österreichischer_ebenda_toch_vermont",
         "orientation": "h",
         "type": "bar",
         "visible": "legendonly",
         "x": [
          18,
          4
         ],
         "y": [
          0,
          1
         ]
        },
        {
         "hoverinfo": "text",
         "hovertext": [
          "<b>Topic 145</b><br>Words: stefan, wolpe, composer, ignatz, german",
          "<b>Topic 145</b><br>Words: borsdorf, ottmar, 31, june, 1969"
         ],
         "marker": {
          "color": "#0072B2"
         },
         "name": "145_borsdorf_june_composer_german",
         "orientation": "h",
         "type": "bar",
         "visible": "legendonly",
         "x": [
          14,
          8
         ],
         "y": [
          0,
          1
         ]
        },
        {
         "hoverinfo": "text",
         "hovertext": [
          "<b>Topic 146</b><br>Words: leonid, schnittke, golschmann, gubaidulina, vladislav",
          "<b>Topic 146</b><br>Words: moodie, knappertsbusch, prominenten, einsetzten, lingg"
         ],
         "marker": {
          "color": "#CC79A7"
         },
         "name": "146_leonid_golschmann_vladislav_gubaidul...",
         "orientation": "h",
         "type": "bar",
         "visible": "legendonly",
         "x": [
          18,
          4
         ],
         "y": [
          0,
          1
         ]
        },
        {
         "hoverinfo": "text",
         "hovertext": [
          "<b>Topic 147</b><br>Words: pièces, string, zwei, concertos, orchester",
          "<b>Topic 147</b><br>Words: orchester, soprano, solokonzerte, plagen, minor"
         ],
         "marker": {
          "color": "#E69F00"
         },
         "name": "147_string_orchester_pièces_zwei",
         "orientation": "h",
         "type": "bar",
         "visible": "legendonly",
         "x": [
          18,
          4
         ],
         "y": [
          0,
          1
         ]
        },
        {
         "hoverinfo": "text",
         "hovertext": [
          "<b>Topic 148</b><br>Words: secret, courage, 1942, 1956, white",
          "<b>Topic 148</b><br>Words: temptation, devil, 1956, 1959, game"
         ],
         "marker": {
          "color": "#56B4E9"
         },
         "name": "148_secret_1956_courage_white",
         "orientation": "h",
         "type": "bar",
         "visible": "legendonly",
         "x": [
          18,
          4
         ],
         "y": [
          0,
          1
         ]
        },
        {
         "hoverinfo": "text",
         "hovertext": [
          "<b>Topic 149</b><br>Words: hollaender, 1976, hollander, leobschütz, 18",
          "<b>Topic 149</b><br>Words: höffer, höller, miesbach, bamberg, hausham"
         ],
         "marker": {
          "color": "#009E73"
         },
         "name": "149_hollaender_höffer_höller_1976",
         "orientation": "h",
         "type": "bar",
         "visible": "legendonly",
         "x": [
          12,
          10
         ],
         "y": [
          0,
          1
         ]
        },
        {
         "hoverinfo": "text",
         "hovertext": [
          "<b>Topic 150</b><br>Words: 92nd, ymca, binder, maximilian, juif",
          "<b>Topic 150</b><br>Words: undeutsche, absagten, warf, haltung, lud"
         ],
         "marker": {
          "color": "#F0E442"
         },
         "name": "150_92nd_ymca_binder_maximilian",
         "orientation": "h",
         "type": "bar",
         "visible": "legendonly",
         "x": [
          20,
          2
         ],
         "y": [
          0,
          1
         ]
        },
        {
         "hoverinfo": "text",
         "hovertext": [
          "<b>Topic 151</b><br>Words: downsized, erneuten, legal, intendanten, stoehr",
          "<b>Topic 151</b><br>Words: karte, 1948, hauptkammer, verlangte, nb"
         ],
         "marker": {
          "color": "#D55E00"
         },
         "name": "151_karte_1948_nb_verlangte",
         "orientation": "h",
         "type": "bar",
         "visible": "legendonly",
         "x": [
          2,
          20
         ],
         "y": [
          0,
          1
         ]
        },
        {
         "hoverinfo": "text",
         "hovertext": [
          "<b>Topic 152</b><br>Words: leibowitz, maguire, kraus, rené, skovgaard"
         ],
         "marker": {
          "color": "#0072B2"
         },
         "name": "152_leibowitz_maguire_kraus_rené",
         "orientation": "h",
         "type": "bar",
         "visible": "legendonly",
         "x": [
          22
         ],
         "y": [
          0
         ]
        },
        {
         "hoverinfo": "text",
         "hovertext": [
          "<b>Topic 153</b><br>Words: statt, solitude, 1954, fand, uraufführung",
          "<b>Topic 153</b><br>Words: solitude, boulevard, henze, 1952, werner"
         ],
         "marker": {
          "color": "#CC79A7"
         },
         "name": "153_solitude_boulevard_henze_1952",
         "orientation": "h",
         "type": "bar",
         "visible": "legendonly",
         "x": [
          13,
          9
         ],
         "y": [
          0,
          1
         ]
        },
        {
         "hoverinfo": "text",
         "hovertext": [
          "<b>Topic 154</b><br>Words: reger, max, leipzig, thern, willi",
          "<b>Topic 154</b><br>Words: reger, baptist, 1873, max, philomena"
         ],
         "marker": {
          "color": "#E69F00"
         },
         "name": "154_reger_max_baptist_leipzig",
         "orientation": "h",
         "type": "bar",
         "visible": "legendonly",
         "x": [
          10,
          12
         ],
         "y": [
          0,
          1
         ]
        },
        {
         "hoverinfo": "text",
         "hovertext": [
          "<b>Topic 155</b><br>Words: anschluss, österreichs, 1938, austria, pogrom"
         ],
         "marker": {
          "color": "#56B4E9"
         },
         "name": "155_anschluss_österreichs_1938_austria",
         "orientation": "h",
         "type": "bar",
         "visible": "legendonly",
         "x": [
          22
         ],
         "y": [
          0
         ]
        },
        {
         "hoverinfo": "text",
         "hovertext": [
          "<b>Topic 156</b><br>Words: schreibweise, sendrey, name, namens, änderte"
         ],
         "marker": {
          "color": "#009E73"
         },
         "name": "156_schreibweise_sendrey_name_namens",
         "orientation": "h",
         "type": "bar",
         "visible": "legendonly",
         "x": [
          22
         ],
         "y": [
          0
         ]
        },
        {
         "hoverinfo": "text",
         "hovertext": [
          "<b>Topic 157</b><br>Words: kempff, germaniques, légende, backhaus, pianistes",
          "<b>Topic 157</b><br>Words: kempff, wilhelm, jüterbog, potsdam, 1895"
         ],
         "marker": {
          "color": "#F0E442"
         },
         "name": "157_kempff_wilhelm_jüterbog_potsdam",
         "orientation": "h",
         "type": "bar",
         "visible": "legendonly",
         "x": [
          1,
          20
         ],
         "y": [
          0,
          1
         ]
        },
        {
         "hoverinfo": "text",
         "hovertext": [
          "<b>Topic 158</b><br>Words: marlene, auferstanden, becher, démocratique, ruinen",
          "<b>Topic 158</b><br>Words: essener, straßenbaukompanien, corps, essen, trionfi"
         ],
         "marker": {
          "color": "#D55E00"
         },
         "name": "158_paroles_marlene_becher_straßenbaukom...",
         "orientation": "h",
         "type": "bar",
         "visible": "legendonly",
         "x": [
          17,
          4
         ],
         "y": [
          0,
          1
         ]
        },
        {
         "hoverinfo": "text",
         "hovertext": [
          "<b>Topic 159</b><br>Words: leningrad, making, vocal, brno, aristocratique",
          "<b>Topic 159</b><br>Words: lisztiens, familier, cercles, initié, duquel"
         ],
         "marker": {
          "color": "#0072B2"
         },
         "name": "159_leningrad_making_vocal_brno",
         "orientation": "h",
         "type": "bar",
         "visible": "legendonly",
         "x": [
          20,
          1
         ],
         "y": [
          0,
          1
         ]
        },
        {
         "hoverinfo": "text",
         "hovertext": [
          "<b>Topic 160</b><br>Words: zemlinsky, mahagonny, musikdirektor, neuen, theaters"
         ],
         "marker": {
          "color": "#CC79A7"
         },
         "name": "160_zemlinsky_mahagonny_musikdirektor_ne...",
         "orientation": "h",
         "type": "bar",
         "visible": "legendonly",
         "x": [
          21
         ],
         "y": [
          0
         ]
        },
        {
         "hoverinfo": "text",
         "hovertext": [
          "<b>Topic 161</b><br>Words: jessel, szendrei, leon, 1871, 1884"
         ],
         "marker": {
          "color": "#E69F00"
         },
         "name": "161_jessel_szendrei_leon_1871",
         "orientation": "h",
         "type": "bar",
         "visible": "legendonly",
         "x": [
          21
         ],
         "y": [
          0
         ]
        },
        {
         "hoverinfo": "text",
         "hovertext": [
          "<b>Topic 162</b><br>Words: kaiserstuhl, eichstetten, dessau, rabbiner, kaminski"
         ],
         "marker": {
          "color": "#56B4E9"
         },
         "name": "162_kaiserstuhl_eichstetten_dessau_rabbi...",
         "orientation": "h",
         "type": "bar",
         "visible": "legendonly",
         "x": [
          21
         ],
         "y": [
          0
         ]
        },
        {
         "hoverinfo": "text",
         "hovertext": [
          "<b>Topic 163</b><br>Words: hochschule, staatlichen, bank, berlin, musikstudium",
          "<b>Topic 163</b><br>Words: hochschule, 1920, haentzschel, stern, bourses"
         ],
         "marker": {
          "color": "#009E73"
         },
         "name": "163_hochschule_staatlichen_stern_berlin",
         "orientation": "h",
         "type": "bar",
         "visible": "legendonly",
         "x": [
          13,
          8
         ],
         "y": [
          0,
          1
         ]
        },
        {
         "hoverinfo": "text",
         "hovertext": [
          "<b>Topic 164</b><br>Words: bartók, folk, kodály, ditta, elements"
         ],
         "marker": {
          "color": "#F0E442"
         },
         "name": "164_bartók_folk_kodály_ditta",
         "orientation": "h",
         "type": "bar",
         "visible": "legendonly",
         "x": [
          20
         ],
         "y": [
          0
         ]
        },
        {
         "hoverinfo": "text",
         "hovertext": [
          "<b>Topic 165</b><br>Words: autodidacte, versed, handsome, happiest, spannendste",
          "<b>Topic 165</b><br>Words: horseman, irascible, garrulous, outspoken, eccentric"
         ],
         "marker": {
          "color": "#D55E00"
         },
         "name": "165_autodidacte_irascible_fruchtbarsten_...",
         "orientation": "h",
         "type": "bar",
         "visible": "legendonly",
         "x": [
          18,
          2
         ],
         "y": [
          0,
          1
         ]
        },
        {
         "hoverinfo": "text",
         "hovertext": [
          "<b>Topic 166</b><br>Words: 1933, benediktbeuern, opinions, ämter, endete",
          "<b>Topic 166</b><br>Words: appell, schaffenden, trapp, appel, appeal"
         ],
         "marker": {
          "color": "#0072B2"
         },
         "name": "166_appell_1933_benediktbeuern_opinions",
         "orientation": "h",
         "type": "bar",
         "visible": "legendonly",
         "x": [
          17,
          3
         ],
         "y": [
          0,
          1
         ]
        },
        {
         "hoverinfo": "text",
         "hovertext": [
          "<b>Topic 167</b><br>Words: klimt, berta, kukuck, dietrich, partnerin",
          "<b>Topic 167</b><br>Words: klimt, margarethe, weshalb, klenau, eheschließung"
         ],
         "marker": {
          "color": "#CC79A7"
         },
         "name": "167_klimt_margarethe_eheschließung_klena...",
         "orientation": "h",
         "type": "bar",
         "visible": "legendonly",
         "x": [
          7,
          13
         ],
         "y": [
          0,
          1
         ]
        },
        {
         "hoverinfo": "text",
         "hovertext": [
          "<b>Topic 168</b><br>Words: philip, training, formal, orchestration, vorbildungsschule",
          "<b>Topic 168</b><br>Words: monroe, solopartien, schulchor, fabian, wittelsbacher"
         ],
         "marker": {
          "color": "#E69F00"
         },
         "name": "168_philip_training_formal_klavier",
         "orientation": "h",
         "type": "bar",
         "visible": "legendonly",
         "x": [
          17,
          3
         ],
         "y": [
          0,
          1
         ]
        },
        {
         "hoverinfo": "text",
         "hovertext": [
          "<b>Topic 169</b><br>Words: kafka, brod, manuscrits, publication, suivent"
         ],
         "marker": {
          "color": "#56B4E9"
         },
         "name": "169_kafka_brod_manuscrits_publication",
         "orientation": "h",
         "type": "bar",
         "visible": "legendonly",
         "x": [
          20
         ],
         "y": [
          0
         ]
        },
        {
         "hoverinfo": "text",
         "hovertext": [
          "<b>Topic 170</b><br>Words: kindertransport, gielens, anschluss, england, andre",
          "<b>Topic 170</b><br>Words: melbourne, enfui, allait, appris, godela"
         ],
         "marker": {
          "color": "#009E73"
         },
         "name": "170_kindertransport_gielens_anschluss_en...",
         "orientation": "h",
         "type": "bar",
         "visible": "legendonly",
         "x": [
          16,
          4
         ],
         "y": [
          0,
          1
         ]
        },
        {
         "hoverinfo": "text",
         "hovertext": [
          "<b>Topic 171</b><br>Words: cemetery, forever, woodstock, interred, memorial"
         ],
         "marker": {
          "color": "#F0E442"
         },
         "name": "171_cemetery_forever_woodstock_interred",
         "orientation": "h",
         "type": "bar",
         "visible": "legendonly",
         "x": [
          20
         ],
         "y": [
          0
         ]
        },
        {
         "hoverinfo": "text",
         "hovertext": [
          "<b>Topic 172</b><br>Words: eliot, norton, straube, église, lectures",
          "<b>Topic 172</b><br>Words: straube, ramin, thomaskirche, thomanerchor, organiste"
         ],
         "marker": {
          "color": "#D55E00"
         },
         "name": "172_straube_ramin_thomaskirche_thomanerc...",
         "orientation": "h",
         "type": "bar",
         "visible": "legendonly",
         "x": [
          3,
          17
         ],
         "y": [
          0,
          1
         ]
        },
        {
         "hoverinfo": "text",
         "hovertext": [
          "<b>Topic 173</b><br>Words: beethoven, gershwin, gegenstand, firmness, riesenerfolge",
          "<b>Topic 173</b><br>Words: callas, dato, raconta, assistait, conclut"
         ],
         "marker": {
          "color": "#0072B2"
         },
         "name": "173_beethoven_gershwin_riesenerfolge_obs...",
         "orientation": "h",
         "type": "bar",
         "visible": "legendonly",
         "x": [
          17,
          2
         ],
         "y": [
          0,
          1
         ]
        },
        {
         "hoverinfo": "text",
         "hovertext": [
          "<b>Topic 174</b><br>Words: popularity, worldwide, achieved, stringent, primär",
          "<b>Topic 174</b><br>Words: lehrverpflichtung, sorgfalt, sailing, hingabe, swimming"
         ],
         "marker": {
          "color": "#CC79A7"
         },
         "name": "174_popularity_worldwide_achieved_liées",
         "orientation": "h",
         "type": "bar",
         "visible": "legendonly",
         "x": [
          14,
          5
         ],
         "y": [
          0,
          1
         ]
        },
        {
         "hoverinfo": "text",
         "hovertext": [
          "<b>Topic 175</b><br>Words: mozart, amadeus, wolfgang, flothuis, claudio",
          "<b>Topic 175</b><br>Words: mönchs, volksliedern, sammlungen, verdient, herausgeber"
         ],
         "marker": {
          "color": "#E69F00"
         },
         "name": "175_mozart_amadeus_wolfgang_flothuis",
         "orientation": "h",
         "type": "bar",
         "visible": "legendonly",
         "x": [
          18,
          1
         ],
         "y": [
          0,
          1
         ]
        },
        {
         "hoverinfo": "text",
         "hovertext": [
          "<b>Topic 176</b><br>Words: strange, hätten, zeitgenossen, diktion, spott",
          "<b>Topic 176</b><br>Words: diktion, pseudonyms, gezwungenermaßen, bemerkbare, anscheinend"
         ],
         "marker": {
          "color": "#56B4E9"
         },
         "name": "176_diktion_strange_hätten_zeitgenossen",
         "orientation": "h",
         "type": "bar",
         "visible": "legendonly",
         "x": [
          15,
          4
         ],
         "y": [
          0,
          1
         ]
        },
        {
         "hoverinfo": "text",
         "hovertext": [
          "<b>Topic 177</b><br>Words: unconscious, adorno, husserl, concept, explode"
         ],
         "marker": {
          "color": "#009E73"
         },
         "name": "177_unconscious_adorno_husserl_concept",
         "orientation": "h",
         "type": "bar",
         "visible": "legendonly",
         "x": [
          19
         ],
         "y": [
          0
         ]
        },
        {
         "hoverinfo": "text",
         "hovertext": [
          "<b>Topic 178</b><br>Words: kleinem, millénaire, süßenmühle, célébrer, bodensee",
          "<b>Topic 178</b><br>Words: lochham, industriellen, suburb, mainzer, einstigen"
         ],
         "marker": {
          "color": "#F0E442"
         },
         "name": "178_millénaire_célébrer_süßenmühle_subur...",
         "orientation": "h",
         "type": "bar",
         "visible": "legendonly",
         "x": [
          13,
          6
         ],
         "y": [
          0,
          1
         ]
        },
        {
         "hoverinfo": "text",
         "hovertext": [
          "<b>Topic 179</b><br>Words: gaz, symptoms, ums, arrivée, échappe",
          "<b>Topic 179</b><br>Words: amnesia, aphasia, paralysis, caved, trench"
         ],
         "marker": {
          "color": "#D55E00"
         },
         "name": "179_gaz_symptoms_ums_arrivée",
         "orientation": "h",
         "type": "bar",
         "visible": "legendonly",
         "x": [
          18,
          1
         ],
         "y": [
          0,
          1
         ]
        },
        {
         "hoverinfo": "text",
         "hovertext": [
          "<b>Topic 180</b><br>Words: ghetto, szpilman, wieliczka, koffler, varsovie"
         ],
         "marker": {
          "color": "#0072B2"
         },
         "name": "180_ghetto_szpilman_wieliczka_koffler",
         "orientation": "h",
         "type": "bar",
         "visible": "legendonly",
         "x": [
          19
         ],
         "y": [
          0
         ]
        },
        {
         "hoverinfo": "text",
         "hovertext": [
          "<b>Topic 181</b><br>Words: inconnue, certainly, date, unknown, never",
          "<b>Topic 181</b><br>Words: looks, certainly, think, something, future"
         ],
         "marker": {
          "color": "#CC79A7"
         },
         "name": "181_inconnue_certainly_never_date",
         "orientation": "h",
         "type": "bar",
         "visible": "legendonly",
         "x": [
          18,
          1
         ],
         "y": [
          0,
          1
         ]
        },
        {
         "hoverinfo": "text",
         "hovertext": [
          "<b>Topic 182</b><br>Words: kaufmann, siegfried, moritz, becker, brüder",
          "<b>Topic 182</b><br>Words: hessenberg, kugler, emma, eduard, müller"
         ],
         "marker": {
          "color": "#E69F00"
         },
         "name": "182_hessenberg_kugler_kaufmann_siegfried",
         "orientation": "h",
         "type": "bar",
         "visible": "legendonly",
         "x": [
          15,
          4
         ],
         "y": [
          0,
          1
         ]
        },
        {
         "hoverinfo": "text",
         "hovertext": [
          "<b>Topic 183</b><br>Words: défense, mistinguett, vanished, épuration, témoignera",
          "<b>Topic 183</b><br>Words: uk, kriegshandlungen, führungsoffizieren, wehrmachtsangehörigen, privates"
         ],
         "marker": {
          "color": "#56B4E9"
         },
         "name": "183_défense_uk_fremdenlegion_antiaérienn...",
         "orientation": "h",
         "type": "bar",
         "visible": "legendonly",
         "x": [
          13,
          5
         ],
         "y": [
          0,
          1
         ]
        },
        {
         "hoverinfo": "text",
         "hovertext": [
          "<b>Topic 184</b><br>Words: army, served, armee, weltkrieg, world"
         ],
         "marker": {
          "color": "#009E73"
         },
         "name": "184_army_served_armee_weltkrieg",
         "orientation": "h",
         "type": "bar",
         "visible": "legendonly",
         "x": [
          18
         ],
         "y": [
          0
         ]
        },
        {
         "hoverinfo": "text",
         "hovertext": [
          "<b>Topic 185</b><br>Words: communist, realismus, gebrauchsmusik, galten, sozialistischen",
          "<b>Topic 185</b><br>Words: pfitzner, gelobte, futuristengefahr, sozialistischer, rostand"
         ],
         "marker": {
          "color": "#F0E442"
         },
         "name": "185_communist_realismus_galten_gebrauchs...",
         "orientation": "h",
         "type": "bar",
         "visible": "legendonly",
         "x": [
          13,
          5
         ],
         "y": [
          0,
          1
         ]
        },
        {
         "hoverinfo": "text",
         "hovertext": [
          "<b>Topic 186</b><br>Words: divertimento, sinfonia, theater, budapester, stadttheater",
          "<b>Topic 186</b><br>Words: figaro, statt, trautonium, folgt, brausenwerth"
         ],
         "marker": {
          "color": "#D55E00"
         },
         "name": "186_statt_theater_stadttheater_sinfonia",
         "orientation": "h",
         "type": "bar",
         "visible": "legendonly",
         "x": [
          11,
          7
         ],
         "y": [
          0,
          1
         ]
        },
        {
         "hoverinfo": "text",
         "hovertext": [
          "<b>Topic 187</b><br>Words: rosenthal, friedman, paderewski, supported, classe",
          "<b>Topic 187</b><br>Words: haffner, entlasten, opportunisten, avisée, straub"
         ],
         "marker": {
          "color": "#0072B2"
         },
         "name": "187_rosenthal_friedman_paderewski_suppor...",
         "orientation": "h",
         "type": "bar",
         "visible": "legendonly",
         "x": [
          16,
          2
         ],
         "y": [
          0,
          1
         ]
        },
        {
         "hoverinfo": "text",
         "hovertext": [
          "<b>Topic 188</b><br>Words: wohlhabenden, provence, kippenheim, milhaud, originaire"
         ],
         "marker": {
          "color": "#CC79A7"
         },
         "name": "188_wohlhabenden_provence_kippenheim_mil...",
         "orientation": "h",
         "type": "bar",
         "visible": "legendonly",
         "x": [
          18
         ],
         "y": [
          0
         ]
        },
        {
         "hoverinfo": "text",
         "hovertext": [
          "<b>Topic 189</b><br>Words: adorno, gretel, fédérale, personality, benjamin"
         ],
         "marker": {
          "color": "#E69F00"
         },
         "name": "189_adorno_gretel_fédérale_personality",
         "orientation": "h",
         "type": "bar",
         "visible": "legendonly",
         "x": [
          18
         ],
         "y": [
          0
         ]
        },
        {
         "hoverinfo": "text",
         "hovertext": [
          "<b>Topic 190</b><br>Words: nederlandse, amsterdam, 1921, lyceum, toonkunstenaars",
          "<b>Topic 190</b><br>Words: orgellehrer, gewandhausorganist, kirchenmusikalischen, konservatoriums, institut"
         ],
         "marker": {
          "color": "#56B4E9"
         },
         "name": "190_nederlandse_amsterdam_1921_lyceum",
         "orientation": "h",
         "type": "bar",
         "visible": "legendonly",
         "x": [
          17,
          1
         ],
         "y": [
          0,
          1
         ]
        },
        {
         "hoverinfo": "text",
         "hovertext": [
          "<b>Topic 191</b><br>Words: leschetizky, theodor, étudier, 1902, ex",
          "<b>Topic 191</b><br>Words: godowsky, kaun, leopold, fortsetzte, hugo"
         ],
         "marker": {
          "color": "#009E73"
         },
         "name": "191_leschetizky_theodor_godowsky_kaun",
         "orientation": "h",
         "type": "bar",
         "visible": "legendonly",
         "x": [
          16,
          2
         ],
         "y": [
          0,
          1
         ]
        },
        {
         "hoverinfo": "text",
         "hovertext": [
          "<b>Topic 192</b><br>Words: kaper, green, dolphin, ned, hi"
         ],
         "marker": {
          "color": "#F0E442"
         },
         "name": "192_kaper_green_dolphin_ned",
         "orientation": "h",
         "type": "bar",
         "visible": "legendonly",
         "x": [
          18
         ],
         "y": [
          0
         ]
        },
        {
         "hoverinfo": "text",
         "hovertext": [
          "<b>Topic 193</b><br>Words: grenze, interniert, lagern, übergangsweise, sperren",
          "<b>Topic 193</b><br>Words: crimmitschau, bombenangriff, wohnhaus, zerstört, détruite"
         ],
         "marker": {
          "color": "#D55E00"
         },
         "name": "193_grenze_interniert_crimmitschau_bombe...",
         "orientation": "h",
         "type": "bar",
         "visible": "legendonly",
         "x": [
          11,
          7
         ],
         "y": [
          0,
          1
         ]
        },
        {
         "hoverinfo": "text",
         "hovertext": [
          "<b>Topic 194</b><br>Words: meisel, schlager, übernahm, illiard, eliza",
          "<b>Topic 194</b><br>Words: meisel, illiard, eliza, gmbh, rixdorf"
         ],
         "marker": {
          "color": "#0072B2"
         },
         "name": "194_meisel_eliza_illiard_gmbh",
         "orientation": "h",
         "type": "bar",
         "visible": "legendonly",
         "x": [
          1,
          17
         ],
         "y": [
          0,
          1
         ]
        },
        {
         "hoverinfo": "text",
         "hovertext": [
          "<b>Topic 195</b><br>Words: dauber, dol, 27, dolfi, doli"
         ],
         "marker": {
          "color": "#CC79A7"
         },
         "name": "195_dauber_dol_27_dolfi",
         "orientation": "h",
         "type": "bar",
         "visible": "legendonly",
         "x": [
          18
         ],
         "y": [
          0
         ]
        },
        {
         "hoverinfo": "text",
         "hovertext": [
          "<b>Topic 196</b><br>Words: ghetto, theresienstadt, camp, concentration, litzmannstadt"
         ],
         "marker": {
          "color": "#E69F00"
         },
         "name": "196_ghetto_theresienstadt_camp_concentra...",
         "orientation": "h",
         "type": "bar",
         "visible": "legendonly",
         "x": [
          18
         ],
         "y": [
          0
         ]
        },
        {
         "hoverinfo": "text",
         "hovertext": [
          "<b>Topic 197</b><br>Words: korngold, korngolds, incorporated, album, popular"
         ],
         "marker": {
          "color": "#56B4E9"
         },
         "name": "197_korngold_korngolds_incorporated_albu...",
         "orientation": "h",
         "type": "bar",
         "visible": "legendonly",
         "x": [
          18
         ],
         "y": [
          0
         ]
        },
        {
         "hoverinfo": "text",
         "hovertext": [
          "<b>Topic 198</b><br>Words: vítězslava, josef, hiršler, életrajzi, kalisch",
          "<b>Topic 198</b><br>Words: richtig, ned, eduard, josef, joseph"
         ],
         "marker": {
          "color": "#009E73"
         },
         "name": "198_vítězslava_josef_thaler_slawisiert",
         "orientation": "h",
         "type": "bar",
         "visible": "legendonly",
         "x": [
          15,
          2
         ],
         "y": [
          0,
          1
         ]
        },
        {
         "hoverinfo": "text",
         "hovertext": [
          "<b>Topic 199</b><br>Words: ullmann, martinů, community, tchécoslovaque, viktor"
         ],
         "marker": {
          "color": "#F0E442"
         },
         "name": "199_ullmann_martinů_tchécoslovaque_commu...",
         "orientation": "h",
         "type": "bar",
         "visible": "legendonly",
         "x": [
          17
         ],
         "y": [
          0
         ]
        },
        {
         "hoverinfo": "text",
         "hovertext": [
          "<b>Topic 200</b><br>Words: psalm, psaume, 130, erneuerung, soli",
          "<b>Topic 200</b><br>Words: psalm, 350th, soli, 106, 100th"
         ],
         "marker": {
          "color": "#D55E00"
         },
         "name": "200_psalm_psaume_130_soli",
         "orientation": "h",
         "type": "bar",
         "visible": "legendonly",
         "x": [
          14,
          3
         ],
         "y": [
          0,
          1
         ]
        },
        {
         "hoverinfo": "text",
         "hovertext": [
          "<b>Topic 201</b><br>Words: happened, rückkehr, widersprüchliche, happen, monégasque",
          "<b>Topic 201</b><br>Words: otherwise, happened, rückkehr, widersprüchliche, rettende"
         ],
         "marker": {
          "color": "#0072B2"
         },
         "name": "201_happened_rückkehr_widersprüchliche_p...",
         "orientation": "h",
         "type": "bar",
         "visible": "legendonly",
         "x": [
          16,
          1
         ],
         "y": [
          0,
          1
         ]
        },
        {
         "hoverinfo": "text",
         "hovertext": [
          "<b>Topic 202</b><br>Words: hollaender, moog, uncle, stern, höller",
          "<b>Topic 202</b><br>Words: höller, höllers, valentin, bamberg, 1838"
         ],
         "marker": {
          "color": "#CC79A7"
         },
         "name": "202_höller_hollaender_höllers_valentin",
         "orientation": "h",
         "type": "bar",
         "visible": "legendonly",
         "x": [
          7,
          10
         ],
         "y": [
          0,
          1
         ]
        },
        {
         "hoverinfo": "text",
         "hovertext": [
          "<b>Topic 203</b><br>Words: trat, pianist, stellte, flothuis, organisatorin",
          "<b>Topic 203</b><br>Words: musikmeister, remarquées, officers, noticed, pianistic"
         ],
         "marker": {
          "color": "#E69F00"
         },
         "name": "203_musikmeister_trat_pianist_accompanis...",
         "orientation": "h",
         "type": "bar",
         "visible": "legendonly",
         "x": [
          14,
          3
         ],
         "y": [
          0,
          1
         ]
        },
        {
         "hoverinfo": "text",
         "hovertext": [
          "<b>Topic 204</b><br>Words: jurmann, kaper, kossuth, bronisław, kokoschka"
         ],
         "marker": {
          "color": "#56B4E9"
         },
         "name": "204_jurmann_kaper_kossuth_bronisław",
         "orientation": "h",
         "type": "bar",
         "visible": "legendonly",
         "x": [
          17
         ],
         "y": [
          0
         ]
        },
        {
         "hoverinfo": "text",
         "hovertext": [
          "<b>Topic 205</b><br>Words: tuberculosis, tuberkulose, tuberculose, erkrankung, sanatorium"
         ],
         "marker": {
          "color": "#009E73"
         },
         "name": "205_tuberculosis_tuberkulose_tuberculose...",
         "orientation": "h",
         "type": "bar",
         "visible": "legendonly",
         "x": [
          17
         ],
         "y": [
          0
         ]
        },
        {
         "hoverinfo": "text",
         "hovertext": [
          "<b>Topic 206</b><br>Words: van, gilse, delden, lex, rotterdam"
         ],
         "marker": {
          "color": "#F0E442"
         },
         "name": "206_van_gilse_lex_delden",
         "orientation": "h",
         "type": "bar",
         "visible": "legendonly",
         "x": [
          17
         ],
         "y": [
          0
         ]
        },
        {
         "hoverinfo": "text",
         "hovertext": [
          "<b>Topic 207</b><br>Words: martinů, declined, refused, live, reluctant",
          "<b>Topic 207</b><br>Words: stufte, dm, sühnezahlung, verfahrenskosten, übernahme"
         ],
         "marker": {
          "color": "#D55E00"
         },
         "name": "207_martinů_declined_refused_live",
         "orientation": "h",
         "type": "bar",
         "visible": "legendonly",
         "x": [
          16,
          1
         ],
         "y": [
          0,
          1
         ]
        },
        {
         "hoverinfo": "text",
         "hovertext": [
          "<b>Topic 208</b><br>Words: ressentiment, todesursache, weiberhelden, wechselseitige, antipathie",
          "<b>Topic 208</b><br>Words: acrimony, derart, ständige, sündenbock, hickhack"
         ],
         "marker": {
          "color": "#0072B2"
         },
         "name": "208_acrimony_ressentiment_comportement_z...",
         "orientation": "h",
         "type": "bar",
         "visible": "legendonly",
         "x": [
          11,
          6
         ],
         "y": [
          0,
          1
         ]
        },
        {
         "hoverinfo": "text",
         "hovertext": [
          "<b>Topic 209</b><br>Words: weissmann, parlophon, vancouver, montreal, odeon",
          "<b>Topic 209</b><br>Words: biographen, 110, zeitzeugen, geburtstages, gesprächen"
         ],
         "marker": {
          "color": "#CC79A7"
         },
         "name": "209_weissmann_parlophon_vancouver_odeon",
         "orientation": "h",
         "type": "bar",
         "visible": "legendonly",
         "x": [
          16,
          1
         ],
         "y": [
          0,
          1
         ]
        },
        {
         "hoverinfo": "text",
         "hovertext": [
          "<b>Topic 210</b><br>Words: alien, isle, enemy, camp, douglas",
          "<b>Topic 210</b><br>Words: kinzl, linksblock, fraktion, gefangen, gemeinderat"
         ],
         "marker": {
          "color": "#E69F00"
         },
         "name": "210_alien_isle_enemy_camp",
         "orientation": "h",
         "type": "bar",
         "visible": "legendonly",
         "x": [
          13,
          4
         ],
         "y": [
          0,
          1
         ]
        },
        {
         "hoverinfo": "text",
         "hovertext": [
          "<b>Topic 211</b><br>Words: kreisler, reizenstein, kohn, georg, reches",
          "<b>Topic 211</b><br>Words: koessler, cousin, hans, kreisler, reizenstein"
         ],
         "marker": {
          "color": "#56B4E9"
         },
         "name": "211_kreisler_reizenstein_kohn_georg",
         "orientation": "h",
         "type": "bar",
         "visible": "legendonly",
         "x": [
          16,
          1
         ],
         "y": [
          0,
          1
         ]
        },
        {
         "hoverinfo": "text",
         "hovertext": [
          "<b>Topic 212</b><br>Words: debussy, claude, ravel, dehmel, roussel",
          "<b>Topic 212</b><br>Words: debussy, claude, proponent, auftritten, interpreter"
         ],
         "marker": {
          "color": "#009E73"
         },
         "name": "212_debussy_claude_ravel_dehmel",
         "orientation": "h",
         "type": "bar",
         "visible": "legendonly",
         "x": [
          15,
          2
         ],
         "y": [
          0,
          1
         ]
        },
        {
         "hoverinfo": "text",
         "hovertext": [
          "<b>Topic 213</b><br>Words: zuzurechnen, kontrapunktisches, westseite, verstärktes, janusz",
          "<b>Topic 213</b><br>Words: honegger, jeunesse, zuzurechnen, kontrapunktisches, verstärktes"
         ],
         "marker": {
          "color": "#F0E442"
         },
         "name": "213_jeunesse_infante_allenfalls_adolesce...",
         "orientation": "h",
         "type": "bar",
         "visible": "legendonly",
         "x": [
          16,
          1
         ],
         "y": [
          0,
          1
         ]
        },
        {
         "hoverinfo": "text",
         "hovertext": [
          "<b>Topic 214</b><br>Words: appât, criminel, obsèques, friäden, nikolausbellerbok",
          "<b>Topic 214</b><br>Words: figaro, veni, enchanté, enchantée, flûte"
         ],
         "marker": {
          "color": "#D55E00"
         },
         "name": "214_figaro_appât_naked_veni",
         "orientation": "h",
         "type": "bar",
         "visible": "legendonly",
         "x": [
          11,
          6
         ],
         "y": [
          0,
          1
         ]
        },
        {
         "hoverinfo": "text",
         "hovertext": [
          "<b>Topic 215</b><br>Words: jüngere, schwestern, älteren, enfants, frère",
          "<b>Topic 215</b><br>Words: angelika, siblings, drittes, emma, starb"
         ],
         "marker": {
          "color": "#0072B2"
         },
         "name": "215_jüngere_schwestern_älteren_enfants",
         "orientation": "h",
         "type": "bar",
         "visible": "legendonly",
         "x": [
          14,
          3
         ],
         "y": [
          0,
          1
         ]
        },
        {
         "hoverinfo": "text",
         "hovertext": [
          "<b>Topic 216</b><br>Words: übergangs, schuloper, kleinsten, vi, facetten"
         ],
         "marker": {
          "color": "#CC79A7"
         },
         "name": "216_übergangs_schuloper_rabin_kleinsten",
         "orientation": "h",
         "type": "bar",
         "visible": "legendonly",
         "x": [
          17
         ],
         "y": [
          0
         ]
        },
        {
         "hoverinfo": "text",
         "hovertext": [
          "<b>Topic 217</b><br>Words: kapellmeister, 1924, münster, königsberg, erster",
          "<b>Topic 217</b><br>Words: königsberg, kapellmeister, krasselt, 1924, zweiter"
         ],
         "marker": {
          "color": "#E69F00"
         },
         "name": "217_kapellmeister_königsberg_1924_münste...",
         "orientation": "h",
         "type": "bar",
         "visible": "legendonly",
         "x": [
          11,
          6
         ],
         "y": [
          0,
          1
         ]
        },
        {
         "hoverinfo": "text",
         "hovertext": [
          "<b>Topic 218</b><br>Words: divorce, divorced, couple, geschieden, ended",
          "<b>Topic 218</b><br>Words: geschieden, divorced, zerbrach, paars, trennung"
         ],
         "marker": {
          "color": "#56B4E9"
         },
         "name": "218_divorce_divorced_geschieden_couple",
         "orientation": "h",
         "type": "bar",
         "visible": "legendonly",
         "x": [
          12,
          4
         ],
         "y": [
          0,
          1
         ]
        },
        {
         "hoverinfo": "text",
         "hovertext": [
          "<b>Topic 219</b><br>Words: deutscher, lehár, operettenära, komponist, benatzky"
         ],
         "marker": {
          "color": "#009E73"
         },
         "name": "219_deutscher_lehár_operettenära_komponi...",
         "orientation": "h",
         "type": "bar",
         "visible": "legendonly",
         "x": [
          16
         ],
         "y": [
          0
         ]
        },
        {
         "hoverinfo": "text",
         "hovertext": [
          "<b>Topic 220</b><br>Words: szell, cleveland, orchestra, session, providing"
         ],
         "marker": {
          "color": "#F0E442"
         },
         "name": "220_szell_cleveland_orchestra_session",
         "orientation": "h",
         "type": "bar",
         "visible": "legendonly",
         "x": [
          16
         ],
         "y": [
          0
         ]
        },
        {
         "hoverinfo": "text",
         "hovertext": [
          "<b>Topic 221</b><br>Words: sais, postmeisterin, delà, bub, feiern",
          "<b>Topic 221</b><br>Words: unterhaltungssendung, ferne, geliebte, sais, postmeisterin"
         ],
         "marker": {
          "color": "#D55E00"
         },
         "name": "221_sais_unterhaltungssendung_postmeiste...",
         "orientation": "h",
         "type": "bar",
         "visible": "legendonly",
         "x": [
          13,
          3
         ],
         "y": [
          0,
          1
         ]
        },
        {
         "hoverinfo": "text",
         "hovertext": [
          "<b>Topic 222</b><br>Words: steuermann, zygmunt, edward, stekel, gielen"
         ],
         "marker": {
          "color": "#0072B2"
         },
         "name": "222_steuermann_zygmunt_edward_stekel",
         "orientation": "h",
         "type": "bar",
         "visible": "legendonly",
         "x": [
          16
         ],
         "y": [
          0
         ]
        },
        {
         "hoverinfo": "text",
         "hovertext": [
          "<b>Topic 223</b><br>Words: dadaistischer, schottischer, paradebeispiel, kunstnegation, dit",
          "<b>Topic 223</b><br>Words: plexiglas, holzbläseroktett, schuhabsätze, nutzung, fischleder"
         ],
         "marker": {
          "color": "#CC79A7"
         },
         "name": "223_holzbläseroktett_schuhabsätze_nutzun...",
         "orientation": "h",
         "type": "bar",
         "visible": "legendonly",
         "x": [
          13,
          3
         ],
         "y": [
          0,
          1
         ]
        },
        {
         "hoverinfo": "text",
         "hovertext": [
          "<b>Topic 224</b><br>Words: protection, kehrte, prekärer, kammervirtuoso, districts",
          "<b>Topic 224</b><br>Words: aufbauen, spätsommer, ferienhaus, kehrte, mode"
         ],
         "marker": {
          "color": "#E69F00"
         },
         "name": "224_kehrte_protection_zurück_installée",
         "orientation": "h",
         "type": "bar",
         "visible": "legendonly",
         "x": [
          14,
          2
         ],
         "y": [
          0,
          1
         ]
        },
        {
         "hoverinfo": "text",
         "hovertext": [
          "<b>Topic 225</b><br>Words: jenkins, kater, rose, white, orff"
         ],
         "marker": {
          "color": "#56B4E9"
         },
         "name": "225_jenkins_kater_rose_white",
         "orientation": "h",
         "type": "bar",
         "visible": "legendonly",
         "x": [
          16
         ],
         "y": [
          1
         ]
        },
        {
         "hoverinfo": "text",
         "hovertext": [
          "<b>Topic 226</b><br>Words: sendeverbot, bauen, herauskam, metropoltheater, kreidekreis",
          "<b>Topic 226</b><br>Words: olympischen, 1936, olympische, olympischer, reigen"
         ],
         "marker": {
          "color": "#009E73"
         },
         "name": "226_olympischen_1936_olympic_spiele",
         "orientation": "h",
         "type": "bar",
         "visible": "legendonly",
         "x": [
          4,
          12
         ],
         "y": [
          0,
          1
         ]
        },
        {
         "hoverinfo": "text",
         "hovertext": [
          "<b>Topic 227</b><br>Words: brahms, wagner, enthusiastic, meiste, cinquantaine",
          "<b>Topic 227</b><br>Words: brahms, schumann, adoration, sturmlied, strengths"
         ],
         "marker": {
          "color": "#F0E442"
         },
         "name": "227_brahms_wagner_schumann_johannes",
         "orientation": "h",
         "type": "bar",
         "visible": "legendonly",
         "x": [
          10,
          6
         ],
         "y": [
          0,
          1
         ]
        },
        {
         "hoverinfo": "text",
         "hovertext": [
          "<b>Topic 228</b><br>Words: reinhardt, max, rauch, schall, kabarett",
          "<b>Topic 228</b><br>Words: reinhardt, musiksachverständiger, ligue, militante, gesinnten"
         ],
         "marker": {
          "color": "#D55E00"
         },
         "name": "228_reinhardt_max_rauch_schall",
         "orientation": "h",
         "type": "bar",
         "visible": "legendonly",
         "x": [
          14,
          2
         ],
         "y": [
          0,
          1
         ]
        },
        {
         "hoverinfo": "text",
         "hovertext": [
          "<b>Topic 229</b><br>Words: brubeck, olaf, ingemar, wibergh, liljefors",
          "<b>Topic 229</b><br>Words: barth, kahn, mathématiques, insuffisances, auprès"
         ],
         "marker": {
          "color": "#0072B2"
         },
         "name": "229_barth_brubeck_olaf_wibergh",
         "orientation": "h",
         "type": "bar",
         "visible": "legendonly",
         "x": [
          12,
          4
         ],
         "y": [
          0,
          1
         ]
        },
        {
         "hoverinfo": "text",
         "hovertext": [
          "<b>Topic 230</b><br>Words: lebenslange, freundschaft, entwickelte, verliebten, temperamentvollen",
          "<b>Topic 230</b><br>Words: parfois, reconciled, problématique, strained, lehrndorfer"
         ],
         "marker": {
          "color": "#CC79A7"
         },
         "name": "230_lebenslange_open_parfois_freundschaf...",
         "orientation": "h",
         "type": "bar",
         "visible": "legendonly",
         "x": [
          12,
          4
         ],
         "y": [
          0,
          1
         ]
        },
        {
         "hoverinfo": "text",
         "hovertext": [
          "<b>Topic 231</b><br>Words: emigrate, exil, übrig, seilbahn, unoccupied",
          "<b>Topic 231</b><br>Words: emigrantenkreisen, entgegenschlug, enttäuschung, ablehnung, vermutet"
         ],
         "marker": {
          "color": "#E69F00"
         },
         "name": "231_emigrate_exil_3000_gandegghütte",
         "orientation": "h",
         "type": "bar",
         "visible": "legendonly",
         "x": [
          15,
          1
         ],
         "y": [
          0,
          1
         ]
        },
        {
         "hoverinfo": "text",
         "hovertext": [
          "<b>Topic 232</b><br>Words: armándola, blon, lincke, roland, josé",
          "<b>Topic 232</b><br>Words: erdmann, zeitgenössische, sala, vehement, encompassed"
         ],
         "marker": {
          "color": "#56B4E9"
         },
         "name": "232_erdmann_blon_armándola_lincke",
         "orientation": "h",
         "type": "bar",
         "visible": "legendonly",
         "x": [
          8,
          7
         ],
         "y": [
          0,
          1
         ]
        },
        {
         "hoverinfo": "text",
         "hovertext": [
          "<b>Topic 233</b><br>Words: brecht, bertolt, 55, best, 1956",
          "<b>Topic 233</b><br>Words: profound, brecht, bertolt, know, influence"
         ],
         "marker": {
          "color": "#009E73"
         },
         "name": "233_brecht_bertolt_55_profound",
         "orientation": "h",
         "type": "bar",
         "visible": "legendonly",
         "x": [
          14,
          1
         ],
         "y": [
          0,
          1
         ]
        },
        {
         "hoverinfo": "text",
         "hovertext": [
          "<b>Topic 234</b><br>Words: budapest, herzfeld, musikakademie, royale, liszt"
         ],
         "marker": {
          "color": "#F0E442"
         },
         "name": "234_budapest_herzfeld_musikakademie_roya...",
         "orientation": "h",
         "type": "bar",
         "visible": "legendonly",
         "x": [
          15
         ],
         "y": [
          0
         ]
        },
        {
         "hoverinfo": "text",
         "hovertext": [
          "<b>Topic 235</b><br>Words: wonder, films, jolson, lubitsch, ufa",
          "<b>Topic 235</b><br>Words: silent, fruition, zurückgekehrten, eggerth, marta"
         ],
         "marker": {
          "color": "#D55E00"
         },
         "name": "235_wonder_films_jolson_lubitsch",
         "orientation": "h",
         "type": "bar",
         "visible": "legendonly",
         "x": [
          13,
          2
         ],
         "y": [
          0,
          1
         ]
        },
        {
         "hoverinfo": "text",
         "hovertext": [
          "<b>Topic 236</b><br>Words: marx, joseph, überspringen, konzertverein, klavierduos",
          "<b>Topic 236</b><br>Words: marx, hüsch, pianists, joseph, show"
         ],
         "marker": {
          "color": "#0072B2"
         },
         "name": "236_marx_hüsch_joseph_pianists",
         "orientation": "h",
         "type": "bar",
         "visible": "legendonly",
         "x": [
          5,
          10
         ],
         "y": [
          0,
          1
         ]
        },
        {
         "hoverinfo": "text",
         "hovertext": [
          "<b>Topic 237</b><br>Words: aron, championship, formula, prema, racing"
         ],
         "marker": {
          "color": "#CC79A7"
         },
         "name": "237_aron_championship_prema_formula",
         "orientation": "h",
         "type": "bar",
         "visible": "legendonly",
         "x": [
          15
         ],
         "y": [
          0
         ]
        },
        {
         "hoverinfo": "text",
         "hovertext": [
          "<b>Topic 238</b><br>Words: york, new, medical, endowment, moods"
         ],
         "marker": {
          "color": "#E69F00"
         },
         "name": "238_york_new_medical_endowment",
         "orientation": "h",
         "type": "bar",
         "visible": "legendonly",
         "x": [
          15
         ],
         "y": [
          0
         ]
        },
        {
         "hoverinfo": "text",
         "hovertext": [
          "<b>Topic 239</b><br>Words: california, angeles, los, southern, westlake"
         ],
         "marker": {
          "color": "#56B4E9"
         },
         "name": "239_california_angeles_los_southern",
         "orientation": "h",
         "type": "bar",
         "visible": "legendonly",
         "x": [
          15
         ],
         "y": [
          0
         ]
        },
        {
         "hoverinfo": "text",
         "hovertext": [
          "<b>Topic 240</b><br>Words: serkin, eger, rudolf, mardko, serkins"
         ],
         "marker": {
          "color": "#009E73"
         },
         "name": "240_serkin_eger_rudolf_serkins",
         "orientation": "h",
         "type": "bar",
         "visible": "legendonly",
         "x": [
          15
         ],
         "y": [
          0
         ]
        },
        {
         "hoverinfo": "text",
         "hovertext": [
          "<b>Topic 241</b><br>Words: bricht, kaufmann, architekten, großväter, oesterreichischen",
          "<b>Topic 241</b><br>Words: mayer, großvater, architekten, frommel, meyer"
         ],
         "marker": {
          "color": "#F0E442"
         },
         "name": "241_mayer_architekten_bricht_kaufmann",
         "orientation": "h",
         "type": "bar",
         "visible": "legendonly",
         "x": [
          6,
          9
         ],
         "y": [
          0,
          1
         ]
        },
        {
         "hoverinfo": "text",
         "hovertext": [
          "<b>Topic 242</b><br>Words: grosz, bernard, grun, grün, gronemann",
          "<b>Topic 242</b><br>Words: grothe, 1908, 17, september, franz"
         ],
         "marker": {
          "color": "#D55E00"
         },
         "name": "242_grosz_bernard_grün_grun",
         "orientation": "h",
         "type": "bar",
         "visible": "legendonly",
         "x": [
          14,
          1
         ],
         "y": [
          0,
          1
         ]
        },
        {
         "hoverinfo": "text",
         "hovertext": [
          "<b>Topic 243</b><br>Words: eichendorff, wibbelt, gedicht, augustin, gedichte",
          "<b>Topic 243</b><br>Words: eichendorff, gedichten, hesse, interpretierte, automnales"
         ],
         "marker": {
          "color": "#0072B2"
         },
         "name": "243_eichendorff_wibbelt_gedicht_augustin",
         "orientation": "h",
         "type": "bar",
         "visible": "legendonly",
         "x": [
          8,
          7
         ],
         "y": [
          0,
          1
         ]
        },
        {
         "hoverinfo": "text",
         "hovertext": [
          "<b>Topic 244</b><br>Words: verboten, 1933, durfte, arrivée, empêche"
         ],
         "marker": {
          "color": "#CC79A7"
         },
         "name": "244_verboten_1933_durfte_arrivée",
         "orientation": "h",
         "type": "bar",
         "visible": "legendonly",
         "x": [
          15
         ],
         "y": [
          0
         ]
        },
        {
         "hoverinfo": "text",
         "hovertext": [
          "<b>Topic 245</b><br>Words: yale, hamline, cornell, minnesota, university"
         ],
         "marker": {
          "color": "#E69F00"
         },
         "name": "245_yale_hamline_cornell_minnesota",
         "orientation": "h",
         "type": "bar",
         "visible": "legendonly",
         "x": [
          15
         ],
         "y": [
          0
         ]
        },
        {
         "hoverinfo": "text",
         "hovertext": [
          "<b>Topic 246</b><br>Words: tölz, bad, toch, commander, camp",
          "<b>Topic 246</b><br>Words: enorm, regers, steigerte, hause, tätigkeit"
         ],
         "marker": {
          "color": "#56B4E9"
         },
         "name": "246_tölz_bad_toch_commander",
         "orientation": "h",
         "type": "bar",
         "visible": "legendonly",
         "x": [
          14,
          1
         ],
         "y": [
          0,
          1
         ]
        },
        {
         "hoverinfo": "text",
         "hovertext": [
          "<b>Topic 247</b><br>Words: hindemith, trautwein, paul, studio, rundfunk",
          "<b>Topic 247</b><br>Words: spitta, hindemith, biograph, theologenfamilie, theologe"
         ],
         "marker": {
          "color": "#009E73"
         },
         "name": "247_hindemith_trautwein_spitta_paul",
         "orientation": "h",
         "type": "bar",
         "visible": "legendonly",
         "x": [
          10,
          5
         ],
         "y": [
          0,
          1
         ]
        },
        {
         "hoverinfo": "text",
         "hovertext": [
          "<b>Topic 248</b><br>Words: curtis, indiana, philadelphia, institute, unterrichtete",
          "<b>Topic 248</b><br>Words: indiana, bloomington, 1977, 1981, hüsch"
         ],
         "marker": {
          "color": "#F0E442"
         },
         "name": "248_curtis_indiana_philadelphia_institut...",
         "orientation": "h",
         "type": "bar",
         "visible": "legendonly",
         "x": [
          13,
          1
         ],
         "y": [
          0,
          1
         ]
        },
        {
         "hoverinfo": "text",
         "hovertext": [
          "<b>Topic 249</b><br>Words: jew, declared, volljuden, swear, scheinhinrichtung",
          "<b>Topic 249</b><br>Words: essentiellement, consacre, nazie, enseignement, période"
         ],
         "marker": {
          "color": "#D55E00"
         },
         "name": "249_jew_declared_rassischer_unterzogen",
         "orientation": "h",
         "type": "bar",
         "visible": "legendonly",
         "x": [
          13,
          1
         ],
         "y": [
          0,
          1
         ]
        },
        {
         "hoverinfo": "text",
         "hovertext": [
          "<b>Topic 250</b><br>Words: praised, instrumentation, schupfte, kreativität, spürte",
          "<b>Topic 250</b><br>Words: sensitive, musicianship, beautiful, excellent, domgraf"
         ],
         "marker": {
          "color": "#0072B2"
         },
         "name": "250_praised_instrumentation_boundless_kr...",
         "orientation": "h",
         "type": "bar",
         "visible": "legendonly",
         "x": [
          13,
          1
         ],
         "y": [
          0,
          1
         ]
        },
        {
         "hoverinfo": "text",
         "hovertext": [
          "<b>Topic 251</b><br>Words: claudel, rencontres, auric, eminent, poète",
          "<b>Topic 251</b><br>Words: löns, ringelnatz, morgenstern, lothar, christian"
         ],
         "marker": {
          "color": "#CC79A7"
         },
         "name": "251_claudel_löns_rencontres_auric",
         "orientation": "h",
         "type": "bar",
         "visible": "legendonly",
         "x": [
          11,
          3
         ],
         "y": [
          0,
          1
         ]
        },
        {
         "hoverinfo": "text",
         "hovertext": [
          "<b>Topic 252</b><br>Words: jadassohn, salomon, maître, weiner, éveille"
         ],
         "marker": {
          "color": "#E69F00"
         },
         "name": "252_jadassohn_salomon_maître_weiner",
         "orientation": "h",
         "type": "bar",
         "visible": "legendonly",
         "x": [
          14
         ],
         "y": [
          0
         ]
        },
        {
         "hoverinfo": "text",
         "hovertext": [
          "<b>Topic 253</b><br>Words: bronner, qualtinger, gerhard, travnicek, kreisler"
         ],
         "marker": {
          "color": "#56B4E9"
         },
         "name": "253_bronner_qualtinger_gerhard_travnicek",
         "orientation": "h",
         "type": "bar",
         "visible": "legendonly",
         "x": [
          14
         ],
         "y": [
          0
         ]
        },
        {
         "hoverinfo": "text",
         "hovertext": [
          "<b>Topic 254</b><br>Words: 1928, opéra, succès, jouissent, gotthard",
          "<b>Topic 254</b><br>Words: tyll, opernerfolg, errang, connaît, 1928"
         ],
         "marker": {
          "color": "#009E73"
         },
         "name": "254_1928_tyll_opéra_succès",
         "orientation": "h",
         "type": "bar",
         "visible": "legendonly",
         "x": [
          12,
          2
         ],
         "y": [
          0,
          1
         ]
        },
        {
         "hoverinfo": "text",
         "hovertext": [
          "<b>Topic 255</b><br>Words: 36, lyrics, livret, komponierte, albert",
          "<b>Topic 255</b><br>Words: romantische, chorfantasie, auftragswerk, shakespeares, bühnenmusik"
         ],
         "marker": {
          "color": "#F0E442"
         },
         "name": "255_komponierte_36_lyrics_livret",
         "orientation": "h",
         "type": "bar",
         "visible": "legendonly",
         "x": [
          11,
          3
         ],
         "y": [
          0,
          1
         ]
        },
        {
         "hoverinfo": "text",
         "hovertext": [
          "<b>Topic 256</b><br>Words: schwarzwaldmädel, durchbruch, wolfsohns, milliardensouper, filmée",
          "<b>Topic 256</b><br>Words: hiker, skiing, attain, climber, skill"
         ],
         "marker": {
          "color": "#D55E00"
         },
         "name": "256_schwarzwaldmädel_durchbruch_climber_...",
         "orientation": "h",
         "type": "bar",
         "visible": "legendonly",
         "x": [
          12,
          2
         ],
         "y": [
          0,
          1
         ]
        },
        {
         "hoverinfo": "text",
         "hovertext": [
          "<b>Topic 257</b><br>Words: seventh, alpine, recording, überbrettl, revues",
          "<b>Topic 257</b><br>Words: bamberger, bruckner, philharmonikern, debüt, seventh"
         ],
         "marker": {
          "color": "#0072B2"
         },
         "name": "257_bruckner_philharmonikern_seventh_bam...",
         "orientation": "h",
         "type": "bar",
         "visible": "legendonly",
         "x": [
          4,
          10
         ],
         "y": [
          0,
          1
         ]
        },
        {
         "hoverinfo": "text",
         "hovertext": [
          "<b>Topic 258</b><br>Words: fall, lukov, avril, gewitsch, szombathely",
          "<b>Topic 258</b><br>Words: ackermann, gefallen, 2013, geborene, deren"
         ],
         "marker": {
          "color": "#CC79A7"
         },
         "name": "258_fall_lukov_avril_gewitsch",
         "orientation": "h",
         "type": "bar",
         "visible": "legendonly",
         "x": [
          13,
          1
         ],
         "y": [
          0,
          1
         ]
        },
        {
         "hoverinfo": "text",
         "hovertext": [
          "<b>Topic 259</b><br>Words: palestine, uven, palästina, emigrierte, sioniste"
         ],
         "marker": {
          "color": "#E69F00"
         },
         "name": "259_palestine_uven_palästina_emigrierte",
         "orientation": "h",
         "type": "bar",
         "visible": "legendonly",
         "x": [
          14
         ],
         "y": [
          0
         ]
        },
        {
         "hoverinfo": "text",
         "hovertext": [
          "<b>Topic 260</b><br>Words: stärke, vergrößerte, gängigen, grammophonfabrikant, hendl",
          "<b>Topic 260</b><br>Words: unterhaltungskapelle, considérable, sergiu, celibidache, liedbegleiter"
         ],
         "marker": {
          "color": "#56B4E9"
         },
         "name": "260_stärke_managerin_tanzband_causera",
         "orientation": "h",
         "type": "bar",
         "visible": "legendonly",
         "x": [
          11,
          3
         ],
         "y": [
          0,
          1
         ]
        },
        {
         "hoverinfo": "text",
         "hovertext": [
          "<b>Topic 261</b><br>Words: training, color, rhythmic, sketches, constamment",
          "<b>Topic 261</b><br>Words: désireux, associer, gruß, exactly, loved"
         ],
         "marker": {
          "color": "#009E73"
         },
         "name": "261_training_color_rhythmic_sketches",
         "orientation": "h",
         "type": "bar",
         "visible": "legendonly",
         "x": [
          11,
          3
         ],
         "y": [
          0,
          1
         ]
        },
        {
         "hoverinfo": "text",
         "hovertext": [
          "<b>Topic 262</b><br>Words: kirchenmusikern, weiterbildung, lehrgänge, exerzitien, coaching",
          "<b>Topic 262</b><br>Words: doctoral, unterweisung, courses, literature, active"
         ],
         "marker": {
          "color": "#F0E442"
         },
         "name": "262_courses_südamerikanische_grundbildun...",
         "orientation": "h",
         "type": "bar",
         "visible": "legendonly",
         "x": [
          10,
          3
         ],
         "y": [
          0,
          1
         ]
        },
        {
         "hoverinfo": "text",
         "hovertext": [
          "<b>Topic 263</b><br>Words: liszt, weimar, 1878, weimarer, earnest",
          "<b>Topic 263</b><br>Words: liszt, stardirigent, zeiten, transmet, weimarer"
         ],
         "marker": {
          "color": "#D55E00"
         },
         "name": "263_liszt_weimar_weimarer_1878",
         "orientation": "h",
         "type": "bar",
         "visible": "legendonly",
         "x": [
          10,
          3
         ],
         "y": [
          0,
          1
         ]
        },
        {
         "hoverinfo": "text",
         "hovertext": [
          "<b>Topic 264</b><br>Words: london, bbc, angleterre, musikkopist, filiale",
          "<b>Topic 264</b><br>Words: operating, barrowes, staging, dancers, exerce"
         ],
         "marker": {
          "color": "#0072B2"
         },
         "name": "264_london_bbc_angleterre_musikkopist",
         "orientation": "h",
         "type": "bar",
         "visible": "legendonly",
         "x": [
          10,
          3
         ],
         "y": [
          0,
          1
         ]
        },
        {
         "hoverinfo": "text",
         "hovertext": [
          "<b>Topic 265</b><br>Words: konex, polish, koffler, xxe, polnischen",
          "<b>Topic 265</b><br>Words: yrjö, kilpinen, hüsch, stetigen, finnische"
         ],
         "marker": {
          "color": "#CC79A7"
         },
         "name": "265_konex_yrjö_kilpinen_polish",
         "orientation": "h",
         "type": "bar",
         "visible": "legendonly",
         "x": [
          10,
          3
         ],
         "y": [
          0,
          1
         ]
        },
        {
         "hoverinfo": "text",
         "hovertext": [
          "<b>Topic 266</b><br>Words: boston, königlichen, kauder, koussevitsky, tripelkonzert",
          "<b>Topic 266</b><br>Words: kleibers, knabenchor, 90er, windsbacher, beringer"
         ],
         "marker": {
          "color": "#E69F00"
         },
         "name": "266_boston_königlichen_kauder_kleibers",
         "orientation": "h",
         "type": "bar",
         "visible": "legendonly",
         "x": [
          11,
          2
         ],
         "y": [
          0,
          1
         ]
        },
        {
         "hoverinfo": "text",
         "hovertext": [
          "<b>Topic 267</b><br>Words: wiesengrund, calvelli, theodor, adorno, piana"
         ],
         "marker": {
          "color": "#56B4E9"
         },
         "name": "267_wiesengrund_calvelli_theodor_adorno",
         "orientation": "h",
         "type": "bar",
         "visible": "legendonly",
         "x": [
          13
         ],
         "y": [
          0
         ]
        },
        {
         "hoverinfo": "text",
         "hovertext": [
          "<b>Topic 268</b><br>Words: juilliard, school, brooklyn, york, college"
         ],
         "marker": {
          "color": "#009E73"
         },
         "name": "268_juilliard_school_brooklyn_york",
         "orientation": "h",
         "type": "bar",
         "visible": "legendonly",
         "x": [
          13
         ],
         "y": [
          0
         ]
        },
        {
         "hoverinfo": "text",
         "hovertext": [
          "<b>Topic 269</b><br>Words: russisch, karamazov, pankrácer, polka, haralanov"
         ],
         "marker": {
          "color": "#F0E442"
         },
         "name": "269_russisch_haralanov_pankrácer_pantsch...",
         "orientation": "h",
         "type": "bar",
         "visible": "legendonly",
         "x": [
          13
         ],
         "y": [
          0
         ]
        },
        {
         "hoverinfo": "text",
         "hovertext": [
          "<b>Topic 270</b><br>Words: imre, koppstein, kálmán, emmerich, určice"
         ],
         "marker": {
          "color": "#D55E00"
         },
         "name": "270_imre_koppstein_kálmán_emmerich",
         "orientation": "h",
         "type": "bar",
         "visible": "legendonly",
         "x": [
          13
         ],
         "y": [
          0
         ]
        },
        {
         "hoverinfo": "text",
         "hovertext": [
          "<b>Topic 271</b><br>Words: bezirk, gasse, wilmersdorf, benannt, platz"
         ],
         "marker": {
          "color": "#0072B2"
         },
         "name": "271_bezirk_wilmersdorf_gasse_benannt",
         "orientation": "h",
         "type": "bar",
         "visible": "legendonly",
         "x": [
          13
         ],
         "y": [
          0
         ]
        },
        {
         "hoverinfo": "text",
         "hovertext": [
          "<b>Topic 272</b><br>Words: flothuis, marius, concertgebouw, 1974, utrecht"
         ],
         "marker": {
          "color": "#CC79A7"
         },
         "name": "272_flothuis_marius_concertgebouw_1974",
         "orientation": "h",
         "type": "bar",
         "visible": "legendonly",
         "x": [
          13
         ],
         "y": [
          0
         ]
        },
        {
         "hoverinfo": "text",
         "hovertext": [
          "<b>Topic 273</b><br>Words: lieu, jasager, mondains, waltzing, vicomte",
          "<b>Topic 273</b><br>Words: humorvolle, wiederaufführung, heiteren, lyrischen, oberhausen"
         ],
         "marker": {
          "color": "#E69F00"
         },
         "name": "273_lieu_jasager_laure_matilda",
         "orientation": "h",
         "type": "bar",
         "visible": "legendonly",
         "x": [
          11,
          2
         ],
         "y": [
          0,
          1
         ]
        },
        {
         "hoverinfo": "text",
         "hovertext": [
          "<b>Topic 274</b><br>Words: langage, tonal, style, language, instrumentation",
          "<b>Topic 274</b><br>Words: dominantes, improvisational, hefty, unpredictability, straightforward"
         ],
         "marker": {
          "color": "#56B4E9"
         },
         "name": "274_langage_tonal_style_language",
         "orientation": "h",
         "type": "bar",
         "visible": "legendonly",
         "x": [
          11,
          2
         ],
         "y": [
          0,
          1
         ]
        },
        {
         "hoverinfo": "text",
         "hovertext": [
          "<b>Topic 275</b><br>Words: contrat, bedienstete, résilié, valable, commanditaire",
          "<b>Topic 275</b><br>Words: nationalisé, logement, confié, sanssouci, einweihung"
         ],
         "marker": {
          "color": "#009E73"
         },
         "name": "275_contrat_doppelhaus_errichten_valable",
         "orientation": "h",
         "type": "bar",
         "visible": "legendonly",
         "x": [
          9,
          4
         ],
         "y": [
          0,
          1
         ]
        },
        {
         "hoverinfo": "text",
         "hovertext": [
          "<b>Topic 276</b><br>Words: ettinger, eisler, eberstadt, edmund, lemberg",
          "<b>Topic 276</b><br>Words: egk, buck, titus, dritte, meeting"
         ],
         "marker": {
          "color": "#F0E442"
         },
         "name": "276_ettinger_eisler_eberstadt_edmund",
         "orientation": "h",
         "type": "bar",
         "visible": "legendonly",
         "x": [
          11,
          2
         ],
         "y": [
          0,
          1
         ]
        },
        {
         "hoverinfo": "text",
         "hovertext": [
          "<b>Topic 277</b><br>Words: kentner, ludwig, réellement, marquent, stabilité"
         ],
         "marker": {
          "color": "#D55E00"
         },
         "name": "277_kentner_ludwig_probenpianist_domaine...",
         "orientation": "h",
         "type": "bar",
         "visible": "legendonly",
         "x": [
          13
         ],
         "y": [
          0
         ]
        },
        {
         "hoverinfo": "text",
         "hovertext": [
          "<b>Topic 278</b><br>Words: mischling, aufführungsverbot, jüdischer, translateur, nationalsozialisten",
          "<b>Topic 278</b><br>Words: dirigeants, koppeln, ortwin, gescheitert, prévenir"
         ],
         "marker": {
          "color": "#0072B2"
         },
         "name": "278_mischling_dirigeants_aufführungsverb...",
         "orientation": "h",
         "type": "bar",
         "visible": "legendonly",
         "x": [
          9,
          4
         ],
         "y": [
          0,
          1
         ]
        },
        {
         "hoverinfo": "text",
         "hovertext": [
          "<b>Topic 279</b><br>Words: brahms, weigls, härtel, breitkopf, eusebius",
          "<b>Topic 279</b><br>Words: positively, roller, gestartete, executive, bühnenbildner"
         ],
         "marker": {
          "color": "#CC79A7"
         },
         "name": "279_brahms_weigls_härtel_breitkopf",
         "orientation": "h",
         "type": "bar",
         "visible": "legendonly",
         "x": [
          10,
          3
         ],
         "y": [
          0,
          1
         ]
        },
        {
         "hoverinfo": "text",
         "hovertext": [
          "<b>Topic 280</b><br>Words: förderten, sohnes, childhood, parents, erziehung",
          "<b>Topic 280</b><br>Words: erziehung, finden, sollten, kinder, lernte"
         ],
         "marker": {
          "color": "#E69F00"
         },
         "name": "280_förderten_erziehung_sohnes_childhood",
         "orientation": "h",
         "type": "bar",
         "visible": "legendonly",
         "x": [
          11,
          2
         ],
         "y": [
          0,
          1
         ]
        },
        {
         "hoverinfo": "text",
         "hovertext": [
          "<b>Topic 281</b><br>Words: viva, musica, eurovision, odaline, avantgardistischer",
          "<b>Topic 281</b><br>Words: glyndebourne, festival, figaro, guglielmo, salzburger"
         ],
         "marker": {
          "color": "#56B4E9"
         },
         "name": "281_glyndebourne_festival_figaro_gugliel...",
         "orientation": "h",
         "type": "bar",
         "visible": "legendonly",
         "x": [
          5,
          8
         ],
         "y": [
          0,
          1
         ]
        },
        {
         "hoverinfo": "text",
         "hovertext": [
          "<b>Topic 282</b><br>Words: 1879, eichwald, 1874, brecher, ostende",
          "<b>Topic 282</b><br>Words: ottmar, gerster, km, werner, egk"
         ],
         "marker": {
          "color": "#009E73"
         },
         "name": "282_ottmar_1879_eichwald_1874",
         "orientation": "h",
         "type": "bar",
         "visible": "legendonly",
         "x": [
          6,
          7
         ],
         "y": [
          0,
          1
         ]
        },
        {
         "hoverinfo": "text",
         "hovertext": [
          "<b>Topic 283</b><br>Words: hartmann, épris, vernichtete, älteste, schublade"
         ],
         "marker": {
          "color": "#F0E442"
         },
         "name": "283_hartmann_épris_absorb_schwiegerelter...",
         "orientation": "h",
         "type": "bar",
         "visible": "legendonly",
         "x": [
          13
         ],
         "y": [
          0
         ]
        },
        {
         "hoverinfo": "text",
         "hovertext": [
          "<b>Topic 284</b><br>Words: goldner, berthold, goldschmidt, goldschlag, gold"
         ],
         "marker": {
          "color": "#D55E00"
         },
         "name": "284_goldner_berthold_goldschmidt_goldsch...",
         "orientation": "h",
         "type": "bar",
         "visible": "legendonly",
         "x": [
          13
         ],
         "y": [
          0
         ]
        },
        {
         "hoverinfo": "text",
         "hovertext": [
          "<b>Topic 285</b><br>Words: exhausted, barn, norwood, straw, transit",
          "<b>Topic 285</b><br>Words: 1893, erst, 25, kehrte, juni"
         ],
         "marker": {
          "color": "#0072B2"
         },
         "name": "285_norwood_barn_exhausted_straw",
         "orientation": "h",
         "type": "bar",
         "visible": "legendonly",
         "x": [
          11,
          1
         ],
         "y": [
          0,
          1
         ]
        },
        {
         "hoverinfo": "text",
         "hovertext": [
          "<b>Topic 286</b><br>Words: mitgewirkt, realized, reiche, sack, kaffeehausgeiger",
          "<b>Topic 286</b><br>Words: einrichtungen, führungspositionen, kompositorischen, verschiedenen, musikalischen"
         ],
         "marker": {
          "color": "#CC79A7"
         },
         "name": "286_führungspositionen_realized_reiche_s...",
         "orientation": "h",
         "type": "bar",
         "visible": "legendonly",
         "x": [
          11,
          1
         ],
         "y": [
          0,
          1
         ]
        },
        {
         "hoverinfo": "text",
         "hovertext": [
          "<b>Topic 287</b><br>Words: rosenberg, einsatzstab, rosenbergs, plünderung, ländern",
          "<b>Topic 287</b><br>Words: kaiser, embrigadement, freigesprochen, goûte, hôte"
         ],
         "marker": {
          "color": "#E69F00"
         },
         "name": "287_rosenberg_einsatzstab_rosenbergs_plü...",
         "orientation": "h",
         "type": "bar",
         "visible": "legendonly",
         "x": [
          10,
          2
         ],
         "y": [
          0,
          1
         ]
        },
        {
         "hoverinfo": "text",
         "hovertext": [
          "<b>Topic 288</b><br>Words: agreement, machtübergabe, kultur, tägige, ariernachweises"
         ],
         "marker": {
          "color": "#56B4E9"
         },
         "name": "288_agreement_machtübergabe_kultur_beweg...",
         "orientation": "h",
         "type": "bar",
         "visible": "legendonly",
         "x": [
          12
         ],
         "y": [
          0
         ]
        },
        {
         "hoverinfo": "text",
         "hovertext": [
          "<b>Topic 289</b><br>Words: ausgang, bliudz, gosztony, haid, liane",
          "<b>Topic 289</b><br>Words: gretchen, tante, pauline, haid, ausgang"
         ],
         "marker": {
          "color": "#009E73"
         },
         "name": "289_gosztony_liane_ausgang_bliudz",
         "orientation": "h",
         "type": "bar",
         "visible": "legendonly",
         "x": [
          10,
          2
         ],
         "y": [
          0,
          1
         ]
        },
        {
         "hoverinfo": "text",
         "hovertext": [
          "<b>Topic 290</b><br>Words: déménage, siedelte, familie, löt, naturwissenschaftler",
          "<b>Topic 290</b><br>Words: schkeuditz, lichterfelde, groß, halle, ramin"
         ],
         "marker": {
          "color": "#F0E442"
         },
         "name": "290_déménage_siedelte_familie_schweißbet...",
         "orientation": "h",
         "type": "bar",
         "visible": "legendonly",
         "x": [
          11,
          1
         ],
         "y": [
          0,
          1
         ]
        },
        {
         "hoverinfo": "text",
         "hovertext": [
          "<b>Topic 291</b><br>Words: paris, sorbonne, guggenheim, mayotte, clandestinely",
          "<b>Topic 291</b><br>Words: laufenden, miré, ballan, modenschauen, touraine"
         ],
         "marker": {
          "color": "#D55E00"
         },
         "name": "291_paris_sorbonne_mayotte_guggenheim",
         "orientation": "h",
         "type": "bar",
         "visible": "legendonly",
         "x": [
          10,
          2
         ],
         "y": [
          0,
          1
         ]
        },
        {
         "hoverinfo": "text",
         "hovertext": [
          "<b>Topic 292</b><br>Words: iwan, knorr, hoch, engelbert, humperdinck",
          "<b>Topic 292</b><br>Words: iwan, kwast, james, knorr, hoch"
         ],
         "marker": {
          "color": "#0072B2"
         },
         "name": "292_iwan_knorr_kwast_hoch",
         "orientation": "h",
         "type": "bar",
         "visible": "legendonly",
         "x": [
          7,
          5
         ],
         "y": [
          0,
          1
         ]
        },
        {
         "hoverinfo": "text",
         "hovertext": [
          "<b>Topic 294</b><br>Words: prag, prague, erteilt, einreiseerlaubnis, blechhammer"
         ],
         "marker": {
          "color": "#CC79A7"
         },
         "name": "294_prag_prague_erteilt_einreiseerlaubni...",
         "orientation": "h",
         "type": "bar",
         "visible": "legendonly",
         "x": [
          12
         ],
         "y": [
          0
         ]
        },
        {
         "hoverinfo": "text",
         "hovertext": [
          "<b>Topic 296</b><br>Words: toscanini, avantgardistische, soutenus, permettra, encouragés",
          "<b>Topic 296</b><br>Words: bruckner, symphonies, staatskapelle, ravel, toscanini"
         ],
         "marker": {
          "color": "#E69F00"
         },
         "name": "296_bruckner_toscanini_arturo_symphonies",
         "orientation": "h",
         "type": "bar",
         "visible": "legendonly",
         "x": [
          5,
          7
         ],
         "y": [
          0,
          1
         ]
        },
        {
         "hoverinfo": "text",
         "hovertext": [
          "<b>Topic 297</b><br>Words: électronique, electronic, signierte, compositrices, électroniques"
         ],
         "marker": {
          "color": "#56B4E9"
         },
         "name": "297_électronique_electronic_komponistinn...",
         "orientation": "h",
         "type": "bar",
         "visible": "legendonly",
         "x": [
          12
         ],
         "y": [
          0
         ]
        },
        {
         "hoverinfo": "text",
         "hovertext": [
          "<b>Topic 298</b><br>Words: furtwängler, wilhelm, neville, stumme, surround",
          "<b>Topic 298</b><br>Words: furtwängler, wilhelm, microsillon, permanents, initiée"
         ],
         "marker": {
          "color": "#009E73"
         },
         "name": "298_furtwängler_wilhelm_philharmonique_p...",
         "orientation": "h",
         "type": "bar",
         "visible": "legendonly",
         "x": [
          5,
          7
         ],
         "y": [
          0,
          1
         ]
        },
        {
         "hoverinfo": "text",
         "hovertext": [
          "<b>Topic 299</b><br>Words: century, considered, widely, 20th, greatest",
          "<b>Topic 299</b><br>Words: greatest, 20th, jahrhunderts, century, conductors"
         ],
         "marker": {
          "color": "#F0E442"
         },
         "name": "299_century_20th_widely_greatest",
         "orientation": "h",
         "type": "bar",
         "visible": "legendonly",
         "x": [
          7,
          5
         ],
         "y": [
          0,
          1
         ]
        },
        {
         "hoverinfo": "text",
         "hovertext": [
          "<b>Topic 300</b><br>Words: decades, 1979, seven, notes, erst",
          "<b>Topic 300</b><br>Words: vignettes, unversehrt, supplement, gute, katholische"
         ],
         "marker": {
          "color": "#D55E00"
         },
         "name": "300_decades_1979_seven_notes",
         "orientation": "h",
         "type": "bar",
         "visible": "legendonly",
         "x": [
          10,
          2
         ],
         "y": [
          0,
          1
         ]
        },
        {
         "hoverinfo": "text",
         "hovertext": [
          "<b>Topic 304</b><br>Words: allmusic, barta, göttin, abgerufen, lenz",
          "<b>Topic 304</b><br>Words: allmusic, barta, göttin, abgerufen, lenz"
         ],
         "marker": {
          "color": "#0072B2"
         },
         "name": "304_allmusic_göttin_barta_abgerufen",
         "orientation": "h",
         "type": "bar",
         "visible": "legendonly",
         "x": [
          11,
          1
         ],
         "y": [
          0,
          1
         ]
        }
       ],
       "layout": {
        "height": 900,
        "hoverlabel": {
         "bgcolor": "white",
         "font": {
          "family": "Rockwell",
          "size": 16
         }
        },
        "legend": {
         "title": {
          "text": "<b>Global Topic Representation"
         }
        },
        "template": {
         "data": {
          "bar": [
           {
            "error_x": {
             "color": "rgb(36,36,36)"
            },
            "error_y": {
             "color": "rgb(36,36,36)"
            },
            "marker": {
             "line": {
              "color": "white",
              "width": 0.5
             },
             "pattern": {
              "fillmode": "overlay",
              "size": 10,
              "solidity": 0.2
             }
            },
            "type": "bar"
           }
          ],
          "barpolar": [
           {
            "marker": {
             "line": {
              "color": "white",
              "width": 0.5
             },
             "pattern": {
              "fillmode": "overlay",
              "size": 10,
              "solidity": 0.2
             }
            },
            "type": "barpolar"
           }
          ],
          "carpet": [
           {
            "aaxis": {
             "endlinecolor": "rgb(36,36,36)",
             "gridcolor": "white",
             "linecolor": "white",
             "minorgridcolor": "white",
             "startlinecolor": "rgb(36,36,36)"
            },
            "baxis": {
             "endlinecolor": "rgb(36,36,36)",
             "gridcolor": "white",
             "linecolor": "white",
             "minorgridcolor": "white",
             "startlinecolor": "rgb(36,36,36)"
            },
            "type": "carpet"
           }
          ],
          "choropleth": [
           {
            "colorbar": {
             "outlinewidth": 1,
             "tickcolor": "rgb(36,36,36)",
             "ticks": "outside"
            },
            "type": "choropleth"
           }
          ],
          "contour": [
           {
            "colorbar": {
             "outlinewidth": 1,
             "tickcolor": "rgb(36,36,36)",
             "ticks": "outside"
            },
            "colorscale": [
             [
              0,
              "#440154"
             ],
             [
              0.1111111111111111,
              "#482878"
             ],
             [
              0.2222222222222222,
              "#3e4989"
             ],
             [
              0.3333333333333333,
              "#31688e"
             ],
             [
              0.4444444444444444,
              "#26828e"
             ],
             [
              0.5555555555555556,
              "#1f9e89"
             ],
             [
              0.6666666666666666,
              "#35b779"
             ],
             [
              0.7777777777777778,
              "#6ece58"
             ],
             [
              0.8888888888888888,
              "#b5de2b"
             ],
             [
              1,
              "#fde725"
             ]
            ],
            "type": "contour"
           }
          ],
          "contourcarpet": [
           {
            "colorbar": {
             "outlinewidth": 1,
             "tickcolor": "rgb(36,36,36)",
             "ticks": "outside"
            },
            "type": "contourcarpet"
           }
          ],
          "heatmap": [
           {
            "colorbar": {
             "outlinewidth": 1,
             "tickcolor": "rgb(36,36,36)",
             "ticks": "outside"
            },
            "colorscale": [
             [
              0,
              "#440154"
             ],
             [
              0.1111111111111111,
              "#482878"
             ],
             [
              0.2222222222222222,
              "#3e4989"
             ],
             [
              0.3333333333333333,
              "#31688e"
             ],
             [
              0.4444444444444444,
              "#26828e"
             ],
             [
              0.5555555555555556,
              "#1f9e89"
             ],
             [
              0.6666666666666666,
              "#35b779"
             ],
             [
              0.7777777777777778,
              "#6ece58"
             ],
             [
              0.8888888888888888,
              "#b5de2b"
             ],
             [
              1,
              "#fde725"
             ]
            ],
            "type": "heatmap"
           }
          ],
          "heatmapgl": [
           {
            "colorbar": {
             "outlinewidth": 1,
             "tickcolor": "rgb(36,36,36)",
             "ticks": "outside"
            },
            "colorscale": [
             [
              0,
              "#440154"
             ],
             [
              0.1111111111111111,
              "#482878"
             ],
             [
              0.2222222222222222,
              "#3e4989"
             ],
             [
              0.3333333333333333,
              "#31688e"
             ],
             [
              0.4444444444444444,
              "#26828e"
             ],
             [
              0.5555555555555556,
              "#1f9e89"
             ],
             [
              0.6666666666666666,
              "#35b779"
             ],
             [
              0.7777777777777778,
              "#6ece58"
             ],
             [
              0.8888888888888888,
              "#b5de2b"
             ],
             [
              1,
              "#fde725"
             ]
            ],
            "type": "heatmapgl"
           }
          ],
          "histogram": [
           {
            "marker": {
             "line": {
              "color": "white",
              "width": 0.6
             }
            },
            "type": "histogram"
           }
          ],
          "histogram2d": [
           {
            "colorbar": {
             "outlinewidth": 1,
             "tickcolor": "rgb(36,36,36)",
             "ticks": "outside"
            },
            "colorscale": [
             [
              0,
              "#440154"
             ],
             [
              0.1111111111111111,
              "#482878"
             ],
             [
              0.2222222222222222,
              "#3e4989"
             ],
             [
              0.3333333333333333,
              "#31688e"
             ],
             [
              0.4444444444444444,
              "#26828e"
             ],
             [
              0.5555555555555556,
              "#1f9e89"
             ],
             [
              0.6666666666666666,
              "#35b779"
             ],
             [
              0.7777777777777778,
              "#6ece58"
             ],
             [
              0.8888888888888888,
              "#b5de2b"
             ],
             [
              1,
              "#fde725"
             ]
            ],
            "type": "histogram2d"
           }
          ],
          "histogram2dcontour": [
           {
            "colorbar": {
             "outlinewidth": 1,
             "tickcolor": "rgb(36,36,36)",
             "ticks": "outside"
            },
            "colorscale": [
             [
              0,
              "#440154"
             ],
             [
              0.1111111111111111,
              "#482878"
             ],
             [
              0.2222222222222222,
              "#3e4989"
             ],
             [
              0.3333333333333333,
              "#31688e"
             ],
             [
              0.4444444444444444,
              "#26828e"
             ],
             [
              0.5555555555555556,
              "#1f9e89"
             ],
             [
              0.6666666666666666,
              "#35b779"
             ],
             [
              0.7777777777777778,
              "#6ece58"
             ],
             [
              0.8888888888888888,
              "#b5de2b"
             ],
             [
              1,
              "#fde725"
             ]
            ],
            "type": "histogram2dcontour"
           }
          ],
          "mesh3d": [
           {
            "colorbar": {
             "outlinewidth": 1,
             "tickcolor": "rgb(36,36,36)",
             "ticks": "outside"
            },
            "type": "mesh3d"
           }
          ],
          "parcoords": [
           {
            "line": {
             "colorbar": {
              "outlinewidth": 1,
              "tickcolor": "rgb(36,36,36)",
              "ticks": "outside"
             }
            },
            "type": "parcoords"
           }
          ],
          "pie": [
           {
            "automargin": true,
            "type": "pie"
           }
          ],
          "scatter": [
           {
            "marker": {
             "colorbar": {
              "outlinewidth": 1,
              "tickcolor": "rgb(36,36,36)",
              "ticks": "outside"
             }
            },
            "type": "scatter"
           }
          ],
          "scatter3d": [
           {
            "line": {
             "colorbar": {
              "outlinewidth": 1,
              "tickcolor": "rgb(36,36,36)",
              "ticks": "outside"
             }
            },
            "marker": {
             "colorbar": {
              "outlinewidth": 1,
              "tickcolor": "rgb(36,36,36)",
              "ticks": "outside"
             }
            },
            "type": "scatter3d"
           }
          ],
          "scattercarpet": [
           {
            "marker": {
             "colorbar": {
              "outlinewidth": 1,
              "tickcolor": "rgb(36,36,36)",
              "ticks": "outside"
             }
            },
            "type": "scattercarpet"
           }
          ],
          "scattergeo": [
           {
            "marker": {
             "colorbar": {
              "outlinewidth": 1,
              "tickcolor": "rgb(36,36,36)",
              "ticks": "outside"
             }
            },
            "type": "scattergeo"
           }
          ],
          "scattergl": [
           {
            "marker": {
             "colorbar": {
              "outlinewidth": 1,
              "tickcolor": "rgb(36,36,36)",
              "ticks": "outside"
             }
            },
            "type": "scattergl"
           }
          ],
          "scattermapbox": [
           {
            "marker": {
             "colorbar": {
              "outlinewidth": 1,
              "tickcolor": "rgb(36,36,36)",
              "ticks": "outside"
             }
            },
            "type": "scattermapbox"
           }
          ],
          "scatterpolar": [
           {
            "marker": {
             "colorbar": {
              "outlinewidth": 1,
              "tickcolor": "rgb(36,36,36)",
              "ticks": "outside"
             }
            },
            "type": "scatterpolar"
           }
          ],
          "scatterpolargl": [
           {
            "marker": {
             "colorbar": {
              "outlinewidth": 1,
              "tickcolor": "rgb(36,36,36)",
              "ticks": "outside"
             }
            },
            "type": "scatterpolargl"
           }
          ],
          "scatterternary": [
           {
            "marker": {
             "colorbar": {
              "outlinewidth": 1,
              "tickcolor": "rgb(36,36,36)",
              "ticks": "outside"
             }
            },
            "type": "scatterternary"
           }
          ],
          "surface": [
           {
            "colorbar": {
             "outlinewidth": 1,
             "tickcolor": "rgb(36,36,36)",
             "ticks": "outside"
            },
            "colorscale": [
             [
              0,
              "#440154"
             ],
             [
              0.1111111111111111,
              "#482878"
             ],
             [
              0.2222222222222222,
              "#3e4989"
             ],
             [
              0.3333333333333333,
              "#31688e"
             ],
             [
              0.4444444444444444,
              "#26828e"
             ],
             [
              0.5555555555555556,
              "#1f9e89"
             ],
             [
              0.6666666666666666,
              "#35b779"
             ],
             [
              0.7777777777777778,
              "#6ece58"
             ],
             [
              0.8888888888888888,
              "#b5de2b"
             ],
             [
              1,
              "#fde725"
             ]
            ],
            "type": "surface"
           }
          ],
          "table": [
           {
            "cells": {
             "fill": {
              "color": "rgb(237,237,237)"
             },
             "line": {
              "color": "white"
             }
            },
            "header": {
             "fill": {
              "color": "rgb(217,217,217)"
             },
             "line": {
              "color": "white"
             }
            },
            "type": "table"
           }
          ]
         },
         "layout": {
          "annotationdefaults": {
           "arrowhead": 0,
           "arrowwidth": 1
          },
          "autotypenumbers": "strict",
          "coloraxis": {
           "colorbar": {
            "outlinewidth": 1,
            "tickcolor": "rgb(36,36,36)",
            "ticks": "outside"
           }
          },
          "colorscale": {
           "diverging": [
            [
             0,
             "rgb(103,0,31)"
            ],
            [
             0.1,
             "rgb(178,24,43)"
            ],
            [
             0.2,
             "rgb(214,96,77)"
            ],
            [
             0.3,
             "rgb(244,165,130)"
            ],
            [
             0.4,
             "rgb(253,219,199)"
            ],
            [
             0.5,
             "rgb(247,247,247)"
            ],
            [
             0.6,
             "rgb(209,229,240)"
            ],
            [
             0.7,
             "rgb(146,197,222)"
            ],
            [
             0.8,
             "rgb(67,147,195)"
            ],
            [
             0.9,
             "rgb(33,102,172)"
            ],
            [
             1,
             "rgb(5,48,97)"
            ]
           ],
           "sequential": [
            [
             0,
             "#440154"
            ],
            [
             0.1111111111111111,
             "#482878"
            ],
            [
             0.2222222222222222,
             "#3e4989"
            ],
            [
             0.3333333333333333,
             "#31688e"
            ],
            [
             0.4444444444444444,
             "#26828e"
            ],
            [
             0.5555555555555556,
             "#1f9e89"
            ],
            [
             0.6666666666666666,
             "#35b779"
            ],
            [
             0.7777777777777778,
             "#6ece58"
            ],
            [
             0.8888888888888888,
             "#b5de2b"
            ],
            [
             1,
             "#fde725"
            ]
           ],
           "sequentialminus": [
            [
             0,
             "#440154"
            ],
            [
             0.1111111111111111,
             "#482878"
            ],
            [
             0.2222222222222222,
             "#3e4989"
            ],
            [
             0.3333333333333333,
             "#31688e"
            ],
            [
             0.4444444444444444,
             "#26828e"
            ],
            [
             0.5555555555555556,
             "#1f9e89"
            ],
            [
             0.6666666666666666,
             "#35b779"
            ],
            [
             0.7777777777777778,
             "#6ece58"
            ],
            [
             0.8888888888888888,
             "#b5de2b"
            ],
            [
             1,
             "#fde725"
            ]
           ]
          },
          "colorway": [
           "#1F77B4",
           "#FF7F0E",
           "#2CA02C",
           "#D62728",
           "#9467BD",
           "#8C564B",
           "#E377C2",
           "#7F7F7F",
           "#BCBD22",
           "#17BECF"
          ],
          "font": {
           "color": "rgb(36,36,36)"
          },
          "geo": {
           "bgcolor": "white",
           "lakecolor": "white",
           "landcolor": "white",
           "showlakes": true,
           "showland": true,
           "subunitcolor": "white"
          },
          "hoverlabel": {
           "align": "left"
          },
          "hovermode": "closest",
          "mapbox": {
           "style": "light"
          },
          "paper_bgcolor": "white",
          "plot_bgcolor": "white",
          "polar": {
           "angularaxis": {
            "gridcolor": "rgb(232,232,232)",
            "linecolor": "rgb(36,36,36)",
            "showgrid": false,
            "showline": true,
            "ticks": "outside"
           },
           "bgcolor": "white",
           "radialaxis": {
            "gridcolor": "rgb(232,232,232)",
            "linecolor": "rgb(36,36,36)",
            "showgrid": false,
            "showline": true,
            "ticks": "outside"
           }
          },
          "scene": {
           "xaxis": {
            "backgroundcolor": "white",
            "gridcolor": "rgb(232,232,232)",
            "gridwidth": 2,
            "linecolor": "rgb(36,36,36)",
            "showbackground": true,
            "showgrid": false,
            "showline": true,
            "ticks": "outside",
            "zeroline": false,
            "zerolinecolor": "rgb(36,36,36)"
           },
           "yaxis": {
            "backgroundcolor": "white",
            "gridcolor": "rgb(232,232,232)",
            "gridwidth": 2,
            "linecolor": "rgb(36,36,36)",
            "showbackground": true,
            "showgrid": false,
            "showline": true,
            "ticks": "outside",
            "zeroline": false,
            "zerolinecolor": "rgb(36,36,36)"
           },
           "zaxis": {
            "backgroundcolor": "white",
            "gridcolor": "rgb(232,232,232)",
            "gridwidth": 2,
            "linecolor": "rgb(36,36,36)",
            "showbackground": true,
            "showgrid": false,
            "showline": true,
            "ticks": "outside",
            "zeroline": false,
            "zerolinecolor": "rgb(36,36,36)"
           }
          },
          "shapedefaults": {
           "fillcolor": "black",
           "line": {
            "width": 0
           },
           "opacity": 0.3
          },
          "ternary": {
           "aaxis": {
            "gridcolor": "rgb(232,232,232)",
            "linecolor": "rgb(36,36,36)",
            "showgrid": false,
            "showline": true,
            "ticks": "outside"
           },
           "baxis": {
            "gridcolor": "rgb(232,232,232)",
            "linecolor": "rgb(36,36,36)",
            "showgrid": false,
            "showline": true,
            "ticks": "outside"
           },
           "bgcolor": "white",
           "caxis": {
            "gridcolor": "rgb(232,232,232)",
            "linecolor": "rgb(36,36,36)",
            "showgrid": false,
            "showline": true,
            "ticks": "outside"
           }
          },
          "title": {
           "x": 0.05
          },
          "xaxis": {
           "automargin": true,
           "gridcolor": "rgb(232,232,232)",
           "linecolor": "rgb(36,36,36)",
           "showgrid": false,
           "showline": true,
           "ticks": "outside",
           "title": {
            "standoff": 15
           },
           "zeroline": false,
           "zerolinecolor": "rgb(36,36,36)"
          },
          "yaxis": {
           "automargin": true,
           "gridcolor": "rgb(232,232,232)",
           "linecolor": "rgb(36,36,36)",
           "showgrid": false,
           "showline": true,
           "ticks": "outside",
           "title": {
            "standoff": 15
           },
           "zeroline": false,
           "zerolinecolor": "rgb(36,36,36)"
          }
         }
        },
        "title": {
         "font": {
          "color": "Black",
          "size": 22
         },
         "text": "<b>Topics per Class",
         "x": 0.4,
         "xanchor": "center",
         "y": 0.95,
         "yanchor": "top"
        },
        "width": 1250,
        "xaxis": {
         "showgrid": true,
         "title": {
          "text": "Frequency"
         }
        },
        "yaxis": {
         "showgrid": true,
         "title": {
          "text": "Class"
         }
        }
       }
      },
      "text/html": [
       "<div>                            <div id=\"65697037-c62a-4f0b-a351-df785075e86d\" class=\"plotly-graph-div\" style=\"height:900px; width:1250px;\"></div>            <script type=\"text/javascript\">                require([\"plotly\"], function(Plotly) {                    window.PLOTLYENV=window.PLOTLYENV || {};                                    if (document.getElementById(\"65697037-c62a-4f0b-a351-df785075e86d\")) {                    Plotly.newPlot(                        \"65697037-c62a-4f0b-a351-df785075e86d\",                        [{\"hoverinfo\":\"text\",\"hovertext\":[\"<b>Topic 0</b><br>Words: op, augenlicht, regen, roll, orf\",\"<b>Topic 0</b><br>Words: op, augenlicht, regen, roll, orf\"],\"marker\":{\"color\":\"#E69F00\"},\"name\":\"0_op_augenlicht_roll_regen\",\"orientation\":\"h\",\"visible\":true,\"x\":[764,157],\"y\":[0,1],\"type\":\"bar\"},{\"hoverinfo\":\"text\",\"hovertext\":[\"<b>Topic 1</b><br>Words: sch\\u00f6nberg, schoenberg, arnold, schreker, sch\\u00f6nbergs\",\"<b>Topic 1</b><br>Words: sch\\u00f6nberg, arnold, schoenberg, schreker, schillings\"],\"marker\":{\"color\":\"#56B4E9\"},\"name\":\"1_sch\\u00f6nberg_schoenberg_arnold_schreker\",\"orientation\":\"h\",\"visible\":\"legendonly\",\"x\":[399,45],\"y\":[0,1],\"type\":\"bar\"},{\"hoverinfo\":\"text\",\"hovertext\":[\"<b>Topic 2</b><br>Words: peu, verwehrt, peut, kaum, jedoch\",\"<b>Topic 2</b><br>Words: little, kaum, label, daraufhin, \\u00e4rmlichsten\"],\"marker\":{\"color\":\"#009E73\"},\"name\":\"2_peu_kaum_little_verwehrt\",\"orientation\":\"h\",\"visible\":\"legendonly\",\"x\":[153,20],\"y\":[0,1],\"type\":\"bar\"},{\"hoverinfo\":\"text\",\"hovertext\":[\"<b>Topic 3</b><br>Words: age, alter, jahren, cello, klavierunterricht\",\"<b>Topic 3</b><br>Words: age, jahren, orgelunterricht, early, cello\"],\"marker\":{\"color\":\"#F0E442\"},\"name\":\"3_age_alter_jahren_cello\",\"orientation\":\"h\",\"visible\":\"legendonly\",\"x\":[123,34],\"y\":[0,1],\"type\":\"bar\"},{\"hoverinfo\":\"text\",\"hovertext\":[\"<b>Topic 4</b><br>Words: deportiert, auschwitz, theresienstadt, camp, kz\",\"<b>Topic 4</b><br>Words: tenir, dozens, promesse, int\\u00e9rieure, wiechert\"],\"marker\":{\"color\":\"#D55E00\"},\"name\":\"4_deportiert_auschwitz_theresienstadt_ca...\",\"orientation\":\"h\",\"visible\":\"legendonly\",\"x\":[154,2],\"y\":[0,1],\"type\":\"bar\"},{\"hoverinfo\":\"text\",\"hovertext\":[\"<b>Topic 5</b><br>Words: heiratete, married, verheiratet, \\u00e9pouse, ehe\",\"<b>Topic 5</b><br>Words: married, heiratete, stuy, jorhan, corry\"],\"marker\":{\"color\":\"#0072B2\"},\"name\":\"5_heiratete_married_verheiratet_\\u00e9pouse\",\"orientation\":\"h\",\"visible\":\"legendonly\",\"x\":[133,17],\"y\":[0,1],\"type\":\"bar\"},{\"hoverinfo\":\"text\",\"hovertext\":[\"<b>Topic 6</b><br>Words: hollywood, films, film, filme, filmen\",\"<b>Topic 6</b><br>Words: baky, regisseur, r\\u00e9alisateur, films, josef\"],\"marker\":{\"color\":\"#CC79A7\"},\"name\":\"6_hollywood_films_film_filmen\",\"orientation\":\"h\",\"visible\":\"legendonly\",\"x\":[134,10],\"y\":[0,1],\"type\":\"bar\"},{\"hoverinfo\":\"text\",\"hovertext\":[\"<b>Topic 7</b><br>Words: stravinsky, petersburg, strawinsky, igor, korsakov\",\"<b>Topic 7</b><br>Words: stravinsky, igor, wedding, earthy, folkloric\"],\"marker\":{\"color\":\"#E69F00\"},\"name\":\"7_stravinsky_igor_strawinsky_petersburg\",\"orientation\":\"h\",\"visible\":\"legendonly\",\"x\":[128,7],\"y\":[0,1],\"type\":\"bar\"},{\"hoverinfo\":\"text\",\"hovertext\":[\"<b>Topic 8</b><br>Words: discogs, zeisls, cpo, article, nico\",\"<b>Topic 8</b><br>Words: merten, rosendahl, balte, pp, tendues\"],\"marker\":{\"color\":\"#56B4E9\"},\"name\":\"8_discogs_zeisls_cpo_article\",\"orientation\":\"h\",\"visible\":\"legendonly\",\"x\":[108,22],\"y\":[0,1],\"type\":\"bar\"},{\"hoverinfo\":\"text\",\"hovertext\":[\"<b>Topic 9</b><br>Words: steiner, score, film, selznick, rko\"],\"marker\":{\"color\":\"#009E73\"},\"name\":\"9_steiner_score_film_selznick\",\"orientation\":\"h\",\"visible\":\"legendonly\",\"x\":[126],\"y\":[0],\"type\":\"bar\"},{\"hoverinfo\":\"text\",\"hovertext\":[\"<b>Topic 10</b><br>Words: chamber, symphonies, orchesterwerke, works, opern\",\"<b>Topic 10</b><br>Words: works, symphonies, organ, including, choral\"],\"marker\":{\"color\":\"#F0E442\"},\"name\":\"10_symphonies_chamber_works_orchesterwer...\",\"orientation\":\"h\",\"visible\":\"legendonly\",\"x\":[91,25],\"y\":[0,1],\"type\":\"bar\"},{\"hoverinfo\":\"text\",\"hovertext\":[\"<b>Topic 11</b><br>Words: oper, op\\u00e9ra, manon, op\\u00e9ras, puccini\",\"<b>Topic 11</b><br>Words: helena, \\u00e4gyptische, arabella, elektra, salom\\u00e9\"],\"marker\":{\"color\":\"#D55E00\"},\"name\":\"11_oper_op\\u00e9ra_helena_\\u00e4gyptische\",\"orientation\":\"h\",\"visible\":\"legendonly\",\"x\":[86,29],\"y\":[0,1],\"type\":\"bar\"},{\"hoverinfo\":\"text\",\"hovertext\":[\"<b>Topic 12</b><br>Words: strauss, szell, richard, johann, hofmannsthal\",\"<b>Topic 12</b><br>Words: strauss, hofmannsthal, richard, ritter, wagner\"],\"marker\":{\"color\":\"#0072B2\"},\"name\":\"12_strauss_richard_hofmannsthal_szell\",\"orientation\":\"h\",\"visible\":\"legendonly\",\"x\":[31,83],\"y\":[0,1],\"type\":\"bar\"},{\"hoverinfo\":\"text\",\"hovertext\":[\"<b>Topic 13</b><br>Words: ungarn, \\u00f6sterreich, geboren, wien, weissmann\",\"<b>Topic 13</b><br>Words: ungarn, h\\u00fcsch, \\u00f6sterreich, 1902, babenhausen\"],\"marker\":{\"color\":\"#CC79A7\"},\"name\":\"13_ungarn_\\u00f6sterreich_geboren_wien\",\"orientation\":\"h\",\"visible\":\"legendonly\",\"x\":[85,28],\"y\":[0,1],\"type\":\"bar\"},{\"hoverinfo\":\"text\",\"hovertext\":[\"<b>Topic 14</b><br>Words: befindet, friedhof, grab, zentralfriedhof, cimeti\\u00e8re\",\"<b>Topic 14</b><br>Words: friedhof, befindet, grab, zentralfriedhof, buried\"],\"marker\":{\"color\":\"#E69F00\"},\"name\":\"14_friedhof_befindet_grab_zentralfriedho...\",\"orientation\":\"h\",\"visible\":\"legendonly\",\"x\":[75,34],\"y\":[0,1],\"type\":\"bar\"},{\"hoverinfo\":\"text\",\"hovertext\":[\"<b>Topic 15</b><br>Words: gemischten, chor, para, klavier, coros\",\"<b>Topic 15</b><br>Words: mx, a1381, keilberth, treue, telefunken\"],\"marker\":{\"color\":\"#56B4E9\"},\"name\":\"15_gemischten_chor_para_klavier\",\"orientation\":\"h\",\"visible\":\"legendonly\",\"x\":[80,11],\"y\":[0,1],\"type\":\"bar\"},{\"hoverinfo\":\"text\",\"hovertext\":[\"<b>Topic 16</b><br>Words: deutscher, komponist, musikp\\u00e4dagoge, ebenda, \\u00f6sterreichisch\",\"<b>Topic 16</b><br>Words: deutscher, komponist, musikp\\u00e4dagoge, 1978, ebenda\"],\"marker\":{\"color\":\"#009E73\"},\"name\":\"16_deutscher_komponist_musikp\\u00e4dagoge_ebe...\",\"orientation\":\"h\",\"visible\":\"legendonly\",\"x\":[56,35],\"y\":[0,1],\"type\":\"bar\"},{\"hoverinfo\":\"text\",\"hovertext\":[\"<b>Topic 17</b><br>Words: zemlinsky, zemlinskys, zeisl, akt, alexander\"],\"marker\":{\"color\":\"#F0E442\"},\"name\":\"17_zemlinsky_zemlinskys_zeisl_akt\",\"orientation\":\"h\",\"visible\":\"legendonly\",\"x\":[84],\"y\":[0],\"type\":\"bar\"},{\"hoverinfo\":\"text\",\"hovertext\":[\"<b>Topic 18</b><br>Words: 1971, ddr, 1978, vorsitzender, pr\\u00e4sident\",\"<b>Topic 18</b><br>Words: mozarteum, salzburger, 1961, 1960, 1968\"],\"marker\":{\"color\":\"#D55E00\"},\"name\":\"18_mozarteum_1971_1961_ddr\",\"orientation\":\"h\",\"visible\":\"legendonly\",\"x\":[51,29],\"y\":[0,1],\"type\":\"bar\"},{\"hoverinfo\":\"text\",\"hovertext\":[\"<b>Topic 19</b><br>Words: 1953, 1956, 1951, lehrte, 1950\",\"<b>Topic 19</b><br>Words: 1950, 1953, musikhochschule, hochschule, stuttgart\"],\"marker\":{\"color\":\"#0072B2\"},\"name\":\"19_1950_1953_1951_lehrte\",\"orientation\":\"h\",\"visible\":\"legendonly\",\"x\":[42,37],\"y\":[0,1],\"type\":\"bar\"},{\"hoverinfo\":\"text\",\"hovertext\":[\"<b>Topic 20</b><br>Words: israel, palestine, isra\\u00ebl, aviv, tel\"],\"marker\":{\"color\":\"#CC79A7\"},\"name\":\"20_israel_palestine_isra\\u00ebl_aviv\",\"orientation\":\"h\",\"visible\":\"legendonly\",\"x\":[79],\"y\":[0],\"type\":\"bar\"},{\"hoverinfo\":\"text\",\"hovertext\":[\"<b>Topic 21</b><br>Words: hoch, sekles, konservatorium, hindemith, bernhard\",\"<b>Topic 21</b><br>Words: hoch, rebner, waltershausen, grabner, gatscher\"],\"marker\":{\"color\":\"#E69F00\"},\"name\":\"21_hoch_sekles_konservatorium_rebner\",\"orientation\":\"h\",\"visible\":\"legendonly\",\"x\":[51,25],\"y\":[0,1],\"type\":\"bar\"},{\"hoverinfo\":\"text\",\"hovertext\":[\"<b>Topic 22</b><br>Words: sch\\u00fclern, z\\u00e4hlten, students, russell, included\",\"<b>Topic 22</b><br>Words: helmut, sch\\u00fclern, moroi, g\\u00fcnter, students\"],\"marker\":{\"color\":\"#56B4E9\"},\"name\":\"22_sch\\u00fclern_z\\u00e4hlten_students_helmut\",\"orientation\":\"h\",\"visible\":\"legendonly\",\"x\":[54,19],\"y\":[0,1],\"type\":\"bar\"},{\"hoverinfo\":\"text\",\"hovertext\":[\"<b>Topic 23</b><br>Words: musicbrainz, ressources, library, relatives, musique\",\"<b>Topic 23</b><br>Words: cd, hear, 542, audiophile, apl\"],\"marker\":{\"color\":\"#009E73\"},\"name\":\"23_musicbrainz_ressources_library_relati...\",\"orientation\":\"h\",\"visible\":\"legendonly\",\"x\":[66,7],\"y\":[0,1],\"type\":\"bar\"},{\"hoverinfo\":\"text\",\"hovertext\":[\"<b>Topic 24</b><br>Words: nazis, nationalsozialistische, hitler, d\\u00e9nonc\\u00e9, lettre\",\"<b>Topic 24</b><br>Words: furtw\\u00e4ngler, juifs, nazie, nazis, jochum\"],\"marker\":{\"color\":\"#F0E442\"},\"name\":\"24_furtw\\u00e4ngler_nazis_juifs_nazie\",\"orientation\":\"h\",\"visible\":\"legendonly\",\"x\":[29,41],\"y\":[0,1],\"type\":\"bar\"},{\"hoverinfo\":\"text\",\"hovertext\":[\"<b>Topic 25</b><br>Words: rca, columbia, 1924, victor, ris\\u00eb\",\"<b>Topic 25</b><br>Words: ind\\u00e9pendante, eigenst\\u00e4ndig, recording, lasting, mani\\u00e8re\"],\"marker\":{\"color\":\"#D55E00\"},\"name\":\"25_rca_columbia_1924_victor\",\"orientation\":\"h\",\"visible\":\"legendonly\",\"x\":[65,4],\"y\":[0,1],\"type\":\"bar\"},{\"hoverinfo\":\"text\",\"hovertext\":[\"<b>Topic 26</b><br>Words: 1941, 1932, 1896greg, 1943, septembre\",\"<b>Topic 26</b><br>Words: pflug, 1896greg, \\u00fcberm, platten, liegen\"],\"marker\":{\"color\":\"#0072B2\"},\"name\":\"26_1896greg_1941_1932_1943\",\"orientation\":\"h\",\"visible\":\"legendonly\",\"x\":[60,7],\"y\":[0,1],\"type\":\"bar\"},{\"hoverinfo\":\"text\",\"hovertext\":[\"<b>Topic 27</b><br>Words: konzertreisen, tino, unternahm, europa, rossi\",\"<b>Topic 27</b><br>Words: europa, konzertreisen, scarpia, marcello, rigoletto\"],\"marker\":{\"color\":\"#CC79A7\"},\"name\":\"27_konzertreisen_europa_tino_unternahm\",\"orientation\":\"h\",\"visible\":\"legendonly\",\"x\":[49,18],\"y\":[0,1],\"type\":\"bar\"},{\"hoverinfo\":\"text\",\"hovertext\":[\"<b>Topic 28</b><br>Words: concerto, string, quartet, joann, falletta\",\"<b>Topic 28</b><br>Words: concerto, violinkonzert, sheet, violoncelles, violons\"],\"marker\":{\"color\":\"#E69F00\"},\"name\":\"28_concerto_string_quartet_falletta\",\"orientation\":\"h\",\"visible\":\"legendonly\",\"x\":[57,9],\"y\":[0,1],\"type\":\"bar\"},{\"hoverinfo\":\"text\",\"hovertext\":[\"<b>Topic 29</b><br>Words: j\\u00fcdische, synagoge, j\\u00fcdischen, schalit, musik\"],\"marker\":{\"color\":\"#56B4E9\"},\"name\":\"29_j\\u00fcdische_synagoge_j\\u00fcdischen_schalit\",\"orientation\":\"h\",\"visible\":\"legendonly\",\"x\":[64],\"y\":[0],\"type\":\"bar\"},{\"hoverinfo\":\"text\",\"hovertext\":[\"<b>Topic 30</b><br>Words: 128, coll, dur, 2004, 2010\",\"<b>Topic 30</b><br>Words: 45, 151, 1390, 158, eingang\"],\"marker\":{\"color\":\"#009E73\"},\"name\":\"30_128_coll_dur_45\",\"orientation\":\"h\",\"visible\":\"legendonly\",\"x\":[48,15],\"y\":[0,1],\"type\":\"bar\"},{\"hoverinfo\":\"text\",\"hovertext\":[\"<b>Topic 31</b><br>Words: prag, prague, czechoslovakia, czech, theater\",\"<b>Topic 31</b><br>Words: kleopatra, cleopatra, ballett, directed, went\"],\"marker\":{\"color\":\"#F0E442\"},\"name\":\"31_prag_prague_czechoslovakia_czech\",\"orientation\":\"h\",\"visible\":\"legendonly\",\"x\":[60,2],\"y\":[0,1],\"type\":\"bar\"},{\"hoverinfo\":\"text\",\"hovertext\":[\"<b>Topic 32</b><br>Words: moskau, sowjetunion, sovi\\u00e9tique, russia, moscow\",\"<b>Topic 32</b><br>Words: zone, occupation, essen, berufungsverfahren, ostgebiete\"],\"marker\":{\"color\":\"#D55E00\"},\"name\":\"32_sowjetunion_moskau_sovi\\u00e9tique_russia\",\"orientation\":\"h\",\"visible\":\"legendonly\",\"x\":[58,4],\"y\":[0,1],\"type\":\"bar\"},{\"hoverinfo\":\"text\",\"hovertext\":[\"<b>Topic 33</b><br>Words: wat, schweyk, t\\u00eates, bethge, cuaderno\",\"<b>Topic 33</b><br>Words: biblioth\\u00e8que, nationale, ober, zilligs, ligne\"],\"marker\":{\"color\":\"#0072B2\"},\"name\":\"33_schweyk_cuaderno_wat_t\\u00eates\",\"orientation\":\"h\",\"visible\":\"legendonly\",\"x\":[46,16],\"y\":[0,1],\"type\":\"bar\"},{\"hoverinfo\":\"text\",\"hovertext\":[\"<b>Topic 34</b><br>Words: york, new, died, hospital, gestorben\"],\"marker\":{\"color\":\"#CC79A7\"},\"name\":\"34_york_new_died_hospital\",\"orientation\":\"h\",\"visible\":\"legendonly\",\"x\":[61],\"y\":[0],\"type\":\"bar\"},{\"hoverinfo\":\"text\",\"hovertext\":[\"<b>Topic 35</b><br>Words: kahn, allemand, kahns, grun, tenors\",\"<b>Topic 35</b><br>Words: ladwig, tenants, sopranos, inter, oldenburg\"],\"marker\":{\"color\":\"#E69F00\"},\"name\":\"35_kahn_allemand_kahns_ladwig\",\"orientation\":\"h\",\"visible\":\"legendonly\",\"x\":[41,19],\"y\":[0,1],\"type\":\"bar\"},{\"hoverinfo\":\"text\",\"hovertext\":[\"<b>Topic 36</b><br>Words: letton, likes, cigare, reklame, rapide\",\"<b>Topic 36</b><br>Words: face, letton, likes, cigare, reklame\"],\"marker\":{\"color\":\"#56B4E9\"},\"name\":\"36_letton_oubliant_likes_rapide\",\"orientation\":\"h\",\"visible\":\"legendonly\",\"x\":[51,8],\"y\":[0,1],\"type\":\"bar\"},{\"hoverinfo\":\"text\",\"hovertext\":[\"<b>Topic 37</b><br>Words: age, gymnasium, begann, vienna, besuchte\",\"<b>Topic 37</b><br>Words: linz, kinzl, andrichsfurt, eberschwang, musikvereins\"],\"marker\":{\"color\":\"#009E73\"},\"name\":\"37_linz_gymnasium_age_besuchte\",\"orientation\":\"h\",\"visible\":\"legendonly\",\"x\":[47,12],\"y\":[0,1],\"type\":\"bar\"},{\"hoverinfo\":\"text\",\"hovertext\":[\"<b>Topic 38</b><br>Words: preis, kunstpreis, gew\\u00e4hlt, ausgezeichnet, stadt\",\"<b>Topic 38</b><br>Words: ausgezeichnet, schumann, d\\u00fcsseldorf, stadt, preis\"],\"marker\":{\"color\":\"#F0E442\"},\"name\":\"38_preis_kunstpreis_ausgezeichnet_stadt\",\"orientation\":\"h\",\"visible\":\"legendonly\",\"x\":[45,12],\"y\":[0,1],\"type\":\"bar\"},{\"hoverinfo\":\"text\",\"hovertext\":[\"<b>Topic 39</b><br>Words: adorno, 1969, lecture, \\u00e4u\\u00dferte, verh\\u00e4ltnis\"],\"marker\":{\"color\":\"#D55E00\"},\"name\":\"39_adorno_1969_lecture_\\u00e4u\\u00dferte\",\"orientation\":\"h\",\"visible\":\"legendonly\",\"x\":[56],\"y\":[0],\"type\":\"bar\"},{\"hoverinfo\":\"text\",\"hovertext\":[\"<b>Topic 40</b><br>Words: bruxelles, puf, dossier, bertrand, aron\",\"<b>Topic 40</b><br>Words: gramatt\\u00e9, eckhardt, carmen, bruxelles, puf\"],\"marker\":{\"color\":\"#0072B2\"},\"name\":\"40_bruxelles_puf_dossier_bertrand\",\"orientation\":\"h\",\"visible\":\"legendonly\",\"x\":[55,1],\"y\":[0,1],\"type\":\"bar\"},{\"hoverinfo\":\"text\",\"hovertext\":[\"<b>Topic 41</b><br>Words: meldete, 1918, milit\\u00e4rdienst, service, kriegsfreiwilliger\",\"<b>Topic 41</b><br>Words: service, 1918, 1917, 1916, wehrdienst\"],\"marker\":{\"color\":\"#CC79A7\"},\"name\":\"41_1918_service_meldete_milit\\u00e4rdienst\",\"orientation\":\"h\",\"visible\":\"legendonly\",\"x\":[35,20],\"y\":[0,1],\"type\":\"bar\"},{\"hoverinfo\":\"text\",\"hovertext\":[\"<b>Topic 42</b><br>Words: usa, states, united, \\u00f6sterreichs, anschluss\"],\"marker\":{\"color\":\"#E69F00\"},\"name\":\"42_usa_states_united_\\u00f6sterreichs\",\"orientation\":\"h\",\"visible\":\"legendonly\",\"x\":[55],\"y\":[0],\"type\":\"bar\"},{\"hoverinfo\":\"text\",\"hovertext\":[\"<b>Topic 43</b><br>Words: gokkes, goebbels, sim, g\\u00f6ring, winnik\",\"<b>Topic 43</b><br>Words: goebbels, g\\u00f6ring, gokkes, joseph, unterstellten\"],\"marker\":{\"color\":\"#56B4E9\"},\"name\":\"43_goebbels_gokkes_g\\u00f6ring_sim\",\"orientation\":\"h\",\"visible\":\"legendonly\",\"x\":[30,24],\"y\":[0,1],\"type\":\"bar\"},{\"hoverinfo\":\"text\",\"hovertext\":[\"<b>Topic 44</b><br>Words: ax\\u00e9n, musikskola, andr\\u00e9n, ivar, gunnar\",\"<b>Topic 44</b><br>Words: salzburger, festspielen, strasbourg, papageno, r\\u00e9guli\\u00e8rement\"],\"marker\":{\"color\":\"#009E73\"},\"name\":\"44_ax\\u00e9n_andr\\u00e9n_musikskola_gunnar\",\"orientation\":\"h\",\"visible\":\"legendonly\",\"x\":[39,15],\"y\":[0,1],\"type\":\"bar\"},{\"hoverinfo\":\"text\",\"hovertext\":[\"<b>Topic 45</b><br>Words: weltkriegs, liedbeitr\\u00e4ge, zeichentrickfilme, cumulant, proscription\",\"<b>Topic 45</b><br>Words: gottbegnadeten, liste, endphase, hitler, kriegseinsatz\"],\"marker\":{\"color\":\"#F0E442\"},\"name\":\"45_gottbegnadeten_liste_endphase_hitler\",\"orientation\":\"h\",\"visible\":\"legendonly\",\"x\":[3,48],\"y\":[0,1],\"type\":\"bar\"},{\"hoverinfo\":\"text\",\"hovertext\":[\"<b>Topic 46</b><br>Words: york, new, nbc, metropolitan, symphony\",\"<b>Topic 46</b><br>Words: highland, ravinia, visits, illinois, berkshire\"],\"marker\":{\"color\":\"#D55E00\"},\"name\":\"46_york_new_nbc_metropolitan\",\"orientation\":\"h\",\"visible\":\"legendonly\",\"x\":[49,2],\"y\":[0,1],\"type\":\"bar\"},{\"hoverinfo\":\"text\",\"hovertext\":[\"<b>Topic 47</b><br>Words: bl\\u00fcthner, orchesters, ultraphone, berliner, freies\",\"<b>Topic 47</b><br>Words: philharmonic, leiter, philharmonischen, radio, berliner\"],\"marker\":{\"color\":\"#0072B2\"},\"name\":\"47_philharmonic_berliner_berlin_leiter\",\"orientation\":\"h\",\"visible\":\"legendonly\",\"x\":[22,28],\"y\":[0,1],\"type\":\"bar\"},{\"hoverinfo\":\"text\",\"hovertext\":[\"<b>Topic 48</b><br>Words: jazz, horn, simon, laks, elemente\",\"<b>Topic 48</b><br>Words: horn, jazz, preserving, collaborating, swingenden\"],\"marker\":{\"color\":\"#CC79A7\"},\"name\":\"48_jazz_horn_simon_laks\",\"orientation\":\"h\",\"visible\":\"legendonly\",\"x\":[45,4],\"y\":[0,1],\"type\":\"bar\"},{\"hoverinfo\":\"text\",\"hovertext\":[\"<b>Topic 49</b><br>Words: pianos, klavierspiel, ampico, odds, h\\u00e4ufig\",\"<b>Topic 49</b><br>Words: moll, tingelte, scheunen, anleitung, turnhallen\"],\"marker\":{\"color\":\"#E69F00\"},\"name\":\"49_pianos_klavierspiel_ampico_odds\",\"orientation\":\"h\",\"visible\":\"legendonly\",\"x\":[41,8],\"y\":[0,1],\"type\":\"bar\"},{\"hoverinfo\":\"text\",\"hovertext\":[\"<b>Topic 50</b><br>Words: m\\u00fcnchen, wallner, milwaukee, theater, danach\",\"<b>Topic 50</b><br>Words: m\\u00fcnchen, ostberlin, ramersdorf, comic, filmbegleitung\"],\"marker\":{\"color\":\"#56B4E9\"},\"name\":\"50_m\\u00fcnchen_danach_milwaukee_wallner\",\"orientation\":\"h\",\"visible\":\"legendonly\",\"x\":[34,14],\"y\":[0,1],\"type\":\"bar\"},{\"hoverinfo\":\"text\",\"hovertext\":[\"<b>Topic 51</b><br>Words: converted, religion, konvertierte, catholicism, protestant\",\"<b>Topic 51</b><br>Words: lawyers, geissmars, devout, weiden, family\"],\"marker\":{\"color\":\"#009E73\"},\"name\":\"51_converted_religion_konvertierte_catho...\",\"orientation\":\"h\",\"visible\":\"legendonly\",\"x\":[46,2],\"y\":[0,1],\"type\":\"bar\"},{\"hoverinfo\":\"text\",\"hovertext\":[\"<b>Topic 52</b><br>Words: adler, guido, g\\u00e1l, universit\\u00e4t, studierte\",\"<b>Topic 52</b><br>Words: tonkunst, latina, modezeichnen, heereskapellmeisterpr\\u00fcfung, francke\"],\"marker\":{\"color\":\"#F0E442\"},\"name\":\"52_adler_guido_universit\\u00e4t_g\\u00e1l\",\"orientation\":\"h\",\"visible\":\"legendonly\",\"x\":[41,7],\"y\":[0,1],\"type\":\"bar\"},{\"hoverinfo\":\"text\",\"hovertext\":[\"<b>Topic 53</b><br>Words: amerikanische, staatsb\\u00fcrgerschaft, citizen, nationalit\\u00e9, staatsb\\u00fcrger\",\"<b>Topic 53</b><br>Words: f\\u00e4hig, offiziere, entnazifizierungsprozess, unterzog, sch\\u00e4tzten\"],\"marker\":{\"color\":\"#D55E00\"},\"name\":\"53_amerikanische_staatsb\\u00fcrgerschaft_citi...\",\"orientation\":\"h\",\"visible\":\"legendonly\",\"x\":[45,2],\"y\":[0,1],\"type\":\"bar\"},{\"hoverinfo\":\"text\",\"hovertext\":[\"<b>Topic 54</b><br>Words: prague, prager, fidelio, finke, prag\"],\"marker\":{\"color\":\"#0072B2\"},\"name\":\"54_prague_prager_fidelio_finke\",\"orientation\":\"h\",\"visible\":\"legendonly\",\"x\":[46],\"y\":[0],\"type\":\"bar\"},{\"hoverinfo\":\"text\",\"hovertext\":[\"<b>Topic 55</b><br>Words: vaters, vater, causes, l\\u00f6btau, sorgen\",\"<b>Topic 55</b><br>Words: gro\\u00dfgezogen, recovery, mutter, onkel, junge\"],\"marker\":{\"color\":\"#CC79A7\"},\"name\":\"55_vaters_vater_sorgen_l\\u00f6btau\",\"orientation\":\"h\",\"visible\":\"legendonly\",\"x\":[41,4],\"y\":[0,1],\"type\":\"bar\"},{\"hoverinfo\":\"text\",\"hovertext\":[\"<b>Topic 56</b><br>Words: orff, carl, godela, 1895, k\\u00f6stler\"],\"marker\":{\"color\":\"#E69F00\"},\"name\":\"56_orff_carl_godela_1895\",\"orientation\":\"h\",\"visible\":\"legendonly\",\"x\":[45],\"y\":[1],\"type\":\"bar\"},{\"hoverinfo\":\"text\",\"hovertext\":[\"<b>Topic 57</b><br>Words: koppel, felicitas, kukuck, krausz, cohnheim\"],\"marker\":{\"color\":\"#56B4E9\"},\"name\":\"57_koppel_felicitas_kukuck_krausz\",\"orientation\":\"h\",\"visible\":\"legendonly\",\"x\":[45],\"y\":[0],\"type\":\"bar\"},{\"hoverinfo\":\"text\",\"hovertext\":[\"<b>Topic 58</b><br>Words: webern, krasner, anton, preglhof, pro\",\"<b>Topic 58</b><br>Words: tiefen, eindruck, impression, begegnete, anton\"],\"marker\":{\"color\":\"#009E73\"},\"name\":\"58_webern_krasner_anton_preglhof\",\"orientation\":\"h\",\"visible\":\"legendonly\",\"x\":[43,2],\"y\":[0,1],\"type\":\"bar\"},{\"hoverinfo\":\"text\",\"hovertext\":[\"<b>Topic 59</b><br>Words: amerikanischer, komponist, \\u00f6sterreichischer, angeles, vereinigte\"],\"marker\":{\"color\":\"#F0E442\"},\"name\":\"59_amerikanischer_komponist_angeles_\\u00f6ste...\",\"orientation\":\"h\",\"visible\":\"legendonly\",\"x\":[44],\"y\":[0],\"type\":\"bar\"},{\"hoverinfo\":\"text\",\"hovertext\":[\"<b>Topic 60</b><br>Words: volkshochschule, suk, 1931, studium, conservatory\",\"<b>Topic 60</b><br>Words: innkreis, peterskirchen, volksschullehrer, waizenkirchen, haas\"],\"marker\":{\"color\":\"#D55E00\"},\"name\":\"60_volkshochschule_suk_innkreis_waizenki...\",\"orientation\":\"h\",\"visible\":\"legendonly\",\"x\":[32,12],\"y\":[0,1],\"type\":\"bar\"},{\"hoverinfo\":\"text\",\"hovertext\":[\"<b>Topic 61</b><br>Words: eysler, b\\u00fcrgertheater, eisler, schnitzer, hexenspiegel\",\"<b>Topic 61</b><br>Words: egk, behaupten, apostrophiert, wiederaufbaus, anagramm\"],\"marker\":{\"color\":\"#0072B2\"},\"name\":\"61_eysler_b\\u00fcrgertheater_eisler_schnitzer\",\"orientation\":\"h\",\"visible\":\"legendonly\",\"x\":[42,2],\"y\":[0,1],\"type\":\"bar\"},{\"hoverinfo\":\"text\",\"hovertext\":[\"<b>Topic 62</b><br>Words: nsdap, kpd, mitgliedsnummer, trat, mitglied\",\"<b>Topic 62</b><br>Words: nsdap, mitgliedsnummer, trat, mitglied, mai\"],\"marker\":{\"color\":\"#CC79A7\"},\"name\":\"62_nsdap_mitgliedsnummer_trat_mitglied\",\"orientation\":\"h\",\"visible\":\"legendonly\",\"x\":[7,37],\"y\":[0,1],\"type\":\"bar\"},{\"hoverinfo\":\"text\",\"hovertext\":[\"<b>Topic 63</b><br>Words: horkheimer, sozialforschung, adorno, aphorisms, sociale\"],\"marker\":{\"color\":\"#E69F00\"},\"name\":\"63_horkheimer_sozialforschung_adorno_aph...\",\"orientation\":\"h\",\"visible\":\"legendonly\",\"x\":[43],\"y\":[0],\"type\":\"bar\"},{\"hoverinfo\":\"text\",\"hovertext\":[\"<b>Topic 64</b><br>Words: 1933, nazis, nazi, power, jew\",\"<b>Topic 64</b><br>Words: rabinovitchs, vermutlich, grothe, reiste, europa\"],\"marker\":{\"color\":\"#56B4E9\"},\"name\":\"64_1933_nazis_nazi_power\",\"orientation\":\"h\",\"visible\":\"legendonly\",\"x\":[41,1],\"y\":[0,1],\"type\":\"bar\"},{\"hoverinfo\":\"text\",\"hovertext\":[\"<b>Topic 65</b><br>Words: art, k\\u00fcnstler, artiste, lebten, \\u00e4sthetik\",\"<b>Topic 65</b><br>Words: gut, k\\u00fcnstler, vollen, forderungen, sch\\u00f6pft\"],\"marker\":{\"color\":\"#009E73\"},\"name\":\"65_art_k\\u00fcnstler_artiste_lebten\",\"orientation\":\"h\",\"visible\":\"legendonly\",\"x\":[35,7],\"y\":[0,1],\"type\":\"bar\"},{\"hoverinfo\":\"text\",\"hovertext\":[\"<b>Topic 66</b><br>Words: england, london, tovey, westminster, britain\"],\"marker\":{\"color\":\"#F0E442\"},\"name\":\"66_england_london_tovey_westminster\",\"orientation\":\"h\",\"visible\":\"legendonly\",\"x\":[40],\"y\":[0],\"type\":\"bar\"},{\"hoverinfo\":\"text\",\"hovertext\":[\"<b>Topic 67</b><br>Words: died, 84, aged, 2011, age\",\"<b>Topic 67</b><br>Words: died, aged, 83, 86, 84\"],\"marker\":{\"color\":\"#D55E00\"},\"name\":\"67_died_aged_84_age\",\"orientation\":\"h\",\"visible\":\"legendonly\",\"x\":[25,14],\"y\":[0,1],\"type\":\"bar\"},{\"hoverinfo\":\"text\",\"hovertext\":[\"<b>Topic 68</b><br>Words: mathilde, schnabel, seckel, schoenberg, heiratete\",\"<b>Topic 68</b><br>Words: scheler, m\\u00e4rit, mariera, liselotte, ruhen\"],\"marker\":{\"color\":\"#0072B2\"},\"name\":\"68_mathilde_schnabel_seckel_schoenberg\",\"orientation\":\"h\",\"visible\":\"legendonly\",\"x\":[37,2],\"y\":[0,1],\"type\":\"bar\"},{\"hoverinfo\":\"text\",\"hovertext\":[\"<b>Topic 69</b><br>Words: kz, auschwitz, niederl\\u00e4ndischer, gestorben, \\u00f6sterreichischer\"],\"marker\":{\"color\":\"#CC79A7\"},\"name\":\"69_kz_auschwitz_niederl\\u00e4ndischer_gestorb...\",\"orientation\":\"h\",\"visible\":\"legendonly\",\"x\":[38],\"y\":[0],\"type\":\"bar\"},{\"hoverinfo\":\"text\",\"hovertext\":[\"<b>Topic 70</b><br>Words: mahler, rott, gustav, mahlers, sinfonie\",\"<b>Topic 70</b><br>Words: mahler, gustav, copyright, protections, apolitical\"],\"marker\":{\"color\":\"#E69F00\"},\"name\":\"70_mahler_rott_gustav_mahlers\",\"orientation\":\"h\",\"visible\":\"legendonly\",\"x\":[32,5],\"y\":[0,1],\"type\":\"bar\"},{\"hoverinfo\":\"text\",\"hovertext\":[\"<b>Topic 71</b><br>Words: 000, insgesamt, 200, opus, umfasst\",\"<b>Topic 71</b><br>Words: bearbeitungen, environ, 120, 250, quelque\"],\"marker\":{\"color\":\"#56B4E9\"},\"name\":\"71_000_insgesamt_200_environ\",\"orientation\":\"h\",\"visible\":\"legendonly\",\"x\":[29,7],\"y\":[0,1],\"type\":\"bar\"},{\"hoverinfo\":\"text\",\"hovertext\":[\"<b>Topic 72</b><br>Words: 1955, 1953, kehrte, zur\\u00fcck, europe\",\"<b>Topic 72</b><br>Words: bordeaux, die\\u00dfen, ammersee, 1955, 1953\"],\"marker\":{\"color\":\"#009E73\"},\"name\":\"72_1955_1953_kehrte_zur\\u00fcck\",\"orientation\":\"h\",\"visible\":\"legendonly\",\"x\":[34,2],\"y\":[0,1],\"type\":\"bar\"},{\"hoverinfo\":\"text\",\"hovertext\":[\"<b>Topic 73</b><br>Words: bruno, granichstaedten, heinz, \\u05e7\\u05de\\u05d9\\u05e0\\u05e1\\u05e7\\u05d9, federation\",\"<b>Topic 73</b><br>Words: werner, tausig, emile, hexe, heinz\"],\"marker\":{\"color\":\"#F0E442\"},\"name\":\"73_bruno_heinz_granichstaedten_werner\",\"orientation\":\"h\",\"visible\":\"legendonly\",\"x\":[21,14],\"y\":[0,1],\"type\":\"bar\"},{\"hoverinfo\":\"text\",\"hovertext\":[\"<b>Topic 74</b><br>Words: france, vichy, paris, exil, toulouse\",\"<b>Topic 74</b><br>Words: warning, arrested, d\\u00e9m\\u00e9nage, switzerland, schuricht\"],\"marker\":{\"color\":\"#D55E00\"},\"name\":\"74_france_vichy_paris_exil\",\"orientation\":\"h\",\"visible\":\"legendonly\",\"x\":[33,2],\"y\":[0,1],\"type\":\"bar\"},{\"hoverinfo\":\"text\",\"hovertext\":[\"<b>Topic 75</b><br>Words: york, new, city, via, 1938\"],\"marker\":{\"color\":\"#0072B2\"},\"name\":\"75_york_new_city_via\",\"orientation\":\"h\",\"visible\":\"legendonly\",\"x\":[35],\"y\":[0],\"type\":\"bar\"},{\"hoverinfo\":\"text\",\"hovertext\":[\"<b>Topic 76</b><br>Words: 1932, duisburg, chemnitz, 1931, breslau\",\"<b>Topic 76</b><br>Words: duisburg, okh, musikreferent, gerigk, amtszeit\"],\"marker\":{\"color\":\"#CC79A7\"},\"name\":\"76_duisburg_1932_okh_musikreferent\",\"orientation\":\"h\",\"visible\":\"legendonly\",\"x\":[12,22],\"y\":[0,1],\"type\":\"bar\"},{\"hoverinfo\":\"text\",\"hovertext\":[\"<b>Topic 77</b><br>Words: aviv, tel, israelischer, israeli, jerusalem\"],\"marker\":{\"color\":\"#E69F00\"},\"name\":\"77_aviv_tel_israelischer_israeli\",\"orientation\":\"h\",\"visible\":\"legendonly\",\"x\":[33],\"y\":[0],\"type\":\"bar\"},{\"hoverinfo\":\"text\",\"hovertext\":[\"<b>Topic 78</b><br>Words: dachau, kz, dachauer, concentration, camp\"],\"marker\":{\"color\":\"#56B4E9\"},\"name\":\"78_dachau_kz_dachauer_concentration\",\"orientation\":\"h\",\"visible\":\"legendonly\",\"x\":[33],\"y\":[0],\"type\":\"bar\"},{\"hoverinfo\":\"text\",\"hovertext\":[\"<b>Topic 79</b><br>Words: mahler, mahlers, fried, gustav, cooke\",\"<b>Topic 79</b><br>Words: nachgespielt, sixth, mahler, perhaps, hofoper\"],\"marker\":{\"color\":\"#009E73\"},\"name\":\"79_mahler_mahlers_gustav_fried\",\"orientation\":\"h\",\"visible\":\"legendonly\",\"x\":[31,2],\"y\":[0,1],\"type\":\"bar\"},{\"hoverinfo\":\"text\",\"hovertext\":[\"<b>Topic 80</b><br>Words: prize, remporte, awarded, prix, preis\",\"<b>Topic 80</b><br>Words: nationalpreis, kompositionspreis, trapp, prize, prix\"],\"marker\":{\"color\":\"#F0E442\"},\"name\":\"80_prize_remporte_prix_awarded\",\"orientation\":\"h\",\"visible\":\"legendonly\",\"x\":[25,8],\"y\":[0,1],\"type\":\"bar\"},{\"hoverinfo\":\"text\",\"hovertext\":[\"<b>Topic 81</b><br>Words: mendelssohn, preis, mendelssohns, bartholdy, prix\",\"<b>Topic 81</b><br>Words: mendelssohn, bartholdy, felix, sommernachtstraum, ge\\u00e4chteten\"],\"marker\":{\"color\":\"#D55E00\"},\"name\":\"81_mendelssohn_bartholdy_preis_mendelsso...\",\"orientation\":\"h\",\"visible\":\"legendonly\",\"x\":[25,8],\"y\":[0,1],\"type\":\"bar\"},{\"hoverinfo\":\"text\",\"hovertext\":[\"<b>Topic 82</b><br>Words: szpilman, totenberg, gimpel, roman, henryk\"],\"marker\":{\"color\":\"#0072B2\"},\"name\":\"82_szpilman_totenberg_gimpel_roman\",\"orientation\":\"h\",\"visible\":\"legendonly\",\"x\":[33],\"y\":[0],\"type\":\"bar\"},{\"hoverinfo\":\"text\",\"hovertext\":[\"<b>Topic 83</b><br>Words: st\\u00f6hr, igor, straus, strassburg, stravinsky\",\"<b>Topic 83</b><br>Words: klassizistische, bellini, faur\\u00e9, periode, aufs\\u00e4tze\"],\"marker\":{\"color\":\"#CC79A7\"},\"name\":\"83_st\\u00f6hr_igor_straus_strassburg\",\"orientation\":\"h\",\"visible\":\"legendonly\",\"x\":[31,2],\"y\":[0,1],\"type\":\"bar\"},{\"hoverinfo\":\"text\",\"hovertext\":[\"<b>Topic 84</b><br>Words: schlesinger, schwake, zikmund, 15, 13\",\"<b>Topic 84</b><br>Words: witnica, vietz, actuelle, schmitz, polonaise\"],\"marker\":{\"color\":\"#E69F00\"},\"name\":\"84_schlesinger_schwake_zikmund_15\",\"orientation\":\"h\",\"visible\":\"legendonly\",\"x\":[31,2],\"y\":[0,1],\"type\":\"bar\"},{\"hoverinfo\":\"text\",\"hovertext\":[\"<b>Topic 85</b><br>Words: party, social, nazi, democrats, christians\",\"<b>Topic 85</b><br>Words: party, joined, nazi, rejoint, parti\"],\"marker\":{\"color\":\"#56B4E9\"},\"name\":\"85_party_nazi_social_germany\",\"orientation\":\"h\",\"visible\":\"legendonly\",\"x\":[21,11],\"y\":[0,1],\"type\":\"bar\"},{\"hoverinfo\":\"text\",\"hovertext\":[\"<b>Topic 86</b><br>Words: reti, method, cells, notes, rhythm\",\"<b>Topic 86</b><br>Words: triad, piling, blutm\\u00e4\\u00dfig, id\\u00e9ologisation, id\\u00e9ologiquement\"],\"marker\":{\"color\":\"#009E73\"},\"name\":\"86_reti_method_rhythm_themes\",\"orientation\":\"h\",\"visible\":\"legendonly\",\"x\":[28,4],\"y\":[0,1],\"type\":\"bar\"},{\"hoverinfo\":\"text\",\"hovertext\":[\"<b>Topic 87</b><br>Words: opus, brasilianerin, revanche, beethoven, 1923\",\"<b>Topic 87</b><br>Words: sosen, phantasie, frescobaldi, anf\\u00e4nglich, rundfunkorchesters\"],\"marker\":{\"color\":\"#F0E442\"},\"name\":\"87_opus_beethoven_revanche_brasilianerin\",\"orientation\":\"h\",\"visible\":\"legendonly\",\"x\":[27,5],\"y\":[0,1],\"type\":\"bar\"},{\"hoverinfo\":\"text\",\"hovertext\":[\"<b>Topic 88</b><br>Words: fuchs, robert, st\\u00f6hr, 1898, musikfreunde\",\"<b>Topic 88</b><br>Words: koblenzer, koblenz, 1893, 1892, theorie\"],\"marker\":{\"color\":\"#D55E00\"},\"name\":\"88_fuchs_robert_st\\u00f6hr_1898\",\"orientation\":\"h\",\"visible\":\"legendonly\",\"x\":[30,2],\"y\":[0,1],\"type\":\"bar\"},{\"hoverinfo\":\"text\",\"hovertext\":[\"<b>Topic 89</b><br>Words: ballet, ballets, diaghilev, phaedra, russes\",\"<b>Topic 89</b><br>Words: pfeil, ballet, arrow, getulisme, atterrit\"],\"marker\":{\"color\":\"#0072B2\"},\"name\":\"89_ballet_ballets_diaghilev_pfeil\",\"orientation\":\"h\",\"visible\":\"legendonly\",\"x\":[27,5],\"y\":[0,1],\"type\":\"bar\"},{\"hoverinfo\":\"text\",\"hovertext\":[\"<b>Topic 90</b><br>Words: paris, french, frankreich, fran\\u00e7aise, franz\\u00f6sische\"],\"marker\":{\"color\":\"#CC79A7\"},\"name\":\"90_paris_french_frankreich_fran\\u00e7aise\",\"orientation\":\"h\",\"visible\":\"legendonly\",\"x\":[31],\"y\":[0],\"type\":\"bar\"},{\"hoverinfo\":\"text\",\"hovertext\":[\"<b>Topic 91</b><br>Words: bart\\u00f3k, b\\u00e9la, paula, mare, s\\u00e2nnicolau\"],\"marker\":{\"color\":\"#E69F00\"},\"name\":\"91_bart\\u00f3k_b\\u00e9la_paula_unitarischen\",\"orientation\":\"h\",\"visible\":\"legendonly\",\"x\":[31],\"y\":[0],\"type\":\"bar\"},{\"hoverinfo\":\"text\",\"hovertext\":[\"<b>Topic 92</b><br>Words: stadttheater, erfurt, mainz, kapellmeister, 1894\",\"<b>Topic 92</b><br>Words: principal, 1894, staatskapelle, 1898, mainz\"],\"marker\":{\"color\":\"#56B4E9\"},\"name\":\"92_stadttheater_1894_mainz_principal\",\"orientation\":\"h\",\"visible\":\"legendonly\",\"x\":[22,8],\"y\":[0,1],\"type\":\"bar\"},{\"hoverinfo\":\"text\",\"hovertext\":[\"<b>Topic 93</b><br>Words: n\\u00e4her, ma\\u00eetre, quellenden, verwechselt, zust\\u00e4ndigen\",\"<b>Topic 93</b><br>Words: bludgeoning, cajole, gently, seduce, exigences\"],\"marker\":{\"color\":\"#009E73\"},\"name\":\"93_n\\u00e4her_ma\\u00eetre_gently_cajole\",\"orientation\":\"h\",\"visible\":\"legendonly\",\"x\":[24,6],\"y\":[0,1],\"type\":\"bar\"},{\"hoverinfo\":\"text\",\"hovertext\":[\"<b>Topic 94</b><br>Words: 1922, ignm, international, neue, gesellschaft\",\"<b>Topic 94</b><br>Words: almaviva, figaro, nozze, 1922, olympischen\"],\"marker\":{\"color\":\"#F0E442\"},\"name\":\"94_1922_almaviva_ignm_international\",\"orientation\":\"h\",\"visible\":\"legendonly\",\"x\":[23,7],\"y\":[0,1],\"type\":\"bar\"},{\"hoverinfo\":\"text\",\"hovertext\":[\"<b>Topic 95</b><br>Words: ruhestand, emeritiert, 1970er, 1970, 1969\",\"<b>Topic 95</b><br>Words: ruhestand, 1970er, kinzl, allj\\u00e4hrlich, lambach\"],\"marker\":{\"color\":\"#D55E00\"},\"name\":\"95_ruhestand_1970er_emeritiert_1970\",\"orientation\":\"h\",\"visible\":\"legendonly\",\"x\":[22,8],\"y\":[0,1],\"type\":\"bar\"},{\"hoverinfo\":\"text\",\"hovertext\":[\"<b>Topic 96</b><br>Words: rankl, company, garden, covent, webster\"],\"marker\":{\"color\":\"#0072B2\"},\"name\":\"96_rankl_company_covent_garden\",\"orientation\":\"h\",\"visible\":\"legendonly\",\"x\":[29],\"y\":[0],\"type\":\"bar\"},{\"hoverinfo\":\"text\",\"hovertext\":[\"<b>Topic 97</b><br>Words: matura, universit\\u00e4t, gymnasium, 1909, lustgarten\",\"<b>Topic 97</b><br>Words: humanistische, gymnasium, oberhausen, bient\\u00f4t, augsbourg\"],\"marker\":{\"color\":\"#CC79A7\"},\"name\":\"97_gymnasium_matura_universit\\u00e4t_1909\",\"orientation\":\"h\",\"visible\":\"legendonly\",\"x\":[27,2],\"y\":[0,1],\"type\":\"bar\"},{\"hoverinfo\":\"text\",\"hovertext\":[\"<b>Topic 98</b><br>Words: abendroth, adenauer, phil, musikpflege, konrad\",\"<b>Topic 98</b><br>Words: dortmund, hochschule, musikhochschule, conservatoire, haas\"],\"marker\":{\"color\":\"#E69F00\"},\"name\":\"98_hochschule_phil_conservatoire_musikho...\",\"orientation\":\"h\",\"visible\":\"legendonly\",\"x\":[10,19],\"y\":[0,1],\"type\":\"bar\"},{\"hoverinfo\":\"text\",\"hovertext\":[\"<b>Topic 99</b><br>Words: zirkusplatz, g\\u00e9n\\u00e9rosit\\u00e9, kaiserreich, russisches, apr\",\"<b>Topic 99</b><br>Words: livland, wenden, k\\u00f6ln, kaiserreich, cesar\"],\"marker\":{\"color\":\"#56B4E9\"},\"name\":\"99_kaiserreich_russisches_k\\u00f6ln_1897\",\"orientation\":\"h\",\"visible\":\"legendonly\",\"x\":[22,6],\"y\":[0,1],\"type\":\"bar\"},{\"hoverinfo\":\"text\",\"hovertext\":[\"<b>Topic 100</b><br>Words: acquiert, succ\\u00e8s, ach\\u00e8ve, grand, cependant\",\"<b>Topic 100</b><br>Words: rappels, ehre, parla, ungew\\u00f6hnliche, nichtgeistlichen\"],\"marker\":{\"color\":\"#009E73\"},\"name\":\"100_acquiert_succ\\u00e8s_ach\\u00e8ve_grand\",\"orientation\":\"h\",\"visible\":\"legendonly\",\"x\":[23,5],\"y\":[0,1],\"type\":\"bar\"},{\"hoverinfo\":\"text\",\"hovertext\":[\"<b>Topic 101</b><br>Words: karel, tschechischer, \\u0161venk, czech, reiner\"],\"marker\":{\"color\":\"#F0E442\"},\"name\":\"101_karel_tschechischer_\\u0161venk_czech\",\"orientation\":\"h\",\"visible\":\"legendonly\",\"x\":[28],\"y\":[0],\"type\":\"bar\"},{\"hoverinfo\":\"text\",\"hovertext\":[\"<b>Topic 102</b><br>Words: dissolution, 1922, gewandhaus, sinfonieorchesters, hyperinflation\",\"<b>Topic 102</b><br>Words: gewandhaus, 1922, konzertmeister, leipzig, 1921\"],\"marker\":{\"color\":\"#D55E00\"},\"name\":\"102_gewandhaus_1922_dissolution_leipzig\",\"orientation\":\"h\",\"visible\":\"legendonly\",\"x\":[13,15],\"y\":[0,1],\"type\":\"bar\"},{\"hoverinfo\":\"text\",\"hovertext\":[\"<b>Topic 103</b><br>Words: erlanger, klaw, board, vorstandsmitglied, conductor\",\"<b>Topic 103</b><br>Words: gestellten, gewandhauskammerorchesters, rigide, parish, sievers\"],\"marker\":{\"color\":\"#0072B2\"},\"name\":\"103_erlanger_klaw_vorstandsmitglied_boar...\",\"orientation\":\"h\",\"visible\":\"legendonly\",\"x\":[21,7],\"y\":[0,1],\"type\":\"bar\"},{\"hoverinfo\":\"text\",\"hovertext\":[\"<b>Topic 104</b><br>Words: born, blau, jakab, family, jewish\"],\"marker\":{\"color\":\"#CC79A7\"},\"name\":\"104_born_jakab_blau_family\",\"orientation\":\"h\",\"visible\":\"legendonly\",\"x\":[28],\"y\":[0],\"type\":\"bar\"},{\"hoverinfo\":\"text\",\"hovertext\":[\"<b>Topic 105</b><br>Words: zolt\\u00e1n, kod\\u00e1ly, koessler, sz\\u00e9kely, budapest\",\"<b>Topic 105</b><br>Words: kontarsky, aloys, alfons, included, students\"],\"marker\":{\"color\":\"#E69F00\"},\"name\":\"105_zolt\\u00e1n_kod\\u00e1ly_koessler_sz\\u00e9kely\",\"orientation\":\"h\",\"visible\":\"legendonly\",\"x\":[27,1],\"y\":[0,1],\"type\":\"bar\"},{\"hoverinfo\":\"text\",\"hovertext\":[\"<b>Topic 106</b><br>Words: stummfilm, film, jesse, filmmusik, filme\",\"<b>Topic 106</b><br>Words: mackeben, theo, haentzschel, leuwerik, nahtlose\"],\"marker\":{\"color\":\"#56B4E9\"},\"name\":\"106_theo_stummfilm_mackeben_film\",\"orientation\":\"h\",\"visible\":\"legendonly\",\"x\":[20,7],\"y\":[0,1],\"type\":\"bar\"},{\"hoverinfo\":\"text\",\"hovertext\":[\"<b>Topic 107</b><br>Words: kracauer, amiti\\u00e9, kubel\\u00edk, weschler, bernanos\",\"<b>Topic 107</b><br>Words: eliland, dedication, funded, k\\u00f6stler, publication\"],\"marker\":{\"color\":\"#009E73\"},\"name\":\"107_kracauer_amiti\\u00e9_kubel\\u00edk_weschler\",\"orientation\":\"h\",\"visible\":\"legendonly\",\"x\":[26,1],\"y\":[0,1],\"type\":\"bar\"},{\"hoverinfo\":\"text\",\"hovertext\":[\"<b>Topic 108</b><br>Words: op, n\\u00ba, string, guitar, bote\",\"<b>Topic 108</b><br>Words: op, unpublished, rondo, entsprungene, st\\u00e4ndchen\"],\"marker\":{\"color\":\"#F0E442\"},\"name\":\"108_op_n\\u00ba_string_guitar\",\"orientation\":\"h\",\"visible\":\"legendonly\",\"x\":[22,5],\"y\":[0,1],\"type\":\"bar\"},{\"hoverinfo\":\"text\",\"hovertext\":[\"<b>Topic 109</b><br>Words: schweden, frederiksbergs, schwedischen, lyngby, d\\u00e4nemark\",\"<b>Topic 109</b><br>Words: d\\u00e4nemark, oslo, ehemann, issay, umst\\u00e4ndlich\"],\"marker\":{\"color\":\"#D55E00\"},\"name\":\"109_d\\u00e4nemark_schweden_lyngby_schwedische...\",\"orientation\":\"h\",\"visible\":\"legendonly\",\"x\":[20,7],\"y\":[0,1],\"type\":\"bar\"},{\"hoverinfo\":\"text\",\"hovertext\":[\"<b>Topic 110</b><br>Words: vernunft, philosophie, philosophischen, rationality, metaphysical\",\"<b>Topic 110</b><br>Words: heilp\\u00e4dagogik, lehren, eingesetzt, bloomington, interpretation\"],\"marker\":{\"color\":\"#0072B2\"},\"name\":\"110_vernunft_philosophie_philosophischen...\",\"orientation\":\"h\",\"visible\":\"legendonly\",\"x\":[24,2],\"y\":[0,1],\"type\":\"bar\"},{\"hoverinfo\":\"text\",\"hovertext\":[\"<b>Topic 111</b><br>Words: bronners, dollar, business, freunden, \\u00e4u\\u00dferen\",\"<b>Topic 111</b><br>Words: stanislaus, aus\\u00fcben, praktik, beruf, profession\"],\"marker\":{\"color\":\"#CC79A7\"},\"name\":\"111_bronners_dollar_beruf_freunden\",\"orientation\":\"h\",\"visible\":\"legendonly\",\"x\":[22,4],\"y\":[0,1],\"type\":\"bar\"},{\"hoverinfo\":\"text\",\"hovertext\":[\"<b>Topic 112</b><br>Words: rundfunks, hoc, trunkene, ad, berliner\",\"<b>Topic 112</b><br>Words: grammophon, rundfunks, jochum, philharmoniker, recordings\"],\"marker\":{\"color\":\"#E69F00\"},\"name\":\"112_rundfunks_grammophon_philharmoniker_...\",\"orientation\":\"h\",\"visible\":\"legendonly\",\"x\":[13,13],\"y\":[0,1],\"type\":\"bar\"},{\"hoverinfo\":\"text\",\"hovertext\":[\"<b>Topic 113</b><br>Words: pfitzner, hans, angrily, treading, footsteps\",\"<b>Topic 113</b><br>Words: pfitzner, 1869, hans, palestrina, westens\"],\"marker\":{\"color\":\"#56B4E9\"},\"name\":\"113_pfitzner_hans_1869_palestrina\",\"orientation\":\"h\",\"visible\":\"legendonly\",\"x\":[8,18],\"y\":[0,1],\"type\":\"bar\"},{\"hoverinfo\":\"text\",\"hovertext\":[\"<b>Topic 114</b><br>Words: mondiale, guerre, weltkriegs, seconde, zweiten\",\"<b>Topic 114</b><br>Words: mondiale, beaucoup, guerre, marqu\\u00e9s, sinc\\u00e8re\"],\"marker\":{\"color\":\"#009E73\"},\"name\":\"114_mondiale_guerre_seconde_weltkriegs\",\"orientation\":\"h\",\"visible\":\"legendonly\",\"x\":[21,5],\"y\":[0,1],\"type\":\"bar\"},{\"hoverinfo\":\"text\",\"hovertext\":[\"<b>Topic 115</b><br>Words: leo\\u0161, jan\\u00e1\\u010dek, lw\\u00f3w, anton\\u00edn, dvo\\u0159\\u00e1k\",\"<b>Topic 115</b><br>Words: k\\u00f6nigsberg, albertus, commerzbankniederlassung, wirtschaftlichen, alsbald\"],\"marker\":{\"color\":\"#F0E442\"},\"name\":\"115_leo\\u0161_jan\\u00e1\\u010dek_lw\\u00f3w_anton\\u00edn\",\"orientation\":\"h\",\"visible\":\"legendonly\",\"x\":[25,1],\"y\":[0,1],\"type\":\"bar\"},{\"hoverinfo\":\"text\",\"hovertext\":[\"<b>Topic 116</b><br>Words: folk, energy, interest, rhythms, output\",\"<b>Topic 116</b><br>Words: entwickeln, rhythmische, gef\\u00fchl, idee, grundlage\"],\"marker\":{\"color\":\"#D55E00\"},\"name\":\"116_folk_energy_interest_bildete\",\"orientation\":\"h\",\"visible\":\"legendonly\",\"x\":[25,1],\"y\":[0,1],\"type\":\"bar\"},{\"hoverinfo\":\"text\",\"hovertext\":[\"<b>Topic 117</b><br>Words: cancer, starb, tumeur, vacances, 1969\",\"<b>Topic 117</b><br>Words: krankenhaus, schweizer, verstarb, 1967, januar\"],\"marker\":{\"color\":\"#0072B2\"},\"name\":\"117_cancer_starb_tumeur_vacances\",\"orientation\":\"h\",\"visible\":\"legendonly\",\"x\":[25,1],\"y\":[0,1],\"type\":\"bar\"},{\"hoverinfo\":\"text\",\"hovertext\":[\"<b>Topic 118</b><br>Words: studenten, \\u00e9tudiants, studentischen, studentenbewegung, adornos\",\"<b>Topic 118</b><br>Words: rebellion, bedroht, things, st\\u00e4ndig, inner\"],\"marker\":{\"color\":\"#CC79A7\"},\"name\":\"118_studenten_\\u00e9tudiants_studentischen_st...\",\"orientation\":\"h\",\"visible\":\"legendonly\",\"x\":[24,2],\"y\":[0,1],\"type\":\"bar\"},{\"hoverinfo\":\"text\",\"hovertext\":[\"<b>Topic 119</b><br>Words: juden, jews, reimann, verschlechterte, intention\",\"<b>Topic 119</b><br>Words: acquittement, pr\\u00e9par\\u00e9e, proc\\u00e8s, riess, fui\"],\"marker\":{\"color\":\"#E69F00\"},\"name\":\"119_juden_jews_reimann_verschlechterte\",\"orientation\":\"h\",\"visible\":\"legendonly\",\"x\":[24,1],\"y\":[0,1],\"type\":\"bar\"},{\"hoverinfo\":\"text\",\"hovertext\":[\"<b>Topic 120</b><br>Words: k\\u00fcnste, akademie, nachlass, membre, archiv\",\"<b>Topic 120</b><br>Words: h\\u00f6ller, arts, k\\u00fcnste, membre, member\"],\"marker\":{\"color\":\"#56B4E9\"},\"name\":\"120_k\\u00fcnste_akademie_membre_arts\",\"orientation\":\"h\",\"visible\":\"legendonly\",\"x\":[17,8],\"y\":[0,1],\"type\":\"bar\"},{\"hoverinfo\":\"text\",\"hovertext\":[\"<b>Topic 121</b><br>Words: schrecker, schulhoff, schnabel, famille, ashk\\u00e9naze\",\"<b>Topic 121</b><br>Words: brewer, prosperous, witnica, pschorr, financially\"],\"marker\":{\"color\":\"#009E73\"},\"name\":\"121_schrecker_schulhoff_schnabel_famille\",\"orientation\":\"h\",\"visible\":\"legendonly\",\"x\":[23,2],\"y\":[0,1],\"type\":\"bar\"},{\"hoverinfo\":\"text\",\"hovertext\":[\"<b>Topic 122</b><br>Words: waxman, josh, climactic, rebecca, scored\"],\"marker\":{\"color\":\"#F0E442\"},\"name\":\"122_waxman_josh_climactic_rebecca\",\"orientation\":\"h\",\"visible\":\"legendonly\",\"x\":[25],\"y\":[0],\"type\":\"bar\"},{\"hoverinfo\":\"text\",\"hovertext\":[\"<b>Topic 123</b><br>Words: \\u00f6sterreichischer, musikp\\u00e4dagoge, komponist, \\u00f6sterreichisch, amerikanischer\",\"<b>Topic 123</b><br>Words: musikp\\u00e4dagoge, \\u00f6sterreichischer, pianist, komponist, \\u00f6sterreichisch\"],\"marker\":{\"color\":\"#D55E00\"},\"name\":\"123_\\u00f6sterreichischer_musikp\\u00e4dagoge_kompo...\",\"orientation\":\"h\",\"visible\":\"legendonly\",\"x\":[24,1],\"y\":[0,1],\"type\":\"bar\"},{\"hoverinfo\":\"text\",\"hovertext\":[\"<b>Topic 124</b><br>Words: oscar, nominiert, nominations, oscars, award\",\"<b>Topic 124</b><br>Words: filmband, 1984, hervorragendes, langj\\u00e4hriges, wirken\"],\"marker\":{\"color\":\"#0072B2\"},\"name\":\"124_oscar_nominiert_nominations_oscars\",\"orientation\":\"h\",\"visible\":\"legendonly\",\"x\":[23,2],\"y\":[0,1],\"type\":\"bar\"},{\"hoverinfo\":\"text\",\"hovertext\":[\"<b>Topic 125</b><br>Words: warschauer, micha\\u0142owski, aleksander, grzegorz, j\\u00f3zef\"],\"marker\":{\"color\":\"#CC79A7\"},\"name\":\"125_warschauer_micha\\u0142owski_aleksander_gr...\",\"orientation\":\"h\",\"visible\":\"legendonly\",\"x\":[24],\"y\":[0],\"type\":\"bar\"},{\"hoverinfo\":\"text\",\"hovertext\":[\"<b>Topic 126</b><br>Words: rheingold, bayreuths, prinzregenttheather, patterned, walk\\u00fcre\",\"<b>Topic 126</b><br>Words: bayreuth, conducting, b\\u00fclow, strauss, wagner\"],\"marker\":{\"color\":\"#E69F00\"},\"name\":\"126_bayreuth_conducting_b\\u00fclow_wagner\",\"orientation\":\"h\",\"visible\":\"legendonly\",\"x\":[2,22],\"y\":[0,1],\"type\":\"bar\"},{\"hoverinfo\":\"text\",\"hovertext\":[\"<b>Topic 127</b><br>Words: mannes, frau, tod, st\\u00fctze, aktive\",\"<b>Topic 127</b><br>Words: angerechnet, surv\\u00e9cut, demanda, douloureuse, perte\"],\"marker\":{\"color\":\"#56B4E9\"},\"name\":\"127_mannes_frau_tod_surv\\u00e9cut\",\"orientation\":\"h\",\"visible\":\"legendonly\",\"x\":[20,4],\"y\":[0,1],\"type\":\"bar\"},{\"hoverinfo\":\"text\",\"hovertext\":[\"<b>Topic 128</b><br>Words: schubert, beethoven, p\\u00e8lerinage, int\\u00e9grale, mozart\",\"<b>Topic 128</b><br>Words: schubert, mozart, beethoven, haydn, bach\"],\"marker\":{\"color\":\"#009E73\"},\"name\":\"128_schubert_beethoven_mozart_haydn\",\"orientation\":\"h\",\"visible\":\"legendonly\",\"x\":[12,12],\"y\":[0,1],\"type\":\"bar\"},{\"hoverinfo\":\"text\",\"hovertext\":[\"<b>Topic 129</b><br>Words: rathaus, nachlass, karol, befindet, wienbibliothek\",\"<b>Topic 129</b><br>Words: holmes, archiv, stiftung, hofmannsthal, befindet\"],\"marker\":{\"color\":\"#F0E442\"},\"name\":\"129_rathaus_nachlass_karol_befindet\",\"orientation\":\"h\",\"visible\":\"legendonly\",\"x\":[21,3],\"y\":[0,1],\"type\":\"bar\"},{\"hoverinfo\":\"text\",\"hovertext\":[\"<b>Topic 130</b><br>Words: l\\u00fcbeck, lyra, 09, 1911, liedertafel\",\"<b>Topic 130</b><br>Words: l\\u00fcbeck, hofkapelle, meiningen, meininger, vereins\"],\"marker\":{\"color\":\"#D55E00\"},\"name\":\"130_l\\u00fcbeck_lyra_1911_09\",\"orientation\":\"h\",\"visible\":\"legendonly\",\"x\":[19,5],\"y\":[0,1],\"type\":\"bar\"},{\"hoverinfo\":\"text\",\"hovertext\":[\"<b>Topic 131</b><br>Words: church, obtient, trinity, harmony, associate\",\"<b>Topic 131</b><br>Words: theorielehrerexamen, orgelproblems, kl\\u00e4rung, gedanken, income\"],\"marker\":{\"color\":\"#0072B2\"},\"name\":\"131_church_obtient_trinity_harmony\",\"orientation\":\"h\",\"visible\":\"legendonly\",\"x\":[20,4],\"y\":[0,1],\"type\":\"bar\"},{\"hoverinfo\":\"text\",\"hovertext\":[\"<b>Topic 132</b><br>Words: gesundheit, illness, health, gaunt, assombries\",\"<b>Topic 132</b><br>Words: \\u00e4rztlichen, atteste, geldsorgen, problemen, begr\\u00fcnden\"],\"marker\":{\"color\":\"#CC79A7\"},\"name\":\"132_gesundheit_illness_health_marital\",\"orientation\":\"h\",\"visible\":\"legendonly\",\"x\":[21,3],\"y\":[0,1],\"type\":\"bar\"},{\"hoverinfo\":\"text\",\"hovertext\":[\"<b>Topic 133</b><br>Words: m\\u00e4rsche, r\\u00eave, genres, starer, gars\",\"<b>Topic 133</b><br>Words: verkl\\u00e4rten, interruption, example, erschien, 1884\"],\"marker\":{\"color\":\"#E69F00\"},\"name\":\"133_m\\u00e4rsche_r\\u00eave_genres_starer\",\"orientation\":\"h\",\"visible\":\"legendonly\",\"x\":[19,4],\"y\":[0,1],\"type\":\"bar\"},{\"hoverinfo\":\"text\",\"hovertext\":[\"<b>Topic 134</b><br>Words: anschluss, ausschnitt, customize, draws, irae\",\"<b>Topic 134</b><br>Words: anschluss, ausschnitt, customize, draws, irae\"],\"marker\":{\"color\":\"#56B4E9\"},\"name\":\"134_anschluss_kriegsministerium_irae_dra...\",\"orientation\":\"h\",\"visible\":\"legendonly\",\"x\":[21,2],\"y\":[0,1],\"type\":\"bar\"},{\"hoverinfo\":\"text\",\"hovertext\":[\"<b>Topic 135</b><br>Words: ehepaar, zog, schwestern, mutter, brand\",\"<b>Topic 135</b><br>Words: ehepaar, seibersdorf, anwesen, heide, faistenau\"],\"marker\":{\"color\":\"#009E73\"},\"name\":\"135_ehepaar_zog_schwestern_mutter\",\"orientation\":\"h\",\"visible\":\"legendonly\",\"x\":[17,6],\"y\":[0,1],\"type\":\"bar\"},{\"hoverinfo\":\"text\",\"hovertext\":[\"<b>Topic 136</b><br>Words: l\\u00fcdenscheid, 1913, 1920, 1915, oper\",\"<b>Topic 136</b><br>Words: chefposition, gliwice, furtwangler, mannheim, 1920\"],\"marker\":{\"color\":\"#F0E442\"},\"name\":\"136_l\\u00fcdenscheid_1920_1913_1915\",\"orientation\":\"h\",\"visible\":\"legendonly\",\"x\":[19,4],\"y\":[0,1],\"type\":\"bar\"},{\"hoverinfo\":\"text\",\"hovertext\":[\"<b>Topic 137</b><br>Words: toronto, royal, canada, morawetz, manchester\",\"<b>Topic 137</b><br>Words: montr\\u00e9al, wilfrid, pelletier, canadien, occurrence\"],\"marker\":{\"color\":\"#D55E00\"},\"name\":\"137_toronto_royal_canada_morawetz\",\"orientation\":\"h\",\"visible\":\"legendonly\",\"x\":[21,2],\"y\":[0,1],\"type\":\"bar\"},{\"hoverinfo\":\"text\",\"hovertext\":[\"<b>Topic 138</b><br>Words: r\\u00e9dige, autobiographie, plus, catalog, impose\",\"<b>Topic 138</b><br>Words: descriptions, seeing, sites, traveling, impressions\"],\"marker\":{\"color\":\"#0072B2\"},\"name\":\"138_descriptions_r\\u00e9dige_autobiographie_p...\",\"orientation\":\"h\",\"visible\":\"legendonly\",\"x\":[22,1],\"y\":[0,1],\"type\":\"bar\"},{\"hoverinfo\":\"text\",\"hovertext\":[\"<b>Topic 139</b><br>Words: staatsb\\u00fcrgerschaft, \\u00f6sterreicher, anschluss, niederl\\u00e4ndischen, \\u00fcberlebte\"],\"marker\":{\"color\":\"#CC79A7\"},\"name\":\"139_staatsb\\u00fcrgerschaft_\\u00f6sterreicher_ansc...\",\"orientation\":\"h\",\"visible\":\"legendonly\",\"x\":[23],\"y\":[0],\"type\":\"bar\"},{\"hoverinfo\":\"text\",\"hovertext\":[\"<b>Topic 140</b><br>Words: nazis, d\\u00e9g\\u00e9n\\u00e9r\\u00e9e, reichsmusikkammer, degenerate, durften\",\"<b>Topic 140</b><br>Words: nazizeit, dreilinden, aufrufen, besinnung, cardillac\"],\"marker\":{\"color\":\"#E69F00\"},\"name\":\"140_nazis_durften_d\\u00e9g\\u00e9n\\u00e9r\\u00e9e_reichsmusikk...\",\"orientation\":\"h\",\"visible\":\"legendonly\",\"x\":[20,3],\"y\":[0,1],\"type\":\"bar\"},{\"hoverinfo\":\"text\",\"hovertext\":[\"<b>Topic 141</b><br>Words: 1913, lachende, frauenfresser, ehemann, spielzeit\",\"<b>Topic 141</b><br>Words: josephs, hagen, ariadne, tremendous, balletts\"],\"marker\":{\"color\":\"#56B4E9\"},\"name\":\"141_1913_lachende_frauenfresser_ehemann\",\"orientation\":\"h\",\"visible\":\"legendonly\",\"x\":[20,3],\"y\":[0,1],\"type\":\"bar\"},{\"hoverinfo\":\"text\",\"hovertext\":[\"<b>Topic 142</b><br>Words: man\\u00e8ge, versiegelt, componieren, schwankungen, rassur\\u00e9\",\"<b>Topic 142</b><br>Words: certain, sentimentality, shall, absolutely, crushed\"],\"marker\":{\"color\":\"#009E73\"},\"name\":\"142_certain_absolutely_entweder_v\\u00f6llige\",\"orientation\":\"h\",\"visible\":\"legendonly\",\"x\":[20,2],\"y\":[0,1],\"type\":\"bar\"},{\"hoverinfo\":\"text\",\"hovertext\":[\"<b>Topic 143</b><br>Words: palestine, tschechoslowakei, zagreb, faschistischen, protektorat\"],\"marker\":{\"color\":\"#F0E442\"},\"name\":\"143_palestine_tschechoslowakei_zagreb_fa...\",\"orientation\":\"h\",\"visible\":\"legendonly\",\"x\":[22],\"y\":[0],\"type\":\"bar\"},{\"hoverinfo\":\"text\",\"hovertext\":[\"<b>Topic 144</b><br>Words: \\u00f6sterreichischer, toch, ebenda, vermont, komponist\",\"<b>Topic 144</b><br>Words: ebenda, modesch\\u00f6pferin, \\u00f6sterreichischer, 1988, kritiker\"],\"marker\":{\"color\":\"#D55E00\"},\"name\":\"144_\\u00f6sterreichischer_ebenda_toch_vermont\",\"orientation\":\"h\",\"visible\":\"legendonly\",\"x\":[18,4],\"y\":[0,1],\"type\":\"bar\"},{\"hoverinfo\":\"text\",\"hovertext\":[\"<b>Topic 145</b><br>Words: stefan, wolpe, composer, ignatz, german\",\"<b>Topic 145</b><br>Words: borsdorf, ottmar, 31, june, 1969\"],\"marker\":{\"color\":\"#0072B2\"},\"name\":\"145_borsdorf_june_composer_german\",\"orientation\":\"h\",\"visible\":\"legendonly\",\"x\":[14,8],\"y\":[0,1],\"type\":\"bar\"},{\"hoverinfo\":\"text\",\"hovertext\":[\"<b>Topic 146</b><br>Words: leonid, schnittke, golschmann, gubaidulina, vladislav\",\"<b>Topic 146</b><br>Words: moodie, knappertsbusch, prominenten, einsetzten, lingg\"],\"marker\":{\"color\":\"#CC79A7\"},\"name\":\"146_leonid_golschmann_vladislav_gubaidul...\",\"orientation\":\"h\",\"visible\":\"legendonly\",\"x\":[18,4],\"y\":[0,1],\"type\":\"bar\"},{\"hoverinfo\":\"text\",\"hovertext\":[\"<b>Topic 147</b><br>Words: pi\\u00e8ces, string, zwei, concertos, orchester\",\"<b>Topic 147</b><br>Words: orchester, soprano, solokonzerte, plagen, minor\"],\"marker\":{\"color\":\"#E69F00\"},\"name\":\"147_string_orchester_pi\\u00e8ces_zwei\",\"orientation\":\"h\",\"visible\":\"legendonly\",\"x\":[18,4],\"y\":[0,1],\"type\":\"bar\"},{\"hoverinfo\":\"text\",\"hovertext\":[\"<b>Topic 148</b><br>Words: secret, courage, 1942, 1956, white\",\"<b>Topic 148</b><br>Words: temptation, devil, 1956, 1959, game\"],\"marker\":{\"color\":\"#56B4E9\"},\"name\":\"148_secret_1956_courage_white\",\"orientation\":\"h\",\"visible\":\"legendonly\",\"x\":[18,4],\"y\":[0,1],\"type\":\"bar\"},{\"hoverinfo\":\"text\",\"hovertext\":[\"<b>Topic 149</b><br>Words: hollaender, 1976, hollander, leobsch\\u00fctz, 18\",\"<b>Topic 149</b><br>Words: h\\u00f6ffer, h\\u00f6ller, miesbach, bamberg, hausham\"],\"marker\":{\"color\":\"#009E73\"},\"name\":\"149_hollaender_h\\u00f6ffer_h\\u00f6ller_1976\",\"orientation\":\"h\",\"visible\":\"legendonly\",\"x\":[12,10],\"y\":[0,1],\"type\":\"bar\"},{\"hoverinfo\":\"text\",\"hovertext\":[\"<b>Topic 150</b><br>Words: 92nd, ymca, binder, maximilian, juif\",\"<b>Topic 150</b><br>Words: undeutsche, absagten, warf, haltung, lud\"],\"marker\":{\"color\":\"#F0E442\"},\"name\":\"150_92nd_ymca_binder_maximilian\",\"orientation\":\"h\",\"visible\":\"legendonly\",\"x\":[20,2],\"y\":[0,1],\"type\":\"bar\"},{\"hoverinfo\":\"text\",\"hovertext\":[\"<b>Topic 151</b><br>Words: downsized, erneuten, legal, intendanten, stoehr\",\"<b>Topic 151</b><br>Words: karte, 1948, hauptkammer, verlangte, nb\"],\"marker\":{\"color\":\"#D55E00\"},\"name\":\"151_karte_1948_nb_verlangte\",\"orientation\":\"h\",\"visible\":\"legendonly\",\"x\":[2,20],\"y\":[0,1],\"type\":\"bar\"},{\"hoverinfo\":\"text\",\"hovertext\":[\"<b>Topic 152</b><br>Words: leibowitz, maguire, kraus, ren\\u00e9, skovgaard\"],\"marker\":{\"color\":\"#0072B2\"},\"name\":\"152_leibowitz_maguire_kraus_ren\\u00e9\",\"orientation\":\"h\",\"visible\":\"legendonly\",\"x\":[22],\"y\":[0],\"type\":\"bar\"},{\"hoverinfo\":\"text\",\"hovertext\":[\"<b>Topic 153</b><br>Words: statt, solitude, 1954, fand, urauff\\u00fchrung\",\"<b>Topic 153</b><br>Words: solitude, boulevard, henze, 1952, werner\"],\"marker\":{\"color\":\"#CC79A7\"},\"name\":\"153_solitude_boulevard_henze_1952\",\"orientation\":\"h\",\"visible\":\"legendonly\",\"x\":[13,9],\"y\":[0,1],\"type\":\"bar\"},{\"hoverinfo\":\"text\",\"hovertext\":[\"<b>Topic 154</b><br>Words: reger, max, leipzig, thern, willi\",\"<b>Topic 154</b><br>Words: reger, baptist, 1873, max, philomena\"],\"marker\":{\"color\":\"#E69F00\"},\"name\":\"154_reger_max_baptist_leipzig\",\"orientation\":\"h\",\"visible\":\"legendonly\",\"x\":[10,12],\"y\":[0,1],\"type\":\"bar\"},{\"hoverinfo\":\"text\",\"hovertext\":[\"<b>Topic 155</b><br>Words: anschluss, \\u00f6sterreichs, 1938, austria, pogrom\"],\"marker\":{\"color\":\"#56B4E9\"},\"name\":\"155_anschluss_\\u00f6sterreichs_1938_austria\",\"orientation\":\"h\",\"visible\":\"legendonly\",\"x\":[22],\"y\":[0],\"type\":\"bar\"},{\"hoverinfo\":\"text\",\"hovertext\":[\"<b>Topic 156</b><br>Words: schreibweise, sendrey, name, namens, \\u00e4nderte\"],\"marker\":{\"color\":\"#009E73\"},\"name\":\"156_schreibweise_sendrey_name_namens\",\"orientation\":\"h\",\"visible\":\"legendonly\",\"x\":[22],\"y\":[0],\"type\":\"bar\"},{\"hoverinfo\":\"text\",\"hovertext\":[\"<b>Topic 157</b><br>Words: kempff, germaniques, l\\u00e9gende, backhaus, pianistes\",\"<b>Topic 157</b><br>Words: kempff, wilhelm, j\\u00fcterbog, potsdam, 1895\"],\"marker\":{\"color\":\"#F0E442\"},\"name\":\"157_kempff_wilhelm_j\\u00fcterbog_potsdam\",\"orientation\":\"h\",\"visible\":\"legendonly\",\"x\":[1,20],\"y\":[0,1],\"type\":\"bar\"},{\"hoverinfo\":\"text\",\"hovertext\":[\"<b>Topic 158</b><br>Words: marlene, auferstanden, becher, d\\u00e9mocratique, ruinen\",\"<b>Topic 158</b><br>Words: essener, stra\\u00dfenbaukompanien, corps, essen, trionfi\"],\"marker\":{\"color\":\"#D55E00\"},\"name\":\"158_paroles_marlene_becher_stra\\u00dfenbaukom...\",\"orientation\":\"h\",\"visible\":\"legendonly\",\"x\":[17,4],\"y\":[0,1],\"type\":\"bar\"},{\"hoverinfo\":\"text\",\"hovertext\":[\"<b>Topic 159</b><br>Words: leningrad, making, vocal, brno, aristocratique\",\"<b>Topic 159</b><br>Words: lisztiens, familier, cercles, initi\\u00e9, duquel\"],\"marker\":{\"color\":\"#0072B2\"},\"name\":\"159_leningrad_making_vocal_brno\",\"orientation\":\"h\",\"visible\":\"legendonly\",\"x\":[20,1],\"y\":[0,1],\"type\":\"bar\"},{\"hoverinfo\":\"text\",\"hovertext\":[\"<b>Topic 160</b><br>Words: zemlinsky, mahagonny, musikdirektor, neuen, theaters\"],\"marker\":{\"color\":\"#CC79A7\"},\"name\":\"160_zemlinsky_mahagonny_musikdirektor_ne...\",\"orientation\":\"h\",\"visible\":\"legendonly\",\"x\":[21],\"y\":[0],\"type\":\"bar\"},{\"hoverinfo\":\"text\",\"hovertext\":[\"<b>Topic 161</b><br>Words: jessel, szendrei, leon, 1871, 1884\"],\"marker\":{\"color\":\"#E69F00\"},\"name\":\"161_jessel_szendrei_leon_1871\",\"orientation\":\"h\",\"visible\":\"legendonly\",\"x\":[21],\"y\":[0],\"type\":\"bar\"},{\"hoverinfo\":\"text\",\"hovertext\":[\"<b>Topic 162</b><br>Words: kaiserstuhl, eichstetten, dessau, rabbiner, kaminski\"],\"marker\":{\"color\":\"#56B4E9\"},\"name\":\"162_kaiserstuhl_eichstetten_dessau_rabbi...\",\"orientation\":\"h\",\"visible\":\"legendonly\",\"x\":[21],\"y\":[0],\"type\":\"bar\"},{\"hoverinfo\":\"text\",\"hovertext\":[\"<b>Topic 163</b><br>Words: hochschule, staatlichen, bank, berlin, musikstudium\",\"<b>Topic 163</b><br>Words: hochschule, 1920, haentzschel, stern, bourses\"],\"marker\":{\"color\":\"#009E73\"},\"name\":\"163_hochschule_staatlichen_stern_berlin\",\"orientation\":\"h\",\"visible\":\"legendonly\",\"x\":[13,8],\"y\":[0,1],\"type\":\"bar\"},{\"hoverinfo\":\"text\",\"hovertext\":[\"<b>Topic 164</b><br>Words: bart\\u00f3k, folk, kod\\u00e1ly, ditta, elements\"],\"marker\":{\"color\":\"#F0E442\"},\"name\":\"164_bart\\u00f3k_folk_kod\\u00e1ly_ditta\",\"orientation\":\"h\",\"visible\":\"legendonly\",\"x\":[20],\"y\":[0],\"type\":\"bar\"},{\"hoverinfo\":\"text\",\"hovertext\":[\"<b>Topic 165</b><br>Words: autodidacte, versed, handsome, happiest, spannendste\",\"<b>Topic 165</b><br>Words: horseman, irascible, garrulous, outspoken, eccentric\"],\"marker\":{\"color\":\"#D55E00\"},\"name\":\"165_autodidacte_irascible_fruchtbarsten_...\",\"orientation\":\"h\",\"visible\":\"legendonly\",\"x\":[18,2],\"y\":[0,1],\"type\":\"bar\"},{\"hoverinfo\":\"text\",\"hovertext\":[\"<b>Topic 166</b><br>Words: 1933, benediktbeuern, opinions, \\u00e4mter, endete\",\"<b>Topic 166</b><br>Words: appell, schaffenden, trapp, appel, appeal\"],\"marker\":{\"color\":\"#0072B2\"},\"name\":\"166_appell_1933_benediktbeuern_opinions\",\"orientation\":\"h\",\"visible\":\"legendonly\",\"x\":[17,3],\"y\":[0,1],\"type\":\"bar\"},{\"hoverinfo\":\"text\",\"hovertext\":[\"<b>Topic 167</b><br>Words: klimt, berta, kukuck, dietrich, partnerin\",\"<b>Topic 167</b><br>Words: klimt, margarethe, weshalb, klenau, eheschlie\\u00dfung\"],\"marker\":{\"color\":\"#CC79A7\"},\"name\":\"167_klimt_margarethe_eheschlie\\u00dfung_klena...\",\"orientation\":\"h\",\"visible\":\"legendonly\",\"x\":[7,13],\"y\":[0,1],\"type\":\"bar\"},{\"hoverinfo\":\"text\",\"hovertext\":[\"<b>Topic 168</b><br>Words: philip, training, formal, orchestration, vorbildungsschule\",\"<b>Topic 168</b><br>Words: monroe, solopartien, schulchor, fabian, wittelsbacher\"],\"marker\":{\"color\":\"#E69F00\"},\"name\":\"168_philip_training_formal_klavier\",\"orientation\":\"h\",\"visible\":\"legendonly\",\"x\":[17,3],\"y\":[0,1],\"type\":\"bar\"},{\"hoverinfo\":\"text\",\"hovertext\":[\"<b>Topic 169</b><br>Words: kafka, brod, manuscrits, publication, suivent\"],\"marker\":{\"color\":\"#56B4E9\"},\"name\":\"169_kafka_brod_manuscrits_publication\",\"orientation\":\"h\",\"visible\":\"legendonly\",\"x\":[20],\"y\":[0],\"type\":\"bar\"},{\"hoverinfo\":\"text\",\"hovertext\":[\"<b>Topic 170</b><br>Words: kindertransport, gielens, anschluss, england, andre\",\"<b>Topic 170</b><br>Words: melbourne, enfui, allait, appris, godela\"],\"marker\":{\"color\":\"#009E73\"},\"name\":\"170_kindertransport_gielens_anschluss_en...\",\"orientation\":\"h\",\"visible\":\"legendonly\",\"x\":[16,4],\"y\":[0,1],\"type\":\"bar\"},{\"hoverinfo\":\"text\",\"hovertext\":[\"<b>Topic 171</b><br>Words: cemetery, forever, woodstock, interred, memorial\"],\"marker\":{\"color\":\"#F0E442\"},\"name\":\"171_cemetery_forever_woodstock_interred\",\"orientation\":\"h\",\"visible\":\"legendonly\",\"x\":[20],\"y\":[0],\"type\":\"bar\"},{\"hoverinfo\":\"text\",\"hovertext\":[\"<b>Topic 172</b><br>Words: eliot, norton, straube, \\u00e9glise, lectures\",\"<b>Topic 172</b><br>Words: straube, ramin, thomaskirche, thomanerchor, organiste\"],\"marker\":{\"color\":\"#D55E00\"},\"name\":\"172_straube_ramin_thomaskirche_thomanerc...\",\"orientation\":\"h\",\"visible\":\"legendonly\",\"x\":[3,17],\"y\":[0,1],\"type\":\"bar\"},{\"hoverinfo\":\"text\",\"hovertext\":[\"<b>Topic 173</b><br>Words: beethoven, gershwin, gegenstand, firmness, riesenerfolge\",\"<b>Topic 173</b><br>Words: callas, dato, raconta, assistait, conclut\"],\"marker\":{\"color\":\"#0072B2\"},\"name\":\"173_beethoven_gershwin_riesenerfolge_obs...\",\"orientation\":\"h\",\"visible\":\"legendonly\",\"x\":[17,2],\"y\":[0,1],\"type\":\"bar\"},{\"hoverinfo\":\"text\",\"hovertext\":[\"<b>Topic 174</b><br>Words: popularity, worldwide, achieved, stringent, prim\\u00e4r\",\"<b>Topic 174</b><br>Words: lehrverpflichtung, sorgfalt, sailing, hingabe, swimming\"],\"marker\":{\"color\":\"#CC79A7\"},\"name\":\"174_popularity_worldwide_achieved_li\\u00e9es\",\"orientation\":\"h\",\"visible\":\"legendonly\",\"x\":[14,5],\"y\":[0,1],\"type\":\"bar\"},{\"hoverinfo\":\"text\",\"hovertext\":[\"<b>Topic 175</b><br>Words: mozart, amadeus, wolfgang, flothuis, claudio\",\"<b>Topic 175</b><br>Words: m\\u00f6nchs, volksliedern, sammlungen, verdient, herausgeber\"],\"marker\":{\"color\":\"#E69F00\"},\"name\":\"175_mozart_amadeus_wolfgang_flothuis\",\"orientation\":\"h\",\"visible\":\"legendonly\",\"x\":[18,1],\"y\":[0,1],\"type\":\"bar\"},{\"hoverinfo\":\"text\",\"hovertext\":[\"<b>Topic 176</b><br>Words: strange, h\\u00e4tten, zeitgenossen, diktion, spott\",\"<b>Topic 176</b><br>Words: diktion, pseudonyms, gezwungenerma\\u00dfen, bemerkbare, anscheinend\"],\"marker\":{\"color\":\"#56B4E9\"},\"name\":\"176_diktion_strange_h\\u00e4tten_zeitgenossen\",\"orientation\":\"h\",\"visible\":\"legendonly\",\"x\":[15,4],\"y\":[0,1],\"type\":\"bar\"},{\"hoverinfo\":\"text\",\"hovertext\":[\"<b>Topic 177</b><br>Words: unconscious, adorno, husserl, concept, explode\"],\"marker\":{\"color\":\"#009E73\"},\"name\":\"177_unconscious_adorno_husserl_concept\",\"orientation\":\"h\",\"visible\":\"legendonly\",\"x\":[19],\"y\":[0],\"type\":\"bar\"},{\"hoverinfo\":\"text\",\"hovertext\":[\"<b>Topic 178</b><br>Words: kleinem, mill\\u00e9naire, s\\u00fc\\u00dfenm\\u00fchle, c\\u00e9l\\u00e9brer, bodensee\",\"<b>Topic 178</b><br>Words: lochham, industriellen, suburb, mainzer, einstigen\"],\"marker\":{\"color\":\"#F0E442\"},\"name\":\"178_mill\\u00e9naire_c\\u00e9l\\u00e9brer_s\\u00fc\\u00dfenm\\u00fchle_subur...\",\"orientation\":\"h\",\"visible\":\"legendonly\",\"x\":[13,6],\"y\":[0,1],\"type\":\"bar\"},{\"hoverinfo\":\"text\",\"hovertext\":[\"<b>Topic 179</b><br>Words: gaz, symptoms, ums, arriv\\u00e9e, \\u00e9chappe\",\"<b>Topic 179</b><br>Words: amnesia, aphasia, paralysis, caved, trench\"],\"marker\":{\"color\":\"#D55E00\"},\"name\":\"179_gaz_symptoms_ums_arriv\\u00e9e\",\"orientation\":\"h\",\"visible\":\"legendonly\",\"x\":[18,1],\"y\":[0,1],\"type\":\"bar\"},{\"hoverinfo\":\"text\",\"hovertext\":[\"<b>Topic 180</b><br>Words: ghetto, szpilman, wieliczka, koffler, varsovie\"],\"marker\":{\"color\":\"#0072B2\"},\"name\":\"180_ghetto_szpilman_wieliczka_koffler\",\"orientation\":\"h\",\"visible\":\"legendonly\",\"x\":[19],\"y\":[0],\"type\":\"bar\"},{\"hoverinfo\":\"text\",\"hovertext\":[\"<b>Topic 181</b><br>Words: inconnue, certainly, date, unknown, never\",\"<b>Topic 181</b><br>Words: looks, certainly, think, something, future\"],\"marker\":{\"color\":\"#CC79A7\"},\"name\":\"181_inconnue_certainly_never_date\",\"orientation\":\"h\",\"visible\":\"legendonly\",\"x\":[18,1],\"y\":[0,1],\"type\":\"bar\"},{\"hoverinfo\":\"text\",\"hovertext\":[\"<b>Topic 182</b><br>Words: kaufmann, siegfried, moritz, becker, br\\u00fcder\",\"<b>Topic 182</b><br>Words: hessenberg, kugler, emma, eduard, m\\u00fcller\"],\"marker\":{\"color\":\"#E69F00\"},\"name\":\"182_hessenberg_kugler_kaufmann_siegfried\",\"orientation\":\"h\",\"visible\":\"legendonly\",\"x\":[15,4],\"y\":[0,1],\"type\":\"bar\"},{\"hoverinfo\":\"text\",\"hovertext\":[\"<b>Topic 183</b><br>Words: d\\u00e9fense, mistinguett, vanished, \\u00e9puration, t\\u00e9moignera\",\"<b>Topic 183</b><br>Words: uk, kriegshandlungen, f\\u00fchrungsoffizieren, wehrmachtsangeh\\u00f6rigen, privates\"],\"marker\":{\"color\":\"#56B4E9\"},\"name\":\"183_d\\u00e9fense_uk_fremdenlegion_antia\\u00e9rienn...\",\"orientation\":\"h\",\"visible\":\"legendonly\",\"x\":[13,5],\"y\":[0,1],\"type\":\"bar\"},{\"hoverinfo\":\"text\",\"hovertext\":[\"<b>Topic 184</b><br>Words: army, served, armee, weltkrieg, world\"],\"marker\":{\"color\":\"#009E73\"},\"name\":\"184_army_served_armee_weltkrieg\",\"orientation\":\"h\",\"visible\":\"legendonly\",\"x\":[18],\"y\":[0],\"type\":\"bar\"},{\"hoverinfo\":\"text\",\"hovertext\":[\"<b>Topic 185</b><br>Words: communist, realismus, gebrauchsmusik, galten, sozialistischen\",\"<b>Topic 185</b><br>Words: pfitzner, gelobte, futuristengefahr, sozialistischer, rostand\"],\"marker\":{\"color\":\"#F0E442\"},\"name\":\"185_communist_realismus_galten_gebrauchs...\",\"orientation\":\"h\",\"visible\":\"legendonly\",\"x\":[13,5],\"y\":[0,1],\"type\":\"bar\"},{\"hoverinfo\":\"text\",\"hovertext\":[\"<b>Topic 186</b><br>Words: divertimento, sinfonia, theater, budapester, stadttheater\",\"<b>Topic 186</b><br>Words: figaro, statt, trautonium, folgt, brausenwerth\"],\"marker\":{\"color\":\"#D55E00\"},\"name\":\"186_statt_theater_stadttheater_sinfonia\",\"orientation\":\"h\",\"visible\":\"legendonly\",\"x\":[11,7],\"y\":[0,1],\"type\":\"bar\"},{\"hoverinfo\":\"text\",\"hovertext\":[\"<b>Topic 187</b><br>Words: rosenthal, friedman, paderewski, supported, classe\",\"<b>Topic 187</b><br>Words: haffner, entlasten, opportunisten, avis\\u00e9e, straub\"],\"marker\":{\"color\":\"#0072B2\"},\"name\":\"187_rosenthal_friedman_paderewski_suppor...\",\"orientation\":\"h\",\"visible\":\"legendonly\",\"x\":[16,2],\"y\":[0,1],\"type\":\"bar\"},{\"hoverinfo\":\"text\",\"hovertext\":[\"<b>Topic 188</b><br>Words: wohlhabenden, provence, kippenheim, milhaud, originaire\"],\"marker\":{\"color\":\"#CC79A7\"},\"name\":\"188_wohlhabenden_provence_kippenheim_mil...\",\"orientation\":\"h\",\"visible\":\"legendonly\",\"x\":[18],\"y\":[0],\"type\":\"bar\"},{\"hoverinfo\":\"text\",\"hovertext\":[\"<b>Topic 189</b><br>Words: adorno, gretel, f\\u00e9d\\u00e9rale, personality, benjamin\"],\"marker\":{\"color\":\"#E69F00\"},\"name\":\"189_adorno_gretel_f\\u00e9d\\u00e9rale_personality\",\"orientation\":\"h\",\"visible\":\"legendonly\",\"x\":[18],\"y\":[0],\"type\":\"bar\"},{\"hoverinfo\":\"text\",\"hovertext\":[\"<b>Topic 190</b><br>Words: nederlandse, amsterdam, 1921, lyceum, toonkunstenaars\",\"<b>Topic 190</b><br>Words: orgellehrer, gewandhausorganist, kirchenmusikalischen, konservatoriums, institut\"],\"marker\":{\"color\":\"#56B4E9\"},\"name\":\"190_nederlandse_amsterdam_1921_lyceum\",\"orientation\":\"h\",\"visible\":\"legendonly\",\"x\":[17,1],\"y\":[0,1],\"type\":\"bar\"},{\"hoverinfo\":\"text\",\"hovertext\":[\"<b>Topic 191</b><br>Words: leschetizky, theodor, \\u00e9tudier, 1902, ex\",\"<b>Topic 191</b><br>Words: godowsky, kaun, leopold, fortsetzte, hugo\"],\"marker\":{\"color\":\"#009E73\"},\"name\":\"191_leschetizky_theodor_godowsky_kaun\",\"orientation\":\"h\",\"visible\":\"legendonly\",\"x\":[16,2],\"y\":[0,1],\"type\":\"bar\"},{\"hoverinfo\":\"text\",\"hovertext\":[\"<b>Topic 192</b><br>Words: kaper, green, dolphin, ned, hi\"],\"marker\":{\"color\":\"#F0E442\"},\"name\":\"192_kaper_green_dolphin_ned\",\"orientation\":\"h\",\"visible\":\"legendonly\",\"x\":[18],\"y\":[0],\"type\":\"bar\"},{\"hoverinfo\":\"text\",\"hovertext\":[\"<b>Topic 193</b><br>Words: grenze, interniert, lagern, \\u00fcbergangsweise, sperren\",\"<b>Topic 193</b><br>Words: crimmitschau, bombenangriff, wohnhaus, zerst\\u00f6rt, d\\u00e9truite\"],\"marker\":{\"color\":\"#D55E00\"},\"name\":\"193_grenze_interniert_crimmitschau_bombe...\",\"orientation\":\"h\",\"visible\":\"legendonly\",\"x\":[11,7],\"y\":[0,1],\"type\":\"bar\"},{\"hoverinfo\":\"text\",\"hovertext\":[\"<b>Topic 194</b><br>Words: meisel, schlager, \\u00fcbernahm, illiard, eliza\",\"<b>Topic 194</b><br>Words: meisel, illiard, eliza, gmbh, rixdorf\"],\"marker\":{\"color\":\"#0072B2\"},\"name\":\"194_meisel_eliza_illiard_gmbh\",\"orientation\":\"h\",\"visible\":\"legendonly\",\"x\":[1,17],\"y\":[0,1],\"type\":\"bar\"},{\"hoverinfo\":\"text\",\"hovertext\":[\"<b>Topic 195</b><br>Words: dauber, dol, 27, dolfi, doli\"],\"marker\":{\"color\":\"#CC79A7\"},\"name\":\"195_dauber_dol_27_dolfi\",\"orientation\":\"h\",\"visible\":\"legendonly\",\"x\":[18],\"y\":[0],\"type\":\"bar\"},{\"hoverinfo\":\"text\",\"hovertext\":[\"<b>Topic 196</b><br>Words: ghetto, theresienstadt, camp, concentration, litzmannstadt\"],\"marker\":{\"color\":\"#E69F00\"},\"name\":\"196_ghetto_theresienstadt_camp_concentra...\",\"orientation\":\"h\",\"visible\":\"legendonly\",\"x\":[18],\"y\":[0],\"type\":\"bar\"},{\"hoverinfo\":\"text\",\"hovertext\":[\"<b>Topic 197</b><br>Words: korngold, korngolds, incorporated, album, popular\"],\"marker\":{\"color\":\"#56B4E9\"},\"name\":\"197_korngold_korngolds_incorporated_albu...\",\"orientation\":\"h\",\"visible\":\"legendonly\",\"x\":[18],\"y\":[0],\"type\":\"bar\"},{\"hoverinfo\":\"text\",\"hovertext\":[\"<b>Topic 198</b><br>Words: v\\u00edt\\u011bzslava, josef, hir\\u0161ler, \\u00e9letrajzi, kalisch\",\"<b>Topic 198</b><br>Words: richtig, ned, eduard, josef, joseph\"],\"marker\":{\"color\":\"#009E73\"},\"name\":\"198_v\\u00edt\\u011bzslava_josef_thaler_slawisiert\",\"orientation\":\"h\",\"visible\":\"legendonly\",\"x\":[15,2],\"y\":[0,1],\"type\":\"bar\"},{\"hoverinfo\":\"text\",\"hovertext\":[\"<b>Topic 199</b><br>Words: ullmann, martin\\u016f, community, tch\\u00e9coslovaque, viktor\"],\"marker\":{\"color\":\"#F0E442\"},\"name\":\"199_ullmann_martin\\u016f_tch\\u00e9coslovaque_commu...\",\"orientation\":\"h\",\"visible\":\"legendonly\",\"x\":[17],\"y\":[0],\"type\":\"bar\"},{\"hoverinfo\":\"text\",\"hovertext\":[\"<b>Topic 200</b><br>Words: psalm, psaume, 130, erneuerung, soli\",\"<b>Topic 200</b><br>Words: psalm, 350th, soli, 106, 100th\"],\"marker\":{\"color\":\"#D55E00\"},\"name\":\"200_psalm_psaume_130_soli\",\"orientation\":\"h\",\"visible\":\"legendonly\",\"x\":[14,3],\"y\":[0,1],\"type\":\"bar\"},{\"hoverinfo\":\"text\",\"hovertext\":[\"<b>Topic 201</b><br>Words: happened, r\\u00fcckkehr, widerspr\\u00fcchliche, happen, mon\\u00e9gasque\",\"<b>Topic 201</b><br>Words: otherwise, happened, r\\u00fcckkehr, widerspr\\u00fcchliche, rettende\"],\"marker\":{\"color\":\"#0072B2\"},\"name\":\"201_happened_r\\u00fcckkehr_widerspr\\u00fcchliche_p...\",\"orientation\":\"h\",\"visible\":\"legendonly\",\"x\":[16,1],\"y\":[0,1],\"type\":\"bar\"},{\"hoverinfo\":\"text\",\"hovertext\":[\"<b>Topic 202</b><br>Words: hollaender, moog, uncle, stern, h\\u00f6ller\",\"<b>Topic 202</b><br>Words: h\\u00f6ller, h\\u00f6llers, valentin, bamberg, 1838\"],\"marker\":{\"color\":\"#CC79A7\"},\"name\":\"202_h\\u00f6ller_hollaender_h\\u00f6llers_valentin\",\"orientation\":\"h\",\"visible\":\"legendonly\",\"x\":[7,10],\"y\":[0,1],\"type\":\"bar\"},{\"hoverinfo\":\"text\",\"hovertext\":[\"<b>Topic 203</b><br>Words: trat, pianist, stellte, flothuis, organisatorin\",\"<b>Topic 203</b><br>Words: musikmeister, remarqu\\u00e9es, officers, noticed, pianistic\"],\"marker\":{\"color\":\"#E69F00\"},\"name\":\"203_musikmeister_trat_pianist_accompanis...\",\"orientation\":\"h\",\"visible\":\"legendonly\",\"x\":[14,3],\"y\":[0,1],\"type\":\"bar\"},{\"hoverinfo\":\"text\",\"hovertext\":[\"<b>Topic 204</b><br>Words: jurmann, kaper, kossuth, bronis\\u0142aw, kokoschka\"],\"marker\":{\"color\":\"#56B4E9\"},\"name\":\"204_jurmann_kaper_kossuth_bronis\\u0142aw\",\"orientation\":\"h\",\"visible\":\"legendonly\",\"x\":[17],\"y\":[0],\"type\":\"bar\"},{\"hoverinfo\":\"text\",\"hovertext\":[\"<b>Topic 205</b><br>Words: tuberculosis, tuberkulose, tuberculose, erkrankung, sanatorium\"],\"marker\":{\"color\":\"#009E73\"},\"name\":\"205_tuberculosis_tuberkulose_tuberculose...\",\"orientation\":\"h\",\"visible\":\"legendonly\",\"x\":[17],\"y\":[0],\"type\":\"bar\"},{\"hoverinfo\":\"text\",\"hovertext\":[\"<b>Topic 206</b><br>Words: van, gilse, delden, lex, rotterdam\"],\"marker\":{\"color\":\"#F0E442\"},\"name\":\"206_van_gilse_lex_delden\",\"orientation\":\"h\",\"visible\":\"legendonly\",\"x\":[17],\"y\":[0],\"type\":\"bar\"},{\"hoverinfo\":\"text\",\"hovertext\":[\"<b>Topic 207</b><br>Words: martin\\u016f, declined, refused, live, reluctant\",\"<b>Topic 207</b><br>Words: stufte, dm, s\\u00fchnezahlung, verfahrenskosten, \\u00fcbernahme\"],\"marker\":{\"color\":\"#D55E00\"},\"name\":\"207_martin\\u016f_declined_refused_live\",\"orientation\":\"h\",\"visible\":\"legendonly\",\"x\":[16,1],\"y\":[0,1],\"type\":\"bar\"},{\"hoverinfo\":\"text\",\"hovertext\":[\"<b>Topic 208</b><br>Words: ressentiment, todesursache, weiberhelden, wechselseitige, antipathie\",\"<b>Topic 208</b><br>Words: acrimony, derart, st\\u00e4ndige, s\\u00fcndenbock, hickhack\"],\"marker\":{\"color\":\"#0072B2\"},\"name\":\"208_acrimony_ressentiment_comportement_z...\",\"orientation\":\"h\",\"visible\":\"legendonly\",\"x\":[11,6],\"y\":[0,1],\"type\":\"bar\"},{\"hoverinfo\":\"text\",\"hovertext\":[\"<b>Topic 209</b><br>Words: weissmann, parlophon, vancouver, montreal, odeon\",\"<b>Topic 209</b><br>Words: biographen, 110, zeitzeugen, geburtstages, gespr\\u00e4chen\"],\"marker\":{\"color\":\"#CC79A7\"},\"name\":\"209_weissmann_parlophon_vancouver_odeon\",\"orientation\":\"h\",\"visible\":\"legendonly\",\"x\":[16,1],\"y\":[0,1],\"type\":\"bar\"},{\"hoverinfo\":\"text\",\"hovertext\":[\"<b>Topic 210</b><br>Words: alien, isle, enemy, camp, douglas\",\"<b>Topic 210</b><br>Words: kinzl, linksblock, fraktion, gefangen, gemeinderat\"],\"marker\":{\"color\":\"#E69F00\"},\"name\":\"210_alien_isle_enemy_camp\",\"orientation\":\"h\",\"visible\":\"legendonly\",\"x\":[13,4],\"y\":[0,1],\"type\":\"bar\"},{\"hoverinfo\":\"text\",\"hovertext\":[\"<b>Topic 211</b><br>Words: kreisler, reizenstein, kohn, georg, reches\",\"<b>Topic 211</b><br>Words: koessler, cousin, hans, kreisler, reizenstein\"],\"marker\":{\"color\":\"#56B4E9\"},\"name\":\"211_kreisler_reizenstein_kohn_georg\",\"orientation\":\"h\",\"visible\":\"legendonly\",\"x\":[16,1],\"y\":[0,1],\"type\":\"bar\"},{\"hoverinfo\":\"text\",\"hovertext\":[\"<b>Topic 212</b><br>Words: debussy, claude, ravel, dehmel, roussel\",\"<b>Topic 212</b><br>Words: debussy, claude, proponent, auftritten, interpreter\"],\"marker\":{\"color\":\"#009E73\"},\"name\":\"212_debussy_claude_ravel_dehmel\",\"orientation\":\"h\",\"visible\":\"legendonly\",\"x\":[15,2],\"y\":[0,1],\"type\":\"bar\"},{\"hoverinfo\":\"text\",\"hovertext\":[\"<b>Topic 213</b><br>Words: zuzurechnen, kontrapunktisches, westseite, verst\\u00e4rktes, janusz\",\"<b>Topic 213</b><br>Words: honegger, jeunesse, zuzurechnen, kontrapunktisches, verst\\u00e4rktes\"],\"marker\":{\"color\":\"#F0E442\"},\"name\":\"213_jeunesse_infante_allenfalls_adolesce...\",\"orientation\":\"h\",\"visible\":\"legendonly\",\"x\":[16,1],\"y\":[0,1],\"type\":\"bar\"},{\"hoverinfo\":\"text\",\"hovertext\":[\"<b>Topic 214</b><br>Words: app\\u00e2t, criminel, obs\\u00e8ques, fri\\u00e4den, nikolausbellerbok\",\"<b>Topic 214</b><br>Words: figaro, veni, enchant\\u00e9, enchant\\u00e9e, fl\\u00fbte\"],\"marker\":{\"color\":\"#D55E00\"},\"name\":\"214_figaro_app\\u00e2t_naked_veni\",\"orientation\":\"h\",\"visible\":\"legendonly\",\"x\":[11,6],\"y\":[0,1],\"type\":\"bar\"},{\"hoverinfo\":\"text\",\"hovertext\":[\"<b>Topic 215</b><br>Words: j\\u00fcngere, schwestern, \\u00e4lteren, enfants, fr\\u00e8re\",\"<b>Topic 215</b><br>Words: angelika, siblings, drittes, emma, starb\"],\"marker\":{\"color\":\"#0072B2\"},\"name\":\"215_j\\u00fcngere_schwestern_\\u00e4lteren_enfants\",\"orientation\":\"h\",\"visible\":\"legendonly\",\"x\":[14,3],\"y\":[0,1],\"type\":\"bar\"},{\"hoverinfo\":\"text\",\"hovertext\":[\"<b>Topic 216</b><br>Words: \\u00fcbergangs, schuloper, kleinsten, vi, facetten\"],\"marker\":{\"color\":\"#CC79A7\"},\"name\":\"216_\\u00fcbergangs_schuloper_rabin_kleinsten\",\"orientation\":\"h\",\"visible\":\"legendonly\",\"x\":[17],\"y\":[0],\"type\":\"bar\"},{\"hoverinfo\":\"text\",\"hovertext\":[\"<b>Topic 217</b><br>Words: kapellmeister, 1924, m\\u00fcnster, k\\u00f6nigsberg, erster\",\"<b>Topic 217</b><br>Words: k\\u00f6nigsberg, kapellmeister, krasselt, 1924, zweiter\"],\"marker\":{\"color\":\"#E69F00\"},\"name\":\"217_kapellmeister_k\\u00f6nigsberg_1924_m\\u00fcnste...\",\"orientation\":\"h\",\"visible\":\"legendonly\",\"x\":[11,6],\"y\":[0,1],\"type\":\"bar\"},{\"hoverinfo\":\"text\",\"hovertext\":[\"<b>Topic 218</b><br>Words: divorce, divorced, couple, geschieden, ended\",\"<b>Topic 218</b><br>Words: geschieden, divorced, zerbrach, paars, trennung\"],\"marker\":{\"color\":\"#56B4E9\"},\"name\":\"218_divorce_divorced_geschieden_couple\",\"orientation\":\"h\",\"visible\":\"legendonly\",\"x\":[12,4],\"y\":[0,1],\"type\":\"bar\"},{\"hoverinfo\":\"text\",\"hovertext\":[\"<b>Topic 219</b><br>Words: deutscher, leh\\u00e1r, operetten\\u00e4ra, komponist, benatzky\"],\"marker\":{\"color\":\"#009E73\"},\"name\":\"219_deutscher_leh\\u00e1r_operetten\\u00e4ra_komponi...\",\"orientation\":\"h\",\"visible\":\"legendonly\",\"x\":[16],\"y\":[0],\"type\":\"bar\"},{\"hoverinfo\":\"text\",\"hovertext\":[\"<b>Topic 220</b><br>Words: szell, cleveland, orchestra, session, providing\"],\"marker\":{\"color\":\"#F0E442\"},\"name\":\"220_szell_cleveland_orchestra_session\",\"orientation\":\"h\",\"visible\":\"legendonly\",\"x\":[16],\"y\":[0],\"type\":\"bar\"},{\"hoverinfo\":\"text\",\"hovertext\":[\"<b>Topic 221</b><br>Words: sais, postmeisterin, del\\u00e0, bub, feiern\",\"<b>Topic 221</b><br>Words: unterhaltungssendung, ferne, geliebte, sais, postmeisterin\"],\"marker\":{\"color\":\"#D55E00\"},\"name\":\"221_sais_unterhaltungssendung_postmeiste...\",\"orientation\":\"h\",\"visible\":\"legendonly\",\"x\":[13,3],\"y\":[0,1],\"type\":\"bar\"},{\"hoverinfo\":\"text\",\"hovertext\":[\"<b>Topic 222</b><br>Words: steuermann, zygmunt, edward, stekel, gielen\"],\"marker\":{\"color\":\"#0072B2\"},\"name\":\"222_steuermann_zygmunt_edward_stekel\",\"orientation\":\"h\",\"visible\":\"legendonly\",\"x\":[16],\"y\":[0],\"type\":\"bar\"},{\"hoverinfo\":\"text\",\"hovertext\":[\"<b>Topic 223</b><br>Words: dadaistischer, schottischer, paradebeispiel, kunstnegation, dit\",\"<b>Topic 223</b><br>Words: plexiglas, holzbl\\u00e4seroktett, schuhabs\\u00e4tze, nutzung, fischleder\"],\"marker\":{\"color\":\"#CC79A7\"},\"name\":\"223_holzbl\\u00e4seroktett_schuhabs\\u00e4tze_nutzun...\",\"orientation\":\"h\",\"visible\":\"legendonly\",\"x\":[13,3],\"y\":[0,1],\"type\":\"bar\"},{\"hoverinfo\":\"text\",\"hovertext\":[\"<b>Topic 224</b><br>Words: protection, kehrte, prek\\u00e4rer, kammervirtuoso, districts\",\"<b>Topic 224</b><br>Words: aufbauen, sp\\u00e4tsommer, ferienhaus, kehrte, mode\"],\"marker\":{\"color\":\"#E69F00\"},\"name\":\"224_kehrte_protection_zur\\u00fcck_install\\u00e9e\",\"orientation\":\"h\",\"visible\":\"legendonly\",\"x\":[14,2],\"y\":[0,1],\"type\":\"bar\"},{\"hoverinfo\":\"text\",\"hovertext\":[\"<b>Topic 225</b><br>Words: jenkins, kater, rose, white, orff\"],\"marker\":{\"color\":\"#56B4E9\"},\"name\":\"225_jenkins_kater_rose_white\",\"orientation\":\"h\",\"visible\":\"legendonly\",\"x\":[16],\"y\":[1],\"type\":\"bar\"},{\"hoverinfo\":\"text\",\"hovertext\":[\"<b>Topic 226</b><br>Words: sendeverbot, bauen, herauskam, metropoltheater, kreidekreis\",\"<b>Topic 226</b><br>Words: olympischen, 1936, olympische, olympischer, reigen\"],\"marker\":{\"color\":\"#009E73\"},\"name\":\"226_olympischen_1936_olympic_spiele\",\"orientation\":\"h\",\"visible\":\"legendonly\",\"x\":[4,12],\"y\":[0,1],\"type\":\"bar\"},{\"hoverinfo\":\"text\",\"hovertext\":[\"<b>Topic 227</b><br>Words: brahms, wagner, enthusiastic, meiste, cinquantaine\",\"<b>Topic 227</b><br>Words: brahms, schumann, adoration, sturmlied, strengths\"],\"marker\":{\"color\":\"#F0E442\"},\"name\":\"227_brahms_wagner_schumann_johannes\",\"orientation\":\"h\",\"visible\":\"legendonly\",\"x\":[10,6],\"y\":[0,1],\"type\":\"bar\"},{\"hoverinfo\":\"text\",\"hovertext\":[\"<b>Topic 228</b><br>Words: reinhardt, max, rauch, schall, kabarett\",\"<b>Topic 228</b><br>Words: reinhardt, musiksachverst\\u00e4ndiger, ligue, militante, gesinnten\"],\"marker\":{\"color\":\"#D55E00\"},\"name\":\"228_reinhardt_max_rauch_schall\",\"orientation\":\"h\",\"visible\":\"legendonly\",\"x\":[14,2],\"y\":[0,1],\"type\":\"bar\"},{\"hoverinfo\":\"text\",\"hovertext\":[\"<b>Topic 229</b><br>Words: brubeck, olaf, ingemar, wibergh, liljefors\",\"<b>Topic 229</b><br>Words: barth, kahn, math\\u00e9matiques, insuffisances, aupr\\u00e8s\"],\"marker\":{\"color\":\"#0072B2\"},\"name\":\"229_barth_brubeck_olaf_wibergh\",\"orientation\":\"h\",\"visible\":\"legendonly\",\"x\":[12,4],\"y\":[0,1],\"type\":\"bar\"},{\"hoverinfo\":\"text\",\"hovertext\":[\"<b>Topic 230</b><br>Words: lebenslange, freundschaft, entwickelte, verliebten, temperamentvollen\",\"<b>Topic 230</b><br>Words: parfois, reconciled, probl\\u00e9matique, strained, lehrndorfer\"],\"marker\":{\"color\":\"#CC79A7\"},\"name\":\"230_lebenslange_open_parfois_freundschaf...\",\"orientation\":\"h\",\"visible\":\"legendonly\",\"x\":[12,4],\"y\":[0,1],\"type\":\"bar\"},{\"hoverinfo\":\"text\",\"hovertext\":[\"<b>Topic 231</b><br>Words: emigrate, exil, \\u00fcbrig, seilbahn, unoccupied\",\"<b>Topic 231</b><br>Words: emigrantenkreisen, entgegenschlug, entt\\u00e4uschung, ablehnung, vermutet\"],\"marker\":{\"color\":\"#E69F00\"},\"name\":\"231_emigrate_exil_3000_gandeggh\\u00fctte\",\"orientation\":\"h\",\"visible\":\"legendonly\",\"x\":[15,1],\"y\":[0,1],\"type\":\"bar\"},{\"hoverinfo\":\"text\",\"hovertext\":[\"<b>Topic 232</b><br>Words: arm\\u00e1ndola, blon, lincke, roland, jos\\u00e9\",\"<b>Topic 232</b><br>Words: erdmann, zeitgen\\u00f6ssische, sala, vehement, encompassed\"],\"marker\":{\"color\":\"#56B4E9\"},\"name\":\"232_erdmann_blon_arm\\u00e1ndola_lincke\",\"orientation\":\"h\",\"visible\":\"legendonly\",\"x\":[8,7],\"y\":[0,1],\"type\":\"bar\"},{\"hoverinfo\":\"text\",\"hovertext\":[\"<b>Topic 233</b><br>Words: brecht, bertolt, 55, best, 1956\",\"<b>Topic 233</b><br>Words: profound, brecht, bertolt, know, influence\"],\"marker\":{\"color\":\"#009E73\"},\"name\":\"233_brecht_bertolt_55_profound\",\"orientation\":\"h\",\"visible\":\"legendonly\",\"x\":[14,1],\"y\":[0,1],\"type\":\"bar\"},{\"hoverinfo\":\"text\",\"hovertext\":[\"<b>Topic 234</b><br>Words: budapest, herzfeld, musikakademie, royale, liszt\"],\"marker\":{\"color\":\"#F0E442\"},\"name\":\"234_budapest_herzfeld_musikakademie_roya...\",\"orientation\":\"h\",\"visible\":\"legendonly\",\"x\":[15],\"y\":[0],\"type\":\"bar\"},{\"hoverinfo\":\"text\",\"hovertext\":[\"<b>Topic 235</b><br>Words: wonder, films, jolson, lubitsch, ufa\",\"<b>Topic 235</b><br>Words: silent, fruition, zur\\u00fcckgekehrten, eggerth, marta\"],\"marker\":{\"color\":\"#D55E00\"},\"name\":\"235_wonder_films_jolson_lubitsch\",\"orientation\":\"h\",\"visible\":\"legendonly\",\"x\":[13,2],\"y\":[0,1],\"type\":\"bar\"},{\"hoverinfo\":\"text\",\"hovertext\":[\"<b>Topic 236</b><br>Words: marx, joseph, \\u00fcberspringen, konzertverein, klavierduos\",\"<b>Topic 236</b><br>Words: marx, h\\u00fcsch, pianists, joseph, show\"],\"marker\":{\"color\":\"#0072B2\"},\"name\":\"236_marx_h\\u00fcsch_joseph_pianists\",\"orientation\":\"h\",\"visible\":\"legendonly\",\"x\":[5,10],\"y\":[0,1],\"type\":\"bar\"},{\"hoverinfo\":\"text\",\"hovertext\":[\"<b>Topic 237</b><br>Words: aron, championship, formula, prema, racing\"],\"marker\":{\"color\":\"#CC79A7\"},\"name\":\"237_aron_championship_prema_formula\",\"orientation\":\"h\",\"visible\":\"legendonly\",\"x\":[15],\"y\":[0],\"type\":\"bar\"},{\"hoverinfo\":\"text\",\"hovertext\":[\"<b>Topic 238</b><br>Words: york, new, medical, endowment, moods\"],\"marker\":{\"color\":\"#E69F00\"},\"name\":\"238_york_new_medical_endowment\",\"orientation\":\"h\",\"visible\":\"legendonly\",\"x\":[15],\"y\":[0],\"type\":\"bar\"},{\"hoverinfo\":\"text\",\"hovertext\":[\"<b>Topic 239</b><br>Words: california, angeles, los, southern, westlake\"],\"marker\":{\"color\":\"#56B4E9\"},\"name\":\"239_california_angeles_los_southern\",\"orientation\":\"h\",\"visible\":\"legendonly\",\"x\":[15],\"y\":[0],\"type\":\"bar\"},{\"hoverinfo\":\"text\",\"hovertext\":[\"<b>Topic 240</b><br>Words: serkin, eger, rudolf, mardko, serkins\"],\"marker\":{\"color\":\"#009E73\"},\"name\":\"240_serkin_eger_rudolf_serkins\",\"orientation\":\"h\",\"visible\":\"legendonly\",\"x\":[15],\"y\":[0],\"type\":\"bar\"},{\"hoverinfo\":\"text\",\"hovertext\":[\"<b>Topic 241</b><br>Words: bricht, kaufmann, architekten, gro\\u00dfv\\u00e4ter, oesterreichischen\",\"<b>Topic 241</b><br>Words: mayer, gro\\u00dfvater, architekten, frommel, meyer\"],\"marker\":{\"color\":\"#F0E442\"},\"name\":\"241_mayer_architekten_bricht_kaufmann\",\"orientation\":\"h\",\"visible\":\"legendonly\",\"x\":[6,9],\"y\":[0,1],\"type\":\"bar\"},{\"hoverinfo\":\"text\",\"hovertext\":[\"<b>Topic 242</b><br>Words: grosz, bernard, grun, gr\\u00fcn, gronemann\",\"<b>Topic 242</b><br>Words: grothe, 1908, 17, september, franz\"],\"marker\":{\"color\":\"#D55E00\"},\"name\":\"242_grosz_bernard_gr\\u00fcn_grun\",\"orientation\":\"h\",\"visible\":\"legendonly\",\"x\":[14,1],\"y\":[0,1],\"type\":\"bar\"},{\"hoverinfo\":\"text\",\"hovertext\":[\"<b>Topic 243</b><br>Words: eichendorff, wibbelt, gedicht, augustin, gedichte\",\"<b>Topic 243</b><br>Words: eichendorff, gedichten, hesse, interpretierte, automnales\"],\"marker\":{\"color\":\"#0072B2\"},\"name\":\"243_eichendorff_wibbelt_gedicht_augustin\",\"orientation\":\"h\",\"visible\":\"legendonly\",\"x\":[8,7],\"y\":[0,1],\"type\":\"bar\"},{\"hoverinfo\":\"text\",\"hovertext\":[\"<b>Topic 244</b><br>Words: verboten, 1933, durfte, arriv\\u00e9e, emp\\u00eache\"],\"marker\":{\"color\":\"#CC79A7\"},\"name\":\"244_verboten_1933_durfte_arriv\\u00e9e\",\"orientation\":\"h\",\"visible\":\"legendonly\",\"x\":[15],\"y\":[0],\"type\":\"bar\"},{\"hoverinfo\":\"text\",\"hovertext\":[\"<b>Topic 245</b><br>Words: yale, hamline, cornell, minnesota, university\"],\"marker\":{\"color\":\"#E69F00\"},\"name\":\"245_yale_hamline_cornell_minnesota\",\"orientation\":\"h\",\"visible\":\"legendonly\",\"x\":[15],\"y\":[0],\"type\":\"bar\"},{\"hoverinfo\":\"text\",\"hovertext\":[\"<b>Topic 246</b><br>Words: t\\u00f6lz, bad, toch, commander, camp\",\"<b>Topic 246</b><br>Words: enorm, regers, steigerte, hause, t\\u00e4tigkeit\"],\"marker\":{\"color\":\"#56B4E9\"},\"name\":\"246_t\\u00f6lz_bad_toch_commander\",\"orientation\":\"h\",\"visible\":\"legendonly\",\"x\":[14,1],\"y\":[0,1],\"type\":\"bar\"},{\"hoverinfo\":\"text\",\"hovertext\":[\"<b>Topic 247</b><br>Words: hindemith, trautwein, paul, studio, rundfunk\",\"<b>Topic 247</b><br>Words: spitta, hindemith, biograph, theologenfamilie, theologe\"],\"marker\":{\"color\":\"#009E73\"},\"name\":\"247_hindemith_trautwein_spitta_paul\",\"orientation\":\"h\",\"visible\":\"legendonly\",\"x\":[10,5],\"y\":[0,1],\"type\":\"bar\"},{\"hoverinfo\":\"text\",\"hovertext\":[\"<b>Topic 248</b><br>Words: curtis, indiana, philadelphia, institute, unterrichtete\",\"<b>Topic 248</b><br>Words: indiana, bloomington, 1977, 1981, h\\u00fcsch\"],\"marker\":{\"color\":\"#F0E442\"},\"name\":\"248_curtis_indiana_philadelphia_institut...\",\"orientation\":\"h\",\"visible\":\"legendonly\",\"x\":[13,1],\"y\":[0,1],\"type\":\"bar\"},{\"hoverinfo\":\"text\",\"hovertext\":[\"<b>Topic 249</b><br>Words: jew, declared, volljuden, swear, scheinhinrichtung\",\"<b>Topic 249</b><br>Words: essentiellement, consacre, nazie, enseignement, p\\u00e9riode\"],\"marker\":{\"color\":\"#D55E00\"},\"name\":\"249_jew_declared_rassischer_unterzogen\",\"orientation\":\"h\",\"visible\":\"legendonly\",\"x\":[13,1],\"y\":[0,1],\"type\":\"bar\"},{\"hoverinfo\":\"text\",\"hovertext\":[\"<b>Topic 250</b><br>Words: praised, instrumentation, schupfte, kreativit\\u00e4t, sp\\u00fcrte\",\"<b>Topic 250</b><br>Words: sensitive, musicianship, beautiful, excellent, domgraf\"],\"marker\":{\"color\":\"#0072B2\"},\"name\":\"250_praised_instrumentation_boundless_kr...\",\"orientation\":\"h\",\"visible\":\"legendonly\",\"x\":[13,1],\"y\":[0,1],\"type\":\"bar\"},{\"hoverinfo\":\"text\",\"hovertext\":[\"<b>Topic 251</b><br>Words: claudel, rencontres, auric, eminent, po\\u00e8te\",\"<b>Topic 251</b><br>Words: l\\u00f6ns, ringelnatz, morgenstern, lothar, christian\"],\"marker\":{\"color\":\"#CC79A7\"},\"name\":\"251_claudel_l\\u00f6ns_rencontres_auric\",\"orientation\":\"h\",\"visible\":\"legendonly\",\"x\":[11,3],\"y\":[0,1],\"type\":\"bar\"},{\"hoverinfo\":\"text\",\"hovertext\":[\"<b>Topic 252</b><br>Words: jadassohn, salomon, ma\\u00eetre, weiner, \\u00e9veille\"],\"marker\":{\"color\":\"#E69F00\"},\"name\":\"252_jadassohn_salomon_ma\\u00eetre_weiner\",\"orientation\":\"h\",\"visible\":\"legendonly\",\"x\":[14],\"y\":[0],\"type\":\"bar\"},{\"hoverinfo\":\"text\",\"hovertext\":[\"<b>Topic 253</b><br>Words: bronner, qualtinger, gerhard, travnicek, kreisler\"],\"marker\":{\"color\":\"#56B4E9\"},\"name\":\"253_bronner_qualtinger_gerhard_travnicek\",\"orientation\":\"h\",\"visible\":\"legendonly\",\"x\":[14],\"y\":[0],\"type\":\"bar\"},{\"hoverinfo\":\"text\",\"hovertext\":[\"<b>Topic 254</b><br>Words: 1928, op\\u00e9ra, succ\\u00e8s, jouissent, gotthard\",\"<b>Topic 254</b><br>Words: tyll, opernerfolg, errang, conna\\u00eet, 1928\"],\"marker\":{\"color\":\"#009E73\"},\"name\":\"254_1928_tyll_op\\u00e9ra_succ\\u00e8s\",\"orientation\":\"h\",\"visible\":\"legendonly\",\"x\":[12,2],\"y\":[0,1],\"type\":\"bar\"},{\"hoverinfo\":\"text\",\"hovertext\":[\"<b>Topic 255</b><br>Words: 36, lyrics, livret, komponierte, albert\",\"<b>Topic 255</b><br>Words: romantische, chorfantasie, auftragswerk, shakespeares, b\\u00fchnenmusik\"],\"marker\":{\"color\":\"#F0E442\"},\"name\":\"255_komponierte_36_lyrics_livret\",\"orientation\":\"h\",\"visible\":\"legendonly\",\"x\":[11,3],\"y\":[0,1],\"type\":\"bar\"},{\"hoverinfo\":\"text\",\"hovertext\":[\"<b>Topic 256</b><br>Words: schwarzwaldm\\u00e4del, durchbruch, wolfsohns, milliardensouper, film\\u00e9e\",\"<b>Topic 256</b><br>Words: hiker, skiing, attain, climber, skill\"],\"marker\":{\"color\":\"#D55E00\"},\"name\":\"256_schwarzwaldm\\u00e4del_durchbruch_climber_...\",\"orientation\":\"h\",\"visible\":\"legendonly\",\"x\":[12,2],\"y\":[0,1],\"type\":\"bar\"},{\"hoverinfo\":\"text\",\"hovertext\":[\"<b>Topic 257</b><br>Words: seventh, alpine, recording, \\u00fcberbrettl, revues\",\"<b>Topic 257</b><br>Words: bamberger, bruckner, philharmonikern, deb\\u00fct, seventh\"],\"marker\":{\"color\":\"#0072B2\"},\"name\":\"257_bruckner_philharmonikern_seventh_bam...\",\"orientation\":\"h\",\"visible\":\"legendonly\",\"x\":[4,10],\"y\":[0,1],\"type\":\"bar\"},{\"hoverinfo\":\"text\",\"hovertext\":[\"<b>Topic 258</b><br>Words: fall, lukov, avril, gewitsch, szombathely\",\"<b>Topic 258</b><br>Words: ackermann, gefallen, 2013, geborene, deren\"],\"marker\":{\"color\":\"#CC79A7\"},\"name\":\"258_fall_lukov_avril_gewitsch\",\"orientation\":\"h\",\"visible\":\"legendonly\",\"x\":[13,1],\"y\":[0,1],\"type\":\"bar\"},{\"hoverinfo\":\"text\",\"hovertext\":[\"<b>Topic 259</b><br>Words: palestine, uven, pal\\u00e4stina, emigrierte, sioniste\"],\"marker\":{\"color\":\"#E69F00\"},\"name\":\"259_palestine_uven_pal\\u00e4stina_emigrierte\",\"orientation\":\"h\",\"visible\":\"legendonly\",\"x\":[14],\"y\":[0],\"type\":\"bar\"},{\"hoverinfo\":\"text\",\"hovertext\":[\"<b>Topic 260</b><br>Words: st\\u00e4rke, vergr\\u00f6\\u00dferte, g\\u00e4ngigen, grammophonfabrikant, hendl\",\"<b>Topic 260</b><br>Words: unterhaltungskapelle, consid\\u00e9rable, sergiu, celibidache, liedbegleiter\"],\"marker\":{\"color\":\"#56B4E9\"},\"name\":\"260_st\\u00e4rke_managerin_tanzband_causera\",\"orientation\":\"h\",\"visible\":\"legendonly\",\"x\":[11,3],\"y\":[0,1],\"type\":\"bar\"},{\"hoverinfo\":\"text\",\"hovertext\":[\"<b>Topic 261</b><br>Words: training, color, rhythmic, sketches, constamment\",\"<b>Topic 261</b><br>Words: d\\u00e9sireux, associer, gru\\u00df, exactly, loved\"],\"marker\":{\"color\":\"#009E73\"},\"name\":\"261_training_color_rhythmic_sketches\",\"orientation\":\"h\",\"visible\":\"legendonly\",\"x\":[11,3],\"y\":[0,1],\"type\":\"bar\"},{\"hoverinfo\":\"text\",\"hovertext\":[\"<b>Topic 262</b><br>Words: kirchenmusikern, weiterbildung, lehrg\\u00e4nge, exerzitien, coaching\",\"<b>Topic 262</b><br>Words: doctoral, unterweisung, courses, literature, active\"],\"marker\":{\"color\":\"#F0E442\"},\"name\":\"262_courses_s\\u00fcdamerikanische_grundbildun...\",\"orientation\":\"h\",\"visible\":\"legendonly\",\"x\":[10,3],\"y\":[0,1],\"type\":\"bar\"},{\"hoverinfo\":\"text\",\"hovertext\":[\"<b>Topic 263</b><br>Words: liszt, weimar, 1878, weimarer, earnest\",\"<b>Topic 263</b><br>Words: liszt, stardirigent, zeiten, transmet, weimarer\"],\"marker\":{\"color\":\"#D55E00\"},\"name\":\"263_liszt_weimar_weimarer_1878\",\"orientation\":\"h\",\"visible\":\"legendonly\",\"x\":[10,3],\"y\":[0,1],\"type\":\"bar\"},{\"hoverinfo\":\"text\",\"hovertext\":[\"<b>Topic 264</b><br>Words: london, bbc, angleterre, musikkopist, filiale\",\"<b>Topic 264</b><br>Words: operating, barrowes, staging, dancers, exerce\"],\"marker\":{\"color\":\"#0072B2\"},\"name\":\"264_london_bbc_angleterre_musikkopist\",\"orientation\":\"h\",\"visible\":\"legendonly\",\"x\":[10,3],\"y\":[0,1],\"type\":\"bar\"},{\"hoverinfo\":\"text\",\"hovertext\":[\"<b>Topic 265</b><br>Words: konex, polish, koffler, xxe, polnischen\",\"<b>Topic 265</b><br>Words: yrj\\u00f6, kilpinen, h\\u00fcsch, stetigen, finnische\"],\"marker\":{\"color\":\"#CC79A7\"},\"name\":\"265_konex_yrj\\u00f6_kilpinen_polish\",\"orientation\":\"h\",\"visible\":\"legendonly\",\"x\":[10,3],\"y\":[0,1],\"type\":\"bar\"},{\"hoverinfo\":\"text\",\"hovertext\":[\"<b>Topic 266</b><br>Words: boston, k\\u00f6niglichen, kauder, koussevitsky, tripelkonzert\",\"<b>Topic 266</b><br>Words: kleibers, knabenchor, 90er, windsbacher, beringer\"],\"marker\":{\"color\":\"#E69F00\"},\"name\":\"266_boston_k\\u00f6niglichen_kauder_kleibers\",\"orientation\":\"h\",\"visible\":\"legendonly\",\"x\":[11,2],\"y\":[0,1],\"type\":\"bar\"},{\"hoverinfo\":\"text\",\"hovertext\":[\"<b>Topic 267</b><br>Words: wiesengrund, calvelli, theodor, adorno, piana\"],\"marker\":{\"color\":\"#56B4E9\"},\"name\":\"267_wiesengrund_calvelli_theodor_adorno\",\"orientation\":\"h\",\"visible\":\"legendonly\",\"x\":[13],\"y\":[0],\"type\":\"bar\"},{\"hoverinfo\":\"text\",\"hovertext\":[\"<b>Topic 268</b><br>Words: juilliard, school, brooklyn, york, college\"],\"marker\":{\"color\":\"#009E73\"},\"name\":\"268_juilliard_school_brooklyn_york\",\"orientation\":\"h\",\"visible\":\"legendonly\",\"x\":[13],\"y\":[0],\"type\":\"bar\"},{\"hoverinfo\":\"text\",\"hovertext\":[\"<b>Topic 269</b><br>Words: russisch, karamazov, pankr\\u00e1cer, polka, haralanov\"],\"marker\":{\"color\":\"#F0E442\"},\"name\":\"269_russisch_haralanov_pankr\\u00e1cer_pantsch...\",\"orientation\":\"h\",\"visible\":\"legendonly\",\"x\":[13],\"y\":[0],\"type\":\"bar\"},{\"hoverinfo\":\"text\",\"hovertext\":[\"<b>Topic 270</b><br>Words: imre, koppstein, k\\u00e1lm\\u00e1n, emmerich, ur\\u010dice\"],\"marker\":{\"color\":\"#D55E00\"},\"name\":\"270_imre_koppstein_k\\u00e1lm\\u00e1n_emmerich\",\"orientation\":\"h\",\"visible\":\"legendonly\",\"x\":[13],\"y\":[0],\"type\":\"bar\"},{\"hoverinfo\":\"text\",\"hovertext\":[\"<b>Topic 271</b><br>Words: bezirk, gasse, wilmersdorf, benannt, platz\"],\"marker\":{\"color\":\"#0072B2\"},\"name\":\"271_bezirk_wilmersdorf_gasse_benannt\",\"orientation\":\"h\",\"visible\":\"legendonly\",\"x\":[13],\"y\":[0],\"type\":\"bar\"},{\"hoverinfo\":\"text\",\"hovertext\":[\"<b>Topic 272</b><br>Words: flothuis, marius, concertgebouw, 1974, utrecht\"],\"marker\":{\"color\":\"#CC79A7\"},\"name\":\"272_flothuis_marius_concertgebouw_1974\",\"orientation\":\"h\",\"visible\":\"legendonly\",\"x\":[13],\"y\":[0],\"type\":\"bar\"},{\"hoverinfo\":\"text\",\"hovertext\":[\"<b>Topic 273</b><br>Words: lieu, jasager, mondains, waltzing, vicomte\",\"<b>Topic 273</b><br>Words: humorvolle, wiederauff\\u00fchrung, heiteren, lyrischen, oberhausen\"],\"marker\":{\"color\":\"#E69F00\"},\"name\":\"273_lieu_jasager_laure_matilda\",\"orientation\":\"h\",\"visible\":\"legendonly\",\"x\":[11,2],\"y\":[0,1],\"type\":\"bar\"},{\"hoverinfo\":\"text\",\"hovertext\":[\"<b>Topic 274</b><br>Words: langage, tonal, style, language, instrumentation\",\"<b>Topic 274</b><br>Words: dominantes, improvisational, hefty, unpredictability, straightforward\"],\"marker\":{\"color\":\"#56B4E9\"},\"name\":\"274_langage_tonal_style_language\",\"orientation\":\"h\",\"visible\":\"legendonly\",\"x\":[11,2],\"y\":[0,1],\"type\":\"bar\"},{\"hoverinfo\":\"text\",\"hovertext\":[\"<b>Topic 275</b><br>Words: contrat, bedienstete, r\\u00e9sili\\u00e9, valable, commanditaire\",\"<b>Topic 275</b><br>Words: nationalis\\u00e9, logement, confi\\u00e9, sanssouci, einweihung\"],\"marker\":{\"color\":\"#009E73\"},\"name\":\"275_contrat_doppelhaus_errichten_valable\",\"orientation\":\"h\",\"visible\":\"legendonly\",\"x\":[9,4],\"y\":[0,1],\"type\":\"bar\"},{\"hoverinfo\":\"text\",\"hovertext\":[\"<b>Topic 276</b><br>Words: ettinger, eisler, eberstadt, edmund, lemberg\",\"<b>Topic 276</b><br>Words: egk, buck, titus, dritte, meeting\"],\"marker\":{\"color\":\"#F0E442\"},\"name\":\"276_ettinger_eisler_eberstadt_edmund\",\"orientation\":\"h\",\"visible\":\"legendonly\",\"x\":[11,2],\"y\":[0,1],\"type\":\"bar\"},{\"hoverinfo\":\"text\",\"hovertext\":[\"<b>Topic 277</b><br>Words: kentner, ludwig, r\\u00e9ellement, marquent, stabilit\\u00e9\"],\"marker\":{\"color\":\"#D55E00\"},\"name\":\"277_kentner_ludwig_probenpianist_domaine...\",\"orientation\":\"h\",\"visible\":\"legendonly\",\"x\":[13],\"y\":[0],\"type\":\"bar\"},{\"hoverinfo\":\"text\",\"hovertext\":[\"<b>Topic 278</b><br>Words: mischling, auff\\u00fchrungsverbot, j\\u00fcdischer, translateur, nationalsozialisten\",\"<b>Topic 278</b><br>Words: dirigeants, koppeln, ortwin, gescheitert, pr\\u00e9venir\"],\"marker\":{\"color\":\"#0072B2\"},\"name\":\"278_mischling_dirigeants_auff\\u00fchrungsverb...\",\"orientation\":\"h\",\"visible\":\"legendonly\",\"x\":[9,4],\"y\":[0,1],\"type\":\"bar\"},{\"hoverinfo\":\"text\",\"hovertext\":[\"<b>Topic 279</b><br>Words: brahms, weigls, h\\u00e4rtel, breitkopf, eusebius\",\"<b>Topic 279</b><br>Words: positively, roller, gestartete, executive, b\\u00fchnenbildner\"],\"marker\":{\"color\":\"#CC79A7\"},\"name\":\"279_brahms_weigls_h\\u00e4rtel_breitkopf\",\"orientation\":\"h\",\"visible\":\"legendonly\",\"x\":[10,3],\"y\":[0,1],\"type\":\"bar\"},{\"hoverinfo\":\"text\",\"hovertext\":[\"<b>Topic 280</b><br>Words: f\\u00f6rderten, sohnes, childhood, parents, erziehung\",\"<b>Topic 280</b><br>Words: erziehung, finden, sollten, kinder, lernte\"],\"marker\":{\"color\":\"#E69F00\"},\"name\":\"280_f\\u00f6rderten_erziehung_sohnes_childhood\",\"orientation\":\"h\",\"visible\":\"legendonly\",\"x\":[11,2],\"y\":[0,1],\"type\":\"bar\"},{\"hoverinfo\":\"text\",\"hovertext\":[\"<b>Topic 281</b><br>Words: viva, musica, eurovision, odaline, avantgardistischer\",\"<b>Topic 281</b><br>Words: glyndebourne, festival, figaro, guglielmo, salzburger\"],\"marker\":{\"color\":\"#56B4E9\"},\"name\":\"281_glyndebourne_festival_figaro_gugliel...\",\"orientation\":\"h\",\"visible\":\"legendonly\",\"x\":[5,8],\"y\":[0,1],\"type\":\"bar\"},{\"hoverinfo\":\"text\",\"hovertext\":[\"<b>Topic 282</b><br>Words: 1879, eichwald, 1874, brecher, ostende\",\"<b>Topic 282</b><br>Words: ottmar, gerster, km, werner, egk\"],\"marker\":{\"color\":\"#009E73\"},\"name\":\"282_ottmar_1879_eichwald_1874\",\"orientation\":\"h\",\"visible\":\"legendonly\",\"x\":[6,7],\"y\":[0,1],\"type\":\"bar\"},{\"hoverinfo\":\"text\",\"hovertext\":[\"<b>Topic 283</b><br>Words: hartmann, \\u00e9pris, vernichtete, \\u00e4lteste, schublade\"],\"marker\":{\"color\":\"#F0E442\"},\"name\":\"283_hartmann_\\u00e9pris_absorb_schwiegerelter...\",\"orientation\":\"h\",\"visible\":\"legendonly\",\"x\":[13],\"y\":[0],\"type\":\"bar\"},{\"hoverinfo\":\"text\",\"hovertext\":[\"<b>Topic 284</b><br>Words: goldner, berthold, goldschmidt, goldschlag, gold\"],\"marker\":{\"color\":\"#D55E00\"},\"name\":\"284_goldner_berthold_goldschmidt_goldsch...\",\"orientation\":\"h\",\"visible\":\"legendonly\",\"x\":[13],\"y\":[0],\"type\":\"bar\"},{\"hoverinfo\":\"text\",\"hovertext\":[\"<b>Topic 285</b><br>Words: exhausted, barn, norwood, straw, transit\",\"<b>Topic 285</b><br>Words: 1893, erst, 25, kehrte, juni\"],\"marker\":{\"color\":\"#0072B2\"},\"name\":\"285_norwood_barn_exhausted_straw\",\"orientation\":\"h\",\"visible\":\"legendonly\",\"x\":[11,1],\"y\":[0,1],\"type\":\"bar\"},{\"hoverinfo\":\"text\",\"hovertext\":[\"<b>Topic 286</b><br>Words: mitgewirkt, realized, reiche, sack, kaffeehausgeiger\",\"<b>Topic 286</b><br>Words: einrichtungen, f\\u00fchrungspositionen, kompositorischen, verschiedenen, musikalischen\"],\"marker\":{\"color\":\"#CC79A7\"},\"name\":\"286_f\\u00fchrungspositionen_realized_reiche_s...\",\"orientation\":\"h\",\"visible\":\"legendonly\",\"x\":[11,1],\"y\":[0,1],\"type\":\"bar\"},{\"hoverinfo\":\"text\",\"hovertext\":[\"<b>Topic 287</b><br>Words: rosenberg, einsatzstab, rosenbergs, pl\\u00fcnderung, l\\u00e4ndern\",\"<b>Topic 287</b><br>Words: kaiser, embrigadement, freigesprochen, go\\u00fbte, h\\u00f4te\"],\"marker\":{\"color\":\"#E69F00\"},\"name\":\"287_rosenberg_einsatzstab_rosenbergs_pl\\u00fc...\",\"orientation\":\"h\",\"visible\":\"legendonly\",\"x\":[10,2],\"y\":[0,1],\"type\":\"bar\"},{\"hoverinfo\":\"text\",\"hovertext\":[\"<b>Topic 288</b><br>Words: agreement, macht\\u00fcbergabe, kultur, t\\u00e4gige, ariernachweises\"],\"marker\":{\"color\":\"#56B4E9\"},\"name\":\"288_agreement_macht\\u00fcbergabe_kultur_beweg...\",\"orientation\":\"h\",\"visible\":\"legendonly\",\"x\":[12],\"y\":[0],\"type\":\"bar\"},{\"hoverinfo\":\"text\",\"hovertext\":[\"<b>Topic 289</b><br>Words: ausgang, bliudz, gosztony, haid, liane\",\"<b>Topic 289</b><br>Words: gretchen, tante, pauline, haid, ausgang\"],\"marker\":{\"color\":\"#009E73\"},\"name\":\"289_gosztony_liane_ausgang_bliudz\",\"orientation\":\"h\",\"visible\":\"legendonly\",\"x\":[10,2],\"y\":[0,1],\"type\":\"bar\"},{\"hoverinfo\":\"text\",\"hovertext\":[\"<b>Topic 290</b><br>Words: d\\u00e9m\\u00e9nage, siedelte, familie, l\\u00f6t, naturwissenschaftler\",\"<b>Topic 290</b><br>Words: schkeuditz, lichterfelde, gro\\u00df, halle, ramin\"],\"marker\":{\"color\":\"#F0E442\"},\"name\":\"290_d\\u00e9m\\u00e9nage_siedelte_familie_schwei\\u00dfbet...\",\"orientation\":\"h\",\"visible\":\"legendonly\",\"x\":[11,1],\"y\":[0,1],\"type\":\"bar\"},{\"hoverinfo\":\"text\",\"hovertext\":[\"<b>Topic 291</b><br>Words: paris, sorbonne, guggenheim, mayotte, clandestinely\",\"<b>Topic 291</b><br>Words: laufenden, mir\\u00e9, ballan, modenschauen, touraine\"],\"marker\":{\"color\":\"#D55E00\"},\"name\":\"291_paris_sorbonne_mayotte_guggenheim\",\"orientation\":\"h\",\"visible\":\"legendonly\",\"x\":[10,2],\"y\":[0,1],\"type\":\"bar\"},{\"hoverinfo\":\"text\",\"hovertext\":[\"<b>Topic 292</b><br>Words: iwan, knorr, hoch, engelbert, humperdinck\",\"<b>Topic 292</b><br>Words: iwan, kwast, james, knorr, hoch\"],\"marker\":{\"color\":\"#0072B2\"},\"name\":\"292_iwan_knorr_kwast_hoch\",\"orientation\":\"h\",\"visible\":\"legendonly\",\"x\":[7,5],\"y\":[0,1],\"type\":\"bar\"},{\"hoverinfo\":\"text\",\"hovertext\":[\"<b>Topic 294</b><br>Words: prag, prague, erteilt, einreiseerlaubnis, blechhammer\"],\"marker\":{\"color\":\"#CC79A7\"},\"name\":\"294_prag_prague_erteilt_einreiseerlaubni...\",\"orientation\":\"h\",\"visible\":\"legendonly\",\"x\":[12],\"y\":[0],\"type\":\"bar\"},{\"hoverinfo\":\"text\",\"hovertext\":[\"<b>Topic 296</b><br>Words: toscanini, avantgardistische, soutenus, permettra, encourag\\u00e9s\",\"<b>Topic 296</b><br>Words: bruckner, symphonies, staatskapelle, ravel, toscanini\"],\"marker\":{\"color\":\"#E69F00\"},\"name\":\"296_bruckner_toscanini_arturo_symphonies\",\"orientation\":\"h\",\"visible\":\"legendonly\",\"x\":[5,7],\"y\":[0,1],\"type\":\"bar\"},{\"hoverinfo\":\"text\",\"hovertext\":[\"<b>Topic 297</b><br>Words: \\u00e9lectronique, electronic, signierte, compositrices, \\u00e9lectroniques\"],\"marker\":{\"color\":\"#56B4E9\"},\"name\":\"297_\\u00e9lectronique_electronic_komponistinn...\",\"orientation\":\"h\",\"visible\":\"legendonly\",\"x\":[12],\"y\":[0],\"type\":\"bar\"},{\"hoverinfo\":\"text\",\"hovertext\":[\"<b>Topic 298</b><br>Words: furtw\\u00e4ngler, wilhelm, neville, stumme, surround\",\"<b>Topic 298</b><br>Words: furtw\\u00e4ngler, wilhelm, microsillon, permanents, initi\\u00e9e\"],\"marker\":{\"color\":\"#009E73\"},\"name\":\"298_furtw\\u00e4ngler_wilhelm_philharmonique_p...\",\"orientation\":\"h\",\"visible\":\"legendonly\",\"x\":[5,7],\"y\":[0,1],\"type\":\"bar\"},{\"hoverinfo\":\"text\",\"hovertext\":[\"<b>Topic 299</b><br>Words: century, considered, widely, 20th, greatest\",\"<b>Topic 299</b><br>Words: greatest, 20th, jahrhunderts, century, conductors\"],\"marker\":{\"color\":\"#F0E442\"},\"name\":\"299_century_20th_widely_greatest\",\"orientation\":\"h\",\"visible\":\"legendonly\",\"x\":[7,5],\"y\":[0,1],\"type\":\"bar\"},{\"hoverinfo\":\"text\",\"hovertext\":[\"<b>Topic 300</b><br>Words: decades, 1979, seven, notes, erst\",\"<b>Topic 300</b><br>Words: vignettes, unversehrt, supplement, gute, katholische\"],\"marker\":{\"color\":\"#D55E00\"},\"name\":\"300_decades_1979_seven_notes\",\"orientation\":\"h\",\"visible\":\"legendonly\",\"x\":[10,2],\"y\":[0,1],\"type\":\"bar\"},{\"hoverinfo\":\"text\",\"hovertext\":[\"<b>Topic 304</b><br>Words: allmusic, barta, g\\u00f6ttin, abgerufen, lenz\",\"<b>Topic 304</b><br>Words: allmusic, barta, g\\u00f6ttin, abgerufen, lenz\"],\"marker\":{\"color\":\"#0072B2\"},\"name\":\"304_allmusic_g\\u00f6ttin_barta_abgerufen\",\"orientation\":\"h\",\"visible\":\"legendonly\",\"x\":[11,1],\"y\":[0,1],\"type\":\"bar\"}],                        {\"template\":{\"data\":{\"barpolar\":[{\"marker\":{\"line\":{\"color\":\"white\",\"width\":0.5},\"pattern\":{\"fillmode\":\"overlay\",\"size\":10,\"solidity\":0.2}},\"type\":\"barpolar\"}],\"bar\":[{\"error_x\":{\"color\":\"rgb(36,36,36)\"},\"error_y\":{\"color\":\"rgb(36,36,36)\"},\"marker\":{\"line\":{\"color\":\"white\",\"width\":0.5},\"pattern\":{\"fillmode\":\"overlay\",\"size\":10,\"solidity\":0.2}},\"type\":\"bar\"}],\"carpet\":[{\"aaxis\":{\"endlinecolor\":\"rgb(36,36,36)\",\"gridcolor\":\"white\",\"linecolor\":\"white\",\"minorgridcolor\":\"white\",\"startlinecolor\":\"rgb(36,36,36)\"},\"baxis\":{\"endlinecolor\":\"rgb(36,36,36)\",\"gridcolor\":\"white\",\"linecolor\":\"white\",\"minorgridcolor\":\"white\",\"startlinecolor\":\"rgb(36,36,36)\"},\"type\":\"carpet\"}],\"choropleth\":[{\"colorbar\":{\"outlinewidth\":1,\"tickcolor\":\"rgb(36,36,36)\",\"ticks\":\"outside\"},\"type\":\"choropleth\"}],\"contourcarpet\":[{\"colorbar\":{\"outlinewidth\":1,\"tickcolor\":\"rgb(36,36,36)\",\"ticks\":\"outside\"},\"type\":\"contourcarpet\"}],\"contour\":[{\"colorbar\":{\"outlinewidth\":1,\"tickcolor\":\"rgb(36,36,36)\",\"ticks\":\"outside\"},\"colorscale\":[[0.0,\"#440154\"],[0.1111111111111111,\"#482878\"],[0.2222222222222222,\"#3e4989\"],[0.3333333333333333,\"#31688e\"],[0.4444444444444444,\"#26828e\"],[0.5555555555555556,\"#1f9e89\"],[0.6666666666666666,\"#35b779\"],[0.7777777777777778,\"#6ece58\"],[0.8888888888888888,\"#b5de2b\"],[1.0,\"#fde725\"]],\"type\":\"contour\"}],\"heatmapgl\":[{\"colorbar\":{\"outlinewidth\":1,\"tickcolor\":\"rgb(36,36,36)\",\"ticks\":\"outside\"},\"colorscale\":[[0.0,\"#440154\"],[0.1111111111111111,\"#482878\"],[0.2222222222222222,\"#3e4989\"],[0.3333333333333333,\"#31688e\"],[0.4444444444444444,\"#26828e\"],[0.5555555555555556,\"#1f9e89\"],[0.6666666666666666,\"#35b779\"],[0.7777777777777778,\"#6ece58\"],[0.8888888888888888,\"#b5de2b\"],[1.0,\"#fde725\"]],\"type\":\"heatmapgl\"}],\"heatmap\":[{\"colorbar\":{\"outlinewidth\":1,\"tickcolor\":\"rgb(36,36,36)\",\"ticks\":\"outside\"},\"colorscale\":[[0.0,\"#440154\"],[0.1111111111111111,\"#482878\"],[0.2222222222222222,\"#3e4989\"],[0.3333333333333333,\"#31688e\"],[0.4444444444444444,\"#26828e\"],[0.5555555555555556,\"#1f9e89\"],[0.6666666666666666,\"#35b779\"],[0.7777777777777778,\"#6ece58\"],[0.8888888888888888,\"#b5de2b\"],[1.0,\"#fde725\"]],\"type\":\"heatmap\"}],\"histogram2dcontour\":[{\"colorbar\":{\"outlinewidth\":1,\"tickcolor\":\"rgb(36,36,36)\",\"ticks\":\"outside\"},\"colorscale\":[[0.0,\"#440154\"],[0.1111111111111111,\"#482878\"],[0.2222222222222222,\"#3e4989\"],[0.3333333333333333,\"#31688e\"],[0.4444444444444444,\"#26828e\"],[0.5555555555555556,\"#1f9e89\"],[0.6666666666666666,\"#35b779\"],[0.7777777777777778,\"#6ece58\"],[0.8888888888888888,\"#b5de2b\"],[1.0,\"#fde725\"]],\"type\":\"histogram2dcontour\"}],\"histogram2d\":[{\"colorbar\":{\"outlinewidth\":1,\"tickcolor\":\"rgb(36,36,36)\",\"ticks\":\"outside\"},\"colorscale\":[[0.0,\"#440154\"],[0.1111111111111111,\"#482878\"],[0.2222222222222222,\"#3e4989\"],[0.3333333333333333,\"#31688e\"],[0.4444444444444444,\"#26828e\"],[0.5555555555555556,\"#1f9e89\"],[0.6666666666666666,\"#35b779\"],[0.7777777777777778,\"#6ece58\"],[0.8888888888888888,\"#b5de2b\"],[1.0,\"#fde725\"]],\"type\":\"histogram2d\"}],\"histogram\":[{\"marker\":{\"line\":{\"color\":\"white\",\"width\":0.6}},\"type\":\"histogram\"}],\"mesh3d\":[{\"colorbar\":{\"outlinewidth\":1,\"tickcolor\":\"rgb(36,36,36)\",\"ticks\":\"outside\"},\"type\":\"mesh3d\"}],\"parcoords\":[{\"line\":{\"colorbar\":{\"outlinewidth\":1,\"tickcolor\":\"rgb(36,36,36)\",\"ticks\":\"outside\"}},\"type\":\"parcoords\"}],\"pie\":[{\"automargin\":true,\"type\":\"pie\"}],\"scatter3d\":[{\"line\":{\"colorbar\":{\"outlinewidth\":1,\"tickcolor\":\"rgb(36,36,36)\",\"ticks\":\"outside\"}},\"marker\":{\"colorbar\":{\"outlinewidth\":1,\"tickcolor\":\"rgb(36,36,36)\",\"ticks\":\"outside\"}},\"type\":\"scatter3d\"}],\"scattercarpet\":[{\"marker\":{\"colorbar\":{\"outlinewidth\":1,\"tickcolor\":\"rgb(36,36,36)\",\"ticks\":\"outside\"}},\"type\":\"scattercarpet\"}],\"scattergeo\":[{\"marker\":{\"colorbar\":{\"outlinewidth\":1,\"tickcolor\":\"rgb(36,36,36)\",\"ticks\":\"outside\"}},\"type\":\"scattergeo\"}],\"scattergl\":[{\"marker\":{\"colorbar\":{\"outlinewidth\":1,\"tickcolor\":\"rgb(36,36,36)\",\"ticks\":\"outside\"}},\"type\":\"scattergl\"}],\"scattermapbox\":[{\"marker\":{\"colorbar\":{\"outlinewidth\":1,\"tickcolor\":\"rgb(36,36,36)\",\"ticks\":\"outside\"}},\"type\":\"scattermapbox\"}],\"scatterpolargl\":[{\"marker\":{\"colorbar\":{\"outlinewidth\":1,\"tickcolor\":\"rgb(36,36,36)\",\"ticks\":\"outside\"}},\"type\":\"scatterpolargl\"}],\"scatterpolar\":[{\"marker\":{\"colorbar\":{\"outlinewidth\":1,\"tickcolor\":\"rgb(36,36,36)\",\"ticks\":\"outside\"}},\"type\":\"scatterpolar\"}],\"scatter\":[{\"marker\":{\"colorbar\":{\"outlinewidth\":1,\"tickcolor\":\"rgb(36,36,36)\",\"ticks\":\"outside\"}},\"type\":\"scatter\"}],\"scatterternary\":[{\"marker\":{\"colorbar\":{\"outlinewidth\":1,\"tickcolor\":\"rgb(36,36,36)\",\"ticks\":\"outside\"}},\"type\":\"scatterternary\"}],\"surface\":[{\"colorbar\":{\"outlinewidth\":1,\"tickcolor\":\"rgb(36,36,36)\",\"ticks\":\"outside\"},\"colorscale\":[[0.0,\"#440154\"],[0.1111111111111111,\"#482878\"],[0.2222222222222222,\"#3e4989\"],[0.3333333333333333,\"#31688e\"],[0.4444444444444444,\"#26828e\"],[0.5555555555555556,\"#1f9e89\"],[0.6666666666666666,\"#35b779\"],[0.7777777777777778,\"#6ece58\"],[0.8888888888888888,\"#b5de2b\"],[1.0,\"#fde725\"]],\"type\":\"surface\"}],\"table\":[{\"cells\":{\"fill\":{\"color\":\"rgb(237,237,237)\"},\"line\":{\"color\":\"white\"}},\"header\":{\"fill\":{\"color\":\"rgb(217,217,217)\"},\"line\":{\"color\":\"white\"}},\"type\":\"table\"}]},\"layout\":{\"annotationdefaults\":{\"arrowhead\":0,\"arrowwidth\":1},\"autotypenumbers\":\"strict\",\"coloraxis\":{\"colorbar\":{\"outlinewidth\":1,\"tickcolor\":\"rgb(36,36,36)\",\"ticks\":\"outside\"}},\"colorscale\":{\"diverging\":[[0.0,\"rgb(103,0,31)\"],[0.1,\"rgb(178,24,43)\"],[0.2,\"rgb(214,96,77)\"],[0.3,\"rgb(244,165,130)\"],[0.4,\"rgb(253,219,199)\"],[0.5,\"rgb(247,247,247)\"],[0.6,\"rgb(209,229,240)\"],[0.7,\"rgb(146,197,222)\"],[0.8,\"rgb(67,147,195)\"],[0.9,\"rgb(33,102,172)\"],[1.0,\"rgb(5,48,97)\"]],\"sequential\":[[0.0,\"#440154\"],[0.1111111111111111,\"#482878\"],[0.2222222222222222,\"#3e4989\"],[0.3333333333333333,\"#31688e\"],[0.4444444444444444,\"#26828e\"],[0.5555555555555556,\"#1f9e89\"],[0.6666666666666666,\"#35b779\"],[0.7777777777777778,\"#6ece58\"],[0.8888888888888888,\"#b5de2b\"],[1.0,\"#fde725\"]],\"sequentialminus\":[[0.0,\"#440154\"],[0.1111111111111111,\"#482878\"],[0.2222222222222222,\"#3e4989\"],[0.3333333333333333,\"#31688e\"],[0.4444444444444444,\"#26828e\"],[0.5555555555555556,\"#1f9e89\"],[0.6666666666666666,\"#35b779\"],[0.7777777777777778,\"#6ece58\"],[0.8888888888888888,\"#b5de2b\"],[1.0,\"#fde725\"]]},\"colorway\":[\"#1F77B4\",\"#FF7F0E\",\"#2CA02C\",\"#D62728\",\"#9467BD\",\"#8C564B\",\"#E377C2\",\"#7F7F7F\",\"#BCBD22\",\"#17BECF\"],\"font\":{\"color\":\"rgb(36,36,36)\"},\"geo\":{\"bgcolor\":\"white\",\"lakecolor\":\"white\",\"landcolor\":\"white\",\"showlakes\":true,\"showland\":true,\"subunitcolor\":\"white\"},\"hoverlabel\":{\"align\":\"left\"},\"hovermode\":\"closest\",\"mapbox\":{\"style\":\"light\"},\"paper_bgcolor\":\"white\",\"plot_bgcolor\":\"white\",\"polar\":{\"angularaxis\":{\"gridcolor\":\"rgb(232,232,232)\",\"linecolor\":\"rgb(36,36,36)\",\"showgrid\":false,\"showline\":true,\"ticks\":\"outside\"},\"bgcolor\":\"white\",\"radialaxis\":{\"gridcolor\":\"rgb(232,232,232)\",\"linecolor\":\"rgb(36,36,36)\",\"showgrid\":false,\"showline\":true,\"ticks\":\"outside\"}},\"scene\":{\"xaxis\":{\"backgroundcolor\":\"white\",\"gridcolor\":\"rgb(232,232,232)\",\"gridwidth\":2,\"linecolor\":\"rgb(36,36,36)\",\"showbackground\":true,\"showgrid\":false,\"showline\":true,\"ticks\":\"outside\",\"zeroline\":false,\"zerolinecolor\":\"rgb(36,36,36)\"},\"yaxis\":{\"backgroundcolor\":\"white\",\"gridcolor\":\"rgb(232,232,232)\",\"gridwidth\":2,\"linecolor\":\"rgb(36,36,36)\",\"showbackground\":true,\"showgrid\":false,\"showline\":true,\"ticks\":\"outside\",\"zeroline\":false,\"zerolinecolor\":\"rgb(36,36,36)\"},\"zaxis\":{\"backgroundcolor\":\"white\",\"gridcolor\":\"rgb(232,232,232)\",\"gridwidth\":2,\"linecolor\":\"rgb(36,36,36)\",\"showbackground\":true,\"showgrid\":false,\"showline\":true,\"ticks\":\"outside\",\"zeroline\":false,\"zerolinecolor\":\"rgb(36,36,36)\"}},\"shapedefaults\":{\"fillcolor\":\"black\",\"line\":{\"width\":0},\"opacity\":0.3},\"ternary\":{\"aaxis\":{\"gridcolor\":\"rgb(232,232,232)\",\"linecolor\":\"rgb(36,36,36)\",\"showgrid\":false,\"showline\":true,\"ticks\":\"outside\"},\"baxis\":{\"gridcolor\":\"rgb(232,232,232)\",\"linecolor\":\"rgb(36,36,36)\",\"showgrid\":false,\"showline\":true,\"ticks\":\"outside\"},\"bgcolor\":\"white\",\"caxis\":{\"gridcolor\":\"rgb(232,232,232)\",\"linecolor\":\"rgb(36,36,36)\",\"showgrid\":false,\"showline\":true,\"ticks\":\"outside\"}},\"title\":{\"x\":0.05},\"xaxis\":{\"automargin\":true,\"gridcolor\":\"rgb(232,232,232)\",\"linecolor\":\"rgb(36,36,36)\",\"showgrid\":false,\"showline\":true,\"ticks\":\"outside\",\"title\":{\"standoff\":15},\"zeroline\":false,\"zerolinecolor\":\"rgb(36,36,36)\"},\"yaxis\":{\"automargin\":true,\"gridcolor\":\"rgb(232,232,232)\",\"linecolor\":\"rgb(36,36,36)\",\"showgrid\":false,\"showline\":true,\"ticks\":\"outside\",\"title\":{\"standoff\":15},\"zeroline\":false,\"zerolinecolor\":\"rgb(36,36,36)\"}}},\"xaxis\":{\"showgrid\":true,\"title\":{\"text\":\"Frequency\"}},\"yaxis\":{\"showgrid\":true,\"title\":{\"text\":\"Class\"}},\"title\":{\"font\":{\"size\":22,\"color\":\"Black\"},\"text\":\"<b>Topics per Class\",\"y\":0.95,\"x\":0.4,\"xanchor\":\"center\",\"yanchor\":\"top\"},\"hoverlabel\":{\"font\":{\"size\":16,\"family\":\"Rockwell\"},\"bgcolor\":\"white\"},\"width\":1250,\"height\":900,\"legend\":{\"title\":{\"text\":\"<b>Global Topic Representation\"}}},                        {\"responsive\": true}                    ).then(function(){\n",
       "                            \n",
       "var gd = document.getElementById('65697037-c62a-4f0b-a351-df785075e86d');\n",
       "var x = new MutationObserver(function (mutations, observer) {{\n",
       "        var display = window.getComputedStyle(gd).display;\n",
       "        if (!display || display === 'none') {{\n",
       "            console.log([gd, 'removed!']);\n",
       "            Plotly.purge(gd);\n",
       "            observer.disconnect();\n",
       "        }}\n",
       "}});\n",
       "\n",
       "// Listen for the removal of the full notebook cells\n",
       "var notebookContainer = gd.closest('#notebook-container');\n",
       "if (notebookContainer) {{\n",
       "    x.observe(notebookContainer, {childList: true});\n",
       "}}\n",
       "\n",
       "// Listen for the clearing of the current output cell\n",
       "var outputEl = gd.closest('.output');\n",
       "if (outputEl) {{\n",
       "    x.observe(outputEl, {childList: true});\n",
       "}}\n",
       "\n",
       "                        })                };                });            </script>        </div>"
      ]
     },
     "metadata": {},
     "output_type": "display_data"
    }
   ],
   "source": [
    "bertopic_model.visualize_topics_per_class(topics_per_class, top_n_topics=300)"
   ]
  },
  {
   "cell_type": "code",
   "execution_count": null,
   "id": "de6a7ed0",
   "metadata": {},
   "outputs": [],
   "source": []
  }
 ],
 "metadata": {
  "kernelspec": {
   "display_name": "Python [conda env:thesis] *",
   "language": "python",
   "name": "conda-env-thesis-py"
  },
  "language_info": {
   "codemirror_mode": {
    "name": "ipython",
    "version": 3
   },
   "file_extension": ".py",
   "mimetype": "text/x-python",
   "name": "python",
   "nbconvert_exporter": "python",
   "pygments_lexer": "ipython3",
   "version": "3.9.12"
  }
 },
 "nbformat": 4,
 "nbformat_minor": 5
}
