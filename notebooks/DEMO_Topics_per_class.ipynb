{
 "cells": [
  {
   "cell_type": "code",
   "execution_count": 2,
   "id": "3cfa094d",
   "metadata": {},
   "outputs": [
    {
     "name": "stderr",
     "output_type": "stream",
     "text": [
      "[nltk_data] Downloading package stopwords to /root/nltk_data...\n",
      "[nltk_data]   Package stopwords is already up-to-date!\n"
     ]
    },
    {
     "name": "stdout",
     "output_type": "stream",
     "text": [
      "loaded spacy language model: de_core_news_sm\n"
     ]
    }
   ],
   "source": [
    "import sys \n",
    "sys.path.append('../src')\n",
    "from models import get_BERTopic_model\n",
    "from data import get_data_and_labels_lists"
   ]
  },
  {
   "cell_type": "markdown",
   "id": "f91bd701",
   "metadata": {},
   "source": [
    "## BERTopic Priting topics for classes \n",
    "(For whole articles, not sentences) \n",
    "- no preprocessing necessary!\n",
    "- stop words will be removed with count vectorizers tokenizer\n",
    "- reduce Parameter min_topic_size for less topics"
   ]
  },
  {
   "cell_type": "code",
   "execution_count": 3,
   "id": "9608dcc0",
   "metadata": {
    "pycharm": {
     "is_executing": true
    }
   },
   "outputs": [],
   "source": [
    "bertopic_model = get_BERTopic_model('sentences')"
   ]
  },
  {
   "cell_type": "code",
   "execution_count": 4,
   "id": "7a0a8475",
   "metadata": {},
   "outputs": [],
   "source": [
    "docs, targets = get_data_and_labels_lists()"
   ]
  },
  {
   "cell_type": "code",
   "execution_count": 5,
   "id": "818d4f08",
   "metadata": {},
   "outputs": [],
   "source": [
    "topics = bertopic_model.topics_\n",
    "probabilities = bertopic_model.probabilities_"
   ]
  },
  {
   "cell_type": "code",
   "execution_count": 7,
   "id": "f918526e",
   "metadata": {
    "scrolled": true
   },
   "outputs": [],
   "source": [
    "topics_per_class = bertopic_model.topics_per_class(docs, targets)"
   ]
  },
  {
   "cell_type": "code",
   "execution_count": null,
   "id": "1cc5d110",
   "metadata": {
    "scrolled": false
   },
   "outputs": [],
   "source": [
    "bertopic_model.visualize_topics_per_class(topics_per_class, top_n_topics=300)"
   ]
  },
  {
   "cell_type": "code",
   "execution_count": null,
   "id": "de6a7ed0",
   "metadata": {},
   "outputs": [],
   "source": []
  }
 ],
 "metadata": {
  "kernelspec": {
   "display_name": "Python [conda env:thesis] *",
   "language": "python",
   "name": "conda-env-thesis-py"
  },
  "language_info": {
   "codemirror_mode": {
    "name": "ipython",
    "version": 3
   },
   "file_extension": ".py",
   "mimetype": "text/x-python",
   "name": "python",
   "nbconvert_exporter": "python",
   "pygments_lexer": "ipython3",
   "version": "3.9.12"
  }
 },
 "nbformat": 4,
 "nbformat_minor": 5
}
