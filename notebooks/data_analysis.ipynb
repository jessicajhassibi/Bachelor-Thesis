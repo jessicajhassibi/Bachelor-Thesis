{
 "cells": [
  {
   "cell_type": "code",
   "execution_count": 1,
   "id": "3a59377f",
   "metadata": {
    "pycharm": {
     "name": "#%%\n"
    }
   },
   "outputs": [],
   "source": [
    "import pandas as pd\n",
    "import matplotlib.pyplot as plt\n",
    "import numpy as np\n",
    "\n",
    "import sys \n",
    "sys.path.append('/Users/jessicahassibi/PycharmProjects/bachelor-thesis/src/data') # replace with your absolute path\n",
    "# import modules from another folder\n",
    "import WikiScraper\n",
    "import  data_analysis"
   ]
  },
  {
   "cell_type": "code",
   "execution_count": 7,
   "id": "24e41636",
   "metadata": {
    "pycharm": {
     "name": "#%%\n"
    }
   },
   "outputs": [
    {
     "data": {
      "text/plain": [
       "<module 'WikiScraper' from '/Users/jessicahassibi/PycharmProjects/bachelor-thesis/src/data/WikiScraper.py'>"
      ]
     },
     "execution_count": 7,
     "metadata": {},
     "output_type": "execute_result"
    }
   ],
   "source": [
    "from importlib import reload\n",
    "reload(WikiScraper)\n",
    "#reload(data_analysis)"
   ]
  },
  {
   "cell_type": "code",
   "execution_count": 91,
   "id": "7b9e2b48",
   "metadata": {
    "pycharm": {
     "name": "#%%\n"
    }
   },
   "outputs": [
    {
     "name": "stdout",
     "output_type": "stream",
     "text": [
      "New WikiScraper initialized.\n",
      "\n",
      "Texts have already been scraped to: ../data/persecuted_composers/de_texts_composers_persecuted.json\n",
      "Texts have already been scraped to: ../data/persecuted_composers/en_texts_composers_persecuted.json\n",
      "Texts have already been scraped to: ../data/persecuted_composers/ar_texts_composers_persecuted.json\n",
      "Texts have already been scraped to: ../data/persecuted_composers/fr_texts_composers_persecuted.json\n",
      "Texts have already been scraped to: ../data/persecuted_composers/es_texts_composers_persecuted.json\n",
      "Texts have already been scraped to: ../data/persecuted_composers/it_texts_composers_persecuted.json\n",
      "Texts have already been scraped to: ../data/supported_composers/de_texts_composers_supported.json\n",
      "Texts have already been scraped to: ../data/supported_composers/en_texts_composers_supported.json\n",
      "Texts have already been scraped to: ../data/supported_composers/ar_texts_composers_supported.json\n",
      "Texts have already been scraped to: ../data/supported_composers/fr_texts_composers_supported.json\n",
      "Texts have already been scraped to: ../data/supported_composers/es_texts_composers_supported.json\n",
      "Texts have already been scraped to: ../data/supported_composers/it_texts_composers_supported.json\n"
     ]
    }
   ],
   "source": [
    "# languages in which the articles shall be crawled\n",
    "languages = ['de', 'en', 'ar', 'fr', 'es', 'it']\n",
    "\n",
    "# new instance of WikiScraper\n",
    "wiki_scraper = WikiScraper.WikiScraper()\n",
    "\n",
    "# Scrape list of persecuted composers\n",
    "persecuted_composers_page = \"Liste der vom NS-Regime oder seinen Verbündeten verfolgten Komponisten\"\n",
    "wiki_scraper.scrape_pages_multiple_languages(persecuted_composers_page, languages)\n",
    "\n",
    "# Scrape list of supported composers\n",
    "supported_composers_page = \"Gottbegnadeten-Liste\"\n",
    "wiki_scraper.scrape_pages_multiple_languages(supported_composers_page, languages)"
   ]
  },
  {
   "cell_type": "code",
   "execution_count": null,
   "id": "38b8ad2f",
   "metadata": {
    "pycharm": {
     "name": "#%%\n"
    }
   },
   "outputs": [],
   "source": [
    "languages_count_dict = data_analysis.language_analyzer(languages, combined_df)\n",
    "print(languages_count_dict)"
   ]
  },
  {
   "cell_type": "code",
   "execution_count": null,
   "id": "9e6d26b2",
   "metadata": {
    "pycharm": {
     "name": "#%%\n"
    }
   },
   "outputs": [],
   "source": [
    "totals = data_analysis.get_total_counts(languages_count_dict)\n",
    "print(\"Gesamtzahl der Artikel: \", totals[0])\n",
    "print(\"Gesamtzahl der Paragraphen: \", totals[1])\n",
    "print(\"Gesamtzahl der Wörter: \", totals[2])"
   ]
  },
  {
   "cell_type": "code",
   "execution_count": null,
   "id": "3f0a6b77",
   "metadata": {
    "pycharm": {
     "name": "#%%\n"
    }
   },
   "outputs": [],
   "source": [
    "# Creating autocpt arguments\n",
    "def pct_func(pct, allvalues):\n",
    "    absolute = int(pct / 100.*np.sum(allvalues))\n",
    "    return \"{:.1f}%\\n({:d})\".format(pct, absolute)\n",
    "\n",
    "# 3 Pie charts to be side by side\n",
    "fig, (ax1,ax2,ax3) = plt.subplots(1,3,figsize=(20,20))\n",
    "\n",
    "# Plotting articles pie chart\n",
    "sizes = [languages_count_dict[lang][\"articles\"] for lang in languages_count_dict.keys()]\n",
    "ax1.pie(sizes, labels = languages,autopct = lambda pct: pct_func(pct, sizes))\n",
    "ax1.set_title(\"Verteilung der Artikel\")\n",
    "\n",
    "# Plotting paragraphs pie chart\n",
    "sizes = [languages_count_dict[lang][\"paragraphs\"] for lang in languages_count_dict.keys()]\n",
    "ax2.pie(sizes, labels = languages,autopct = lambda pct: pct_func(pct, sizes))\n",
    "ax2.set_title(\"Verteilung der Paragraphen\")\n",
    "\n",
    "# Plotting words pie chart\n",
    "sizes = [languages_count_dict[lang][\"words\"] for lang in languages_count_dict.keys()]\n",
    "ax3.pie(sizes, labels = languages,autopct = lambda pct: pct_func(pct, sizes))\n",
    "ax3.set_title(\"Verteilung der Wörter\")\n",
    "\n",
    "# get current figure\n",
    "fig_out = plt.gcf() \n",
    "\n",
    "# show plot\n",
    "plt.show()\n",
    "\n",
    "# save plot\n",
    "fig_out.savefig(\"../reports/figures/Sprachverteilungen.pdf\")"
   ]
  },
  {
   "cell_type": "code",
   "execution_count": null,
   "id": "58395fda",
   "metadata": {
    "pycharm": {
     "name": "#%%\n"
    }
   },
   "outputs": [],
   "source": [
    "# Plotting the 20 articles with most words etc."
   ]
  },
  {
   "cell_type": "code",
   "execution_count": null,
   "id": "8a29d25c",
   "metadata": {
    "pycharm": {
     "name": "#%%\n"
    }
   },
   "outputs": [],
   "source": [
    "# wieviel prozent der artikel in den versch. sprachen da\n",
    "# plotte verteilung supported/persecuted:\n",
    "print(TicketData.groupby('urgency').size())\n",
    " \n",
    "# Plotting the bar chart\n",
    "%matplotlib inline\n",
    "TicketData.groupby('urgency').size().plot(kind='bar');"
   ]
  }
 ],
 "metadata": {
  "kernelspec": {
   "display_name": "Python [conda env:thesis] *",
   "language": "python",
   "name": "conda-env-thesis-py"
  },
  "language_info": {
   "codemirror_mode": {
    "name": "ipython",
    "version": 3
   },
   "file_extension": ".py",
   "mimetype": "text/x-python",
   "name": "python",
   "nbconvert_exporter": "python",
   "pygments_lexer": "ipython3",
   "version": "3.9.12"
  }
 },
 "nbformat": 4,
 "nbformat_minor": 5
}