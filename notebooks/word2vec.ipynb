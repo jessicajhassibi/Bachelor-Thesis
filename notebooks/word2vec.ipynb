{
 "cells": [
  {
   "cell_type": "code",
   "execution_count": 2,
   "id": "d1a5d056",
   "metadata": {},
   "outputs": [
    {
     "name": "stdout",
     "output_type": "stream",
     "text": [
      "New WikiScraper initialized.\n"
     ]
    }
   ],
   "source": [
    "import re\n",
    "import pandas as pd\n",
    "import gensim.utils\n",
    "from gensim.models import Phrases # for collocation detector for word2vec\n",
    "import nltk\n",
    "from gensim.parsing import preprocessing\n",
    "from nltk.corpus import stopwords\n",
    "from sklearn.feature_extraction.text import CountVectorizer\n",
    "from gensim.models import KeyedVectors\n",
    "\n",
    "import sys \n",
    "sys.path.append('/Users/jessicahassibi/PycharmProjects/bachelor-thesis/src/data') # replace with your absolute path\n",
    "# import modules from another folder\n",
    "import WikiScraper\n",
    "import data_analysis"
   ]
  },
  {
   "cell_type": "code",
   "execution_count": 3,
   "id": "5810d73b",
   "metadata": {},
   "outputs": [
    {
     "name": "stdout",
     "output_type": "stream",
     "text": [
      "Texts have already been scraped to: ../data/verfolgte_komponisten_texte.json\n"
     ]
    },
    {
     "data": {
      "text/html": [
       "<div>\n",
       "<style scoped>\n",
       "    .dataframe tbody tr th:only-of-type {\n",
       "        vertical-align: middle;\n",
       "    }\n",
       "\n",
       "    .dataframe tbody tr th {\n",
       "        vertical-align: top;\n",
       "    }\n",
       "\n",
       "    .dataframe thead th {\n",
       "        text-align: right;\n",
       "    }\n",
       "</style>\n",
       "<table border=\"1\" class=\"dataframe\">\n",
       "  <thead>\n",
       "    <tr style=\"text-align: right;\">\n",
       "      <th></th>\n",
       "      <th>de_title</th>\n",
       "      <th>en_title</th>\n",
       "      <th>ar_title</th>\n",
       "      <th>fr_title</th>\n",
       "      <th>it_title</th>\n",
       "      <th>es_title</th>\n",
       "      <th>de_paragraphs</th>\n",
       "      <th>en_paragraphs</th>\n",
       "      <th>ar_paragraphs</th>\n",
       "      <th>fr_paragraphs</th>\n",
       "      <th>it_paragraphs</th>\n",
       "      <th>es_paragraphs</th>\n",
       "      <th>de_categories</th>\n",
       "      <th>en_categories</th>\n",
       "      <th>ar_categories</th>\n",
       "      <th>fr_categories</th>\n",
       "      <th>it_categories</th>\n",
       "      <th>es_categories</th>\n",
       "    </tr>\n",
       "  </thead>\n",
       "  <tbody>\n",
       "    <tr>\n",
       "      <th>1</th>\n",
       "      <td>Abel Ehrlich</td>\n",
       "      <td>Abel Ehrlich</td>\n",
       "      <td>أبيل إرليخ</td>\n",
       "      <td>Abel Ehrlich</td>\n",
       "      <td></td>\n",
       "      <td></td>\n",
       "      <td>[Ehrlich, aufgewachsen in einer deutschen jüdi...</td>\n",
       "      <td>[Erlich was born in 1915 in Cranz, East Prussi...</td>\n",
       "      <td>[أبيل إرليخ على موقع المكتبة المفتوحة (الإنجلي...</td>\n",
       "      <td>[Erlich naît à Cranz, en Prusse-Orientale. En ...</td>\n",
       "      <td></td>\n",
       "      <td></td>\n",
       "      <td>[Kategorie:Deutscher, Kategorie:Geboren 1915, ...</td>\n",
       "      <td>[Category:1915 births, Category:2003 deaths, C...</td>\n",
       "      <td>[تصنيف:أشخاص من زيلينوغرادسك, تصنيف:أشخاص من ش...</td>\n",
       "      <td>[Catégorie:Article de Wikipédia avec notice d'...</td>\n",
       "      <td></td>\n",
       "      <td></td>\n",
       "    </tr>\n",
       "    <tr>\n",
       "      <th>2</th>\n",
       "      <td>Admiral Horthy</td>\n",
       "      <td>Miklós Horthy</td>\n",
       "      <td>ميكلوش هورتي</td>\n",
       "      <td>Miklós Horthy</td>\n",
       "      <td>Miklós Horthy</td>\n",
       "      <td>Miklós Horthy</td>\n",
       "      <td>[Horthy stammte aus einer in der Großen Ungari...</td>\n",
       "      <td>[Miklós Horthy de Nagybánya was born at Kender...</td>\n",
       "      <td>[ميكلوش هورتي على موقع Encyclopædia Britannica...</td>\n",
       "      <td>[Après la guerre, la république fédérative pop...</td>\n",
       "      <td>[Horthy nacque in una cittadina nell'attuale p...</td>\n",
       "      <td>[Pál Teleki Gyula Gömbös István Bethlen Primer...</td>\n",
       "      <td>[Kategorie:Adliger, Kategorie:Autobiografie, K...</td>\n",
       "      <td>[Category:1868 births, Category:1957 deaths, C...</td>\n",
       "      <td>[تصنيف:أخطاء CS1: التاريخ, تصنيف:أشخاص مجريون ...</td>\n",
       "      <td>[Catégorie:Amiral autrichien, Catégorie:Anti-m...</td>\n",
       "      <td>[Categoria:Aggiungere sezioni - militari, Cate...</td>\n",
       "      <td>[Categoría:Anticomunistas de Hungría, Categorí...</td>\n",
       "    </tr>\n",
       "    <tr>\n",
       "      <th>3</th>\n",
       "      <td>Alexander von Zemlinsky</td>\n",
       "      <td>Alexander von Zemlinsky</td>\n",
       "      <td>ألكسندر فون زيميلنسكي</td>\n",
       "      <td>Alexander von Zemlinsky</td>\n",
       "      <td>Alexander von Zemlinsky</td>\n",
       "      <td>Alexander von Zemlinsky</td>\n",
       "      <td>[Stefan Schmidl: Zemlinsky, Alexander von. In:...</td>\n",
       "      <td>[Zemlinsky's best-known work is the Lyric Symp...</td>\n",
       "      <td>[ألكسندر فون زيميلنسكي على موقع Encyclopædia B...</td>\n",
       "      <td>[Zemlinsky étudie au conservatoire de Vienne o...</td>\n",
       "      <td>[Quintetto d'archi 1896 6 quartetti per archi ...</td>\n",
       "      <td>[El padre de Alexander, Adolf, provenía de una...</td>\n",
       "      <td>[Kategorie:Alexander von Zemlinsky, Kategorie:...</td>\n",
       "      <td>[Category:1871 births, Category:1942 deaths, C...</td>\n",
       "      <td>[تصنيف:بذرة مؤلف نمساوي, تصنيف:بروتستانت نمساو...</td>\n",
       "      <td>[Catégorie:Article de Wikipédia avec notice d'...</td>\n",
       "      <td>[Categoria:Austriaci del XIX secolo, Categoria...</td>\n",
       "      <td>[Categoría:Alexander Zemlinsky, Categoría:Comp...</td>\n",
       "    </tr>\n",
       "    <tr>\n",
       "      <th>4</th>\n",
       "      <td>Alexandre Tansman</td>\n",
       "      <td>Alexandre Tansman</td>\n",
       "      <td></td>\n",
       "      <td>Alexandre Tansman</td>\n",
       "      <td>Alexandre Tansman</td>\n",
       "      <td>Alexandre Tansman</td>\n",
       "      <td>[Tansman wurde in Łódź als Sohn jüdischer Elte...</td>\n",
       "      <td>[Tansman was born and raised in the Polish cit...</td>\n",
       "      <td></td>\n",
       "      <td>[Né à Łódź le 11 juin 1897 dans une famille de...</td>\n",
       "      <td>[Tansman nacque a Łódź, in Polonia, nel 1897. ...</td>\n",
       "      <td>[Sus primeros años transcurrieron en su Poloni...</td>\n",
       "      <td>[Kategorie:Ehrendoktor einer Hochschule, Kateg...</td>\n",
       "      <td>[Category:1897 births, Category:1986 deaths, C...</td>\n",
       "      <td></td>\n",
       "      <td>[Catégorie:Article de Wikipédia avec notice d'...</td>\n",
       "      <td>[Categoria:BioBot, Categoria:Compositori class...</td>\n",
       "      <td>[Categoría:Compositores de música clásica de F...</td>\n",
       "    </tr>\n",
       "    <tr>\n",
       "      <th>5</th>\n",
       "      <td>Alfons Josef Biron</td>\n",
       "      <td></td>\n",
       "      <td></td>\n",
       "      <td></td>\n",
       "      <td></td>\n",
       "      <td></td>\n",
       "      <td>[]</td>\n",
       "      <td></td>\n",
       "      <td></td>\n",
       "      <td></td>\n",
       "      <td></td>\n",
       "      <td></td>\n",
       "      <td>[]</td>\n",
       "      <td></td>\n",
       "      <td></td>\n",
       "      <td></td>\n",
       "      <td></td>\n",
       "      <td></td>\n",
       "    </tr>\n",
       "  </tbody>\n",
       "</table>\n",
       "</div>"
      ],
      "text/plain": [
       "                  de_title                 en_title               ar_title  \\\n",
       "1             Abel Ehrlich             Abel Ehrlich             أبيل إرليخ   \n",
       "2           Admiral Horthy            Miklós Horthy           ميكلوش هورتي   \n",
       "3  Alexander von Zemlinsky  Alexander von Zemlinsky  ألكسندر فون زيميلنسكي   \n",
       "4        Alexandre Tansman        Alexandre Tansman                          \n",
       "5       Alfons Josef Biron                                                   \n",
       "\n",
       "                  fr_title                 it_title                 es_title  \\\n",
       "1             Abel Ehrlich                                                     \n",
       "2            Miklós Horthy            Miklós Horthy            Miklós Horthy   \n",
       "3  Alexander von Zemlinsky  Alexander von Zemlinsky  Alexander von Zemlinsky   \n",
       "4        Alexandre Tansman        Alexandre Tansman        Alexandre Tansman   \n",
       "5                                                                              \n",
       "\n",
       "                                       de_paragraphs  \\\n",
       "1  [Ehrlich, aufgewachsen in einer deutschen jüdi...   \n",
       "2  [Horthy stammte aus einer in der Großen Ungari...   \n",
       "3  [Stefan Schmidl: Zemlinsky, Alexander von. In:...   \n",
       "4  [Tansman wurde in Łódź als Sohn jüdischer Elte...   \n",
       "5                                                 []   \n",
       "\n",
       "                                       en_paragraphs  \\\n",
       "1  [Erlich was born in 1915 in Cranz, East Prussi...   \n",
       "2  [Miklós Horthy de Nagybánya was born at Kender...   \n",
       "3  [Zemlinsky's best-known work is the Lyric Symp...   \n",
       "4  [Tansman was born and raised in the Polish cit...   \n",
       "5                                                      \n",
       "\n",
       "                                       ar_paragraphs  \\\n",
       "1  [أبيل إرليخ على موقع المكتبة المفتوحة (الإنجلي...   \n",
       "2  [ميكلوش هورتي على موقع Encyclopædia Britannica...   \n",
       "3  [ألكسندر فون زيميلنسكي على موقع Encyclopædia B...   \n",
       "4                                                      \n",
       "5                                                      \n",
       "\n",
       "                                       fr_paragraphs  \\\n",
       "1  [Erlich naît à Cranz, en Prusse-Orientale. En ...   \n",
       "2  [Après la guerre, la république fédérative pop...   \n",
       "3  [Zemlinsky étudie au conservatoire de Vienne o...   \n",
       "4  [Né à Łódź le 11 juin 1897 dans une famille de...   \n",
       "5                                                      \n",
       "\n",
       "                                       it_paragraphs  \\\n",
       "1                                                      \n",
       "2  [Horthy nacque in una cittadina nell'attuale p...   \n",
       "3  [Quintetto d'archi 1896 6 quartetti per archi ...   \n",
       "4  [Tansman nacque a Łódź, in Polonia, nel 1897. ...   \n",
       "5                                                      \n",
       "\n",
       "                                       es_paragraphs  \\\n",
       "1                                                      \n",
       "2  [Pál Teleki Gyula Gömbös István Bethlen Primer...   \n",
       "3  [El padre de Alexander, Adolf, provenía de una...   \n",
       "4  [Sus primeros años transcurrieron en su Poloni...   \n",
       "5                                                      \n",
       "\n",
       "                                       de_categories  \\\n",
       "1  [Kategorie:Deutscher, Kategorie:Geboren 1915, ...   \n",
       "2  [Kategorie:Adliger, Kategorie:Autobiografie, K...   \n",
       "3  [Kategorie:Alexander von Zemlinsky, Kategorie:...   \n",
       "4  [Kategorie:Ehrendoktor einer Hochschule, Kateg...   \n",
       "5                                                 []   \n",
       "\n",
       "                                       en_categories  \\\n",
       "1  [Category:1915 births, Category:2003 deaths, C...   \n",
       "2  [Category:1868 births, Category:1957 deaths, C...   \n",
       "3  [Category:1871 births, Category:1942 deaths, C...   \n",
       "4  [Category:1897 births, Category:1986 deaths, C...   \n",
       "5                                                      \n",
       "\n",
       "                                       ar_categories  \\\n",
       "1  [تصنيف:أشخاص من زيلينوغرادسك, تصنيف:أشخاص من ش...   \n",
       "2  [تصنيف:أخطاء CS1: التاريخ, تصنيف:أشخاص مجريون ...   \n",
       "3  [تصنيف:بذرة مؤلف نمساوي, تصنيف:بروتستانت نمساو...   \n",
       "4                                                      \n",
       "5                                                      \n",
       "\n",
       "                                       fr_categories  \\\n",
       "1  [Catégorie:Article de Wikipédia avec notice d'...   \n",
       "2  [Catégorie:Amiral autrichien, Catégorie:Anti-m...   \n",
       "3  [Catégorie:Article de Wikipédia avec notice d'...   \n",
       "4  [Catégorie:Article de Wikipédia avec notice d'...   \n",
       "5                                                      \n",
       "\n",
       "                                       it_categories  \\\n",
       "1                                                      \n",
       "2  [Categoria:Aggiungere sezioni - militari, Cate...   \n",
       "3  [Categoria:Austriaci del XIX secolo, Categoria...   \n",
       "4  [Categoria:BioBot, Categoria:Compositori class...   \n",
       "5                                                      \n",
       "\n",
       "                                       es_categories  \n",
       "1                                                     \n",
       "2  [Categoría:Anticomunistas de Hungría, Categorí...  \n",
       "3  [Categoría:Alexander Zemlinsky, Categoría:Comp...  \n",
       "4  [Categoría:Compositores de música clásica de F...  \n",
       "5                                                     "
      ]
     },
     "execution_count": 3,
     "metadata": {},
     "output_type": "execute_result"
    }
   ],
   "source": [
    "persecuted_composers_path = \"../data/verfolgte_komponisten_texte.json\" # path to save wikipedia texts to or load from if file already existing\n",
    "df = data_analysis.get_composers_dataframe(persecuted_composers_path)\n",
    "df.head()"
   ]
  },
  {
   "cell_type": "code",
   "execution_count": 26,
   "id": "62af218c",
   "metadata": {},
   "outputs": [],
   "source": [
    "####################################################################################################################################\n",
    "####################################################################################################################################\n",
    "# Methods to get Word Embeddings"
   ]
  },
  {
   "cell_type": "code",
   "execution_count": 4,
   "id": "ab535c7b",
   "metadata": {},
   "outputs": [],
   "source": [
    "####################################################################################################################################\n",
    "# Using Word2Vec\n",
    "# preprocessing the texts necessary\n",
    "de_texts_processed = [[gensim.parsing.preprocess_string(text) for text in row] for row in df.de_paragraphs]\n",
    "en_texts_processed = [[gensim.parsing.preprocess_string(text) for text in row] for row in df.en_paragraphs]\n",
    "ar_texts_processed = [[gensim.parsing.preprocess_string(text) for text in row] for row in df.ar_paragraphs]\n",
    "fr_texts_processed = [[gensim.parsing.preprocess_string(text) for text in row] for row in df.fr_paragraphs]\n",
    "es_texts_processed = [[gensim.parsing.preprocess_string(text) for text in row] for row in df.es_paragraphs]\n",
    "it_texts_processed = [[gensim.parsing.preprocess_string(text) for text in row] for row in df.it_paragraphs]\n",
    "# preprocessed_texts_of_first_article = de_texts_processed[0])\n",
    "\n",
    "all_sentences_processed = []\n",
    "for lang in [de_texts_processed, en_texts_processed, ar_texts_processed, fr_texts_processed, es_texts_processed, it_texts_processed]:\n",
    "    for document in lang:\n",
    "        for sentence in document:\n",
    "            all_sentences_processed.append(sentence)"
   ]
  },
  {
   "cell_type": "code",
   "execution_count": 5,
   "id": "c7f0da8c",
   "metadata": {},
   "outputs": [
    {
     "data": {
      "text/plain": [
       "['white', 'space', 'multipl', 'sentenc', 'nut']"
      ]
     },
     "execution_count": 5,
     "metadata": {},
     "output_type": "execute_result"
    }
   ],
   "source": [
    "s = \"and some white space. Multiple sentences, too. This is nuts!\"\n",
    "gensim.parsing.preprocess_string(s)"
   ]
  },
  {
   "cell_type": "code",
   "execution_count": 6,
   "id": "7ff06111",
   "metadata": {},
   "outputs": [],
   "source": [
    "# not so good\n",
    "# Train a bigram detector.\n",
    "\n",
    "bigram_transformer = Phrases(all_sentences_processed)\n",
    "\n",
    "# Apply the trained MWE detector to a corpus, using the result to train a Word2vec model.\n",
    "# Gensim implementiert Word2Vec-Algorithmus für das Training der Wortvektoren\n",
    "\n",
    "model = gensim.models.Word2Vec(bigram_transformer[all_sentences_processed], min_count=2)"
   ]
  },
  {
   "cell_type": "code",
   "execution_count": 7,
   "id": "bec443e0",
   "metadata": {},
   "outputs": [],
   "source": [
    "model = gensim.models.Word2Vec(all_sentences_processed, min_count=2)"
   ]
  },
  {
   "cell_type": "code",
   "execution_count": 8,
   "id": "20a0e07f",
   "metadata": {},
   "outputs": [
    {
     "data": {
      "text/plain": [
       "(1608882, 1836695)"
      ]
     },
     "execution_count": 8,
     "metadata": {},
     "output_type": "execute_result"
    }
   ],
   "source": [
    "model.train(all_sentences_processed, total_examples=model.corpus_count, epochs=model.epochs)"
   ]
  },
  {
   "cell_type": "code",
   "execution_count": 9,
   "id": "eda71134",
   "metadata": {},
   "outputs": [],
   "source": [
    "model.build_vocab(all_sentences_processed, progress_per=10)\n"
   ]
  },
  {
   "cell_type": "code",
   "execution_count": 10,
   "id": "cb08c612",
   "metadata": {},
   "outputs": [],
   "source": [
    "model.save(\"word2vec_multilingual.model\")\n",
    "#model = gensim.models.Word2Vec.load(\"word2vec_multilingual.model\")"
   ]
  },
  {
   "cell_type": "code",
   "execution_count": 21,
   "id": "3f32d7b8",
   "metadata": {},
   "outputs": [
    {
     "name": "stdout",
     "output_type": "stream",
     "text": [
      "[ 0.21207967  1.0662456   0.06637608 -0.28292155 -0.02998484 -0.9541701\n",
      "  0.20160325  1.1216335  -0.37246817 -0.31035128  0.53176993 -0.47505438\n",
      "  0.36975974 -0.13496822  0.78617966 -0.6063376  -0.03458015  0.04366869\n",
      " -0.27705777 -1.1747456  -0.08120186 -0.3732601   0.51007265 -0.08983222\n",
      " -0.8203365  -0.09593961 -0.24236378 -0.3362237  -0.2652088   0.06716047\n",
      "  0.6126716  -0.5297314   0.6488223  -0.63756174  0.45199654  0.94105923\n",
      "  0.61104226 -0.22461072 -0.0872469  -0.25759137 -0.21799055 -0.932162\n",
      " -0.06950531  0.13010553 -0.28288764 -0.5358332  -0.26055542  0.06355582\n",
      " -0.35385412 -0.30228022  0.2869221  -0.8884211  -0.36693695 -0.14855202\n",
      " -0.02921231  0.33783466  0.54890645  0.40721548 -0.6614451   0.06518238\n",
      " -0.11076296  0.44983155  0.13199599  0.31227365 -0.02776695  0.9021117\n",
      "  0.5357478   0.33428234 -0.80864066  0.18585896  0.21384282 -0.04276929\n",
      "  0.408708    0.36738867  0.8255888   0.7157498   0.17141286  0.97815543\n",
      " -0.41585457 -0.44754422 -0.8027532  -0.58328414  0.09184472  0.5521172\n",
      " -0.29742113  0.20138817  0.40710312  0.37792206  0.91130364  0.13397379\n",
      "  0.62536305  0.9927277   0.3802365  -0.2852267   0.5527199  -0.22373623\n",
      "  0.624589   -0.21552096  0.1821609  -0.64811784]\n"
     ]
    }
   ],
   "source": [
    "# get word vector\n",
    "vector = model.wv['mahler']\n",
    "print(vector)"
   ]
  },
  {
   "cell_type": "code",
   "execution_count": null,
   "id": "d91fc7d8",
   "metadata": {},
   "outputs": [],
   "source": []
  },
  {
   "cell_type": "code",
   "execution_count": 18,
   "id": "4da90109",
   "metadata": {},
   "outputs": [
    {
     "ename": "KeyError",
     "evalue": "\"Key 'composer' not present in vocabulary\"",
     "output_type": "error",
     "traceback": [
      "\u001b[0;31m---------------------------------------------------------------------------\u001b[0m",
      "\u001b[0;31mKeyError\u001b[0m                                  Traceback (most recent call last)",
      "Input \u001b[0;32mIn [18]\u001b[0m, in \u001b[0;36m<cell line: 2>\u001b[0;34m()\u001b[0m\n\u001b[1;32m      1\u001b[0m \u001b[38;5;66;03m# find words used in similar context\u001b[39;00m\n\u001b[0;32m----> 2\u001b[0m \u001b[43mmodel\u001b[49m\u001b[38;5;241;43m.\u001b[39;49m\u001b[43mwv\u001b[49m\u001b[38;5;241;43m.\u001b[39;49m\u001b[43mmost_similar\u001b[49m\u001b[43m(\u001b[49m\u001b[38;5;124;43m\"\u001b[39;49m\u001b[38;5;124;43mcomposer\u001b[39;49m\u001b[38;5;124;43m\"\u001b[39;49m\u001b[43m)\u001b[49m\n",
      "File \u001b[0;32m~/opt/anaconda3/envs/thesis-test2/lib/python3.9/site-packages/gensim/models/keyedvectors.py:842\u001b[0m, in \u001b[0;36mKeyedVectors.most_similar\u001b[0;34m(self, positive, negative, topn, clip_start, clip_end, restrict_vocab, indexer)\u001b[0m\n\u001b[1;32m    839\u001b[0m         weight[idx] \u001b[38;5;241m=\u001b[39m item[\u001b[38;5;241m1\u001b[39m]\n\u001b[1;32m    841\u001b[0m \u001b[38;5;66;03m# compute the weighted average of all keys\u001b[39;00m\n\u001b[0;32m--> 842\u001b[0m mean \u001b[38;5;241m=\u001b[39m \u001b[38;5;28;43mself\u001b[39;49m\u001b[38;5;241;43m.\u001b[39;49m\u001b[43mget_mean_vector\u001b[49m\u001b[43m(\u001b[49m\u001b[43mkeys\u001b[49m\u001b[43m,\u001b[49m\u001b[43m \u001b[49m\u001b[43mweight\u001b[49m\u001b[43m,\u001b[49m\u001b[43m \u001b[49m\u001b[43mpre_normalize\u001b[49m\u001b[38;5;241;43m=\u001b[39;49m\u001b[38;5;28;43;01mTrue\u001b[39;49;00m\u001b[43m,\u001b[49m\u001b[43m \u001b[49m\u001b[43mpost_normalize\u001b[49m\u001b[38;5;241;43m=\u001b[39;49m\u001b[38;5;28;43;01mTrue\u001b[39;49;00m\u001b[43m,\u001b[49m\u001b[43m \u001b[49m\u001b[43mignore_missing\u001b[49m\u001b[38;5;241;43m=\u001b[39;49m\u001b[38;5;28;43;01mFalse\u001b[39;49;00m\u001b[43m)\u001b[49m\n\u001b[1;32m    843\u001b[0m all_keys \u001b[38;5;241m=\u001b[39m [\n\u001b[1;32m    844\u001b[0m     \u001b[38;5;28mself\u001b[39m\u001b[38;5;241m.\u001b[39mget_index(key) \u001b[38;5;28;01mfor\u001b[39;00m key \u001b[38;5;129;01min\u001b[39;00m keys \u001b[38;5;28;01mif\u001b[39;00m \u001b[38;5;28misinstance\u001b[39m(key, _KEY_TYPES) \u001b[38;5;129;01mand\u001b[39;00m \u001b[38;5;28mself\u001b[39m\u001b[38;5;241m.\u001b[39mhas_index_for(key)\n\u001b[1;32m    845\u001b[0m ]\n\u001b[1;32m    847\u001b[0m \u001b[38;5;28;01mif\u001b[39;00m indexer \u001b[38;5;129;01mis\u001b[39;00m \u001b[38;5;129;01mnot\u001b[39;00m \u001b[38;5;28;01mNone\u001b[39;00m \u001b[38;5;129;01mand\u001b[39;00m \u001b[38;5;28misinstance\u001b[39m(topn, \u001b[38;5;28mint\u001b[39m):\n",
      "File \u001b[0;32m~/opt/anaconda3/envs/thesis-test2/lib/python3.9/site-packages/gensim/models/keyedvectors.py:519\u001b[0m, in \u001b[0;36mKeyedVectors.get_mean_vector\u001b[0;34m(self, keys, weights, pre_normalize, post_normalize, ignore_missing)\u001b[0m\n\u001b[1;32m    517\u001b[0m         total_weight \u001b[38;5;241m+\u001b[39m\u001b[38;5;241m=\u001b[39m \u001b[38;5;28mabs\u001b[39m(weights[idx])\n\u001b[1;32m    518\u001b[0m     \u001b[38;5;28;01melif\u001b[39;00m \u001b[38;5;129;01mnot\u001b[39;00m ignore_missing:\n\u001b[0;32m--> 519\u001b[0m         \u001b[38;5;28;01mraise\u001b[39;00m \u001b[38;5;167;01mKeyError\u001b[39;00m(\u001b[38;5;124mf\u001b[39m\u001b[38;5;124m\"\u001b[39m\u001b[38;5;124mKey \u001b[39m\u001b[38;5;124m'\u001b[39m\u001b[38;5;132;01m{\u001b[39;00mkey\u001b[38;5;132;01m}\u001b[39;00m\u001b[38;5;124m'\u001b[39m\u001b[38;5;124m not present in vocabulary\u001b[39m\u001b[38;5;124m\"\u001b[39m)\n\u001b[1;32m    521\u001b[0m \u001b[38;5;28;01mif\u001b[39;00m(total_weight \u001b[38;5;241m>\u001b[39m \u001b[38;5;241m0\u001b[39m):\n\u001b[1;32m    522\u001b[0m     mean \u001b[38;5;241m=\u001b[39m mean \u001b[38;5;241m/\u001b[39m total_weight\n",
      "\u001b[0;31mKeyError\u001b[0m: \"Key 'composer' not present in vocabulary\""
     ]
    }
   ],
   "source": [
    "# find words used in similar context\n",
    "model.wv.most_similar(\"composer\")"
   ]
  },
  {
   "cell_type": "code",
   "execution_count": 15,
   "id": "b3aceb41",
   "metadata": {},
   "outputs": [
    {
     "data": {
      "text/plain": [
       "0.69894739985466"
      ]
     },
     "execution_count": 15,
     "metadata": {},
     "output_type": "execute_result"
    }
   ],
   "source": [
    "model.wv.distance(\"schönberg\", \"webern\")"
   ]
  },
  {
   "cell_type": "code",
   "execution_count": 16,
   "id": "6efb42cd",
   "metadata": {},
   "outputs": [
    {
     "data": {
      "text/plain": [
       "0.6023786"
      ]
     },
     "execution_count": 16,
     "metadata": {},
     "output_type": "execute_result"
    }
   ],
   "source": [
    "model.wv.similarity(w1=\"komponist\", w2=\"nazi\") "
   ]
  },
  {
   "cell_type": "code",
   "execution_count": 17,
   "id": "37e2d534",
   "metadata": {},
   "outputs": [
    {
     "data": {
      "text/plain": [
       "'pianist'"
      ]
     },
     "execution_count": 17,
     "metadata": {},
     "output_type": "execute_result"
    }
   ],
   "source": [
    "model.wv.doesnt_match(['pianist', 'violinist', 'nazi'])"
   ]
  },
  {
   "cell_type": "code",
   "execution_count": 88,
   "id": "e70ea91f",
   "metadata": {
    "scrolled": true
   },
   "outputs": [
    {
     "data": {
      "text/plain": [
       "[('eher', 0.9178099632263184),\n",
       " ('französisch', 0.9147974252700806),\n",
       " ('politischen', 0.9130923748016357),\n",
       " ('dienst', 0.9129126667976379),\n",
       " ('geworden', 0.9105923771858215),\n",
       " ('krieg', 0.9105893969535828),\n",
       " ('damaligen', 0.9100316166877747),\n",
       " ('staatsbürgerschaft', 0.9097257256507874),\n",
       " ('verurteilt', 0.9095054268836975),\n",
       " ('bibliotheken', 0.9088475108146667)]"
      ]
     },
     "execution_count": 88,
     "metadata": {},
     "output_type": "execute_result"
    }
   ],
   "source": [
    "model.wv.most_similar(positive=[\"komponist\", \"jude\"], negative=[\"schönberg\"])"
   ]
  },
  {
   "cell_type": "code",
   "execution_count": null,
   "id": "adf18fa7",
   "metadata": {},
   "outputs": [],
   "source": []
  },
  {
   "cell_type": "code",
   "execution_count": null,
   "id": "cadeedd5",
   "metadata": {},
   "outputs": [],
   "source": []
  },
  {
   "cell_type": "code",
   "execution_count": null,
   "id": "5701188d",
   "metadata": {},
   "outputs": [],
   "source": []
  }
 ],
 "metadata": {
  "kernelspec": {
   "display_name": "thesis kernel",
   "language": "python",
   "name": "thesis-test2"
  },
  "language_info": {
   "codemirror_mode": {
    "name": "ipython",
    "version": 3
   },
   "file_extension": ".py",
   "mimetype": "text/x-python",
   "name": "python",
   "nbconvert_exporter": "python",
   "pygments_lexer": "ipython3",
   "version": "3.9.12"
  }
 },
 "nbformat": 4,
 "nbformat_minor": 5
}
